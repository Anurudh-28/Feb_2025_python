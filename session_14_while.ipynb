{
 "cells": [
  {
   "cell_type": "markdown",
   "id": "abf21546-33c3-4bc3-9ee6-7a56f13a7486",
   "metadata": {},
   "source": [
    "## While loop"
   ]
  },
  {
   "cell_type": "markdown",
   "id": "292dc510-702c-422c-95e2-6c33d3eea0f2",
   "metadata": {},
   "source": [
    "- intialization to start\n",
    "\n",
    "- increment or decrement\n",
    "\n",
    "- condition to stop"
   ]
  },
  {
   "cell_type": "code",
   "execution_count": 3,
   "id": "1667c563-1d28-40d0-8151-3fa9fb50b464",
   "metadata": {},
   "outputs": [
    {
     "ename": "SyntaxError",
     "evalue": "expected ':' (1142724375.py, line 1)",
     "output_type": "error",
     "traceback": [
      "\u001b[1;36m  Cell \u001b[1;32mIn[3], line 1\u001b[1;36m\u001b[0m\n\u001b[1;33m    for i in range(1,10)\u001b[0m\n\u001b[1;37m                         ^\u001b[0m\n\u001b[1;31mSyntaxError\u001b[0m\u001b[1;31m:\u001b[0m expected ':'\n"
     ]
    }
   ],
   "source": [
    "for i in range(1,10) \n",
    "in a single line we have start=1 increment +1  stop 10-1=9"
   ]
  },
  {
   "cell_type": "code",
   "execution_count": null,
   "id": "1aa1f5bb-bae0-43e5-95e7-6b7c5d874801",
   "metadata": {},
   "outputs": [],
   "source": [
    "<intialization>\n",
    "\n",
    "while <condition>:\n",
    "    #======python\n",
    "\n",
    "    increment/decrement"
   ]
  },
  {
   "cell_type": "code",
   "execution_count": 5,
   "id": "0202c9cf-7c2d-4214-a509-44788fd4f75b",
   "metadata": {},
   "outputs": [
    {
     "name": "stdout",
     "output_type": "stream",
     "text": [
      "1 2 3 4 5 6 7 8 9 "
     ]
    }
   ],
   "source": [
    "for i in range(1,10):\n",
    "    print(i,end=' ')"
   ]
  },
  {
   "cell_type": "code",
   "execution_count": 7,
   "id": "5381758b-5654-49fd-b720-00150e51a263",
   "metadata": {},
   "outputs": [
    {
     "ename": "SyntaxError",
     "evalue": "invalid syntax (1104555680.py, line 4)",
     "output_type": "error",
     "traceback": [
      "\u001b[1;36m  Cell \u001b[1;32mIn[7], line 4\u001b[1;36m\u001b[0m\n\u001b[1;33m    while <con>:\u001b[0m\n\u001b[1;37m          ^\u001b[0m\n\u001b[1;31mSyntaxError\u001b[0m\u001b[1;31m:\u001b[0m invalid syntax\n"
     ]
    }
   ],
   "source": [
    "#for i in range(1,10) ===== > 3lines \n",
    "\n",
    "i=1\n",
    "while <con>:\n",
    "    i=i+1\n",
    "\n",
    "Rule:1\n",
    "tell me the condition that become True \n",
    "then only i can enter inside the while loop\n",
    "\n",
    "Rule:2 \n",
    "  valid condition\n",
    "i<10  True  yes \n",
    "i<11  True  No\n",
    "i<12\n",
    "i<"
   ]
  },
  {
   "cell_type": "code",
   "execution_count": 9,
   "id": "65187bd9-448e-4e01-9757-fd2e9fed5c47",
   "metadata": {},
   "outputs": [
    {
     "name": "stdout",
     "output_type": "stream",
     "text": [
      "1 2 "
     ]
    }
   ],
   "source": [
    "# for i in range(1,10):\n",
    "#     print(i,end=' ')\n",
    "\n",
    "i=1\n",
    "while i<3:\n",
    "    print(i,end=' ')\n",
    "    i=i+1\n",
    "\n",
    "# step-1: i=1  while 1<3  True  print(1) i=1+1=2\n",
    "# step-2: i=2  while 2<3  True  print(2) i=2+1=3\n",
    "# step-3: i=3  while 3<3  False"
   ]
  },
  {
   "cell_type": "code",
   "execution_count": 9,
   "id": "d2a3b4f9-0889-454d-9be7-5283e9b9a4f9",
   "metadata": {},
   "outputs": [
    {
     "name": "stdout",
     "output_type": "stream",
     "text": [
      "10\n",
      "9\n",
      "8\n"
     ]
    }
   ],
   "source": [
    "i=10\n",
    "while i>=8:   # 0r i>0\n",
    "    print(i)\n",
    "    i=i-1   "
   ]
  },
  {
   "cell_type": "code",
   "execution_count": 15,
   "id": "90215b3a-9bff-4cb1-88be-02c9b186f763",
   "metadata": {},
   "outputs": [
    {
     "name": "stdout",
     "output_type": "stream",
     "text": [
      "10\n",
      "9\n",
      "8\n",
      "7\n",
      "6\n",
      "5\n",
      "4\n",
      "3\n",
      "2\n",
      "1\n"
     ]
    }
   ],
   "source": [
    "i=10\n",
    "while True:\n",
    "    print(i)\n",
    "    i=i-1 \n",
    "    if i==0:\n",
    "        break"
   ]
  },
  {
   "cell_type": "code",
   "execution_count": 17,
   "id": "7dbbb9fe-b49d-419f-85fe-e1504c66ecf9",
   "metadata": {},
   "outputs": [
    {
     "name": "stdout",
     "output_type": "stream",
     "text": [
      "10\n",
      "9\n",
      "8\n",
      "7\n",
      "6\n",
      "5\n",
      "4\n",
      "3\n",
      "2\n",
      "1\n"
     ]
    }
   ],
   "source": [
    "i=10\n",
    "while True:\n",
    "    print(i)\n",
    "    i=i-1 \n",
    "    if i==0:\n",
    "        break"
   ]
  },
  {
   "cell_type": "code",
   "execution_count": null,
   "id": "1cc27ba1-50d0-43ad-88fa-9847c081b938",
   "metadata": {},
   "outputs": [],
   "source": [
    "i=10\n",
    "while i>=1:   \n",
    "    print(i)\n",
    "    i=i-1   \n",
    "\n",
    "i=10\n",
    "while True:\n",
    "    print(i)\n",
    "    i=i-1 \n",
    "    if i==0:\n",
    "        break"
   ]
  },
  {
   "cell_type": "code",
   "execution_count": 19,
   "id": "3308b663-941f-4e98-8df9-d3ebfb65e011",
   "metadata": {},
   "outputs": [
    {
     "name": "stdin",
     "output_type": "stream",
     "text": [
      " 5\n"
     ]
    },
    {
     "name": "stdout",
     "output_type": "stream",
     "text": [
      "fail\n"
     ]
    },
    {
     "name": "stdin",
     "output_type": "stream",
     "text": [
      " 34\n"
     ]
    },
    {
     "name": "stdout",
     "output_type": "stream",
     "text": [
      "fail\n"
     ]
    },
    {
     "name": "stdin",
     "output_type": "stream",
     "text": [
      " 2\n"
     ]
    },
    {
     "name": "stdout",
     "output_type": "stream",
     "text": [
      "fail\n"
     ]
    },
    {
     "name": "stdin",
     "output_type": "stream",
     "text": [
      " 2\n"
     ]
    },
    {
     "name": "stdout",
     "output_type": "stream",
     "text": [
      "won\n"
     ]
    }
   ],
   "source": [
    "##### import random\n",
    "while True:\n",
    "    num1=random.randint(1,10)\n",
    "    num2=eval(input())\n",
    "    if num1==num2:\n",
    "        print('won')\n",
    "        break\n",
    "    else:\n",
    "        print('fail')"
   ]
  },
  {
   "cell_type": "code",
   "execution_count": 23,
   "id": "411afc16-513f-473b-9b3a-a244a76929d8",
   "metadata": {},
   "outputs": [
    {
     "name": "stdin",
     "output_type": "stream",
     "text": [
      " 2\n"
     ]
    },
    {
     "name": "stdout",
     "output_type": "stream",
     "text": [
      "won\n"
     ]
    }
   ],
   "source": [
    "import random\n",
    "i=1\n",
    "while i<=3:\n",
    "    num1=random.randint(1,10)\n",
    "    num2=eval(input())\n",
    "    if num1==num2:\n",
    "        print('won')\n",
    "        break\n",
    "    else:\n",
    "        print('fail')\n",
    "    i=i+1"
   ]
  },
  {
   "cell_type": "code",
   "execution_count": 25,
   "id": "5f26b459-dc19-4aea-a907-d1b3ab90aec9",
   "metadata": {},
   "outputs": [],
   "source": [
    "# go to lab\n",
    "# complete all for loop qns using while loop\n",
    "# i con in"
   ]
  },
  {
   "cell_type": "code",
   "execution_count": null,
   "id": "13cb631b-7612-4d1a-8674-f4e5d7df0498",
   "metadata": {},
   "outputs": [],
   "source": []
  }
 ],
 "metadata": {
  "kernelspec": {
   "display_name": "Python [conda env:base] *",
   "language": "python",
   "name": "conda-base-py"
  },
  "language_info": {
   "codemirror_mode": {
    "name": "ipython",
    "version": 3
   },
   "file_extension": ".py",
   "mimetype": "text/x-python",
   "name": "python",
   "nbconvert_exporter": "python",
   "pygments_lexer": "ipython3",
   "version": "3.12.7"
  }
 },
 "nbformat": 4,
 "nbformat_minor": 5
}
