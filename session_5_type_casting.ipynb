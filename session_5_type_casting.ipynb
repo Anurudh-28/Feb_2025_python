{
 "cells": [
  {
   "cell_type": "markdown",
   "id": "6ce0aba0-75ea-4fad-918b-c3a80a53383a",
   "metadata": {},
   "source": [
    "**Type casting**"
   ]
  },
  {
   "cell_type": "markdown",
   "id": "3329e3ec-674e-4852-9c43-5475970666bf",
   "metadata": {},
   "source": [
    " -  convert one data type to another data type\n",
    "\n",
    " -  we learned 4 data types\n",
    "\n",
    "   - integer:int\n",
    "\n",
    "   - float: float\n",
    "\n",
    "   -  boolean: bool\n",
    "\n",
    "   - string:str"
   ]
  },
  {
   "cell_type": "markdown",
   "id": "5bb02e39-c29f-473c-a8ec-4992bfe8f404",
   "metadata": {},
   "source": [
    "**int to other data types**"
   ]
  },
  {
   "cell_type": "code",
   "execution_count": 6,
   "id": "9e8ed371-4999-4976-80ba-75beeda741a7",
   "metadata": {},
   "outputs": [
    {
     "data": {
      "text/plain": [
       "int"
      ]
     },
     "execution_count": 6,
     "metadata": {},
     "output_type": "execute_result"
    }
   ],
   "source": [
    "number=100\n",
    "type(number)"
   ]
  },
  {
   "cell_type": "code",
   "execution_count": 8,
   "id": "6c9ae95d-9fed-404e-b436-9938490efa10",
   "metadata": {},
   "outputs": [
    {
     "data": {
      "text/plain": [
       "float"
      ]
     },
     "execution_count": 8,
     "metadata": {},
     "output_type": "execute_result"
    }
   ],
   "source": [
    "float_number=float(number)\n",
    "type(float_number)"
   ]
  },
  {
   "cell_type": "code",
   "execution_count": 10,
   "id": "8e4a5520-6a40-4cba-bc63-b1fd25dbe9b9",
   "metadata": {},
   "outputs": [
    {
     "data": {
      "text/plain": [
       "bool"
      ]
     },
     "execution_count": 10,
     "metadata": {},
     "output_type": "execute_result"
    }
   ],
   "source": [
    "bool_number=bool(number)\n",
    "type(bool_number)"
   ]
  },
  {
   "cell_type": "code",
   "execution_count": 16,
   "id": "f087bb8f-a355-42bb-a5cb-7cdcb6600672",
   "metadata": {},
   "outputs": [
    {
     "data": {
      "text/plain": [
       "str"
      ]
     },
     "execution_count": 16,
     "metadata": {},
     "output_type": "execute_result"
    }
   ],
   "source": [
    "str_number=str(number)\n",
    "type(str_number)"
   ]
  },
  {
   "cell_type": "code",
   "execution_count": 18,
   "id": "1f1e8fb4-315b-452d-9629-c07dcd210c10",
   "metadata": {},
   "outputs": [
    {
     "data": {
      "text/plain": [
       "(100.0, True, '100')"
      ]
     },
     "execution_count": 18,
     "metadata": {},
     "output_type": "execute_result"
    }
   ],
   "source": [
    "float(100),bool(100),str(100)"
   ]
  },
  {
   "cell_type": "code",
   "execution_count": 22,
   "id": "17004d9e-32ce-4a41-bfc7-50d7e2aa016b",
   "metadata": {},
   "outputs": [
    {
     "name": "stdout",
     "output_type": "stream",
     "text": [
      "100.0\n",
      "True\n",
      "100\n"
     ]
    }
   ],
   "source": [
    "print(float(100))\n",
    "print(bool(100))\n",
    "print(str(100))"
   ]
  },
  {
   "cell_type": "code",
   "execution_count": 24,
   "id": "4d5d1ad8-370d-4adc-8c11-4f4fe5a790cd",
   "metadata": {},
   "outputs": [
    {
     "name": "stdout",
     "output_type": "stream",
     "text": [
      "-100.0\n",
      "True\n",
      "-100\n"
     ]
    }
   ],
   "source": [
    "print(float(-100))\n",
    "print(bool(-100))\n",
    "print(str(-100))"
   ]
  },
  {
   "cell_type": "code",
   "execution_count": null,
   "id": "1f9f841c-744a-49c4-9140-984e4ecf569d",
   "metadata": {},
   "outputs": [],
   "source": [
    " -  zero means off\n",
    " -  false means off"
   ]
  },
  {
   "cell_type": "code",
   "execution_count": 1,
   "id": "f72c7b73-7c15-44c5-b01e-266ac4c70ec4",
   "metadata": {},
   "outputs": [
    {
     "name": "stdout",
     "output_type": "stream",
     "text": [
      "0.0\n",
      "False\n",
      "0\n"
     ]
    }
   ],
   "source": [
    "print(float(-0))\n",
    "print(bool(-0))\n",
    "print(str(-0))"
   ]
  },
  {
   "cell_type": "markdown",
   "id": "5ac121f8-5832-49d5-a9cf-7a357a52129a",
   "metadata": {},
   "source": [
    "  **float to other data types**"
   ]
  },
  {
   "cell_type": "code",
   "execution_count": 8,
   "id": "e65459c6-002a-48d4-8457-f4351c39f4d6",
   "metadata": {},
   "outputs": [
    {
     "data": {
      "text/plain": [
       "100"
      ]
     },
     "execution_count": 8,
     "metadata": {},
     "output_type": "execute_result"
    }
   ],
   "source": [
    "number=100.6\n",
    "int(number)"
   ]
  },
  {
   "cell_type": "code",
   "execution_count": 35,
   "id": "317c91ac-7968-445f-9deb-e2f70ba91033",
   "metadata": {},
   "outputs": [
    {
     "data": {
      "text/plain": [
       "True"
      ]
     },
     "execution_count": 35,
     "metadata": {},
     "output_type": "execute_result"
    }
   ],
   "source": [
    "bool(number)"
   ]
  },
  {
   "cell_type": "code",
   "execution_count": 37,
   "id": "cdeaaa70-c33f-492d-a9c8-c9fbcccac200",
   "metadata": {},
   "outputs": [
    {
     "data": {
      "text/plain": [
       "'100.5'"
      ]
     },
     "execution_count": 37,
     "metadata": {},
     "output_type": "execute_result"
    }
   ],
   "source": [
    "str(number)"
   ]
  },
  {
   "cell_type": "code",
   "execution_count": 44,
   "id": "8ba79fae-0a46-4a9a-9433-68d3e95f3b8e",
   "metadata": {},
   "outputs": [
    {
     "name": "stdout",
     "output_type": "stream",
     "text": [
      "100\n",
      "True\n",
      "100.5\n"
     ]
    }
   ],
   "source": [
    "n1=int(100.5)\n",
    "n2= bool(100.5)\n",
    "n3=str(100.5)\n",
    "print(n1)\n",
    "print(n2)\n",
    "print(n3)"
   ]
  },
  {
   "cell_type": "code",
   "execution_count": 46,
   "id": "fce95643-d77b-47da-a705-f4d1e4e5cb1b",
   "metadata": {},
   "outputs": [
    {
     "name": "stdout",
     "output_type": "stream",
     "text": [
      "0\n",
      "False\n",
      "0.0\n"
     ]
    }
   ],
   "source": [
    "n1=int(0.0)\n",
    "n2= bool(0.0)\n",
    "n3=str(0.0)\n",
    "print(n1)\n",
    "print(n2)\n",
    "print(n3)"
   ]
  },
  {
   "cell_type": "markdown",
   "id": "f52c105b-53f3-48c7-bed3-15f14416ca87",
   "metadata": {},
   "source": [
    "  **strng to other types**"
   ]
  },
  {
   "cell_type": "code",
   "execution_count": null,
   "id": "112349ef-bc99-4e97-b289-164ab3772ff6",
   "metadata": {},
   "outputs": [],
   "source": [
    "int('apple')  #fail\n",
    "float('apple') #fail\n",
    "bool('apple') #w"
   ]
  },
  {
   "cell_type": "code",
   "execution_count": 49,
   "id": "547d6270-18f2-44cd-bb7b-e7284c728f11",
   "metadata": {},
   "outputs": [
    {
     "data": {
      "text/plain": [
       "True"
      ]
     },
     "execution_count": 49,
     "metadata": {},
     "output_type": "execute_result"
    }
   ],
   "source": [
    "bool('apple')"
   ]
  },
  {
   "cell_type": "markdown",
   "id": "a1c9293d-bb29-4867-b7f1-f8b36355d9a4",
   "metadata": {},
   "source": [
    " -  True: ON some thing is present\n",
    "\n",
    " - False: OFF that is not present"
   ]
  },
  {
   "cell_type": "code",
   "execution_count": 52,
   "id": "085f72db-8007-4176-9b64-7beae0657455",
   "metadata": {},
   "outputs": [
    {
     "data": {
      "text/plain": [
       "True"
      ]
     },
     "execution_count": 52,
     "metadata": {},
     "output_type": "execute_result"
    }
   ],
   "source": [
    "int('10')  #w #10\n",
    "float('10') #w 10.0\n",
    "bool('10') #w T"
   ]
  },
  {
   "cell_type": "code",
   "execution_count": null,
   "id": "6e1b7fd4-fc2f-4d9e-9ee4-e425e9574825",
   "metadata": {},
   "outputs": [],
   "source": [
    "float('apple')  #fail\n",
    "float('10') \n"
   ]
  },
  {
   "cell_type": "markdown",
   "id": "d8ada98f-590b-49ed-a855-dbd902fc00b2",
   "metadata": {},
   "source": [
    "  **object not callable**"
   ]
  },
  {
   "cell_type": "markdown",
   "id": "674519d2-0e34-4778-9edd-35eac7bd5ff4",
   "metadata": {},
   "source": [
    " -  python magic\n",
    "\n",
    " -  either you nedd open notebook\n",
    "\n",
    " -  or go to kernel and restart"
   ]
  },
  {
   "cell_type": "code",
   "execution_count": 58,
   "id": "bdcca2e1-55b3-4014-aa81-6f7e7bd2138b",
   "metadata": {},
   "outputs": [
    {
     "data": {
      "text/plain": [
       "(10, 10.0, True)"
      ]
     },
     "execution_count": 58,
     "metadata": {},
     "output_type": "execute_result"
    }
   ],
   "source": [
    "int('10') ,float('10'), bool('10') "
   ]
  },
  {
   "cell_type": "code",
   "execution_count": null,
   "id": "fb597a17-c732-4138-8230-051fe4f41ec7",
   "metadata": {},
   "outputs": [],
   "source": [
    "int('10.5')  #######fail\n",
    "float('10.5') #w 10.5\n",
    "bool('10.5') #w T"
   ]
  },
  {
   "cell_type": "markdown",
   "id": "bbc38b76-b6ec-4be8-922b-c7fe5c36a05a",
   "metadata": {},
   "source": [
    "**float is the boss**"
   ]
  },
  {
   "cell_type": "code",
   "execution_count": null,
   "id": "831ff251-0ce2-43a2-8ba7-32f5b51367ca",
   "metadata": {},
   "outputs": [],
   "source": [
    "float('10.5') #w 10.5\n",
    "float(10)  #w\n",
    "\n",
    "int('10')   #w\n",
    "int('10.5') #w T"
   ]
  },
  {
   "cell_type": "markdown",
   "id": "10e22460-d0d7-46f7-9bde-3d3d575f6fa7",
   "metadata": {},
   "source": [
    "**boolean other data types**"
   ]
  },
  {
   "cell_type": "code",
   "execution_count": 68,
   "id": "6722a665-d25e-4278-a17d-23d1399cef1d",
   "metadata": {},
   "outputs": [
    {
     "name": "stdout",
     "output_type": "stream",
     "text": [
      "1\n",
      "1.0\n",
      "True\n",
      "0\n",
      "0.0\n",
      "False\n"
     ]
    }
   ],
   "source": [
    "print(int(True))  #w 1\n",
    "print(float(True))  #w 1.0\n",
    "print(str(True))  # 'True'\n",
    "print(int(False)) #0\n",
    "print(float(False)) #0.0\n",
    "print(str(False))  #'False'"
   ]
  },
  {
   "cell_type": "code",
   "execution_count": null,
   "id": "cf8edeb8-5fa6-4cd1-ac98-f2c244533f4d",
   "metadata": {},
   "outputs": [],
   "source": [
    "float(10)  #10.0\n",
    "str(10)    # '10'\n",
    "bool(10)   # T\n",
    "\n",
    "float(10.5)  #10.5\n",
    "str(10.5)    # '10.5'\n",
    "bool(10.5)   # T\n",
    "int(10.5)    #10\n",
    "\n",
    "float('apple')  #Fail\n",
    "int('apple')   #fail\n",
    "bool('apple')   # T\n",
    "\n",
    "int(True)  #1\n",
    "int(False)  #0\n",
    "\n",
    "float(True)  #1.0\n",
    "float(False)  #0\n",
    "\n",
    "str(True)  #'True'\n",
    "str(False)  #'False'\n",
    "\n",
    "bool(0)  #False\n",
    "bool(0.0)  #False\n",
    "bool('')  #False\n"
   ]
  }
 ],
 "metadata": {
  "kernelspec": {
   "display_name": "Python [conda env:base] *",
   "language": "python",
   "name": "conda-base-py"
  },
  "language_info": {
   "codemirror_mode": {
    "name": "ipython",
    "version": 3
   },
   "file_extension": ".py",
   "mimetype": "text/x-python",
   "name": "python",
   "nbconvert_exporter": "python",
   "pygments_lexer": "ipython3",
   "version": "3.12.7"
  }
 },
 "nbformat": 4,
 "nbformat_minor": 5
}
