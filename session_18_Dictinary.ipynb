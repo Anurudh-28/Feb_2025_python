{
 "cells": [
  {
   "cell_type": "code",
   "execution_count": 1,
   "id": "25419a46-9081-4da9-a651-b4299716a4a1",
   "metadata": {},
   "outputs": [],
   "source": [
    "names=['Ramesh','Suresh','Sathish']\n",
    "age=[20,25,30]\n",
    "# 'Ramesh age is 20'\n",
    "# 'Suresh age is 25'"
   ]
  },
  {
   "cell_type": "code",
   "execution_count": 3,
   "id": "5333393a-cc64-460f-baed-c98e93b8d3bc",
   "metadata": {},
   "outputs": [
    {
     "name": "stdout",
     "output_type": "stream",
     "text": [
      "Ramesh age is 20\n",
      "Suresh age is 25\n",
      "Sathish age is 30\n"
     ]
    }
   ],
   "source": [
    "for i in range(len(names)):\n",
    "    print(f\"{names[i]} age is {age[i]}\")"
   ]
  },
  {
   "cell_type": "markdown",
   "id": "c28e52ba-6f4a-4d40-b977-9aef5fb44bb6",
   "metadata": {},
   "source": [
    "**zip**"
   ]
  },
  {
   "cell_type": "code",
   "execution_count": 6,
   "id": "5c980dfe-1ba2-4e1d-9796-a5ddd3216698",
   "metadata": {},
   "outputs": [
    {
     "name": "stdout",
     "output_type": "stream",
     "text": [
      "Ramesh 20\n",
      "Ramesh age is 20\n",
      "Suresh 25\n",
      "Suresh age is 25\n",
      "Sathish 30\n",
      "Sathish age is 30\n"
     ]
    }
   ],
   "source": [
    "names=['Ramesh','Suresh','Sathish']\n",
    "age=[20,25,30]\n",
    "for i,j in zip(names,age):\n",
    "    print(i,j)\n",
    "    print(f\"{i} age is {j}\")"
   ]
  },
  {
   "cell_type": "code",
   "execution_count": 8,
   "id": "89c17138-1bfd-4328-b05f-34dcf49950a5",
   "metadata": {},
   "outputs": [
    {
     "name": "stdout",
     "output_type": "stream",
     "text": [
      "20\n",
      "25\n",
      "30\n"
     ]
    }
   ],
   "source": [
    "names=['Ramesh','Suresh','Sathish']\n",
    "age=[20,25,30]\n",
    "for i,j in zip(names,age):\n",
    "    print(j)"
   ]
  },
  {
   "cell_type": "code",
   "execution_count": 10,
   "id": "19bf7f23-704e-4131-ad2a-b3e59421c4e2",
   "metadata": {},
   "outputs": [],
   "source": [
    "names=['Ramesh','Suresh','Sathish']\n",
    "age=[20,25,30]\n"
   ]
  },
  {
   "cell_type": "markdown",
   "id": "e7c6cba4-ad14-492b-9c71-8d26aa0e4feb",
   "metadata": {},
   "source": [
    "**Dictionary**\n",
    "\n",
    "- in above example names and age both are together\n",
    "\n",
    "- when both are together we can pair them\n",
    "\n",
    "- This can happen using Dictionary\n",
    "\n",
    "- Dictionary is calles as **key-value** pair\n",
    "\n",
    "- it represents with curly braces : **{key:value}**\n",
    "\n",
    "- Ramesh and 20 years both are pair : {'Ramesh':20}"
   ]
  },
  {
   "cell_type": "code",
   "execution_count": 24,
   "id": "c54d738f-361f-4897-ac94-b9b383b16106",
   "metadata": {},
   "outputs": [
    {
     "data": {
      "text/plain": [
       "{'Ramesh': 20, 'Suresh': 25, 'Sathish': 30}"
      ]
     },
     "execution_count": 24,
     "metadata": {},
     "output_type": "execute_result"
    }
   ],
   "source": [
    "d1={'Ramesh':20,'Suresh':25,'Sathish':30}\n",
    "d1"
   ]
  },
  {
   "cell_type": "code",
   "execution_count": 15,
   "id": "d14e6752-22a8-49dd-8298-61a0179f1db0",
   "metadata": {},
   "outputs": [
    {
     "data": {
      "text/plain": [
       "{20: 'Ramesh', 25: 'Suresh', 30: 'Sathish'}"
      ]
     },
     "execution_count": 15,
     "metadata": {},
     "output_type": "execute_result"
    }
   ],
   "source": [
    "d2={20:'Ramesh',25:'Suresh',30:'Sathish'}\n",
    "d2"
   ]
  },
  {
   "cell_type": "code",
   "execution_count": 17,
   "id": "a52bfc3f-d9b6-4975-88d6-e66bf70342d9",
   "metadata": {},
   "outputs": [
    {
     "data": {
      "text/plain": [
       "{('Apple', 'Banana'): 'fruites'}"
      ]
     },
     "execution_count": 17,
     "metadata": {},
     "output_type": "execute_result"
    }
   ],
   "source": [
    "# start your imaginzation make a dictionary with many ways\n",
    "d1={'Ramesh':20,'Suresh':25,'Sathish':30}\n",
    "d2={20:'Ramesh',25:'Suresh',30:'Sathish'}\n",
    "d3={'Ramesh':'20','Suresh':'25','Sathish':30}\n",
    "d4={'20':'Ramesh','25':'Suresh',30:'Sathish'}\n",
    "d5={'Ramesh':20,'Ramesh':30}\n",
    "# If both keys are same it will take the latest value\n",
    "# Dictionarys kind database\n",
    "d6={'Ramesh':20,'Ramesh':20}\n",
    "# Dictionarys does not allow duplicates\n",
    "d7={'Ramesh':20,'Suresh':20}\n",
    "# keys plays vital roles\n",
    "# keys can not be duplicate but values can be duplicate\n",
    "d8={20:'Ramesh',20:'Suresh'}\n",
    "d9={True:'true'}\n",
    "d10={'fruites':['Apple','Banana']} # list is value\n",
    "#d11={['Apple','Banana']:'fruites'} # list is key\n",
    "d12={'fruites':('Apple','Banana')} # list is value\n",
    "d13={('Apple','Banana'):'fruites'} # list is key\n",
    "d13"
   ]
  },
  {
   "cell_type": "code",
   "execution_count": null,
   "id": "68cdafdb-e147-4036-a92f-b82c983db89b",
   "metadata": {},
   "outputs": [],
   "source": [
    "d10={'fruites':['Apple','Banana']} # w\n",
    "d10={'fruites':('Apple','Banana')} # w\n",
    "{['Apple','Banana']:'fruites'} # Fail\n",
    "{('Apple','Banana'):'fruites'} # workings"
   ]
  },
  {
   "cell_type": "markdown",
   "id": "37947c65-5310-4cfd-b35a-1dc65f36f140",
   "metadata": {},
   "source": [
    "**list as keys fails becuase list has a mutable behavivour**\n",
    "\n",
    "**tuple as keys works becuase tuple has immutable behaviour**\n",
    "\n",
    "**in dictionary keys are very very imortant**\n",
    "\n",
    "**keys does not change so when we apply list is failin**"
   ]
  },
  {
   "cell_type": "markdown",
   "id": "a245ac2f-e179-4c87-b3da-0a54e1e53085",
   "metadata": {},
   "source": [
    " - If both keys are same it will take the latest value\n",
    "   \n",
    " - Dictionarys does not allow duplicates\n",
    "\n",
    " - keys plays vital roles\n",
    "\n",
    " - keys can not be duplicate but values can be duplicate"
   ]
  },
  {
   "cell_type": "code",
   "execution_count": 27,
   "id": "8329039d-a566-4d97-8794-6ffec3da4cfc",
   "metadata": {},
   "outputs": [
    {
     "data": {
      "text/plain": [
       "{'Fruites': {'Apple': 20}}"
      ]
     },
     "execution_count": 27,
     "metadata": {},
     "output_type": "execute_result"
    }
   ],
   "source": [
    "d14={'Fruites':{'Apple':20}}\n",
    "d14"
   ]
  },
  {
   "cell_type": "code",
   "execution_count": 33,
   "id": "bc53d73e-99cc-44aa-bd14-e3e942f12ca6",
   "metadata": {},
   "outputs": [
    {
     "ename": "TypeError",
     "evalue": "unhashable type: 'set'",
     "output_type": "error",
     "traceback": [
      "\u001b[1;31m---------------------------------------------------------------------------\u001b[0m",
      "\u001b[1;31mTypeError\u001b[0m                                 Traceback (most recent call last)",
      "Cell \u001b[1;32mIn[33], line 1\u001b[0m\n\u001b[1;32m----> 1\u001b[0m d15\u001b[38;5;241m=\u001b[39m{{\u001b[38;5;124m'\u001b[39m\u001b[38;5;124mApple:20\u001b[39m\u001b[38;5;124m'\u001b[39m}:\u001b[38;5;124m'\u001b[39m\u001b[38;5;124mFruites\u001b[39m\u001b[38;5;124m'\u001b[39m}\n\u001b[0;32m      2\u001b[0m d15\n",
      "\u001b[1;31mTypeError\u001b[0m: unhashable type: 'set'"
     ]
    }
   ],
   "source": [
    "d15={{'Apple:20'}:'Fruites'}\n",
    "d15"
   ]
  },
  {
   "cell_type": "code",
   "execution_count": 29,
   "id": "8accad69-96ea-4004-a1a5-6e30b99ce1be",
   "metadata": {},
   "outputs": [
    {
     "data": {
      "text/plain": [
       "'Banana'"
      ]
     },
     "execution_count": 29,
     "metadata": {},
     "output_type": "execute_result"
    }
   ],
   "source": [
    "dict1={'Zpple':70,'Banana':30,'Cherry':50}\n",
    "dict2={'Apple':20,'Apple':30}\n",
    "dict3={20:'Apple',30:'Banana',50:'Cherry'}\n",
    "\n",
    "min(dict1)"
   ]
  },
  {
   "cell_type": "code",
   "execution_count": 31,
   "id": "4012e03c-d557-48eb-a63d-28b36b34384d",
   "metadata": {},
   "outputs": [
    {
     "data": {
      "text/plain": [
       "'Zpple'"
      ]
     },
     "execution_count": 31,
     "metadata": {},
     "output_type": "execute_result"
    }
   ],
   "source": [
    "max(dict1)"
   ]
  },
  {
   "cell_type": "code",
   "execution_count": 27,
   "id": "148c4c73-9a0a-48e5-9144-0b3a2de617bf",
   "metadata": {},
   "outputs": [
    {
     "data": {
      "text/plain": [
       "3"
      ]
     },
     "execution_count": 27,
     "metadata": {},
     "output_type": "execute_result"
    }
   ],
   "source": [
    "len(dict1)"
   ]
  },
  {
   "cell_type": "code",
   "execution_count": 33,
   "id": "b7904d41-f3b9-4317-ada5-857e21bc1f06",
   "metadata": {},
   "outputs": [
    {
     "data": {
      "text/plain": [
       "['Banana', 'Cherry', 'Zpple']"
      ]
     },
     "execution_count": 33,
     "metadata": {},
     "output_type": "execute_result"
    }
   ],
   "source": [
    "sorted(dict1)"
   ]
  },
  {
   "cell_type": "code",
   "execution_count": 43,
   "id": "0d54f8ed-c1fa-4b3f-8a8e-9c35f45d7418",
   "metadata": {},
   "outputs": [
    {
     "data": {
      "text/plain": [
       "['Cherry', 'Banana', 'Zpple']"
      ]
     },
     "execution_count": 43,
     "metadata": {},
     "output_type": "execute_result"
    }
   ],
   "source": [
    "list(reversed(dict1))"
   ]
  },
  {
   "cell_type": "code",
   "execution_count": 49,
   "id": "645a8cf5-01a1-40ba-b221-fe4a5b23191f",
   "metadata": {},
   "outputs": [
    {
     "data": {
      "text/plain": [
       "'Apple'"
      ]
     },
     "execution_count": 49,
     "metadata": {},
     "output_type": "execute_result"
    }
   ],
   "source": [
    "min(dict2)"
   ]
  },
  {
   "cell_type": "code",
   "execution_count": 51,
   "id": "25e74844-85d1-42d7-b670-5f34200bfd31",
   "metadata": {},
   "outputs": [
    {
     "data": {
      "text/plain": [
       "1"
      ]
     },
     "execution_count": 51,
     "metadata": {},
     "output_type": "execute_result"
    }
   ],
   "source": [
    "len(dict2)"
   ]
  },
  {
   "cell_type": "code",
   "execution_count": 15,
   "id": "1f56c34b-22ec-4137-a736-77cd6b093d85",
   "metadata": {},
   "outputs": [
    {
     "data": {
      "text/plain": [
       "['Apple']"
      ]
     },
     "execution_count": 15,
     "metadata": {},
     "output_type": "execute_result"
    }
   ],
   "source": [
    "sorted(dict2)"
   ]
  },
  {
   "cell_type": "code",
   "execution_count": 53,
   "id": "2001f50c-2396-4ca2-b2dd-83be7a4b772e",
   "metadata": {},
   "outputs": [
    {
     "data": {
      "text/plain": [
       "20"
      ]
     },
     "execution_count": 53,
     "metadata": {},
     "output_type": "execute_result"
    }
   ],
   "source": [
    "min(dict3)"
   ]
  },
  {
   "cell_type": "code",
   "execution_count": 55,
   "id": "9571268c-7314-439d-bd41-21123c404506",
   "metadata": {},
   "outputs": [
    {
     "data": {
      "text/plain": [
       "50"
      ]
     },
     "execution_count": 55,
     "metadata": {},
     "output_type": "execute_result"
    }
   ],
   "source": [
    "max(dict3)"
   ]
  },
  {
   "cell_type": "code",
   "execution_count": 41,
   "id": "9b88c5a0-d9e6-4d34-a6f0-56355e2380ed",
   "metadata": {},
   "outputs": [
    {
     "data": {
      "text/plain": [
       "[50, 360, 20]"
      ]
     },
     "execution_count": 41,
     "metadata": {},
     "output_type": "execute_result"
    }
   ],
   "source": [
    "dict3={20:'Apple',360:'Banana',50:'Cherry'}\n",
    "list(reversed(dict3))"
   ]
  },
  {
   "cell_type": "code",
   "execution_count": 37,
   "id": "37fdad68-f7e0-41cd-b248-d25cff94e061",
   "metadata": {},
   "outputs": [
    {
     "data": {
      "text/plain": [
       "[20, 50, 360]"
      ]
     },
     "execution_count": 37,
     "metadata": {},
     "output_type": "execute_result"
    }
   ],
   "source": [
    "sorted(dict3)"
   ]
  },
  {
   "cell_type": "code",
   "execution_count": 51,
   "id": "6a79e1b3-2c26-4a16-9e87-980cea2b0b9d",
   "metadata": {},
   "outputs": [
    {
     "data": {
      "text/plain": [
       "True"
      ]
     },
     "execution_count": 51,
     "metadata": {},
     "output_type": "execute_result"
    }
   ],
   "source": [
    "dict1={'Apple':20,'Banana':30,'Cherry':50}\n",
    "'Apple' in dict1\n"
   ]
  },
  {
   "cell_type": "code",
   "execution_count": 53,
   "id": "d208876e-a45a-4b27-8e44-1cea74f304b6",
   "metadata": {},
   "outputs": [
    {
     "data": {
      "text/plain": [
       "False"
      ]
     },
     "execution_count": 53,
     "metadata": {},
     "output_type": "execute_result"
    }
   ],
   "source": [
    "20 in dict1"
   ]
  },
  {
   "cell_type": "code",
   "execution_count": 55,
   "id": "be69e397-cebf-40dd-ad93-9dc9fb742460",
   "metadata": {},
   "outputs": [
    {
     "ename": "SyntaxError",
     "evalue": "illegal target for annotation (1635405859.py, line 1)",
     "output_type": "error",
     "traceback": [
      "\u001b[1;36m  Cell \u001b[1;32mIn[55], line 1\u001b[1;36m\u001b[0m\n\u001b[1;33m    'Apple':20 in dict1\u001b[0m\n\u001b[1;37m    ^\u001b[0m\n\u001b[1;31mSyntaxError\u001b[0m\u001b[1;31m:\u001b[0m illegal target for annotation\n"
     ]
    }
   ],
   "source": [
    "'Apple':20 in dict1"
   ]
  },
  {
   "cell_type": "markdown",
   "id": "daf5ef71-aade-4624-b993-f98a0f78c150",
   "metadata": {},
   "source": [
    "**keys are important in dictionaries**"
   ]
  },
  {
   "cell_type": "code",
   "execution_count": 64,
   "id": "60ac807b-b19b-4683-9a8b-73793b0b2aa2",
   "metadata": {},
   "outputs": [
    {
     "data": {
      "text/plain": [
       "True"
      ]
     },
     "execution_count": 64,
     "metadata": {},
     "output_type": "execute_result"
    }
   ],
   "source": [
    "dict1={'Apple':20,'Banana':30,'Cherry':50}\n",
    "\n",
    "'Apple' in dict1\n",
    "'Banana' in dict1"
   ]
  },
  {
   "cell_type": "code",
   "execution_count": 68,
   "id": "5d67503c-991d-4c9a-9fa4-c1f2521188af",
   "metadata": {},
   "outputs": [
    {
     "name": "stdout",
     "output_type": "stream",
     "text": [
      "Apple\n",
      "Banana\n",
      "Cherry\n"
     ]
    }
   ],
   "source": [
    "for i in dict1:\n",
    "    print(i)"
   ]
  },
  {
   "cell_type": "code",
   "execution_count": 72,
   "id": "cf90ad91-a744-4422-9d72-959cebe8705d",
   "metadata": {},
   "outputs": [
    {
     "name": "stdout",
     "output_type": "stream",
     "text": [
      "0\n",
      "1\n",
      "2\n"
     ]
    }
   ],
   "source": [
    "for i in range(len(dict1)):\n",
    "    print(i)"
   ]
  },
  {
   "cell_type": "markdown",
   "id": "83392a25-0174-4647-90e9-0702f807a867",
   "metadata": {},
   "source": [
    "**index**"
   ]
  },
  {
   "cell_type": "code",
   "execution_count": 75,
   "id": "7ee27a09-57aa-4644-aea5-e8a41a79636b",
   "metadata": {},
   "outputs": [
    {
     "data": {
      "text/plain": [
       "10"
      ]
     },
     "execution_count": 75,
     "metadata": {},
     "output_type": "execute_result"
    }
   ],
   "source": [
    "l1=[10,20,30]\n",
    "l1[0]"
   ]
  },
  {
   "cell_type": "code",
   "execution_count": 91,
   "id": "1e9505a2-e156-47d2-a69f-a5426aec493b",
   "metadata": {},
   "outputs": [
    {
     "data": {
      "text/plain": [
       "'p'"
      ]
     },
     "execution_count": 91,
     "metadata": {},
     "output_type": "execute_result"
    }
   ],
   "source": [
    "str1='python'\n",
    "str1[0]"
   ]
  },
  {
   "cell_type": "code",
   "execution_count": 99,
   "id": "c78eb436-d74e-41b4-88b1-7195242ab1d9",
   "metadata": {},
   "outputs": [
    {
     "ename": "KeyError",
     "evalue": "0",
     "output_type": "error",
     "traceback": [
      "\u001b[1;31m---------------------------------------------------------------------------\u001b[0m",
      "\u001b[1;31mKeyError\u001b[0m                                  Traceback (most recent call last)",
      "Cell \u001b[1;32mIn[99], line 2\u001b[0m\n\u001b[0;32m      1\u001b[0m dict1\u001b[38;5;241m=\u001b[39m{\u001b[38;5;124m'\u001b[39m\u001b[38;5;124mApple\u001b[39m\u001b[38;5;124m'\u001b[39m:\u001b[38;5;241m20\u001b[39m,\u001b[38;5;124m'\u001b[39m\u001b[38;5;124mBanana\u001b[39m\u001b[38;5;124m'\u001b[39m:\u001b[38;5;241m30\u001b[39m,\u001b[38;5;124m'\u001b[39m\u001b[38;5;124mCherry\u001b[39m\u001b[38;5;124m'\u001b[39m:\u001b[38;5;241m50\u001b[39m}\n\u001b[1;32m----> 2\u001b[0m dict1[\u001b[38;5;241m0\u001b[39m]\n",
      "\u001b[1;31mKeyError\u001b[0m: 0"
     ]
    }
   ],
   "source": [
    "dict1={'Apple':20,'Banana':30,'Cherry':50}\n",
    "dict1[0]\n",
    "\n",
    "#'apple':20 in dict1"
   ]
  },
  {
   "cell_type": "markdown",
   "id": "93363d51-4f9f-48d9-959f-4fc0d4af1332",
   "metadata": {},
   "source": [
    "**how to extract the values**\n",
    "\n",
    " -  in dictinary we have a concept key:value pair\n",
    "\n",
    " -  keys are very imp\n",
    "\n",
    " -  in order to get values we need to take keys help"
   ]
  },
  {
   "cell_type": "code",
   "execution_count": 103,
   "id": "d179dcf3-532f-482f-be40-97261511c8da",
   "metadata": {},
   "outputs": [
    {
     "data": {
      "text/plain": [
       "20"
      ]
     },
     "execution_count": 103,
     "metadata": {},
     "output_type": "execute_result"
    }
   ],
   "source": [
    "dict1={'Apple':20,'Banana':30,'Cherry':50}\n",
    "dict1['Apple']\n"
   ]
  },
  {
   "cell_type": "code",
   "execution_count": 109,
   "id": "eb8092b7-fb63-415d-9d41-0b3a6b800b1f",
   "metadata": {},
   "outputs": [
    {
     "name": "stdout",
     "output_type": "stream",
     "text": [
      "Apple\n",
      "Banana\n",
      "Cherry\n"
     ]
    }
   ],
   "source": [
    "for i in dict1:\n",
    "    print(i)"
   ]
  },
  {
   "cell_type": "code",
   "execution_count": 107,
   "id": "31fc9a4d-52ed-48e7-9363-41892fb7ddb9",
   "metadata": {},
   "outputs": [
    {
     "name": "stdout",
     "output_type": "stream",
     "text": [
      "20\n",
      "30\n",
      "50\n"
     ]
    }
   ],
   "source": [
    "for i in dict1:\n",
    "    print(dict1[i])"
   ]
  },
  {
   "cell_type": "code",
   "execution_count": 111,
   "id": "4e83dcf1-6e85-4aa9-ac10-eacbfa36cc22",
   "metadata": {},
   "outputs": [
    {
     "name": "stdout",
     "output_type": "stream",
     "text": [
      "Apple 20\n",
      "Banana 30\n",
      "Cherry 50\n"
     ]
    }
   ],
   "source": [
    "for i in dict1:\n",
    "    print(i,dict1[i])"
   ]
  },
  {
   "cell_type": "code",
   "execution_count": 115,
   "id": "6ff81f1e-bff2-4b6e-825b-658dc7edf08d",
   "metadata": {},
   "outputs": [],
   "source": [
    "names=['Ramesh','Suresh','Sathish']\n",
    "age=[20,25,30]\n",
    "# 'Ramesh age is 20'\n",
    "# 'Suresh age is 25'\n",
    "names={'Ramesh':20,'Suresh':25,'Sathish':30}"
   ]
  },
  {
   "cell_type": "code",
   "execution_count": 123,
   "id": "898412e9-3d5c-46da-85cc-c2ad94f347a0",
   "metadata": {},
   "outputs": [
    {
     "name": "stdout",
     "output_type": "stream",
     "text": [
      "Ramesh age is 20\n",
      "Suresh age is 25\n",
      "Sathish age is 30\n"
     ]
    }
   ],
   "source": [
    "for i in names:\n",
    "    print(f'{i} age is {names[i]}')"
   ]
  },
  {
   "cell_type": "code",
   "execution_count": null,
   "id": "1cd93b75-9018-4770-b42a-ac6564d3565b",
   "metadata": {},
   "outputs": [],
   "source": [
    "# range means only number will come\n",
    "#num is not usefulit is a par"
   ]
  },
  {
   "cell_type": "code",
   "execution_count": 133,
   "id": "689dadcb-18e4-4074-8948-59a333a24724",
   "metadata": {},
   "outputs": [
    {
     "data": {
      "text/plain": [
       "'Cheery'"
      ]
     },
     "execution_count": 133,
     "metadata": {},
     "output_type": "execute_result"
    }
   ],
   "source": [
    "d={'Fruites':['Apple','Banana','Cheery']}\n",
    "\n",
    "#get cheery\n",
    "\n",
    "d['Fruites'][2]"
   ]
  },
  {
   "cell_type": "code",
   "execution_count": 147,
   "id": "8b392615-a6d4-4724-8dfa-566bfb475d4b",
   "metadata": {},
   "outputs": [
    {
     "data": {
      "text/plain": [
       "1"
      ]
     },
     "execution_count": 147,
     "metadata": {},
     "output_type": "execute_result"
    }
   ],
   "source": [
    "d={'Fruites':{'Apple':['sweet','sour','green']}}\n",
    "len(d)\n",
    "  # dic dic list"
   ]
  },
  {
   "cell_type": "code",
   "execution_count": 151,
   "id": "99c0aca7-6093-4bdf-8106-e7e14163f168",
   "metadata": {},
   "outputs": [
    {
     "data": {
      "text/plain": [
       "'green'"
      ]
     },
     "execution_count": 151,
     "metadata": {},
     "output_type": "execute_result"
    }
   ],
   "source": [
    "d['Fruites']['Apple'][2]"
   ]
  },
  {
   "cell_type": "code",
   "execution_count": 157,
   "id": "d94e34bb-ad04-406c-a77c-60eee45d56fb",
   "metadata": {},
   "outputs": [
    {
     "data": {
      "text/plain": [
       "1"
      ]
     },
     "execution_count": 157,
     "metadata": {},
     "output_type": "execute_result"
    }
   ],
   "source": [
    "d={'Fruites':[{'Cost':[50]}]}\n",
    "\n",
    "len(d)    #dic list dict"
   ]
  },
  {
   "cell_type": "code",
   "execution_count": 171,
   "id": "d623698b-711e-49f3-91e9-0796d732dc52",
   "metadata": {},
   "outputs": [
    {
     "data": {
      "text/plain": [
       "[50]"
      ]
     },
     "execution_count": 171,
     "metadata": {},
     "output_type": "execute_result"
    }
   ],
   "source": [
    "d['Fruites'][0]['Cost']"
   ]
  },
  {
   "cell_type": "code",
   "execution_count": 205,
   "id": "a457376b-3201-4d87-920a-752d197e4b23",
   "metadata": {},
   "outputs": [
    {
     "data": {
      "text/plain": [
       "40"
      ]
     },
     "execution_count": 205,
     "metadata": {},
     "output_type": "execute_result"
    }
   ],
   "source": [
    "d={'Fruites':['Apple'],'Cost':[{'1kg':[20,30,40],'2kg':None}]}\n",
    "\n",
    "d['Cost'][0]['1kg'][2]      #2nd keyvalue is used in this"
   ]
  },
  {
   "cell_type": "code",
   "execution_count": 207,
   "id": "f92f0309-8e50-4575-9f89-f2d5750e1eef",
   "metadata": {},
   "outputs": [],
   "source": [
    "d['Cost'][0]['2kg']"
   ]
  },
  {
   "cell_type": "code",
   "execution_count": 203,
   "id": "ce42afc6-5a5f-44e4-ac39-47b16e3050e0",
   "metadata": {},
   "outputs": [
    {
     "data": {
      "text/plain": [
       "{'Shambaji'}"
      ]
     },
     "execution_count": 203,
     "metadata": {},
     "output_type": "execute_result"
    }
   ],
   "source": [
    "d={'Fruits':{'orange':{'Nagpur':{'MH':{'King':{'Shivaji':{'Shambaji'}}}}}}}\n",
    "\n",
    "d['Fruits']['orange']['Nagpur']['MH']['King']['Shivaji']"
   ]
  },
  {
   "cell_type": "markdown",
   "id": "5889494c-e330-4204-828d-cd2098eb7e2e",
   "metadata": {},
   "source": [
    "**how to create a empty dictionary**\n",
    "\n",
    " -  now onwards focus on creation of empty list,strings\n",
    "\n",
    " -  we will take empty list will use append operation\n",
    "\n",
    " -  we will take empty string will use concatenation\n",
    "\n",
    " -  we will take empty dictionary will use key:value pair concept"
   ]
  },
  {
   "cell_type": "code",
   "execution_count": 214,
   "id": "159b127a-eeb5-4839-a831-49c027a08071",
   "metadata": {},
   "outputs": [
    {
     "data": {
      "text/plain": [
       "[10, 20]"
      ]
     },
     "execution_count": 214,
     "metadata": {},
     "output_type": "execute_result"
    }
   ],
   "source": [
    "#list\n",
    "\n",
    "l=[]\n",
    "l.append(10)\n",
    "l.append(20)\n",
    "l"
   ]
  },
  {
   "cell_type": "code",
   "execution_count": 236,
   "id": "4fcf05ab-258b-4c82-9e53-82f7c8acff9a",
   "metadata": {},
   "outputs": [
    {
     "data": {
      "text/plain": [
       "'py'"
      ]
     },
     "execution_count": 236,
     "metadata": {},
     "output_type": "execute_result"
    }
   ],
   "source": [
    "#string\n",
    "\n",
    "s=''\n",
    "s=s+'p'  #'' +'p'\n",
    "s=s+'y' #'p'+'y'\n",
    "s"
   ]
  },
  {
   "cell_type": "code",
   "execution_count": 232,
   "id": "22cd34e7-ed18-4d9c-b086-b1f88c857365",
   "metadata": {},
   "outputs": [
    {
     "data": {
      "text/plain": [
       "{'Ramesh': 20, 'Suresh': 25}"
      ]
     },
     "execution_count": 232,
     "metadata": {},
     "output_type": "execute_result"
    }
   ],
   "source": [
    "# dictinaries\n",
    "\n",
    "d={}\n",
    "d['Ramesh']=20\n",
    "d['Suresh']=25   \n",
    "d"
   ]
  },
  {
   "cell_type": "code",
   "execution_count": null,
   "id": "752d44d8-4487-4f25-8063-ef69d6498d08",
   "metadata": {},
   "outputs": [],
   "source": [
    "d={}\n",
    "d['Ramesh']=20\n",
    "d['Suresh']=25   #d[key]=value\n",
    "d"
   ]
  },
  {
   "cell_type": "code",
   "execution_count": 244,
   "id": "8c968e25-fed2-4617-9574-30fcc32ba9fb",
   "metadata": {},
   "outputs": [
    {
     "name": "stdout",
     "output_type": "stream",
     "text": [
      "['Ramesh', 'Suresh', 'Sathish']\n",
      "[20, 25, 30]\n"
     ]
    }
   ],
   "source": [
    "names=['Ramesh','Suresh','Sathish']   #i\n",
    "age=[20,25,30]  #j\n",
    "\n",
    "print(names)\n",
    "print(age)"
   ]
  },
  {
   "cell_type": "code",
   "execution_count": 261,
   "id": "37681103-0214-4d8a-bc0b-198ceeab95c4",
   "metadata": {},
   "outputs": [
    {
     "name": "stdout",
     "output_type": "stream",
     "text": [
      "Ramesh 20\n",
      "Suresh 25\n",
      "Sathish 30\n"
     ]
    },
    {
     "data": {
      "text/plain": [
       "{'Ramesh': 20, 'Suresh': 25, 'Sathish': 30}"
      ]
     },
     "execution_count": 261,
     "metadata": {},
     "output_type": "execute_result"
    }
   ],
   "source": [
    "names=['Ramesh','Suresh','Sathish']  \n",
    "age=[20,25,30]\n",
    "d={}\n",
    "for i,j in zip(names,age):\n",
    "    print(i,j)\n",
    "    d[i]=j\n",
    "\n",
    "d\n",
    "    \n"
   ]
  },
  {
   "cell_type": "code",
   "execution_count": 265,
   "id": "dc5f5f80-fbc5-4f48-8258-e52fc7eaf9b4",
   "metadata": {},
   "outputs": [
    {
     "name": "stdout",
     "output_type": "stream",
     "text": [
      "sreya 21\n",
      "Anurudh 22\n"
     ]
    },
    {
     "data": {
      "text/plain": [
       "{'sreya': 21, 'Anurudh': 22}"
      ]
     },
     "execution_count": 265,
     "metadata": {},
     "output_type": "execute_result"
    }
   ],
   "source": [
    "yasss=['sreya','Anurudh']\n",
    "age=[21,22]\n",
    "d={}\n",
    "for i,j in zip(yasss,age):\n",
    "    print(i,j)\n",
    "    d[i]=j\n",
    "\n",
    "d\n",
    "    "
   ]
  },
  {
   "cell_type": "markdown",
   "id": "5a49ed2e-d897-4726-a2e6-5191a5c83f95",
   "metadata": {},
   "source": [
    "**dictionary cmprehension**"
   ]
  },
  {
   "cell_type": "markdown",
   "id": "55b42609-337c-4cdd-955d-fba032f7a4e1",
   "metadata": {},
   "source": [
    " - for lits comprehension we written everything inside list\n",
    "\n",
    " - for dictionary comprehension we write inside dictionary\n",
    "\n"
   ]
  },
  {
   "cell_type": "code",
   "execution_count": null,
   "id": "845eb209-f00b-4dfc-871e-5016dc0a1bd5",
   "metadata": {},
   "outputs": [],
   "source": [
    "#       list comprehension:   [<output> <forloop>]\n",
    "\n",
    "# dictionary comprehension:  {<key:value> <forloop>}"
   ]
  },
  {
   "cell_type": "code",
   "execution_count": 275,
   "id": "3b75103a-7b72-498a-8e9a-428f4dc634f5",
   "metadata": {},
   "outputs": [
    {
     "data": {
      "text/plain": [
       "{'sreya': 21, 'Anurudh': 22}"
      ]
     },
     "execution_count": 275,
     "metadata": {},
     "output_type": "execute_result"
    }
   ],
   "source": [
    "yasss=['sreya','Anurudh']\n",
    "age=[21,22]\n",
    "{i:j for i,j in zip(yasss,age)}"
   ]
  },
  {
   "cell_type": "markdown",
   "id": "d1c831ba-da72-4840-a19a-4e0108dc2a4d",
   "metadata": {},
   "source": [
    "**mutable-immutable**\n",
    "\n",
    " -  list are mutable\n",
    "\n",
    " -  dictionaries are also mutable\n",
    "\n",
    " -  strings are immutable\n",
    "\n",
    " -  tuple are immutable\n",
    "\n",
    " -  in dictionaries we can change the values using keys\n",
    "\n"
   ]
  },
  {
   "cell_type": "code",
   "execution_count": 283,
   "id": "a41e2951-8be1-4128-a0bb-1c605ab0e151",
   "metadata": {},
   "outputs": [
    {
     "data": {
      "text/plain": [
       "{'sreya': 21, 'Anurudh': 25}"
      ]
     },
     "execution_count": 283,
     "metadata": {},
     "output_type": "execute_result"
    }
   ],
   "source": [
    "d={'sreya': 21, 'Anurudh': 22}\n",
    "d['Anurudh']=25\n",
    "d"
   ]
  },
  {
   "cell_type": "code",
   "execution_count": 287,
   "id": "88772165-f1af-4e22-ac45-49045207a4d4",
   "metadata": {},
   "outputs": [
    {
     "data": {
      "text/plain": [
       "['__class__',\n",
       " '__class_getitem__',\n",
       " '__contains__',\n",
       " '__delattr__',\n",
       " '__delitem__',\n",
       " '__dir__',\n",
       " '__doc__',\n",
       " '__eq__',\n",
       " '__format__',\n",
       " '__ge__',\n",
       " '__getattribute__',\n",
       " '__getitem__',\n",
       " '__getstate__',\n",
       " '__gt__',\n",
       " '__hash__',\n",
       " '__init__',\n",
       " '__init_subclass__',\n",
       " '__ior__',\n",
       " '__iter__',\n",
       " '__le__',\n",
       " '__len__',\n",
       " '__lt__',\n",
       " '__ne__',\n",
       " '__new__',\n",
       " '__or__',\n",
       " '__reduce__',\n",
       " '__reduce_ex__',\n",
       " '__repr__',\n",
       " '__reversed__',\n",
       " '__ror__',\n",
       " '__setattr__',\n",
       " '__setitem__',\n",
       " '__sizeof__',\n",
       " '__str__',\n",
       " '__subclasshook__',\n",
       " 'clear',\n",
       " 'copy',\n",
       " 'fromkeys',\n",
       " 'get',\n",
       " 'items',\n",
       " 'keys',\n",
       " 'pop',\n",
       " 'popitem',\n",
       " 'setdefault',\n",
       " 'update',\n",
       " 'values']"
      ]
     },
     "execution_count": 287,
     "metadata": {},
     "output_type": "execute_result"
    }
   ],
   "source": [
    "dir({})"
   ]
  },
  {
   "cell_type": "code",
   "execution_count": null,
   "id": "a6eb55e1-daf5-4052-b526-00dce9006b5f",
   "metadata": {},
   "outputs": [],
   "source": [
    "- clear\n",
    "- copy\n",
    "- keys\n",
    "- values\n",
    "- items"
   ]
  },
  {
   "cell_type": "code",
   "execution_count": 325,
   "id": "7f3f96df-4864-4adb-b7be-3fbe0db47d78",
   "metadata": {},
   "outputs": [
    {
     "name": "stdout",
     "output_type": "stream",
     "text": [
      "{'sreya': 21, 'Anurudh': 22}\n"
     ]
    },
    {
     "data": {
      "text/plain": [
       "{}"
      ]
     },
     "execution_count": 325,
     "metadata": {},
     "output_type": "execute_result"
    }
   ],
   "source": [
    "d={'sreya': 21, 'Anurudh': 22}\n",
    "print(d)\n",
    "d.clear()\n",
    "d"
   ]
  },
  {
   "cell_type": "code",
   "execution_count": 327,
   "id": "ac34a782-5f81-435f-ada4-5df20687e693",
   "metadata": {},
   "outputs": [
    {
     "data": {
      "text/plain": [
       "{'sreya': 21, 'Anurudh': 22}"
      ]
     },
     "execution_count": 327,
     "metadata": {},
     "output_type": "execute_result"
    }
   ],
   "source": [
    "d1={'sreya': 21, 'Anurudh': 22}\n",
    "d2={'Munni':15}\n",
    "d2=d1.copy()\n",
    "d2\n",
    "\n"
   ]
  },
  {
   "cell_type": "code",
   "execution_count": 303,
   "id": "041dd2bb-fb93-4135-a6b9-9eceb5dfa213",
   "metadata": {},
   "outputs": [
    {
     "data": {
      "text/plain": [
       "dict_keys(['sreya', 'Anurudh'])"
      ]
     },
     "execution_count": 303,
     "metadata": {},
     "output_type": "execute_result"
    }
   ],
   "source": [
    "d1.keys()"
   ]
  },
  {
   "cell_type": "code",
   "execution_count": 315,
   "id": "66931a41-4726-4254-b9f0-8c4b069d85c2",
   "metadata": {},
   "outputs": [
    {
     "data": {
      "text/plain": [
       "dict_values([21, 22])"
      ]
     },
     "execution_count": 315,
     "metadata": {},
     "output_type": "execute_result"
    }
   ],
   "source": [
    "d1.values()"
   ]
  },
  {
   "cell_type": "code",
   "execution_count": 317,
   "id": "6043cf85-db50-441c-b2d0-0805ecb87bf0",
   "metadata": {},
   "outputs": [
    {
     "data": {
      "text/plain": [
       "dict_items([('sreya', 21), ('Anurudh', 22)])"
      ]
     },
     "execution_count": 317,
     "metadata": {},
     "output_type": "execute_result"
    }
   ],
   "source": [
    "d1.items()"
   ]
  },
  {
   "cell_type": "code",
   "execution_count": 1,
   "id": "96fe45d3-eb60-4038-b580-a6eeb837c926",
   "metadata": {},
   "outputs": [
    {
     "data": {
      "text/plain": [
       "dict_keys(['Ramesh', 'Suresh', 'Sathish'])"
      ]
     },
     "execution_count": 1,
     "metadata": {},
     "output_type": "execute_result"
    }
   ],
   "source": [
    "d={'Ramesh': 20, 'Suresh': 25, 'Sathish': 30}\n",
    "keys=d.keys()\n",
    "keys"
   ]
  },
  {
   "cell_type": "code",
   "execution_count": 3,
   "id": "5210c556-6b08-4861-a902-c52ab95dde07",
   "metadata": {},
   "outputs": [
    {
     "data": {
      "text/plain": [
       "dict_keys"
      ]
     },
     "execution_count": 3,
     "metadata": {},
     "output_type": "execute_result"
    }
   ],
   "source": [
    "type(keys)"
   ]
  },
  {
   "cell_type": "code",
   "execution_count": 5,
   "id": "5915fee2-63c8-413a-a91e-8f405b44d1a6",
   "metadata": {},
   "outputs": [
    {
     "ename": "AttributeError",
     "evalue": "'dict_keys' object has no attribute 'count'",
     "output_type": "error",
     "traceback": [
      "\u001b[1;31m---------------------------------------------------------------------------\u001b[0m",
      "\u001b[1;31mAttributeError\u001b[0m                            Traceback (most recent call last)",
      "Cell \u001b[1;32mIn[5], line 2\u001b[0m\n\u001b[0;32m      1\u001b[0m \u001b[38;5;66;03m# i got mistaken im assuming this is list type\u001b[39;00m\n\u001b[1;32m----> 2\u001b[0m keys\u001b[38;5;241m.\u001b[39mcount(\u001b[38;5;124m'\u001b[39m\u001b[38;5;124mRamesh\u001b[39m\u001b[38;5;124m'\u001b[39m)\n",
      "\u001b[1;31mAttributeError\u001b[0m: 'dict_keys' object has no attribute 'count'"
     ]
    }
   ],
   "source": [
    "# i got mistaken im assuming this is list type\n",
    "keys.count('Ramesh')"
   ]
  },
  {
   "cell_type": "markdown",
   "id": "84a1a249-ccb7-444a-ad33-c2a0a581e86f",
   "metadata": {},
   "source": [
    "**Convert dictionary to list**\n",
    "\n",
    "- in order to convert dictionary to list\n",
    "\n",
    "- first we need to seperate keys and values\n",
    "\n",
    "- then apply list type casting\n"
   ]
  },
  {
   "cell_type": "code",
   "execution_count": 8,
   "id": "8ca0fd9a-b166-4281-9530-a077ca8ac767",
   "metadata": {},
   "outputs": [
    {
     "data": {
      "text/plain": [
       "['Ramesh', 'Suresh', 'Sathish']"
      ]
     },
     "execution_count": 8,
     "metadata": {},
     "output_type": "execute_result"
    }
   ],
   "source": [
    "d={'Ramesh': 20, 'Suresh': 25, 'Sathish': 30}\n",
    "keys=d.keys()\n",
    "keys_list=list(keys)\n",
    "keys_list"
   ]
  },
  {
   "cell_type": "code",
   "execution_count": 10,
   "id": "403f41ee-2ab2-4a7d-98c9-f08263fe7755",
   "metadata": {},
   "outputs": [
    {
     "data": {
      "text/plain": [
       "[20, 25, 30]"
      ]
     },
     "execution_count": 10,
     "metadata": {},
     "output_type": "execute_result"
    }
   ],
   "source": [
    "d={'Ramesh': 20, 'Suresh': 25, 'Sathish': 30}\n",
    "values=d.values()\n",
    "values_list=list(values)\n",
    "values_list"
   ]
  },
  {
   "cell_type": "code",
   "execution_count": 12,
   "id": "92e0e05a-8e7c-4d07-876c-c597a86f9c96",
   "metadata": {},
   "outputs": [
    {
     "data": {
      "text/plain": [
       "[('Ramesh', 20), ('Suresh', 25), ('Sathish', 30)]"
      ]
     },
     "execution_count": 12,
     "metadata": {},
     "output_type": "execute_result"
    }
   ],
   "source": [
    "d={'Ramesh': 20, 'Suresh': 25, 'Sathish': 30}\n",
    "items=d.items()\n",
    "items_list=list(items)\n",
    "items_list"
   ]
  },
  {
   "cell_type": "code",
   "execution_count": 14,
   "id": "4c122300-7028-4cca-b0a5-c90e05cebb89",
   "metadata": {},
   "outputs": [
    {
     "data": {
      "text/plain": [
       "(list, dict_keys)"
      ]
     },
     "execution_count": 14,
     "metadata": {},
     "output_type": "execute_result"
    }
   ],
   "source": [
    "type(keys_list),type(keys)"
   ]
  },
  {
   "cell_type": "code",
   "execution_count": 16,
   "id": "3c4748e9-ecdc-4675-88d5-bc8cc0dd5c7a",
   "metadata": {},
   "outputs": [
    {
     "data": {
      "text/plain": [
       "1"
      ]
     },
     "execution_count": 16,
     "metadata": {},
     "output_type": "execute_result"
    }
   ],
   "source": [
    "keys_list.count('Ramesh')"
   ]
  },
  {
   "cell_type": "code",
   "execution_count": null,
   "id": "4a8d4c89-67a2-4cc3-80b7-736c358ae522",
   "metadata": {},
   "outputs": [],
   "source": [
    "list === string  using join\n",
    "string === list  using split\n",
    "list ==== dict   zip \n",
    "dict === list     typecasting"
   ]
  },
  {
   "cell_type": "code",
   "execution_count": 18,
   "id": "33be44a4-382d-4a65-b6ae-bd6c8824d952",
   "metadata": {},
   "outputs": [
    {
     "ename": "SyntaxError",
     "evalue": "invalid syntax (280770841.py, line 1)",
     "output_type": "error",
     "traceback": [
      "\u001b[1;36m  Cell \u001b[1;32mIn[18], line 1\u001b[1;36m\u001b[0m\n\u001b[1;33m    ['Ramesh':20]\u001b[0m\n\u001b[1;37m             ^\u001b[0m\n\u001b[1;31mSyntaxError\u001b[0m\u001b[1;31m:\u001b[0m invalid syntax\n"
     ]
    }
   ],
   "source": [
    "['Ramesh':20]"
   ]
  },
  {
   "cell_type": "code",
   "execution_count": 20,
   "id": "304583e2-6091-401d-8b83-9583b4ee0e29",
   "metadata": {},
   "outputs": [],
   "source": [
    "# input='virat.kohli@rcb.com;rohit.sharma@mi.com;ms.dhoni@csk.com'\n",
    "# output= {'Firstname':['virat','rohit','ms'],\n",
    "#          'Secondname':['kohli','sharma','dhoni'],\n",
    "#          'cname':['rcb','mi','csk']}\n",
    "\n",
    "# idea : first convert string to list\n",
    "#       from there extract 3 lists\n",
    "#        1) fname 2) sname  3) cname\n",
    "#       from 3 lists create dictionary"
   ]
  },
  {
   "cell_type": "code",
   "execution_count": 32,
   "id": "8e64b44f-5b87-4c7c-a18b-1105a8a0ece6",
   "metadata": {},
   "outputs": [
    {
     "data": {
      "text/plain": [
       "{'fname': ['virat', 'rohit', 'ms'],\n",
       " 'Sname': ['kohli', 'sharma', 'dhoni'],\n",
       " 'Cname': ['rcb', 'mi', 'csk']}"
      ]
     },
     "execution_count": 32,
     "metadata": {},
     "output_type": "execute_result"
    }
   ],
   "source": [
    "input='virat.kohli@rcb.com;rohit.sharma@mi.com;ms.dhoni@csk.com'\n",
    "l1=input.split(';')\n",
    "###################################################\n",
    "fname,sname,cname=[],[],[]\n",
    "d={}\n",
    "for i in l1:\n",
    "    first_dot=i.index('.')\n",
    "    second_dot=i.index('.',first_dot+1)\n",
    "    at_the_rate=i.index('@')\n",
    "    fname.append(i[:first_dot])\n",
    "    sname.append(i[first_dot+1:at_the_rate])\n",
    "    cname.append(i[at_the_rate+1:second_dot])\n",
    "######################################################\n",
    "d['fname']=fname\n",
    "d['Sname']=sname\n",
    "d['Cname']=cname\n",
    "d"
   ]
  },
  {
   "cell_type": "markdown",
   "id": "2ee59eaa-39d0-4c35-b9a1-2c0f4ed352cf",
   "metadata": {},
   "source": [
    "**pop-popitem**"
   ]
  },
  {
   "cell_type": "code",
   "execution_count": 40,
   "id": "b742e74a-611e-466a-aa04-798164ecdd92",
   "metadata": {},
   "outputs": [
    {
     "data": {
      "text/plain": [
       "20"
      ]
     },
     "execution_count": 40,
     "metadata": {},
     "output_type": "execute_result"
    }
   ],
   "source": [
    "d={'Ramesh': 20, 'Suresh': 25, 'Sathish': 30}\n",
    "d.pop('Ramesh')\n"
   ]
  },
  {
   "cell_type": "code",
   "execution_count": 36,
   "id": "f17d9b62-e373-47ae-a594-68297c8ababa",
   "metadata": {},
   "outputs": [
    {
     "data": {
      "text/plain": [
       "{'Suresh': 25, 'Sathish': 30}"
      ]
     },
     "execution_count": 36,
     "metadata": {},
     "output_type": "execute_result"
    }
   ],
   "source": [
    "d"
   ]
  },
  {
   "cell_type": "code",
   "execution_count": 44,
   "id": "fe7854cc-7f58-4a6e-8904-3b6bcb7b3ca0",
   "metadata": {},
   "outputs": [
    {
     "data": {
      "text/plain": [
       "['Suresh', 'Sathish']"
      ]
     },
     "execution_count": 44,
     "metadata": {},
     "output_type": "execute_result"
    }
   ],
   "source": [
    "l1=['Ramesh','Suresh','Sathish']\n",
    "l1.remove('Ramesh')\n",
    "l1"
   ]
  },
  {
   "cell_type": "code",
   "execution_count": 48,
   "id": "2330c1ac-d925-427b-80bb-100e1805141b",
   "metadata": {},
   "outputs": [
    {
     "data": {
      "text/plain": [
       "('l', 8)"
      ]
     },
     "execution_count": 48,
     "metadata": {},
     "output_type": "execute_result"
    }
   ],
   "source": [
    "d={'Ramesh': 20, 'Suresh': 25, 'Sathish': 30,'l':8}\n",
    "d.popitem()\n"
   ]
  },
  {
   "cell_type": "code",
   "execution_count": 50,
   "id": "b3406193-05fa-4306-b9ea-d2b148221ec0",
   "metadata": {},
   "outputs": [
    {
     "data": {
      "text/plain": [
       "{'Ramesh': 20, 'Suresh': 25, 'Sathish': 30}"
      ]
     },
     "execution_count": 50,
     "metadata": {},
     "output_type": "execute_result"
    }
   ],
   "source": [
    "d"
   ]
  },
  {
   "cell_type": "code",
   "execution_count": 52,
   "id": "0a1b78c5-d3b0-4fa9-9066-1b4458bfd4b9",
   "metadata": {},
   "outputs": [
    {
     "data": {
      "text/plain": [
       "['Ramesh', 'Suresh']"
      ]
     },
     "execution_count": 52,
     "metadata": {},
     "output_type": "execute_result"
    }
   ],
   "source": [
    "l1=['Ramesh','Suresh','Sathish']\n",
    "l1.pop()\n",
    "l1"
   ]
  },
  {
   "cell_type": "markdown",
   "id": "83e0a941-9a62-432c-b493-2f68f1a97209",
   "metadata": {},
   "source": [
    "- **pop** in dictionary, similar analogy **remove** in list\n",
    "\n",
    "- **pop item** in dictionary, similar analogy **pop** in list"
   ]
  },
  {
   "cell_type": "markdown",
   "id": "1ad24ad4-4675-4b42-90d9-7977c086908c",
   "metadata": {},
   "source": [
    "**get**"
   ]
  },
  {
   "cell_type": "code",
   "execution_count": 56,
   "id": "7ba79d8e-97d2-4e84-a5a3-8765be4350c0",
   "metadata": {},
   "outputs": [
    {
     "data": {
      "text/plain": [
       "20"
      ]
     },
     "execution_count": 56,
     "metadata": {},
     "output_type": "execute_result"
    }
   ],
   "source": [
    "d={'Ramesh': 20, 'Suresh': 25, 'Sathish': 30}\n",
    "d.get('Ramesh')"
   ]
  },
  {
   "cell_type": "code",
   "execution_count": 58,
   "id": "8dc7b1b2-0540-4da6-a401-97428cda9169",
   "metadata": {},
   "outputs": [
    {
     "data": {
      "text/plain": [
       "20"
      ]
     },
     "execution_count": 58,
     "metadata": {},
     "output_type": "execute_result"
    }
   ],
   "source": [
    "d['Ramesh']  # key as an index"
   ]
  },
  {
   "cell_type": "markdown",
   "id": "860870a1-61cc-4096-926f-bc5a910e55a5",
   "metadata": {},
   "source": [
    "**update**\n",
    "\n",
    "- update is similar analogy **list extend**\n",
    "\n",
    "- take two dictionarys and apply update method"
   ]
  },
  {
   "cell_type": "code",
   "execution_count": 61,
   "id": "b2767797-e010-40f1-953c-82ccbb4ccd0e",
   "metadata": {},
   "outputs": [
    {
     "data": {
      "text/plain": [
       "{'Ramesh': 20,\n",
       " 'Suresh': 25,\n",
       " 'Sathish': 30,\n",
       " 'Manish': 20,\n",
       " 'Mahesh': 25,\n",
       " 'Saresh': 30}"
      ]
     },
     "execution_count": 61,
     "metadata": {},
     "output_type": "execute_result"
    }
   ],
   "source": [
    "d1={'Ramesh': 20, 'Suresh': 25, 'Sathish': 30}\n",
    "d2={'Manish': 20, 'Mahesh': 25, 'Saresh': 30}\n",
    "d1.update(d2)\n",
    "d1"
   ]
  },
  {
   "cell_type": "code",
   "execution_count": 63,
   "id": "2fb66090-d272-4705-ac8a-15b351d2e0be",
   "metadata": {},
   "outputs": [
    {
     "data": {
      "text/plain": [
       "['Ramesh', 'Suresh', 'Sathish', 20, 30, 40]"
      ]
     },
     "execution_count": 63,
     "metadata": {},
     "output_type": "execute_result"
    }
   ],
   "source": [
    "l1=['Ramesh','Suresh','Sathish']\n",
    "l2=[20,30,40]\n",
    "l1.extend(l2)\n",
    "l1"
   ]
  },
  {
   "cell_type": "markdown",
   "id": "8d9c2fa9-821d-45cf-8bcc-2f8848553463",
   "metadata": {},
   "source": [
    "- **update in dictionary**, similar analogy **list extend**"
   ]
  },
  {
   "cell_type": "markdown",
   "id": "a6d4787f-a43d-4d87-937a-7e8385975258",
   "metadata": {},
   "source": [
    "**setdefault**\n",
    "\n",
    "- suppose an alreday existed dictionary available\n",
    "\n",
    "- we can update the dictionary with new key:value pair"
   ]
  },
  {
   "cell_type": "code",
   "execution_count": 67,
   "id": "b50f5f8a-df46-4e45-b3b5-e7a31f94dc60",
   "metadata": {},
   "outputs": [
    {
     "data": {
      "text/plain": [
       "{'Ramesh': 20, 'Suresh': 25, 'Sathish': 30, 'Mansih': None, 'Mahesh': 35}"
      ]
     },
     "execution_count": 67,
     "metadata": {},
     "output_type": "execute_result"
    }
   ],
   "source": [
    "d1={'Ramesh': 20, 'Suresh': 25, 'Sathish': 30}\n",
    "d1.setdefault('Mansih')\n",
    "d1.setdefault('Mahesh',35)\n",
    "d1"
   ]
  },
  {
   "cell_type": "markdown",
   "id": "cb30c8ab-b1e9-41d2-a9a5-52e2c0b7e735",
   "metadata": {},
   "source": [
    "- **setdefault** in dictionary, similar analogy **list append**\n",
    "\n",
    "- always rember dictionary is a key:value pair concept\n",
    "\n",
    "- it never involves index opertaions\n",
    "\n",
    "- thats why we dont have any index or find methods \n",
    "\n",
    "- we have get method to extract values using key"
   ]
  },
  {
   "cell_type": "markdown",
   "id": "d4508383-6b3f-4682-ae94-2ba6c6e437eb",
   "metadata": {},
   "source": [
    "**fromkeys**\n",
    "\n",
    "- create a dictionary with different keys but same value\n",
    "\n",
    "- fromkeys will take an argument **iterable**\n",
    "\n",
    "- try to provide an iterator i.e string,list,tuple"
   ]
  },
  {
   "cell_type": "code",
   "execution_count": 77,
   "id": "bab0103a-85db-45e0-a0b8-c2435d8e0f77",
   "metadata": {},
   "outputs": [
    {
     "data": {
      "text/plain": [
       "{'Ramesh': '100', 'Suresh': '100', 'Sathish': '100'}"
      ]
     },
     "execution_count": 77,
     "metadata": {},
     "output_type": "execute_result"
    }
   ],
   "source": [
    "d={}\n",
    "names=['Ramesh','Suresh','Sathish']\n",
    "d.fromkeys(names,'100')"
   ]
  },
  {
   "cell_type": "code",
   "execution_count": 87,
   "id": "bd2b2f2b-3405-4c52-a521-9426f29e2594",
   "metadata": {},
   "outputs": [
    {
     "data": {
      "text/plain": [
       "{'p': None, 'y': None, 't': None, 'h': None, 'o': None, 'n': None}"
      ]
     },
     "execution_count": 87,
     "metadata": {},
     "output_type": "execute_result"
    }
   ],
   "source": [
    "d={}\n",
    "d.fromkeys('ppythonnnn')"
   ]
  },
  {
   "cell_type": "code",
   "execution_count": 81,
   "id": "d5f0d3bf-edf8-4a24-b677-eb03258360c0",
   "metadata": {},
   "outputs": [
    {
     "data": {
      "text/plain": [
       "{'1': None, '0': None}"
      ]
     },
     "execution_count": 81,
     "metadata": {},
     "output_type": "execute_result"
    }
   ],
   "source": [
    "d={}\n",
    "d.fromkeys('100')"
   ]
  },
  {
   "cell_type": "markdown",
   "id": "f654d8eb-65ae-4913-b4ac-0db3d5233175",
   "metadata": {},
   "source": [
    "- **pop** in dictionary, similar analogy **remove** in list\n",
    "\n",
    "- **pop item** in dictionary, similar analogy **pop** in list\n",
    "\n",
    "- **update in dictionary**, similar analogy **list extend**\n",
    "\n",
    "- **setdefault** in dictionary, similar analogy **list append**\n",
    "\n",
    "- **get** in dictionary, similar analogy **list index**\n",
    "\n",
    "- list has count , string has count and tuple also has count\n",
    "\n",
    "    - but dictionarys does not have **count**\n",
    "\n",
    "    - becuase dictionary does not allow **duplicates**\n",
    "\n",
    "- strings has find but list does not have"
   ]
  },
  {
   "cell_type": "code",
   "execution_count": null,
   "id": "8321cddc-b83b-4273-96b6-4d5899615e7f",
   "metadata": {},
   "outputs": [],
   "source": []
  }
 ],
 "metadata": {
  "kernelspec": {
   "display_name": "Python [conda env:base] *",
   "language": "python",
   "name": "conda-base-py"
  },
  "language_info": {
   "codemirror_mode": {
    "name": "ipython",
    "version": 3
   },
   "file_extension": ".py",
   "mimetype": "text/x-python",
   "name": "python",
   "nbconvert_exporter": "python",
   "pygments_lexer": "ipython3",
   "version": "3.12.7"
  }
 },
 "nbformat": 4,
 "nbformat_minor": 5
}
