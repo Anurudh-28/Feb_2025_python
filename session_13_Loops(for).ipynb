{
 "cells": [
  {
   "cell_type": "code",
   "execution_count": 1,
   "id": "7b7c9319-64e5-49a5-8d88-39c125301e5d",
   "metadata": {},
   "outputs": [
    {
     "name": "stdin",
     "output_type": "stream",
     "text": [
      "enter the salary: 10000\n",
      "tax percentage: 10\n"
     ]
    },
    {
     "name": "stdout",
     "output_type": "stream",
     "text": [
      "1000.0\n"
     ]
    }
   ],
   "source": [
    "salary=eval(input('enter the salary:'))\n",
    "tax_per=eval(input('tax percentage:'))\n",
    "tax_pay=salary*tax_per/100\n",
    "print(tax_pay)"
   ]
  },
  {
   "cell_type": "code",
   "execution_count": null,
   "id": "24a5d2f7-7002-4235-8820-470c4e8137bb",
   "metadata": {},
   "outputs": [],
   "source": [
    "firm 500 *4=2000\n",
    "def TAX_PAY():\n",
    " salary=eval(input('enter the salary:'))\n",
    " tax_per=eval(input('tax percentage:'))\n",
    " tax_pay=salary*tax_per/100\n",
    " print(tax_pay)\n",
    "TAX_PAY ======= 500\n",
    "1time\n"
   ]
  },
  {
   "cell_type": "markdown",
   "id": "ced53614-9468-4f89-a4b5-8b23338c6bbf",
   "metadata": {},
   "source": [
    "**Loops**\n",
    "  \n",
    " -  Loops are used to itearte the code multiple times\n",
    "\n",
    " -  functions are used to reuse the code block\n",
    "\n",
    " -  that code block can be repeated multiple times\n",
    "\n",
    " -  whenever you are doing same task multiple times then think about loop\n",
    "\n",
    " -  We have two loops\n",
    "\n",
    "     - for \n",
    "\n",
    "     -  while loop\n",
    "\n",
    " -  Any loop we need three things\n",
    "\n",
    "      -  Intialization (start point)\n",
    " \n",
    "      -  increment or decrement\n",
    "\n",
    "      -  Condition to stop\n"
   ]
  },
  {
   "cell_type": "markdown",
   "id": "2de2d59d-9467-4119-8410-79ac5c771749",
   "metadata": {},
   "source": [
    "**for loop**"
   ]
  },
  {
   "cell_type": "code",
   "execution_count": null,
   "id": "9052724b-18c8-4693-a63a-1e9a037de54b",
   "metadata": {},
   "outputs": [],
   "source": [
    "for <variable> in range(<number>):\n",
    " <write your code here>"
   ]
  },
  {
   "cell_type": "code",
   "execution_count": 17,
   "id": "87d59a1d-ee09-4b3b-8bc7-df35052461e9",
   "metadata": {},
   "outputs": [
    {
     "name": "stdout",
     "output_type": "stream",
     "text": [
      "0\n",
      "1\n",
      "2\n",
      "3\n",
      "4\n"
     ]
    }
   ],
   "source": [
    "for i in range(5):\n",
    " print(i)\n"
   ]
  },
  {
   "cell_type": "code",
   "execution_count": 19,
   "id": "e2d10a83-9626-464a-890e-ca1f7e3f5a38",
   "metadata": {},
   "outputs": [
    {
     "name": "stdout",
     "output_type": "stream",
     "text": [
      "0\n",
      "1\n",
      "2\n"
     ]
    }
   ],
   "source": [
    "# print(0)\n",
    "# print(1)\n",
    "# print(2)\n",
    "for trump in range(3):\n",
    " print(trump)"
   ]
  },
  {
   "cell_type": "code",
   "execution_count": 21,
   "id": "7134ab2c-6ad5-4d40-95f2-678b0475298b",
   "metadata": {},
   "outputs": [
    {
     "name": "stdout",
     "output_type": "stream",
     "text": [
      "0 1 2 "
     ]
    }
   ],
   "source": [
    "# print(0,end=' ')\n",
    "# print(1,end=' ')\n",
    "# print(2)\n",
    "for i in range(3):\n",
    " print(i,end=' ')"
   ]
  },
  {
   "cell_type": "markdown",
   "id": "9f37e3e5-2f15-4bcf-b12f-7b895a6e3e5e",
   "metadata": {},
   "source": [
    "**case-1:range(stop)**\n",
    "\n",
    " -  start=0 : python index always starts with zero\n",
    "\n",
    " -  increment by 1\n",
    "\n",
    " -  last=stop-1\n"
   ]
  },
  {
   "cell_type": "code",
   "execution_count": 24,
   "id": "3dde684c-d2ea-4f0e-ba13-def2d725b74f",
   "metadata": {},
   "outputs": [
    {
     "name": "stdout",
     "output_type": "stream",
     "text": [
      "0 1 2 3 4 5 6 7 8 9 "
     ]
    }
   ],
   "source": [
    "for i in range(10):\n",
    " print(i,end=' ')"
   ]
  },
  {
   "cell_type": "code",
   "execution_count": 26,
   "id": "bce6ae21-d247-4320-b4d3-d467c0d1c186",
   "metadata": {},
   "outputs": [
    {
     "name": "stdout",
     "output_type": "stream",
     "text": [
      "good night\n",
      "good night\n",
      "good night\n"
     ]
    }
   ],
   "source": [
    "print('good night')\n",
    "print('good night')\n",
    "print('good night')"
   ]
  },
  {
   "cell_type": "code",
   "execution_count": 28,
   "id": "28bc8235-afb7-4e03-a3a0-63d3ee0fcf99",
   "metadata": {},
   "outputs": [
    {
     "name": "stdout",
     "output_type": "stream",
     "text": [
      "good night\n",
      "good night\n",
      "good night\n"
     ]
    }
   ],
   "source": [
    "for i in range(3):\n",
    " print('good night')"
   ]
  },
  {
   "cell_type": "markdown",
   "id": "0ec752cc-a382-483e-ac1a-6667ba4aabb8",
   "metadata": {},
   "source": [
    "**Case-2:range(start,stop)**\n",
    "\n",
    " -  Suppose I want to start my loop with a particular number\n",
    "\n",
    " -  then add start also inside range\n",
    "\n",
    " -  start=start\n",
    "\n",
    " -  increment by 1\n",
    "\n",
    " -  last= stop-1\n",
    "\n",
    "range(10,20)\n",
    "\n",
    " -  start=10,increment by1 , last=20-1=19\n"
   ]
  },
  {
   "cell_type": "code",
   "execution_count": 32,
   "id": "44a31ffc-d83a-4657-a49a-79b7b77a34b8",
   "metadata": {},
   "outputs": [
    {
     "name": "stdout",
     "output_type": "stream",
     "text": [
      "10 11 12 13 14 15 16 17 18 19 "
     ]
    }
   ],
   "source": [
    "for i in range(10,20):\n",
    " print(i,end=' ')"
   ]
  },
  {
   "cell_type": "code",
   "execution_count": 34,
   "id": "584ad92e-b8d8-4736-b27c-17605ba6eba6",
   "metadata": {},
   "outputs": [
    {
     "name": "stdout",
     "output_type": "stream",
     "text": [
      "the square of 1 is:1\n",
      "the square of 2 is:4\n",
      "the square of 3 is:9\n",
      "the square of 4 is:16\n",
      "the square of 5 is:25\n"
     ]
    }
   ],
   "source": [
    "# wap ask the user print the square first 5 number\n",
    "# square of 1 is 1\n",
    "# square of 2 is 4\n",
    "# so on \n",
    "for i in range(1,6):\n",
    " print(f\"the square of {i} is:{i*i}\")"
   ]
  },
  {
   "cell_type": "code",
   "execution_count": 40,
   "id": "6838c68d-262a-4483-bd84-aef8889ba8ce",
   "metadata": {},
   "outputs": [
    {
     "name": "stdin",
     "output_type": "stream",
     "text": [
      "enter the number: 12\n"
     ]
    },
    {
     "name": "stdout",
     "output_type": "stream",
     "text": [
      "the square of 12 is:144\n"
     ]
    },
    {
     "name": "stdin",
     "output_type": "stream",
     "text": [
      "enter the number: 12\n"
     ]
    },
    {
     "name": "stdout",
     "output_type": "stream",
     "text": [
      "the square of 12 is:144\n"
     ]
    },
    {
     "name": "stdin",
     "output_type": "stream",
     "text": [
      "enter the number: 12\n"
     ]
    },
    {
     "name": "stdout",
     "output_type": "stream",
     "text": [
      "the square of 12 is:144\n"
     ]
    },
    {
     "name": "stdin",
     "output_type": "stream",
     "text": [
      "enter the number: 12\n"
     ]
    },
    {
     "name": "stdout",
     "output_type": "stream",
     "text": [
      "the square of 12 is:144\n"
     ]
    },
    {
     "name": "stdin",
     "output_type": "stream",
     "text": [
      "enter the number: 12\n"
     ]
    },
    {
     "name": "stdout",
     "output_type": "stream",
     "text": [
      "the square of 12 is:144\n"
     ]
    }
   ],
   "source": [
    "## wap ask the user enter a number the prompt should happen 5 times\n",
    "# and print the square of the number\n",
    "for i in range(5):\n",
    " num=eval(input('enter the number:'))\n",
    " print(f\"the square of {num} is:{num*num}\")\n"
   ]
  },
  {
   "cell_type": "code",
   "execution_count": 42,
   "id": "9baf777b-3ba5-40f8-a58d-55b4a49c7da7",
   "metadata": {},
   "outputs": [
    {
     "name": "stdin",
     "output_type": "stream",
     "text": [
      "enter the number: 1\n"
     ]
    },
    {
     "name": "stdout",
     "output_type": "stream",
     "text": [
      "the square of 1 is:1\n"
     ]
    },
    {
     "name": "stdin",
     "output_type": "stream",
     "text": [
      "enter the number: 2\n"
     ]
    },
    {
     "name": "stdout",
     "output_type": "stream",
     "text": [
      "the square of 2 is:4\n"
     ]
    }
   ],
   "source": [
    "def square():\n",
    " num=eval(input('enter the number:'))\n",
    " print(f\"the square of {num} is:{num*num}\")\n",
    " \n",
    "for i in range(2):\n",
    " square()"
   ]
  },
  {
   "cell_type": "code",
   "execution_count": 44,
   "id": "3e0477cc-a2f3-44a2-ae36-059c6024d8ff",
   "metadata": {},
   "outputs": [
    {
     "name": "stdin",
     "output_type": "stream",
     "text": [
      "enter the number: 1\n"
     ]
    },
    {
     "name": "stdout",
     "output_type": "stream",
     "text": [
      "the square of 1 is:1\n"
     ]
    },
    {
     "name": "stdin",
     "output_type": "stream",
     "text": [
      "enter the number: 3\n"
     ]
    },
    {
     "name": "stdout",
     "output_type": "stream",
     "text": [
      "the square of 3 is:9\n"
     ]
    },
    {
     "name": "stdin",
     "output_type": "stream",
     "text": [
      "enter the number: 4\n"
     ]
    },
    {
     "name": "stdout",
     "output_type": "stream",
     "text": [
      "the square of 4 is:16\n"
     ]
    }
   ],
   "source": [
    "for i in range(133,136):\n",
    " num=eval(input('enter the number:'))\n",
    " print(f\"the square of {num} is:{num*num}\")\n"
   ]
  },
  {
   "cell_type": "markdown",
   "id": "6d91b704-05f1-4dd3-858e-e1fbaf66354b",
   "metadata": {},
   "source": [
    "**Case-3: range(start,stop,step)**\n",
    "\n",
    " -  start=start only\n",
    "\n",
    " -  step:\n",
    "   - look about step sign is it postive or negative sign\n",
    "\n",
    "   - positive means increment\n",
    "\n",
    "      o  last:stop-1\n",
    "\n",
    "   - negative means decrement\n",
    "\n",
    "      o  last:stop+1"
   ]
  },
  {
   "cell_type": "code",
   "execution_count": 3,
   "id": "438ead91-7597-4410-a2a9-6f7fcb9e732f",
   "metadata": {},
   "outputs": [
    {
     "name": "stdout",
     "output_type": "stream",
     "text": [
      "19 17 15 13 11 9 7 5 "
     ]
    }
   ],
   "source": [
    "# example1: range(3,19,2)\n",
    "# start=3\n",
    "# step=+2 postive direction\n",
    "# last = 19-1=18\n",
    "# 3,5,7,9,11,13,15,17\n",
    "for i in range(19,3,-2):\n",
    " print(i,end=' ')"
   ]
  },
  {
   "cell_type": "code",
   "execution_count": 7,
   "id": "92bd3cc1-8dc8-4a06-8fd1-8550f23f55f6",
   "metadata": {},
   "outputs": [],
   "source": [
    "# example2: range(3,19,-2)\n",
    "# start=3\n",
    "# step=-2 negative direction\n",
    "# last = 19+1=20\n",
    "for i in range(3,19,-2):\n",
    " print(i)"
   ]
  },
  {
   "cell_type": "code",
   "execution_count": 68,
   "id": "fb39a360-bc46-413a-9e8c-c3ae6fc5b7aa",
   "metadata": {},
   "outputs": [
    {
     "name": "stdout",
     "output_type": "stream",
     "text": [
      "19 17 15 13 11 9 7 5 "
     ]
    }
   ],
   "source": [
    "# example2: range(19,3,-2)\n",
    "# start=3\n",
    "# step=-2 negative direction\n",
    "# last = 19+1=20\n",
    "\n",
    "for i in range(19,3,-2):\n",
    "  print(i,end=' ')\n"
   ]
  },
  {
   "cell_type": "code",
   "execution_count": 50,
   "id": "52d76fa9-8c32-4a43-af57-16435bc1ef65",
   "metadata": {},
   "outputs": [
    {
     "name": "stdout",
     "output_type": "stream",
     "text": [
      "3 1 -1 -3 -5 -7 -9 -11 -13 -15 -17 "
     ]
    }
   ],
   "source": [
    "for i in range(3,-19,-2):\n",
    " print(i,end=' ')\n",
    "# start=3 dire =nega last= stop+1= -19+1=-18"
   ]
  },
  {
   "cell_type": "code",
   "execution_count": null,
   "id": "7a39a074-f12b-4c54-a09a-f96bd5aa9c63",
   "metadata": {},
   "outputs": [],
   "source": [
    "for i in range(3,-19,2):\n",
    " print(i,end=' ')\n"
   ]
  },
  {
   "cell_type": "code",
   "execution_count": 74,
   "id": "47974dfc-fb5e-489e-9311-8d0617834b61",
   "metadata": {},
   "outputs": [
    {
     "name": "stdout",
     "output_type": "stream",
     "text": [
      "-19 -17 -15 -13 -11 -9 -7 -5 -3 -1 1 "
     ]
    }
   ],
   "source": [
    "for i in range(-19,3,2):\n",
    " print(i,end=' ')\n"
   ]
  },
  {
   "cell_type": "code",
   "execution_count": null,
   "id": "5140a8db-e3a9-44cf-b58b-af636f5fee8c",
   "metadata": {},
   "outputs": [],
   "source": [
    "range(3,15,3) # P\n",
    "range(3,15,-3) # np\n",
    "range(3,-15,3) # np\n",
    "range(-3,15,3) # p\n",
    "range(3,-15,-3) # p\n",
    "range(-3,-15,3) # np\n",
    "range(-3,15,-3) # np \n",
    "range(15,3,3) # np\n",
    "range(15,3,-3) # p \n",
    "range(15,-3,3) # np\n",
    "range(-15,3,3) # p\n",
    "range(-15,3,-3) # np\n",
    "range(-15,-3,3) # p\n",
    "ranhe(-15,-3,-3) # np"
   ]
  },
  {
   "cell_type": "code",
   "execution_count": 1,
   "id": "757223c8-8c61-4e63-9435-5ca3ad0c6be2",
   "metadata": {},
   "outputs": [
    {
     "name": "stdout",
     "output_type": "stream",
     "text": [
      "20\n",
      "10\n",
      "0\n",
      "-10\n"
     ]
    }
   ],
   "source": [
    "for i in range(20,-20,-10):\n",
    " print(i)\n",
    "# start=20\n",
    "# dire = -ve step=-10\n",
    "# last= -20+1=-19\n",
    "# 20 10 0 -10\n"
   ]
  },
  {
   "cell_type": "code",
   "execution_count": 3,
   "id": "a8bf4c6b-e73b-4a93-a9a7-7add6f6973bd",
   "metadata": {},
   "outputs": [
    {
     "name": "stdin",
     "output_type": "stream",
     "text": [
      "enter the table number: 7\n"
     ]
    },
    {
     "name": "stdout",
     "output_type": "stream",
     "text": [
      "7X1=7\n",
      "7X2=14\n",
      "7X3=21\n",
      "7X4=28\n",
      "7X5=35\n",
      "7X6=42\n",
      "7X7=49\n",
      "7X8=56\n",
      "7X9=63\n",
      "7X10=70\n"
     ]
    }
   ],
   "source": [
    "# Q4) Print the 7th table \n",
    "# 7x1=7\n",
    "# 7x2=14\n",
    "# 7x3=21\n",
    "# 7xi=num*i\n",
    "num=eval(input('enter the table number:'))\n",
    "for i in range(1,11):\n",
    " print(f\"{num}X{i}={num*i}\")\n"
   ]
  },
  {
   "cell_type": "code",
   "execution_count": 11,
   "id": "eab48b36-75da-4e6a-a5e3-ab588558ba04",
   "metadata": {},
   "outputs": [
    {
     "name": "stdin",
     "output_type": "stream",
     "text": [
      "which number divisiors you want: 75\n"
     ]
    },
    {
     "name": "stdout",
     "output_type": "stream",
     "text": [
      "1 is a divisor of 75\n",
      "3 is a divisor of 75\n",
      "5 is a divisor of 75\n",
      "15 is a divisor of 75\n",
      "25 is a divisor of 75\n",
      "75 is a divisor of 75\n"
     ]
    }
   ],
   "source": [
    "#Q5) Find the number of divisors of 75\n",
    "# if you divide 75 with any number the reminder should be zero\n",
    "# 75%1==0 True then print 1\n",
    "# 75%2==0 False\n",
    "# 75%3==0 True then print 3\n",
    "# 75%4==0 F\n",
    "# 75%5==0 T\n",
    "#\n",
    "# 75%15==0 T\n",
    "#\n",
    "# 75%15==0 T\n",
    "# 75%75==0\n",
    "# if 75%i==0\n",
    "num=eval(input('which number divisiors you want:'))\n",
    "for i in range(1,num+1):\n",
    " if num%i==0:\n",
    "     print(f\"{i} is a divisor of {num}\")"
   ]
  },
  {
   "cell_type": "code",
   "execution_count": 13,
   "id": "c164cf93-3b2f-48c9-8df5-0eac12c74393",
   "metadata": {},
   "outputs": [
    {
     "data": {
      "text/plain": [
       "55.0"
      ]
     },
     "execution_count": 13,
     "metadata": {},
     "output_type": "execute_result"
    }
   ],
   "source": [
    "# Q6) sum of first 10 natural numbers\n",
    "# natural : starts from 1\n",
    "# 1+2+3+4+5+6+7+8+9+10=55\n",
    "# n(n+1)/2 \n",
    "n=10\n",
    "n*(n+1)/2\n"
   ]
  },
  {
   "cell_type": "markdown",
   "id": "6630d2e6-26da-4b5e-bc72-16558501a732",
   "metadata": {},
   "source": [
    "**summation wrapper**\n",
    "  \n",
    " -  starting we intialise the sum value: summ=0\n",
    " \n",
    " -  inside loop we will add a simple line : summ=summ+i\n",
    " \n",
    " -  summ=0\n",
    "\n",
    " -  for loop\n",
    "    -   summ=summ+i"
   ]
  },
  {
   "cell_type": "code",
   "execution_count": null,
   "id": "cadac87c-552d-4cb8-8791-c342e6a5fe55",
   "metadata": {},
   "outputs": [],
   "source": [
    "0+1=1\n",
    "1+2=3\n",
    "3+3=6\n",
    "6+4=10\n",
    "10+5=15\n",
    "15+6=21\n",
    "21+7=28\n",
    "28+8=36\n",
    "36+9=45\n",
    "45+10=55\n",
    "op=0\n",
    "op+i=op ==== > op=op+i"
   ]
  },
  {
   "cell_type": "code",
   "execution_count": 17,
   "id": "493ff0f1-a749-43ee-bb01-e2b74a0ab99e",
   "metadata": {},
   "outputs": [
    {
     "name": "stdout",
     "output_type": "stream",
     "text": [
      "55\n"
     ]
    }
   ],
   "source": [
    "summ=0\n",
    "########################\n",
    "for i in range(1,11):\n",
    " summ=summ+i\n",
    "###############################\n",
    "print(summ)"
   ]
  },
  {
   "cell_type": "code",
   "execution_count": 27,
   "id": "7c5c43dd-e2e1-4b2b-94d4-67f64992671a",
   "metadata": {},
   "outputs": [
    {
     "name": "stdout",
     "output_type": "stream",
     "text": [
      "0\n",
      "1\n",
      "2\n"
     ]
    }
   ],
   "source": [
    "for val in range(3):\n",
    " print(val)"
   ]
  },
  {
   "cell_type": "code",
   "execution_count": 29,
   "id": "1399196a-604d-4dd2-89c0-9008fa1fe110",
   "metadata": {},
   "outputs": [
    {
     "data": {
      "text/plain": [
       "2"
      ]
     },
     "execution_count": 29,
     "metadata": {},
     "output_type": "execute_result"
    }
   ],
   "source": [
    "val"
   ]
  },
  {
   "cell_type": "code",
   "execution_count": 31,
   "id": "f85de061-e9d1-4aae-a135-fc95d2c2bb11",
   "metadata": {},
   "outputs": [
    {
     "name": "stdin",
     "output_type": "stream",
     "text": [
      "enter the num: 45\n"
     ]
    },
    {
     "name": "stdout",
     "output_type": "stream",
     "text": [
      "1\n",
      "3\n",
      "5\n",
      "9\n",
      "15\n",
      "45\n"
     ]
    },
    {
     "data": {
      "text/plain": [
       "78"
      ]
     },
     "execution_count": 31,
     "metadata": {},
     "output_type": "execute_result"
    }
   ],
   "source": [
    "# Q7) Find the sum of divisors of 75\n",
    "# 75 : 1,3,5,15,25,75 \n",
    "# 1+3+5+15+25+75\n",
    "summ=0\n",
    "num=eval(input('enter the num:'))\n",
    "for i in range(1,num+1):\n",
    "    if num%i==0:\n",
    "         print(i)\n",
    "         summ=summ+i\n",
    "summ"
   ]
  },
  {
   "cell_type": "markdown",
   "id": "a14fff32-c8d8-4bf9-8a6a-13220d6bbe9d",
   "metadata": {},
   "source": [
    "**counter wrapper**\n",
    "  \n",
    " -  Counter means counting the success ones\n",
    "\n",
    " -  count=0\n",
    "\n",
    " -  for loop\n",
    "\n",
    "     -  count=count+1"
   ]
  },
  {
   "cell_type": "code",
   "execution_count": 3,
   "id": "c1781177-a60a-4c8a-aff0-846b98910ddd",
   "metadata": {},
   "outputs": [
    {
     "name": "stdin",
     "output_type": "stream",
     "text": [
      "enter the num: 20\n"
     ]
    },
    {
     "name": "stdout",
     "output_type": "stream",
     "text": [
      "1\n",
      "2\n",
      "4\n",
      "5\n",
      "10\n",
      "20\n",
      "the number of divisors are: 6\n"
     ]
    }
   ],
   "source": [
    "# Q7) Find the number of divisors of 75\n",
    "count=0\n",
    "num=eval(input('enter the num:'))\n",
    "for i in range(1,num+1):#\n",
    " if num%i==0:\n",
    "     print(i)\n",
    "     count=count+1\n",
    "print('the number of divisors are:',count)\n"
   ]
  },
  {
   "cell_type": "code",
   "execution_count": null,
   "id": "a17a0965-c239-4513-849e-00bd9487383c",
   "metadata": {},
   "outputs": [],
   "source": [
    "# Q8)\n",
    "# ask the get 5 random numbers \n",
    "# means you need a get a random number inside for loop\n",
    "# the loop should run 5 times\n",
    "# now perform the even and odd opeation\n",
    "# 1) even count # 2) sum of even numbers 3) odd count 4) sum of add numbers\n",
    "# even_Count=0 \n",
    "# odd_count=0\n",
    "# even_sum=0\n",
    "# odd_sum=0\n",
    "# for loop\n",
    "# randm\n",
    "# if even\n",
    "# summ\n",
    "# counter\n",
    "# else\n",
    "# summ\n",
    "# count"
   ]
  },
  {
   "cell_type": "code",
   "execution_count": 40,
   "id": "7124e1ba-45f1-40a0-94ca-31c0880936d8",
   "metadata": {},
   "outputs": [
    {
     "name": "stdout",
     "output_type": "stream",
     "text": [
      "83 is an odd\n",
      "74 is an even\n",
      "49 is an odd\n",
      "23 is an odd\n",
      "94 is an even\n",
      "number of evens are: 2\n",
      "number of odds are: 3\n",
      "sum of evens are: 168\n",
      "sum of odds are: 155\n"
     ]
    }
   ],
   "source": [
    "import random\n",
    "even_count,odd_count=0,0\n",
    "even_sum,odd_sum=0,0\n",
    "for i in range(5):\n",
    " num=random.randint(1,100)\n",
    " if num%2==0:\n",
    "     print(f\"{num} is an even\")\n",
    "     even_count=even_count+1\n",
    "     even_sum=even_sum+num\n",
    " else:\n",
    "     print(f\"{num} is an odd\")\n",
    "     odd_count=odd_count+1\n",
    "     odd_sum=odd_sum+num\n",
    "print('number of evens are:',even_count)\n",
    "print('number of odds are:',odd_count)\n",
    "print('sum of evens are:',even_sum)\n",
    "print('sum of odds are:',odd_sum)"
   ]
  },
  {
   "cell_type": "code",
   "execution_count": null,
   "id": "57d0e9c6-a44f-4212-b127-fa37f0aabf1c",
   "metadata": {},
   "outputs": [],
   "source": [
    "# Q9) Game program\n",
    "# user enter one num\n",
    "# another number will generate randomly\n",
    "# if both numbers are equal then you won\n",
    "# otherwise you lost\n",
    "# i want to give 3 chances\n",
    "# for loop\n",
    "# num1=random\n",
    "# num2= user keybaord\n",
    "# if num1==num2\n",
    "# print won\n",
    "# else\n",
    "# print fail"
   ]
  },
  {
   "cell_type": "code",
   "execution_count": 44,
   "id": "fde5e062-a469-4cfd-8b69-d05b164e9683",
   "metadata": {},
   "outputs": [
    {
     "name": "stdin",
     "output_type": "stream",
     "text": [
      "enter a num: 2\n"
     ]
    },
    {
     "name": "stdout",
     "output_type": "stream",
     "text": [
      "better luck next time\n"
     ]
    },
    {
     "name": "stdin",
     "output_type": "stream",
     "text": [
      "enter a num: 3\n"
     ]
    },
    {
     "name": "stdout",
     "output_type": "stream",
     "text": [
      "better luck next time\n"
     ]
    },
    {
     "name": "stdin",
     "output_type": "stream",
     "text": [
      "enter a num: 4\n"
     ]
    },
    {
     "name": "stdout",
     "output_type": "stream",
     "text": [
      "better luck next time\n"
     ]
    }
   ],
   "source": [
    "for i in range(3):\n",
    " n1=random.randint(1,10)\n",
    " n2=eval(input('enter a num:')) \n",
    " if n1==n2:\n",
    "     print('you won')\n",
    " else:\n",
    "     print('better luck next time')\n"
   ]
  },
  {
   "cell_type": "code",
   "execution_count": 48,
   "id": "be2851fb-2e77-4fa3-8eec-ee7ac2243e50",
   "metadata": {},
   "outputs": [
    {
     "name": "stdout",
     "output_type": "stream",
     "text": [
      "3\n"
     ]
    },
    {
     "name": "stdin",
     "output_type": "stream",
     "text": [
      "enter a num: 2\n"
     ]
    },
    {
     "name": "stdout",
     "output_type": "stream",
     "text": [
      "better luck next time\n",
      "5\n"
     ]
    },
    {
     "name": "stdin",
     "output_type": "stream",
     "text": [
      "enter a num: 6\n"
     ]
    },
    {
     "name": "stdout",
     "output_type": "stream",
     "text": [
      "better luck next time\n",
      "6\n"
     ]
    },
    {
     "name": "stdin",
     "output_type": "stream",
     "text": [
      "enter a num: 3\n"
     ]
    },
    {
     "name": "stdout",
     "output_type": "stream",
     "text": [
      "better luck next time\n"
     ]
    }
   ],
   "source": [
    "for i in range(3):\n",
    " n1=random.randint(1,10)\n",
    " print(n1)\n",
    " n2=eval(input('enter a num:'))\n",
    " if n1==n2:\n",
    "     print('you won')\n",
    "     break\n",
    " else:\n",
    "     print('better luck next time')\n"
   ]
  },
  {
   "cell_type": "code",
   "execution_count": null,
   "id": "4f68adc7-8f0f-4d4b-aec1-4e6ef616d4f5",
   "metadata": {},
   "outputs": [],
   "source": [
    "# case-1: we apply the break === Completed\n",
    "# case-2: whenever the user enter the wronh answer\n",
    "# better luck next time\n",
    "# how many chances you are left\n",
    "# case-3: if you lost all the chances\n",
    "# print try after 24hours time\n",
    "# dont give time.sleep 24hours katam your zindagi\n",
    "# whatsapp group online and offline\n"
   ]
  },
  {
   "cell_type": "code",
   "execution_count": 54,
   "id": "0f987a95-cce6-4cbd-ba07-a7221e1a3eaf",
   "metadata": {},
   "outputs": [
    {
     "name": "stdout",
     "output_type": "stream",
     "text": [
      "2\n"
     ]
    },
    {
     "name": "stdin",
     "output_type": "stream",
     "text": [
      "enter a num: 3\n"
     ]
    },
    {
     "name": "stdout",
     "output_type": "stream",
     "text": [
      "better luck next time\n",
      "chances you left are: 2\n",
      "2\n"
     ]
    },
    {
     "name": "stdin",
     "output_type": "stream",
     "text": [
      "enter a num: 5\n"
     ]
    },
    {
     "name": "stdout",
     "output_type": "stream",
     "text": [
      "better luck next time\n",
      "chances you left are: 1\n",
      "7\n"
     ]
    },
    {
     "name": "stdin",
     "output_type": "stream",
     "text": [
      "enter a num: 3\n"
     ]
    },
    {
     "name": "stdout",
     "output_type": "stream",
     "text": [
      "better luck next time\n",
      "chances you left are: 0\n",
      "try after 24 hours time\n"
     ]
    }
   ],
   "source": [
    "count=3\n",
    "for i in range(3):\n",
    " n1=random.randint(1,10)\n",
    " print(n1)\n",
    " n2=eval(input('enter a num:'))\n",
    " if n1==n2:\n",
    "     print('you won')\n",
    "     break\n",
    " else:\n",
    "     print('better luck next time')\n",
    "     count=count-1\n",
    "     print(f'chances you left are: {count}')\n",
    "     \n",
    "print('try after 24 hours time')"
   ]
  },
  {
   "cell_type": "markdown",
   "id": "5263e2fc-0828-4095-8d1e-47f65384639c",
   "metadata": {},
   "source": [
    "**in**\n",
    "\n",
    "- in for loop we have range and in operators\n",
    "\n",
    "- range is math related word, whenever we use range it expects a number inside range\n",
    "\n",
    "- in operator expects a string "
   ]
  },
  {
   "cell_type": "code",
   "execution_count": 2,
   "id": "65bb7012-4199-4957-9b39-239c9fbd1b50",
   "metadata": {},
   "outputs": [
    {
     "name": "stdout",
     "output_type": "stream",
     "text": [
      "0 1 2 3 4 5 6 7 8 9 "
     ]
    }
   ],
   "source": [
    "\n",
    "for i in range(10):\n",
    "    print(i,end=' ')"
   ]
  },
  {
   "cell_type": "code",
   "execution_count": 4,
   "id": "479f10e2-e310-4923-a5be-d3f224f17961",
   "metadata": {},
   "outputs": [
    {
     "ename": "TypeError",
     "evalue": "'str' object cannot be interpreted as an integer",
     "output_type": "error",
     "traceback": [
      "\u001b[1;31m---------------------------------------------------------------------------\u001b[0m",
      "\u001b[1;31mTypeError\u001b[0m                                 Traceback (most recent call last)",
      "Cell \u001b[1;32mIn[4], line 1\u001b[0m\n\u001b[1;32m----> 1\u001b[0m \u001b[38;5;28;01mfor\u001b[39;00m i \u001b[38;5;129;01min\u001b[39;00m \u001b[38;5;28mrange\u001b[39m(\u001b[38;5;124m'\u001b[39m\u001b[38;5;124mpython\u001b[39m\u001b[38;5;124m'\u001b[39m):\n\u001b[0;32m      2\u001b[0m     \u001b[38;5;28mprint\u001b[39m(i,end\u001b[38;5;241m=\u001b[39m\u001b[38;5;124m'\u001b[39m\u001b[38;5;124m \u001b[39m\u001b[38;5;124m'\u001b[39m)\n",
      "\u001b[1;31mTypeError\u001b[0m: 'str' object cannot be interpreted as an integer"
     ]
    }
   ],
   "source": [
    "for i in range('python'):\n",
    "    print(i,end=' ')"
   ]
  },
  {
   "cell_type": "code",
   "execution_count": 6,
   "id": "1fd5c9d7-ceca-4c32-8018-94a3447eb55c",
   "metadata": {},
   "outputs": [
    {
     "name": "stdout",
     "output_type": "stream",
     "text": [
      "p y t h o n "
     ]
    }
   ],
   "source": [
    "for i in 'python':\n",
    "    print(i,end=' ')"
   ]
  },
  {
   "cell_type": "code",
   "execution_count": 8,
   "id": "8d782f9c-ea6a-401a-b01b-c6fda15c03b6",
   "metadata": {},
   "outputs": [
    {
     "data": {
      "text/plain": [
       "True"
      ]
     },
     "execution_count": 8,
     "metadata": {},
     "output_type": "execute_result"
    }
   ],
   "source": [
    "'p' in 'python'\n",
    "\n",
    "'y' in 'python'\n",
    "\n",
    "'t' in 'python'\n",
    "\n",
    "'h' in 'python'\n",
    "\n",
    "'o' in 'python'\n",
    "\n",
    "'n' in 'python'\n",
    "\n",
    "i in 'python'"
   ]
  },
  {
   "cell_type": "code",
   "execution_count": 10,
   "id": "c4110cf0-8b06-48b2-b8ce-d494046f57eb",
   "metadata": {},
   "outputs": [
    {
     "data": {
      "text/plain": [
       "True"
      ]
     },
     "execution_count": 10,
     "metadata": {},
     "output_type": "execute_result"
    }
   ],
   "source": [
    "'A'=='a'  # F  sense\n",
    "'A'>'a'   # T  make double sense\n",
    "'A'<'a'   # F"
   ]
  },
  {
   "cell_type": "markdown",
   "id": "bf9af331-7346-4c0e-8b7d-bab349644db3",
   "metadata": {},
   "source": [
    "**ASCII**\n",
    "\n",
    "- AMERICAN STANDARD CODE FOR INFORMATION INTERCHANGE"
   ]
  },
  {
   "cell_type": "code",
   "execution_count": 15,
   "id": "eaf635f4-de2c-4229-a87f-516006c274de",
   "metadata": {},
   "outputs": [
    {
     "data": {
      "text/plain": [
       "False"
      ]
     },
     "execution_count": 15,
     "metadata": {},
     "output_type": "execute_result"
    }
   ],
   "source": [
    "#'A' ==== 65\n",
    "#'a' ==== 97\n",
    "\n",
    "'A'>'a'   # 65>97 "
   ]
  },
  {
   "cell_type": "markdown",
   "id": "144e995a-314c-45ec-abb0-afa839187ca0",
   "metadata": {},
   "source": [
    "- How to convert char to number\n",
    "\n",
    "- How to convert number to char"
   ]
  },
  {
   "cell_type": "markdown",
   "id": "565c97a0-e93e-4090-96b6-2f530e2e7b59",
   "metadata": {},
   "source": [
    "**char-ord**"
   ]
  },
  {
   "cell_type": "code",
   "execution_count": 21,
   "id": "5d11c861-f76a-42b0-a54f-5a396741830b",
   "metadata": {},
   "outputs": [
    {
     "data": {
      "text/plain": [
       "65"
      ]
     },
     "execution_count": 21,
     "metadata": {},
     "output_type": "execute_result"
    }
   ],
   "source": [
    "ord('A')"
   ]
  },
  {
   "cell_type": "code",
   "execution_count": 23,
   "id": "fa28c58f-c3da-458b-b8c6-d37e78dfb23f",
   "metadata": {},
   "outputs": [
    {
     "data": {
      "text/plain": [
       "'A'"
      ]
     },
     "execution_count": 23,
     "metadata": {},
     "output_type": "execute_result"
    }
   ],
   "source": [
    "chr(65)"
   ]
  },
  {
   "cell_type": "markdown",
   "id": "2e8f3899-5b29-4cab-b824-330f5ffdfe07",
   "metadata": {},
   "source": [
    "- so **ord** converting char to number\n",
    "\n",
    "- **chr** converting number to char"
   ]
  },
  {
   "cell_type": "code",
   "execution_count": 26,
   "id": "7b8e266f-05b8-49b2-8766-72812365fb7e",
   "metadata": {},
   "outputs": [
    {
     "data": {
      "text/plain": [
       "110"
      ]
     },
     "execution_count": 26,
     "metadata": {},
     "output_type": "execute_result"
    }
   ],
   "source": [
    "# wap ask the user get the ASCII number A to Z\n",
    "# print: A:65\n",
    "#        B:66\n",
    "ord('A')\n",
    "ord('B')\n",
    "\n",
    "ord(i)\n",
    "\n",
    "# i will pass the letter you tell me number\n",
    "# you are doing i will pass the number and give letter to you"
   ]
  },
  {
   "cell_type": "code",
   "execution_count": 28,
   "id": "894fc44e-6a46-4ffb-ba12-5efd1bb10ad4",
   "metadata": {},
   "outputs": [
    {
     "name": "stdout",
     "output_type": "stream",
     "text": [
      "65:A\n",
      "66:B\n",
      "67:C\n",
      "68:D\n",
      "69:E\n",
      "70:F\n",
      "71:G\n",
      "72:H\n",
      "73:I\n",
      "74:J\n",
      "75:K\n",
      "76:L\n",
      "77:M\n",
      "78:N\n",
      "79:O\n",
      "80:P\n",
      "81:Q\n",
      "82:R\n",
      "83:S\n",
      "84:T\n",
      "85:U\n",
      "86:V\n",
      "87:W\n",
      "88:X\n",
      "89:Y\n",
      "90:Z\n",
      "91:[\n",
      "92:\\\n",
      "93:]\n",
      "94:^\n",
      "95:_\n",
      "96:`\n"
     ]
    }
   ],
   "source": [
    "for i in range(65,97):\n",
    "    print(f'{i}:{chr(i)}')"
   ]
  },
  {
   "cell_type": "code",
   "execution_count": 30,
   "id": "10eba580-634c-4d45-992f-e20a1cefd67e",
   "metadata": {},
   "outputs": [
    {
     "name": "stdout",
     "output_type": "stream",
     "text": [
      "A:65\n",
      "B:66\n",
      "C:67\n",
      "D:68\n",
      "E:69\n",
      "F:70\n",
      "G:71\n",
      "H:72\n",
      "I:73\n",
      "J:74\n",
      "K:75\n",
      "L:76\n",
      "M:77\n",
      "N:78\n",
      "O:79\n",
      "P:80\n",
      "Q:81\n",
      "R:82\n",
      "S:83\n",
      "T:84\n",
      "U:85\n",
      "V:86\n",
      "W:87\n",
      "X:88\n",
      "Y:89\n",
      "Z:90\n"
     ]
    }
   ],
   "source": [
    "for i in 'ABCDEFGHIJKLMNOPQRSTUVWXYZ':\n",
    "    print(f'{i}:{ord(i)}')"
   ]
  },
  {
   "cell_type": "markdown",
   "id": "3342fbcb-c8e7-4330-b7e3-64559056fd10",
   "metadata": {},
   "source": [
    "**package: string**"
   ]
  },
  {
   "cell_type": "code",
   "execution_count": 33,
   "id": "ced4f46e-511b-4b4c-b7a3-cc6cdfcbf102",
   "metadata": {},
   "outputs": [
    {
     "ename": "SyntaxError",
     "evalue": "invalid syntax (3350155305.py, line 1)",
     "output_type": "error",
     "traceback": [
      "\u001b[1;36m  Cell \u001b[1;32mIn[33], line 1\u001b[1;36m\u001b[0m\n\u001b[1;33m    import <packagename>\u001b[0m\n\u001b[1;37m           ^\u001b[0m\n\u001b[1;31mSyntaxError\u001b[0m\u001b[1;31m:\u001b[0m invalid syntax\n"
     ]
    }
   ],
   "source": [
    "import <packagename>\n",
    "dir(<packagename>)\n",
    "in that A TO Z will be given by one method tell me that"
   ]
  },
  {
   "cell_type": "code",
   "execution_count": 35,
   "id": "c3ab5558-d685-40e2-9d13-478bd4d07598",
   "metadata": {},
   "outputs": [
    {
     "data": {
      "text/plain": [
       "['Formatter',\n",
       " 'Template',\n",
       " '_ChainMap',\n",
       " '__all__',\n",
       " '__builtins__',\n",
       " '__cached__',\n",
       " '__doc__',\n",
       " '__file__',\n",
       " '__loader__',\n",
       " '__name__',\n",
       " '__package__',\n",
       " '__spec__',\n",
       " '_re',\n",
       " '_sentinel_dict',\n",
       " '_string',\n",
       " 'ascii_letters',\n",
       " 'ascii_lowercase',\n",
       " 'ascii_uppercase',\n",
       " 'capwords',\n",
       " 'digits',\n",
       " 'hexdigits',\n",
       " 'octdigits',\n",
       " 'printable',\n",
       " 'punctuation',\n",
       " 'whitespace']"
      ]
     },
     "execution_count": 35,
     "metadata": {},
     "output_type": "execute_result"
    }
   ],
   "source": [
    "import string\n",
    "dir(string)"
   ]
  },
  {
   "cell_type": "code",
   "execution_count": 37,
   "id": "d3a493cf-994b-4a10-8d5f-ec32f098e318",
   "metadata": {},
   "outputs": [
    {
     "data": {
      "text/plain": [
       "'abcdefghijklmnopqrstuvwxyzABCDEFGHIJKLMNOPQRSTUVWXYZ'"
      ]
     },
     "execution_count": 37,
     "metadata": {},
     "output_type": "execute_result"
    }
   ],
   "source": [
    "string.ascii_letters"
   ]
  },
  {
   "cell_type": "code",
   "execution_count": 39,
   "id": "499de990-5f38-43bc-87a3-4e1cb42face7",
   "metadata": {},
   "outputs": [
    {
     "data": {
      "text/plain": [
       "'abcdefghijklmnopqrstuvwxyz'"
      ]
     },
     "execution_count": 39,
     "metadata": {},
     "output_type": "execute_result"
    }
   ],
   "source": [
    "string.ascii_lowercase"
   ]
  },
  {
   "cell_type": "code",
   "execution_count": 41,
   "id": "3507f824-34a5-425d-aa39-dd71e5f09c7b",
   "metadata": {},
   "outputs": [
    {
     "data": {
      "text/plain": [
       "'ABCDEFGHIJKLMNOPQRSTUVWXYZ'"
      ]
     },
     "execution_count": 41,
     "metadata": {},
     "output_type": "execute_result"
    }
   ],
   "source": [
    "string.ascii_uppercase"
   ]
  },
  {
   "cell_type": "code",
   "execution_count": 43,
   "id": "62626582-7470-4598-81d9-498903d2f456",
   "metadata": {},
   "outputs": [
    {
     "data": {
      "text/plain": [
       "'!\"#$%&\\'()*+,-./:;<=>?@[\\\\]^_`{|}~'"
      ]
     },
     "execution_count": 43,
     "metadata": {},
     "output_type": "execute_result"
    }
   ],
   "source": [
    "string.punctuation"
   ]
  },
  {
   "cell_type": "code",
   "execution_count": 45,
   "id": "853c5dab-0eb1-4b1d-adf1-383548ea60d9",
   "metadata": {},
   "outputs": [
    {
     "data": {
      "text/plain": [
       "'0123456789'"
      ]
     },
     "execution_count": 45,
     "metadata": {},
     "output_type": "execute_result"
    }
   ],
   "source": [
    "string.digits"
   ]
  },
  {
   "cell_type": "code",
   "execution_count": 47,
   "id": "7bf3805e-6f08-46dc-89ec-71f5445dff3b",
   "metadata": {},
   "outputs": [
    {
     "name": "stdout",
     "output_type": "stream",
     "text": [
      "A:65 B:66 C:67 D:68 E:69 F:70 G:71 H:72 I:73 J:74 K:75 L:76 M:77 N:78 O:79 P:80 Q:81 R:82 S:83 T:84 U:85 V:86 W:87 X:88 Y:89 Z:90 "
     ]
    }
   ],
   "source": [
    "for i in string.ascii_uppercase:\n",
    "    print(f'{i}:{ord(i)}',end=' ')"
   ]
  },
  {
   "cell_type": "code",
   "execution_count": 49,
   "id": "56151b76-7b7f-4d0b-86e5-fcc373ce4e0e",
   "metadata": {},
   "outputs": [
    {
     "name": "stdout",
     "output_type": "stream",
     "text": [
      "a:97 b:98 c:99 d:100 e:101 f:102 g:103 h:104 i:105 j:106 k:107 l:108 m:109 n:110 o:111 p:112 q:113 r:114 s:115 t:116 u:117 v:118 w:119 x:120 y:121 z:122 "
     ]
    }
   ],
   "source": [
    "for i in string.ascii_lowercase:\n",
    "    print(f'{i}:{ord(i)}',end=' ')"
   ]
  },
  {
   "cell_type": "code",
   "execution_count": 51,
   "id": "14f545e8-a4f2-4961-a4d0-69f76553c7e6",
   "metadata": {},
   "outputs": [
    {
     "name": "stdout",
     "output_type": "stream",
     "text": [
      "!:33 \":34 #:35 $:36 %:37 &:38 ':39 (:40 ):41 *:42 +:43 ,:44 -:45 .:46 /:47 ::58 ;:59 <:60 =:61 >:62 ?:63 @:64 [:91 \\:92 ]:93 ^:94 _:95 `:96 {:123 |:124 }:125 ~:126 "
     ]
    }
   ],
   "source": [
    "for i in string.punctuation:\n",
    "    print(f'{i}:{ord(i)}',end=' ')"
   ]
  },
  {
   "cell_type": "code",
   "execution_count": 53,
   "id": "d6cda4c0-314f-4408-aa5a-d212ed06abad",
   "metadata": {},
   "outputs": [
    {
     "data": {
      "text/plain": [
       "range(33, 127)"
      ]
     },
     "execution_count": 53,
     "metadata": {},
     "output_type": "execute_result"
    }
   ],
   "source": [
    "range(33,127)"
   ]
  },
  {
   "cell_type": "code",
   "execution_count": 55,
   "id": "e7cd6d45-9269-4a51-8193-711f9336b183",
   "metadata": {},
   "outputs": [
    {
     "name": "stdout",
     "output_type": "stream",
     "text": [
      "33:! 34:\" 35:# 36:$ 37:% 38:& 39:' 40:( 41:) 42:* 43:+ 44:, 45:- 46:. 47:/ 48:0 49:1 50:2 51:3 52:4 53:5 54:6 55:7 56:8 57:9 58:: 59:; 60:< 61:= 62:> 63:? 64:@ 65:A 66:B 67:C 68:D 69:E 70:F 71:G 72:H 73:I 74:J 75:K 76:L 77:M 78:N 79:O 80:P 81:Q 82:R 83:S 84:T 85:U 86:V 87:W 88:X 89:Y 90:Z 91:[ 92:\\ 93:] 94:^ 95:_ 96:` 97:a 98:b 99:c 100:d 101:e 102:f 103:g 104:h 105:i 106:j 107:k 108:l 109:m 110:n 111:o 112:p 113:q 114:r 115:s 116:t 117:u 118:v 119:w 120:x 121:y 122:z 123:{ 124:| 125:} 126:~ "
     ]
    }
   ],
   "source": [
    "for i in range(33,127):\n",
    "    print(f'{i}:{chr(i)}',end=' ')"
   ]
  },
  {
   "cell_type": "code",
   "execution_count": 57,
   "id": "80219a2c-8ca7-4ebb-8579-cae1971bb821",
   "metadata": {},
   "outputs": [
    {
     "name": "stdout",
     "output_type": "stream",
     "text": [
      "1:\u0001 2:\u0002 3:\u0003 4:\u0004 5:\u0005 6:\u0006 7:\u0007 8 9:\t 10:\n",
      " 14:\u000e 15:\u000f 16:\u0010 17:\u0011 18:\u0012 19:\u0013 20:\u0014 21:\u0015 22:\u0016 23:\u0017 24:\u0018 25:\u0019 26:\u001a 27:\u001b 28:\u001c",
      " 29:\u001d",
      " 30:\u001e",
      " 31:\u001f 32:  33:! "
     ]
    }
   ],
   "source": [
    "for i in range(1,34):\n",
    "    print(f'{i}:{chr(i)}',end=' ')"
   ]
  },
  {
   "cell_type": "code",
   "execution_count": 59,
   "id": "b4c573d3-4d72-4e4e-ac13-9b99de16e74d",
   "metadata": {},
   "outputs": [
    {
     "name": "stdout",
     "output_type": "stream",
     "text": [
      "127: 128: 129: 130: 131: 132: 133:",
      " 134: 135: 136: 137: 138: 139: 140: 141: 142: 143: 144: 145: 146: 147: 148: 149: 150: 151: 152: 153: 154: 155: 156: 157: 158: 159: 160:  161:¡ 162:¢ 163:£ 164:¤ 165:¥ 166:¦ 167:§ 168:¨ 169:© 170:ª 171:« 172:¬ 173:­ 174:® 175:¯ 176:° 177:± 178:² 179:³ 180:´ 181:µ 182:¶ 183:· 184:¸ 185:¹ 186:º 187:» 188:¼ 189:½ 190:¾ 191:¿ 192:À 193:Á 194:Â 195:Ã 196:Ä 197:Å 198:Æ 199:Ç 200:È 201:É 202:Ê 203:Ë 204:Ì 205:Í 206:Î 207:Ï 208:Ð 209:Ñ 210:Ò 211:Ó 212:Ô 213:Õ 214:Ö 215:× 216:Ø 217:Ù 218:Ú 219:Û 220:Ü 221:Ý 222:Þ 223:ß 224:à 225:á 226:â 227:ã 228:ä 229:å 230:æ 231:ç 232:è 233:é 234:ê 235:ë 236:ì 237:í 238:î 239:ï 240:ð 241:ñ 242:ò 243:ó 244:ô 245:õ 246:ö 247:÷ 248:ø 249:ù "
     ]
    }
   ],
   "source": [
    "for i in range(127,250):\n",
    "    print(f'{i}:{chr(i)}',end=' ')"
   ]
  },
  {
   "cell_type": "code",
   "execution_count": 61,
   "id": "0d676a10-494a-49c9-8e80-26cc86bcc783",
   "metadata": {},
   "outputs": [
    {
     "name": "stdout",
     "output_type": "stream",
     "text": [
      "1632:٠ 1633:١ 1634:٢ 1635:٣ 1636:٤ 1637:٥ 1638:٦ 1639:٧ 1640:٨ 1641:٩ 1642:٪ 1643:٫ 1644:٬ 1645:٭ 1646:ٮ 1647:ٯ 1648:ٰ 1649:ٱ 1650:ٲ 1651:ٳ 1652:ٴ 1653:ٵ 1654:ٶ 1655:ٷ 1656:ٸ 1657:ٹ 1658:ٺ 1659:ٻ 1660:ټ 1661:ٽ 1662:پ 1663:ٿ 1664:ڀ 1665:ځ 1666:ڂ 1667:ڃ 1668:ڄ 1669:څ 1670:چ 1671:ڇ 1672:ڈ 1673:ډ 1674:ڊ 1675:ڋ 1676:ڌ 1677:ڍ 1678:ڎ 1679:ڏ 1680:ڐ 1681:ڑ 1682:ڒ 1683:ړ 1684:ڔ 1685:ڕ 1686:ږ 1687:ڗ 1688:ژ 1689:ڙ 1690:ښ 1691:ڛ 1692:ڜ 1693:ڝ 1694:ڞ 1695:ڟ 1696:ڠ 1697:ڡ 1698:ڢ 1699:ڣ "
     ]
    }
   ],
   "source": [
    "for i in range(1632,1700):\n",
    "    print(f'{i}:{chr(i)}',end=' ')"
   ]
  },
  {
   "cell_type": "code",
   "execution_count": 63,
   "id": "8c6d6191-eb5b-4671-a843-083f14c4c17d",
   "metadata": {},
   "outputs": [
    {
     "name": "stdout",
     "output_type": "stream",
     "text": [
      "2308:ऄ 2309:अ 2310:आ 2311:इ 2312:ई 2313:उ 2314:ऊ 2315:ऋ 2316:ऌ 2317:ऍ 2318:ऎ 2319:ए 2320:ऐ 2321:ऑ 2322:ऒ 2323:ओ 2324:औ 2325:क 2326:ख 2327:ग 2328:घ 2329:ङ 2330:च 2331:छ 2332:ज 2333:झ 2334:ञ 2335:ट 2336:ठ 2337:ड 2338:ढ 2339:ण 2340:त 2341:थ 2342:द 2343:ध 2344:न 2345:ऩ 2346:प 2347:फ 2348:ब 2349:भ 2350:म 2351:य 2352:र 2353:ऱ 2354:ल 2355:ळ 2356:ऴ 2357:व 2358:श 2359:ष 2360:स 2361:ह 2362:ऺ 2363:ऻ 2364:़ 2365:ऽ 2366:ा 2367:ि 2368:ी 2369:ु 2370:ू 2371:ृ 2372:ॄ 2373:ॅ 2374:ॆ 2375:े 2376:ै 2377:ॉ 2378:ॊ 2379:ो 2380:ौ 2381:् 2382:ॎ 2383:ॏ 2384:ॐ 2385:॑ 2386:॒ 2387:॓ 2388:॔ 2389:ॕ 2390:ॖ 2391:ॗ 2392:क़ 2393:ख़ 2394:ग़ 2395:ज़ 2396:ड़ 2397:ढ़ 2398:फ़ 2399:य़ "
     ]
    }
   ],
   "source": [
    "for i in range(2308,2400):\n",
    "    print(f'{i}:{chr(i)}',end=' ')"
   ]
  },
  {
   "cell_type": "code",
   "execution_count": 65,
   "id": "003366c9-0641-4a04-9010-2e17166fca17",
   "metadata": {},
   "outputs": [
    {
     "name": "stdout",
     "output_type": "stream",
     "text": [
      "2693:અ 2694:આ 2695:ઇ 2696:ઈ 2697:ઉ 2698:ઊ 2699:ઋ 2700:ઌ 2701:ઍ 2702:઎ 2703:એ 2704:ઐ 2705:ઑ 2706:઒ 2707:ઓ 2708:ઔ 2709:ક 2710:ખ 2711:ગ 2712:ઘ 2713:ઙ 2714:ચ 2715:છ 2716:જ 2717:ઝ 2718:ઞ 2719:ટ 2720:ઠ 2721:ડ 2722:ઢ 2723:ણ 2724:ત 2725:થ 2726:દ 2727:ધ 2728:ન 2729:઩ 2730:પ 2731:ફ 2732:બ 2733:ભ 2734:મ 2735:ય 2736:ર 2737:઱ 2738:લ 2739:ળ 2740:઴ 2741:વ 2742:શ 2743:ષ 2744:સ 2745:હ 2746:઺ 2747:઻ 2748:઼ 2749:ઽ "
     ]
    }
   ],
   "source": [
    "for i in range(2693,2750):\n",
    "    print(f'{i}:{chr(i)}',end=' ')"
   ]
  },
  {
   "cell_type": "code",
   "execution_count": 67,
   "id": "64dafdc1-915a-4cb6-b4ca-f7d15c1565f8",
   "metadata": {},
   "outputs": [
    {
     "name": "stdout",
     "output_type": "stream",
     "text": [
      "3077:అ 3078:ఆ 3079:ఇ 3080:ఈ 3081:ఉ 3082:ఊ 3083:ఋ 3084:ఌ 3085:఍ 3086:ఎ 3087:ఏ 3088:ఐ 3089:఑ 3090:ఒ 3091:ఓ 3092:ఔ 3093:క 3094:ఖ 3095:గ 3096:ఘ 3097:ఙ 3098:చ 3099:ఛ 3100:జ 3101:ఝ 3102:ఞ 3103:ట 3104:ఠ 3105:డ 3106:ఢ 3107:ణ 3108:త 3109:థ 3110:ద 3111:ధ 3112:న 3113:఩ 3114:ప 3115:ఫ 3116:బ 3117:భ 3118:మ 3119:య 3120:ర 3121:ఱ 3122:ల 3123:ళ 3124:ఴ 3125:వ 3126:శ 3127:ష 3128:స 3129:హ 3130:఺ 3131:఻ 3132:఼ 3133:ఽ 3134:ా 3135:ి 3136:ీ 3137:ు 3138:ూ 3139:ృ 3140:ౄ 3141:౅ 3142:ె 3143:ే 3144:ై 3145:౉ 3146:ొ 3147:ో 3148:ౌ 3149:్ "
     ]
    }
   ],
   "source": [
    "for i in range(3077,3150):\n",
    "    print(f'{i}:{chr(i)}',end=' ')"
   ]
  },
  {
   "cell_type": "code",
   "execution_count": null,
   "id": "ee3fc8bb-1df0-4c6d-82c5-a47b1f1667e2",
   "metadata": {},
   "outputs": [],
   "source": []
  }
 ],
 "metadata": {
  "kernelspec": {
   "display_name": "Python [conda env:base] *",
   "language": "python",
   "name": "conda-base-py"
  },
  "language_info": {
   "codemirror_mode": {
    "name": "ipython",
    "version": 3
   },
   "file_extension": ".py",
   "mimetype": "text/x-python",
   "name": "python",
   "nbconvert_exporter": "python",
   "pygments_lexer": "ipython3",
   "version": "3.12.7"
  }
 },
 "nbformat": 4,
 "nbformat_minor": 5
}
