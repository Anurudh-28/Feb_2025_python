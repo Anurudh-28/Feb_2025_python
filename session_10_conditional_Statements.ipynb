{
 "cells": [
  {
   "cell_type": "markdown",
   "id": "e1d08d60-7332-4aa1-86fa-ae953c087314",
   "metadata": {},
   "source": [
    "## conditional statements\n",
    "\n",
    "- conditional statements are used to execute the code based on the conditions \n",
    "\n",
    "- assume a statement\n",
    "    \n",
    " - if rain comes i will stay hostel\n",
    "\n",
    " - if rain comes i will stay hostel otherwise i will play cricket\n",
    "\n",
    " - if rain comes i will stay hostel otherwise i will go  to ground if omkar sir call i will go to naresh it\n",
    "\n",
    "-  if rain comes i will stay hostel else i will play cricket\n",
    "\n",
    "- **if**\n",
    "\n",
    "- **if-else**\n",
    "\n",
    "- **if-elif-else**\n",
    "\n"
   ]
  },
  {
   "cell_type": "markdown",
   "id": "b6c8433e-28e1-43ec-86c4-368b3332c019",
   "metadata": {},
   "source": [
    "**syntax**"
   ]
  },
  {
   "cell_type": "code",
   "execution_count": null,
   "id": "98f629e4-a5ba-469e-97d2-53282ca23d78",
   "metadata": {},
   "outputs": [],
   "source": [
    "if <condition>:\n",
    "    # write u r code here\n",
    "\n",
    "# whenever the condition is true \n",
    "# then python will go inside the if area then lines will be execute"
   ]
  },
  {
   "cell_type": "markdown",
   "id": "00f33fd2-832e-4957-aa54-ea9c72b2aa47",
   "metadata": {},
   "source": [
    "**case 1:if**"
   ]
  },
  {
   "cell_type": "code",
   "execution_count": 10,
   "id": "2b5470dd-8876-4572-9c67-11fb9c10ea6f",
   "metadata": {},
   "outputs": [
    {
     "name": "stdout",
     "output_type": "stream",
     "text": [
      "False\n",
      "True\n",
      "False\n",
      "False\n",
      "True\n",
      "True\n"
     ]
    }
   ],
   "source": [
    "num=10\n",
    "print(num==100)\n",
    "print(num==10)\n",
    "print(num<10)\n",
    "print(num>10)\n",
    "print(num<=10)\n",
    "print(num>=10)"
   ]
  },
  {
   "cell_type": "code",
   "execution_count": 12,
   "id": "1f08cd2a-35cd-459e-83ff-bf0afe0da8bc",
   "metadata": {},
   "outputs": [
    {
     "name": "stdout",
     "output_type": "stream",
     "text": [
      "hello\n"
     ]
    }
   ],
   "source": [
    "if 100>10:\n",
    "    print('hello')\n",
    "# if we did not give indentation space it gives error\n"
   ]
  },
  {
   "cell_type": "markdown",
   "id": "0967000a-aa73-49e4-af4e-d478c367d173",
   "metadata": {},
   "source": [
    "**mistake- 1**\n",
    "\n",
    " **identation error**\n",
    "\n",
    "- whenever a line starts with keyword at last : will be there\n",
    "\n",
    "- whenever : there then we have indentation"
   ]
  },
  {
   "cell_type": "code",
   "execution_count": 21,
   "id": "cbd2622f-4003-4e9d-ab79-7b8d32cfca46",
   "metadata": {},
   "outputs": [
    {
     "name": "stdout",
     "output_type": "stream",
     "text": [
      "hi\n"
     ]
    }
   ],
   "source": [
    "if 100>10:\n",
    "    print('hi')\n",
    "# use tab or go back and enter\n"
   ]
  },
  {
   "cell_type": "markdown",
   "id": "32362e2b-2e22-478f-b411-8cd832973ae8",
   "metadata": {},
   "source": [
    "**mistake-2**"
   ]
  },
  {
   "cell_type": "code",
   "execution_count": 25,
   "id": "59361d1e-2c16-4d62-8fb4-00eb298183cc",
   "metadata": {},
   "outputs": [
    {
     "ename": "SyntaxError",
     "evalue": "expected ':' (2246882726.py, line 1)",
     "output_type": "error",
     "traceback": [
      "\u001b[1;36m  Cell \u001b[1;32mIn[25], line 1\u001b[1;36m\u001b[0m\n\u001b[1;33m    if 100>10             #give colon\u001b[0m\n\u001b[1;37m                          ^\u001b[0m\n\u001b[1;31mSyntaxError\u001b[0m\u001b[1;31m:\u001b[0m expected ':'\n"
     ]
    }
   ],
   "source": [
    "if 100>10             #give colon\n",
    "    print('hi')"
   ]
  },
  {
   "cell_type": "code",
   "execution_count": 29,
   "id": "622df7ce-a4e5-492b-acbf-097e76733cf8",
   "metadata": {},
   "outputs": [],
   "source": [
    "if 100<10:\n",
    "    print('hi') #false \n",
    "# no error no answer"
   ]
  },
  {
   "cell_type": "code",
   "execution_count": 31,
   "id": "5025fa66-553f-481e-aad8-53b13d2a7a2b",
   "metadata": {},
   "outputs": [
    {
     "name": "stdout",
     "output_type": "stream",
     "text": [
      "hello\n"
     ]
    }
   ],
   "source": [
    "if True:\n",
    "    print('hello')"
   ]
  },
  {
   "cell_type": "code",
   "execution_count": 33,
   "id": "111048c1-9e15-43fd-b160-9dbb9a7ae477",
   "metadata": {},
   "outputs": [],
   "source": [
    "if False:\n",
    "    print('hello')"
   ]
  },
  {
   "cell_type": "code",
   "execution_count": 35,
   "id": "4b7bc013-269a-419f-83db-a3b0d0185880",
   "metadata": {},
   "outputs": [
    {
     "name": "stdout",
     "output_type": "stream",
     "text": [
      "hello\n"
     ]
    }
   ],
   "source": [
    "if bool:\n",
    "    print('hello')"
   ]
  },
  {
   "cell_type": "code",
   "execution_count": 37,
   "id": "29739b40-0163-4a1e-8bd2-08cf7334e6a4",
   "metadata": {},
   "outputs": [
    {
     "data": {
      "text/plain": [
       "True"
      ]
     },
     "execution_count": 37,
     "metadata": {},
     "output_type": "execute_result"
    }
   ],
   "source": [
    "bool(100)\n"
   ]
  },
  {
   "cell_type": "code",
   "execution_count": 4,
   "id": "2f8e31b8-31ec-47ba-956d-f58e5f13fd7a",
   "metadata": {},
   "outputs": [
    {
     "name": "stdout",
     "output_type": "stream",
     "text": [
      "jhj\n"
     ]
    }
   ],
   "source": [
    "if bool(100):\n",
    "    print('jhj')\n",
    "    "
   ]
  },
  {
   "cell_type": "code",
   "execution_count": 51,
   "id": "d0ebf4a4-739d-43e0-ba6f-9b16a74420fd",
   "metadata": {},
   "outputs": [
    {
     "name": "stdout",
     "output_type": "stream",
     "text": [
      "hi\n",
      "im with gap condn\n",
      "im without gap condn\n"
     ]
    }
   ],
   "source": [
    "if 100>10:\n",
    "    print('hi')\n",
    "    print('im with gap condn')\n",
    "\n",
    "########\n",
    "print('im without gap condn')"
   ]
  },
  {
   "cell_type": "code",
   "execution_count": 53,
   "id": "168eb8f1-dc0c-4443-ac38-71506f9086c3",
   "metadata": {},
   "outputs": [
    {
     "name": "stdout",
     "output_type": "stream",
     "text": [
      "im without gap condn\n"
     ]
    }
   ],
   "source": [
    "if 100<10:\n",
    "    print('hi')\n",
    "    print('im with gap condn')\n",
    "\n",
    "########\n",
    "print('im without gap condn')"
   ]
  },
  {
   "cell_type": "code",
   "execution_count": 55,
   "id": "8f2c03e5-37bc-41fb-84a1-2302c3c50b8d",
   "metadata": {},
   "outputs": [
    {
     "name": "stdout",
     "output_type": "stream",
     "text": [
      "1\n",
      "2\n",
      "im without gap condn\n"
     ]
    }
   ],
   "source": [
    "print(1)\n",
    "print(2)\n",
    "##################\n",
    "if 100<10:\n",
    "    print('hi')\n",
    "    print('im with gap condn')\n",
    "\n",
    "########\n",
    "print('im without gap condn')"
   ]
  },
  {
   "cell_type": "code",
   "execution_count": 16,
   "id": "222f3c47-d838-492f-9fff-e80b43d9872e",
   "metadata": {},
   "outputs": [
    {
     "name": "stdout",
     "output_type": "stream",
     "text": [
      "hi\n",
      "im with gap condn\n",
      "1\n",
      "2\n",
      "im without gap condn\n"
     ]
    }
   ],
   "source": [
    "if 100>10:\n",
    "    print('hi')\n",
    "print('im with gap condn')\n",
    "#####################\n",
    "print(1)\n",
    "print(2)\n",
    "##################\n",
    "if 100<10:\n",
    "    print('hi')\n",
    "    print('im with gap condn')\n",
    "\n",
    "########\n",
    "print('im without gap condn')"
   ]
  },
  {
   "cell_type": "code",
   "execution_count": null,
   "id": "4846bf10-84cb-4aaf-ab45-27a11b0680f4",
   "metadata": {},
   "outputs": [],
   "source": [
    "if<con>:\n",
    "    <write our code here>"
   ]
  },
  {
   "cell_type": "markdown",
   "id": "8570ce0f-9614-4b80-a5da-512a4acc2135",
   "metadata": {},
   "source": [
    "**case-2: if-else**\n",
    "\n",
    " - if condition is true then if statements will execute\n",
    "\n",
    " - if condition is false then else statements will execute\n",
    "\n",
    " - one condtion two outputs\n",
    "\n",
    " - if needs condtion but not else\n"
   ]
  },
  {
   "cell_type": "code",
   "execution_count": null,
   "id": "19a90979-9a05-4704-a3bd-642e43b05cc6",
   "metadata": {},
   "outputs": [],
   "source": [
    "#syntax\n",
    "if <condition>:\n",
    "    <write our code here>\n",
    "else:\n",
    "    <write our code here>"
   ]
  },
  {
   "cell_type": "code",
   "execution_count": 2,
   "id": "98444796-953c-4b88-b69d-65a952e3114d",
   "metadata": {},
   "outputs": [
    {
     "name": "stdout",
     "output_type": "stream",
     "text": [
      "hello\n"
     ]
    }
   ],
   "source": [
    "print('hello')\n"
   ]
  },
  {
   "cell_type": "code",
   "execution_count": 8,
   "id": "56be38d6-19b3-4e84-b887-4d3091b3d70c",
   "metadata": {},
   "outputs": [
    {
     "name": "stdout",
     "output_type": "stream",
     "text": [
      "hello\n"
     ]
    }
   ],
   "source": [
    "friend='yes'\n",
    "if friend=='yes':  #if 'yes'=='yes'\n",
    "    print('hello')"
   ]
  },
  {
   "cell_type": "code",
   "execution_count": 10,
   "id": "21ea8c29-533d-4e62-b109-1a7a120d6e76",
   "metadata": {},
   "outputs": [
    {
     "name": "stdout",
     "output_type": "stream",
     "text": [
      "39\n"
     ]
    }
   ],
   "source": [
    "a=10\n",
    "b=29\n",
    "c=a+b\n",
    "print(c)"
   ]
  },
  {
   "cell_type": "code",
   "execution_count": 14,
   "id": "7b06803d-fe3b-4c9f-b2f0-4c6b01a19177",
   "metadata": {},
   "outputs": [
    {
     "name": "stdout",
     "output_type": "stream",
     "text": [
      "39\n"
     ]
    }
   ],
   "source": [
    "if 20>1:\n",
    "    a=10\n",
    "b=29\n",
    "c=a+b\n",
    "print(c)"
   ]
  },
  {
   "cell_type": "code",
   "execution_count": 18,
   "id": "bd58fe7b-7a80-4f48-b637-513224b8ec0e",
   "metadata": {},
   "outputs": [
    {
     "name": "stdout",
     "output_type": "stream",
     "text": [
      "positive number\n"
     ]
    }
   ],
   "source": [
    "if 100>10:\n",
    "    print('positive number')\n",
    "else:\n",
    "    print('negative number')"
   ]
  },
  {
   "cell_type": "code",
   "execution_count": 20,
   "id": "51ffa2ac-f7f8-4f98-ae88-6b87605cbeba",
   "metadata": {},
   "outputs": [
    {
     "name": "stdout",
     "output_type": "stream",
     "text": [
      "positive number\n"
     ]
    }
   ],
   "source": [
    "n=100\n",
    "if 100>10:\n",
    "    print('positive number')\n",
    "else:\n",
    "    print('negative number')"
   ]
  },
  {
   "cell_type": "code",
   "execution_count": 22,
   "id": "88fb3a8e-ef63-4c30-ad0c-89275dcda441",
   "metadata": {},
   "outputs": [
    {
     "name": "stdin",
     "output_type": "stream",
     "text": [
      "enter the number 3\n"
     ]
    },
    {
     "name": "stdout",
     "output_type": "stream",
     "text": [
      "positive number\n"
     ]
    }
   ],
   "source": [
    "n=eval(input('enter the number'))\n",
    "if n>0:\n",
    "    print('positive number')\n",
    "else:\n",
    "    print('negative number')\n",
    "\n",
    "#n=-100\n",
    "#if -100>0 F\n",
    "# else negative"
   ]
  },
  {
   "cell_type": "code",
   "execution_count": 28,
   "id": "b3575d64-4af9-4a41-9f51-233a2aa021a9",
   "metadata": {},
   "outputs": [
    {
     "name": "stdout",
     "output_type": "stream",
     "text": [
      "34 is a positive number\n"
     ]
    }
   ],
   "source": [
    "from random import randint\n",
    "n=randint(-100,100)\n",
    "if n>0:\n",
    "    print(f'{n} is a positive number')\n",
    "else:\n",
    "    print(f'{n} is a negative number')\n",
    "\n",
    "\n"
   ]
  },
  {
   "cell_type": "code",
   "execution_count": 30,
   "id": "9d7dff4b-1009-47ef-94ef-21701f16b85d",
   "metadata": {},
   "outputs": [
    {
     "name": "stdout",
     "output_type": "stream",
     "text": [
      "positive number\n",
      "positive number\n"
     ]
    },
    {
     "name": "stdin",
     "output_type": "stream",
     "text": [
      "enter the number -2\n"
     ]
    },
    {
     "name": "stdout",
     "output_type": "stream",
     "text": [
      "negative number\n",
      "36 is a positive number\n"
     ]
    }
   ],
   "source": [
    "if 100>10:\n",
    "    print('positive number')\n",
    "else:\n",
    "    print('negative number')\n",
    "#############################################\n",
    "n=100\n",
    "if n>0:\n",
    "    print('positive number')\n",
    "else:\n",
    "    print('negative number')\n",
    "############################################\n",
    "n=eval(input('enter the number'))\n",
    "if n>0:\n",
    "    print('positive number')\n",
    "else:\n",
    "    print('negative number')\n",
    "###########################################\n",
    "from random import randint\n",
    "n=randint(-100,100)\n",
    "if n>0:\n",
    "    print(f'{n} is a positive number')\n",
    "else:\n",
    "    print(f'{n} is a negative number')\n",
    "\n"
   ]
  },
  {
   "cell_type": "code",
   "execution_count": 34,
   "id": "0245cb7d-0ef7-42ef-ad5a-59b63a6be6c8",
   "metadata": {},
   "outputs": [
    {
     "name": "stdout",
     "output_type": "stream",
     "text": [
      "hello\n",
      "positive number\n",
      "condition is False\n"
     ]
    }
   ],
   "source": [
    "print('hello')\n",
    "if 100>0:\n",
    "    print('positive number')\n",
    "    print('condition is False')\n",
    "else:\n",
    "    print('negative number')\n",
    "    print('condition is False')\n",
    "\n",
    "\n",
    "    "
   ]
  },
  {
   "cell_type": "code",
   "execution_count": 38,
   "id": "4b7fa2b3-09ac-47f1-ac56-9ed0dc3d7c98",
   "metadata": {},
   "outputs": [
    {
     "name": "stdout",
     "output_type": "stream",
     "text": [
      "hello\n",
      "negative number\n",
      "condition is False\n"
     ]
    }
   ],
   "source": [
    "print('hello')\n",
    "if 100<0:\n",
    "    print('positive number')\n",
    "    print('condition is False')\n",
    "else:\n",
    "    print('negative number')\n",
    "    print('condition is False')\n",
    "\n",
    "#hello\n",
    "#if 100<0 F stop\n",
    "#else\n",
    "# neg F"
   ]
  },
  {
   "cell_type": "code",
   "execution_count": 22,
   "id": "93cc012d-2669-404e-8bcc-0f6c108c7c57",
   "metadata": {},
   "outputs": [
    {
     "name": "stdout",
     "output_type": "stream",
     "text": [
      "hello\n",
      "negative number\n",
      "condition is False\n",
      "bye\n"
     ]
    }
   ],
   "source": [
    "print('hello')\n",
    "############################\n",
    "if 100<0:\n",
    "    print('positive number')\n",
    "    print('condition is False')\n",
    "else :\n",
    "    print('negative number')\n",
    "    print('condition is False')\n",
    "##################################\n",
    "print('bye')\n"
   ]
  },
  {
   "cell_type": "code",
   "execution_count": 16,
   "id": "330681c4-a055-4367-b981-50f917186dc3",
   "metadata": {},
   "outputs": [
    {
     "name": "stdout",
     "output_type": "stream",
     "text": [
      "hello\n",
      "this is positive\n",
      "this is middle\n",
      "bye\n"
     ]
    }
   ],
   "source": [
    "print('hello')\n",
    "if 100>0:\n",
    "    print('this is positive')\n",
    "    print('this is middle')\n",
    "\n",
    "else :\n",
    "    print('this is negative')\n",
    "print('bye')\n",
    "\n",
    "#if-else should come together"
   ]
  },
  {
   "cell_type": "code",
   "execution_count": 10,
   "id": "00d133d7-5099-4482-90d7-6d55c9219e2b",
   "metadata": {},
   "outputs": [
    {
     "name": "stdout",
     "output_type": "stream",
     "text": [
      "hello\n",
      "negative number\n",
      "condition is False\n"
     ]
    }
   ],
   "source": [
    "print('hello')\n",
    "if 100<0:\n",
    "    print('positive number')\n",
    "    print('condition is False')\n",
    "    print('why you are in middle')\n",
    "    \n",
    "else :\n",
    "    print('negative number')\n",
    "    print('condition is False')\n",
    "    #if-else should come together"
   ]
  },
  {
   "cell_type": "code",
   "execution_count": null,
   "id": "3e1bba99-7ee6-4309-953d-0051acebf87f",
   "metadata": {},
   "outputs": [],
   "source": [
    "#Q1) wap ask the user enter two numbers\n",
    "# find the greatest number\n",
    "# idea\n",
    "# n1= eval(input())\n",
    "# n2=eval(input())\n",
    "# if <cond>:\n",
    "# print()\n",
    "# else:\n",
    "# print() "
   ]
  },
  {
   "cell_type": "code",
   "execution_count": 50,
   "id": "35985295-edcf-4256-bfbc-a7e35f9b894e",
   "metadata": {},
   "outputs": [
    {
     "name": "stdin",
     "output_type": "stream",
     "text": [
      "enter n1: 2\n",
      "enter n2: 4\n"
     ]
    },
    {
     "name": "stdout",
     "output_type": "stream",
     "text": [
      "4 is a greater number\n"
     ]
    }
   ],
   "source": [
    "n1=eval(input('enter n1:'))\n",
    "n2=eval(input('enter n2:'))\n",
    "if n1>n2:\n",
    " print(f\"{n1} is a greater number\")\n",
    "else:\n",
    " print(f\"{n2} is a greater number\")"
   ]
  },
  {
   "cell_type": "code",
   "execution_count": null,
   "id": "66f08833-3cf6-482f-ace0-208018703f24",
   "metadata": {},
   "outputs": [],
   "source": [
    "Q2) wap ask the user enter distance\n",
    "# if distance greater than 25km \n",
    "# then ask the charge per km\n",
    "# then calculate total charge\n",
    "# otherwise print free ride\n",
    "# step-1: enter the distance\n",
    "# step-2: if distance>25\n",
    "# step-3: ask the charge per km\n",
    "# step-4: calculate the total charge\n",
    "# step-5: else\n",
    "# step-6: free ride\n"
   ]
  },
  {
   "cell_type": "code",
   "execution_count": 54,
   "id": "528353a0-242a-4f51-b142-f3e224c797fa",
   "metadata": {},
   "outputs": [
    {
     "name": "stdin",
     "output_type": "stream",
     "text": [
      "enter the distance in km: 26\n",
      "enter the charge per km: 10\n"
     ]
    },
    {
     "name": "stdout",
     "output_type": "stream",
     "text": [
      "The total charge is:260 INR\n"
     ]
    }
   ],
   "source": [
    "distance=eval(input('enter the distance in km:'))\n",
    "if distance>25:\n",
    " charge=eval(input('enter the charge per km:'))\n",
    " total_charge=distance*charge\n",
    " print(f\"The total charge is:{total_charge} INR\")\n",
    "else:\n",
    " print('free ride')"
   ]
  },
  {
   "cell_type": "code",
   "execution_count": null,
   "id": "d901e1ad-a978-40cb-bbb9-899b4e2bc916",
   "metadata": {},
   "outputs": [],
   "source": [
    "Q3) wap ask the user enter distance : 50km\n",
    "# enter the free_distance (assume that 25km)\n",
    "# if distance greater than free distance \n",
    " # then ask the charge per km: 10rs\n",
    " # distance_covered=distance-free_distance : 50-25=25km\n",
    " # then calculate total charge \n",
    "# otherwise print free ride\n",
    "# step-1: enter the distance\n",
    "# step-2: enter the free_distance\n",
    "# step-3: if distance>free_distance\n",
    "# step-4: ask the charge per km\n",
    "# step-5: actual_distance= distance-free_distance\n",
    "# step-5: calculate the total charge on actual distance\n",
    "# step-6: else\n",
    "# step-7: free ride"
   ]
  },
  {
   "cell_type": "code",
   "execution_count": 24,
   "id": "0e5540cd-0953-43ac-a047-5b16d1811aef",
   "metadata": {},
   "outputs": [
    {
     "name": "stdin",
     "output_type": "stream",
     "text": [
      "enter the distance in km: 2\n",
      "enter the govt free distance in km: 3\n"
     ]
    },
    {
     "name": "stdout",
     "output_type": "stream",
     "text": [
      "free ride\n"
     ]
    }
   ],
   "source": [
    "travel_distance=eval(input('enter the distance in km:'))\n",
    "free_distance=eval(input('enter the govt free distance in km:'))\n",
    "if travel_distance>free_distance:\n",
    " actual_distance=travel_distance-free_distance\n",
    " print(f\"the actual distance covered is {actual_distance}km\")\n",
    " charge=eval(input('enter the charge per km:'))\n",
    " total_charge=actual_distance*charge\n",
    " print(f\"The total charge is:{total_charge} INR\")\n",
    "else:\n",
    " print('free ride')\n"
   ]
  },
  {
   "cell_type": "code",
   "execution_count": 58,
   "id": "9b8082db-8042-4ef4-a85d-113d84b6f4c1",
   "metadata": {},
   "outputs": [
    {
     "name": "stdin",
     "output_type": "stream",
     "text": [
      "enter the distance in km: 8\n"
     ]
    },
    {
     "name": "stdout",
     "output_type": "stream",
     "text": [
      "free ride\n"
     ]
    }
   ],
   "source": [
    "distance=eval(input('enter the distance in km:'))\n",
    "if distance<25:\n",
    " print('free ride')\n",
    "else:\n",
    " charge=eval(input('enter the charge per km:'))\n",
    " total_charge=distance*charge\n",
    " print(f\"The total charge is:{total_charge} INR\")"
   ]
  },
  {
   "cell_type": "code",
   "execution_count": null,
   "id": "2f9d4343-4ce2-4b19-b488-e1c465be485d",
   "metadata": {},
   "outputs": [],
   "source": [
    "#Q4) \n",
    "# wap ask the user enter a number from keyboard n1\n",
    "# ask the user get a random number between 1,10 n2\n",
    "# if n1 equal to n2 print you won\n",
    "# otherwise print you lost\n",
    "# step-1: n1=eval(input)\n",
    "# step-2: n2=random.randint\n",
    "# step-3: if n1==n2\n",
    "# step-4: print lucky won\n",
    "# step-5: else:\n",
    "# step-6: print double lucky lost\n"
   ]
  },
  {
   "cell_type": "code",
   "execution_count": 72,
   "id": "9410c07d-6271-4315-90b7-58801203bf63",
   "metadata": {},
   "outputs": [
    {
     "name": "stdin",
     "output_type": "stream",
     "text": [
      "enter the number between 1 to 10: 2\n"
     ]
    },
    {
     "name": "stdout",
     "output_type": "stream",
     "text": [
      "2\n",
      "Lucky: you won\n"
     ]
    }
   ],
   "source": [
    "import random\n",
    "n1=eval(input('enter the number between 1 to 10:'))\n",
    "\n",
    "n2=random.randint(1,10)\n",
    "print(n2)\n",
    "if n1==n2:\n",
    " print('Lucky: you won')\n",
    "else:\n",
    " print('Lucky Lucky: you lost better luck next time')"
   ]
  },
  {
   "cell_type": "code",
   "execution_count": null,
   "id": "efa72836-43b8-494e-9282-983bd78884b7",
   "metadata": {},
   "outputs": [],
   "source": [
    "# Q5)\n",
    "# Course name= Data science\n",
    "# Insti name = Naresh It\n",
    "# Ask the user enter course_name\n",
    "# user enter inst_name\n",
    "# if course_name equal to data_science and inst_name naresh_it\n",
    "# then print you are at safe place\n",
    "# otherwise\n",
    "# print katam zindagi In [37]: In [39]: In [ ]: In [47]: In [ ]:\n",
    "# step-1: course_name=input()\n",
    "# step-2: inst_name=input()\n",
    "# step-3: if course_name=='data_science' &(and) inst_name=='naresh_it':\n",
    "# step-4: print('you are at safe place')\n",
    "# step-5: else:\n",
    "# step-6: print('katam zindagi')"
   ]
  },
  {
   "cell_type": "code",
   "execution_count": 76,
   "id": "3c150452-9260-4d0b-b2f7-84279360afd9",
   "metadata": {},
   "outputs": [
    {
     "name": "stdin",
     "output_type": "stream",
     "text": [
      "Enter the Course Name:  Data Science\n",
      "Enter the Institute Name:  Naresh IT\n"
     ]
    },
    {
     "name": "stdout",
     "output_type": "stream",
     "text": [
      "You are in Safe Hands!\n"
     ]
    }
   ],
   "source": [
    "course_name=input(\"Enter the Course Name: \")\n",
    "inst_name=input(\"Enter the Institute Name: \")\n",
    "if course_name=='Data Science' and inst_name=='Naresh IT':\n",
    " print(\"You are in Safe Hands!\")\n",
    "else:\n",
    " print(\"Khatam Zindagi\")\n"
   ]
  },
  {
   "cell_type": "code",
   "execution_count": 78,
   "id": "bf1874c6-e5a7-42b2-bfae-39257eae9fa2",
   "metadata": {},
   "outputs": [
    {
     "data": {
      "text/plain": [
       "'data science'"
      ]
     },
     "execution_count": 78,
     "metadata": {},
     "output_type": "execute_result"
    }
   ],
   "source": [
    "'Data Science'.lower()\n"
   ]
  },
  {
   "cell_type": "code",
   "execution_count": null,
   "id": "b7251c14-c195-4b36-af3d-5ee813f8c415",
   "metadata": {},
   "outputs": [],
   "source": [
    "# Q6) even-odd \n",
    "# ask the user enter a number\n",
    "# print if it is even number or odd number\n",
    "# idea: if any number divide by 2 then it gives \n",
    "# the reminder equal to zero then it is even number"
   ]
  },
  {
   "cell_type": "code",
   "execution_count": null,
   "id": "b3257738-09f1-4abe-8833-7261c30f2b27",
   "metadata": {},
   "outputs": [],
   "source": [
    "modulus: %\n",
    "division: /\n",
    "floor division: //"
   ]
  },
  {
   "cell_type": "code",
   "execution_count": 82,
   "id": "1af1260e-e6bb-4b52-960d-ddc7ef3322ea",
   "metadata": {},
   "outputs": [
    {
     "data": {
      "text/plain": [
       "1"
      ]
     },
     "execution_count": 82,
     "metadata": {},
     "output_type": "execute_result"
    }
   ],
   "source": [
    "11%2 # reminder"
   ]
  },
  {
   "cell_type": "code",
   "execution_count": 84,
   "id": "3dd14409-ec57-407b-a2a9-2c5087d8a49b",
   "metadata": {},
   "outputs": [
    {
     "data": {
      "text/plain": [
       "5.5"
      ]
     },
     "execution_count": 84,
     "metadata": {},
     "output_type": "execute_result"
    }
   ],
   "source": [
    "11/2 # normal division\n"
   ]
  },
  {
   "cell_type": "code",
   "execution_count": 86,
   "id": "77b46d41-952c-4515-86ce-6517f9f30a79",
   "metadata": {},
   "outputs": [
    {
     "data": {
      "text/plain": [
       "5"
      ]
     },
     "execution_count": 86,
     "metadata": {},
     "output_type": "execute_result"
    }
   ],
   "source": [
    "11//2 # "
   ]
  },
  {
   "cell_type": "code",
   "execution_count": 1,
   "id": "1623e7bc-9858-49ab-aeb7-753220b9c48e",
   "metadata": {},
   "outputs": [
    {
     "name": "stdin",
     "output_type": "stream",
     "text": [
      "enter the number: 1\n"
     ]
    },
    {
     "name": "stdout",
     "output_type": "stream",
     "text": [
      "1 is an odd\n"
     ]
    }
   ],
   "source": [
    "num=eval(input('enter the number:'))\n",
    "if num%2==0:\n",
    " print(f\"{num} is an even\")\n",
    "else:\n",
    " print(f\"{num} is an odd\")"
   ]
  },
  {
   "cell_type": "markdown",
   "id": "ea3eff4e-7291-4da9-8e8c-d0cef39e09d1",
   "metadata": {},
   "source": [
    "**if-elif-else**\n",
    "\n",
    " -  whenever we have multiple conditions we will udo **if-elif-else**\n",
    "\n",
    " - if single condition is there we will go if-else\n",
    "\n",
    "      - two answers\n",
    "\n",
    "      - if needs condition then else does not require any condtion\n",
    "\n",
    " - if two conditions is there we will go if-elif-else\n",
    "\n",
    "    - three answers\n",
    "\n",
    "    - if and elif needs condition then else does not require any condtion\n",
    "\n",
    " - if three conditions is there we will go if-elif-elif-else\n",
    "\n",
    "    - four answers\n",
    "\n",
    "    - if,elif and elif needs condition then else does not require any condtion\n",
    "  \n",
    "\n",
    "\n",
    " -  if-elif\n",
    "\n",
    "    - if==elif\n",
    "\n",
    " - if-if\n",
    "\n",
    " - if fails or pass=== if\n",
    " "
   ]
  },
  {
   "cell_type": "code",
   "execution_count": null,
   "id": "34a1ef17-9144-4790-9d65-24a099c3007a",
   "metadata": {},
   "outputs": [],
   "source": [
    "if <condition>: \n",
    "<write your code here>\n",
    "\n",
    "elif <condition>:\n",
    "    <write your code here>\n",
    "\n",
    "        elif <condition>:\n",
    "           <write your code here>\n",
    "\n",
    "else:\n",
    "       <write your code here>"
   ]
  },
  {
   "cell_type": "code",
   "execution_count": null,
   "id": "8956da2e-3404-467b-926a-228f3d4744a1",
   "metadata": {},
   "outputs": [],
   "source": [
    "#wap ask the user enter a number\n",
    "\n",
    "#if number equal to one then print one\n",
    "\n",
    "#if number equal to two then print two\n",
    "\n",
    "#if number equal to three then print three\n",
    "\n",
    "#otherwise enter a valid number"
   ]
  },
  {
   "cell_type": "code",
   "execution_count": 13,
   "id": "bff1c517-7835-47ba-8db6-ac9371b63cd4",
   "metadata": {},
   "outputs": [
    {
     "name": "stdin",
     "output_type": "stream",
     "text": [
      " enter any number: 20\n"
     ]
    },
    {
     "name": "stdout",
     "output_type": "stream",
     "text": [
      "enter a valid number\n"
     ]
    }
   ],
   "source": [
    "num=eval(input (\" enter any number:\"))\n",
    "\n",
    "if num==1:\n",
    "  print('1')\n",
    "\n",
    "elif num==2:\n",
    "  print('2')\n",
    "\n",
    "elif num==3:\n",
    "  print('3')\n",
    "\n",
    "else:\n",
    "  print('enter a valid number')\n",
    "\n",
    "\n",
    "\n"
   ]
  },
  {
   "cell_type": "code",
   "execution_count": null,
   "id": "2a312504-afe2-4c71-84ce-aaa32d7ae778",
   "metadata": {},
   "outputs": [],
   "source": [
    "#wap of the use enter perecentage of marks \n",
    "\n",
    "#if marks greater than 90 print A grade\n",
    "\n",
    "#if marks between 70-90  print B grade\n",
    "\n",
    "#if marks between 50-70  print C grade\n",
    "\n",
    "#if marks between 35-50  print D grade\n",
    "\n",
    "#OTHERWISE PRINT FAIL"
   ]
  },
  {
   "cell_type": "code",
   "execution_count": 26,
   "id": "4b3b5ab1-d5e0-4492-a1ac-81ed889b7c1f",
   "metadata": {},
   "outputs": [
    {
     "name": "stdin",
     "output_type": "stream",
     "text": [
      " enter percentage: 75\n"
     ]
    },
    {
     "name": "stdout",
     "output_type": "stream",
     "text": [
      "B\n"
     ]
    }
   ],
   "source": [
    "per=eval(input (\" enter percentage:\"))\n",
    "\n",
    "if per>90:\n",
    "  print('A')\n",
    "\n",
    "elif 70<per<90:\n",
    "  print('B')\n",
    "\n",
    "elif 50<per<70:\n",
    "  print('C')\n",
    "\n",
    "elif 35<per<50:\n",
    "  print('D')\n",
    "\n",
    "else:\n",
    "  print('Fail')\n",
    "\n"
   ]
  },
  {
   "cell_type": "code",
   "execution_count": null,
   "id": "a8bf1db1-e753-4b1e-8da7-675eda2648c6",
   "metadata": {},
   "outputs": [],
   "source": [
    "# wap ask the user enter age\n",
    "\n",
    "# if age greater than 100 years unlucky\n",
    "\n",
    "#if age between 80 to 100 years old guy\n",
    "\n",
    "#if age between 60 to 80 years ss\n",
    "\n",
    "#if age between 40 to 60 years  MA\n",
    "\n",
    "#if age between 20 to 40 years young\n",
    "\n",
    "#if age between 10 to 20 years old guy\n",
    "\n",
    "#otherwise print kid"
   ]
  },
  {
   "cell_type": "code",
   "execution_count": 36,
   "id": "76853afe-4b89-47ba-8531-20f201e8c91c",
   "metadata": {},
   "outputs": [
    {
     "name": "stdin",
     "output_type": "stream",
     "text": [
      " enter age: 21\n"
     ]
    },
    {
     "name": "stdout",
     "output_type": "stream",
     "text": [
      "young\n"
     ]
    }
   ],
   "source": [
    "age=eval(input (\" enter age:\"))\n",
    "\n",
    "if age>100:\n",
    "  print('unlucky')\n",
    "\n",
    "elif age>=80:\n",
    "  print('old guy')\n",
    "\n",
    "elif age>=60:\n",
    "  print('senior citizen')\n",
    "\n",
    "elif age>=40:\n",
    "  print('middle age')\n",
    "\n",
    "elif age>=20:\n",
    "  print('young')\n",
    "\n",
    "elif age>=10:\n",
    "  print('teen age')\n",
    "\n",
    "else:\n",
    "  print('kid')\n"
   ]
  },
  {
   "cell_type": "code",
   "execution_count": null,
   "id": "a08f1a19-da78-4468-a5b5-4d13b892b985",
   "metadata": {},
   "outputs": [],
   "source": [
    "# wap ask the user enter gender\n",
    "\n",
    "# if gender equals to male\n",
    "\n",
    "# ask the user enter age\n",
    "\n",
    "# if age gretaer than 60 print ss\n",
    "\n",
    "#if age between 30 to 60 print ma man\n",
    "\n",
    "#if age between 15 to 300 print young man\n",
    "\n",
    "#otherwise print boy"
   ]
  },
  {
   "cell_type": "code",
   "execution_count": 85,
   "id": "37d67a6f-f21f-473a-a8d3-5f5336cf08bb",
   "metadata": {},
   "outputs": [
    {
     "name": "stdin",
     "output_type": "stream",
     "text": [
      " enter gender: female\n",
      " enter age: 12\n"
     ]
    },
    {
     "name": "stdout",
     "output_type": "stream",
     "text": [
      "girl\n"
     ]
    }
   ],
   "source": [
    "gender=(input (\" enter gender:\"))\n",
    "\n",
    "if gender=='male' :\n",
    "\n",
    "      age=eval(input (\" enter age:\"))\n",
    "\n",
    "      if age>60:\n",
    "          print('ss')\n",
    "          \n",
    "      elif age>=30:\n",
    "           print('MA man')\n",
    "\n",
    "      elif age>=15:\n",
    "                print('young')\n",
    "\n",
    "      else:\n",
    "            print('boy')\n",
    "\n",
    "if gender=='female':\n",
    "\n",
    "      age=eval(input (\" enter age:\"))\n",
    "\n",
    "      if age>60:\n",
    "          print('ss')\n",
    "          \n",
    "      elif age>=30:\n",
    "          print('MA woman')\n",
    "\n",
    "      elif age>=15:\n",
    "          print('young')\n",
    "\n",
    "      else:\n",
    "            print('girl')\n"
   ]
  },
  {
   "cell_type": "code",
   "execution_count": null,
   "id": "f7f8ea92-cabd-4832-b4dd-b8edd137fe5a",
   "metadata": {},
   "outputs": [],
   "source": [
    "# wap ask the user enter a number\n",
    "# if number greater than or eual to zero\n",
    "# if number>zero then print positive\n",
    "#other wise print zero\n",
    "\n",
    "#else print negative number"
   ]
  },
  {
   "cell_type": "code",
   "execution_count": 125,
   "id": "307d639c-e722-4907-82a7-e7d81a43ed1e",
   "metadata": {},
   "outputs": [
    {
     "name": "stdin",
     "output_type": "stream",
     "text": [
      "enter a num : 0\n"
     ]
    },
    {
     "name": "stdout",
     "output_type": "stream",
     "text": [
      "zero\n"
     ]
    }
   ],
   "source": [
    "num=eval(input('enter a num :'))\n",
    "if num>= 0:\n",
    "    \n",
    "     if num>0:\n",
    "        print('positive number')\n",
    "     else:\n",
    "        print('zero')\n",
    "\n",
    "else:\n",
    "     print('negative number')"
   ]
  },
  {
   "cell_type": "code",
   "execution_count": null,
   "id": "c042e075-f0f5-422f-9801-d67ba1c46cb6",
   "metadata": {},
   "outputs": [],
   "source": [
    "\n",
    "#wap ask the  user enter number between 1 to 4\n",
    "##print some statements like below\n",
    "#enter 1 for addition\n",
    "#enter 2 for sub\n",
    "#enter 3 for mul\n",
    "#enter 4 for div\n"
   ]
  },
  {
   "cell_type": "code",
   "execution_count": 145,
   "id": "9f937f30-472d-47d5-9e7b-93eb3cbe246d",
   "metadata": {},
   "outputs": [
    {
     "name": "stdin",
     "output_type": "stream",
     "text": [
      "enter any num between 1 to 4 4\n",
      "enter a num 20\n",
      "enter a num 5\n"
     ]
    },
    {
     "name": "stdout",
     "output_type": "stream",
     "text": [
      "4.0\n"
     ]
    }
   ],
   "source": [
    "num=eval(input('enter any num between 1 to 4'))\n",
    "\n",
    "if num==1:\n",
    "    n1=eval(input('enter a num'))\n",
    "    n2=eval(input('enter a num'))\n",
    "    add=n1+n2\n",
    "    print(f'{add}')\n",
    "\n",
    "elif num==2:\n",
    "    n1=eval(input('enter a num'))\n",
    "    n2=eval(input('enter a num'))\n",
    "    sub=n1-n2\n",
    "    print(f'{sub}')\n",
    "\n",
    "elif num==3:\n",
    "    n1=eval(input('enter a num'))\n",
    "    n2=eval(input('enter a num'))\n",
    "    mul=n1*n2\n",
    "    print(f'{mul}')\n",
    "\n",
    "elif num==4:\n",
    "    n1=eval(input('enter a num'))\n",
    "    n2=eval(input('enter a num'))\n",
    "    div=n1/n2\n",
    "    print(f'{div}')\n",
    "\n",
    "else :\n",
    "    print(' enter valid number')\n",
    "\n"
   ]
  },
  {
   "cell_type": "code",
   "execution_count": null,
   "id": "b6f5226c-3b71-4920-a7f6-71a7c99614c7",
   "metadata": {},
   "outputs": [],
   "source": []
  }
 ],
 "metadata": {
  "kernelspec": {
   "display_name": "Python [conda env:base] *",
   "language": "python",
   "name": "conda-base-py"
  },
  "language_info": {
   "codemirror_mode": {
    "name": "ipython",
    "version": 3
   },
   "file_extension": ".py",
   "mimetype": "text/x-python",
   "name": "python",
   "nbconvert_exporter": "python",
   "pygments_lexer": "ipython3",
   "version": "3.12.7"
  }
 },
 "nbformat": 4,
 "nbformat_minor": 5
}
