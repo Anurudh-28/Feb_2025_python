{
 "cells": [
  {
   "cell_type": "code",
   "execution_count": 1,
   "id": "8c1b9c24-d47d-4684-99dd-504c676b06c8",
   "metadata": {},
   "outputs": [
    {
     "data": {
      "text/plain": [
       "20"
      ]
     },
     "execution_count": 1,
     "metadata": {},
     "output_type": "execute_result"
    }
   ],
   "source": [
    "a=10\n",
    "b=20\n",
    "a\n",
    "b"
   ]
  },
  {
   "cell_type": "code",
   "execution_count": 3,
   "id": "a24532ee-c91d-457c-a5b2-481bd7efbd4c",
   "metadata": {},
   "outputs": [
    {
     "name": "stdout",
     "output_type": "stream",
     "text": [
      "10\n",
      "20\n"
     ]
    }
   ],
   "source": [
    "a=10\n",
    "b=20\n",
    "print(a)\n",
    "print(b)"
   ]
  },
  {
   "cell_type": "code",
   "execution_count": 5,
   "id": "8538c912-a294-46e5-b221-8b10f3d63592",
   "metadata": {},
   "outputs": [
    {
     "name": "stdout",
     "output_type": "stream",
     "text": [
      "10\n",
      "20\n"
     ]
    }
   ],
   "source": [
    "print(10)\n",
    "print(20)\n"
   ]
  },
  {
   "cell_type": "code",
   "execution_count": 7,
   "id": "b96ad327-1d3b-4bdf-be74-cb6fde925d6e",
   "metadata": {},
   "outputs": [
    {
     "name": "stdout",
     "output_type": "stream",
     "text": [
      "10\n",
      "20\n"
     ]
    },
    {
     "data": {
      "text/plain": [
       "(None, None)"
      ]
     },
     "execution_count": 7,
     "metadata": {},
     "output_type": "execute_result"
    }
   ],
   "source": [
    "print(10),print(20)"
   ]
  },
  {
   "cell_type": "code",
   "execution_count": 9,
   "id": "743026db-49c4-4dac-af61-dbb1231ba96a",
   "metadata": {},
   "outputs": [
    {
     "data": {
      "text/plain": [
       "(10, 20)"
      ]
     },
     "execution_count": 9,
     "metadata": {},
     "output_type": "execute_result"
    }
   ],
   "source": [
    "10,20"
   ]
  },
  {
   "cell_type": "code",
   "execution_count": 11,
   "id": "1e982c47-ccc9-4125-be1f-17e8f1ba434c",
   "metadata": {},
   "outputs": [
    {
     "name": "stdout",
     "output_type": "stream",
     "text": [
      "10 20\n"
     ]
    }
   ],
   "source": [
    "print(a,b)"
   ]
  },
  {
   "cell_type": "code",
   "execution_count": 13,
   "id": "0505f963-1c90-40d3-a1df-1cf1dfe79ed6",
   "metadata": {},
   "outputs": [
    {
     "name": "stdout",
     "output_type": "stream",
     "text": [
      "30 Nareshit Hyd\n"
     ]
    }
   ],
   "source": [
    "print(30,'Nareshit','Hyd')\n",
    "#3 values"
   ]
  },
  {
   "cell_type": "code",
   "execution_count": 19,
   "id": "7b7be540-3b94-48e7-80cd-17241e0da951",
   "metadata": {},
   "outputs": [
    {
     "name": "stdout",
     "output_type": "stream",
     "text": [
      "the addition of 100 and 200 is 300\n",
      "the addition of num1 and num2 is 300\n",
      "the addition of 100  and 200  is 300\n"
     ]
    }
   ],
   "source": [
    "num1=100\n",
    "num2=200\n",
    "add=num1+num2\n",
    "\n",
    "#the add of 100nand 200 is 300\n",
    "print(\"the addition of 100 and 200 is 300\")\n",
    "print(\"the addition of num1 and num2 is 300\")\n",
    "print(\"the addition of\", num1,\" and\", num2,\" is\", add)\n"
   ]
  },
  {
   "cell_type": "code",
   "execution_count": 27,
   "id": "9a5e70ba-afa4-4516-955e-fcfb9bc5c9d8",
   "metadata": {},
   "outputs": [
    {
     "name": "stdout",
     "output_type": "stream",
     "text": [
      "my name is python im 10 years old and came from hyd\n"
     ]
    }
   ],
   "source": [
    "name=\"python\"\n",
    "age=10\n",
    "city=\"hyd\"\n",
    "#my name is python im 10 years old and came from hyd\n",
    "print(\"my name is\", name,\"im\",age, \"years old and came from\",city)"
   ]
  },
  {
   "cell_type": "markdown",
   "id": "d6596f95-c4c2-486e-ad89-1f5a40a99147",
   "metadata": {},
   "source": [
    "$format$"
   ]
  },
  {
   "cell_type": "code",
   "execution_count": 38,
   "id": "691b0f6e-f53b-41b3-98e5-f39d123d527e",
   "metadata": {},
   "outputs": [
    {
     "name": "stdout",
     "output_type": "stream",
     "text": [
      "my name is python im 10 years old and came from hyd\n"
     ]
    }
   ],
   "source": [
    "name=\"python\"\n",
    "age=10\n",
    "city=\"hyd\"\n",
    "print(\"my name is {} im {} years old and came from {}\".format(name,age,city))\n",
    "\n"
   ]
  },
  {
   "cell_type": "code",
   "execution_count": 59,
   "id": "43067c92-8b97-4a93-b0f3-2063e62b671e",
   "metadata": {},
   "outputs": [
    {
     "name": "stdout",
     "output_type": "stream",
     "text": [
      "the addition of 100 and 200 is 300\n"
     ]
    }
   ],
   "source": [
    "num1=100\n",
    "num2=200\n",
    "add=num1+num2\n",
    "print(\"the addition of {} and {} is {}\".format(num1,num2,add))\n",
    "\n"
   ]
  },
  {
   "cell_type": "code",
   "execution_count": 54,
   "id": "47a6c15a-3882-4506-aa80-4ebf387b9bbf",
   "metadata": {},
   "outputs": [
    {
     "ename": "NameError",
     "evalue": "name 'z' is not defined",
     "output_type": "error",
     "traceback": [
      "\u001b[1;31m---------------------------------------------------------------------------\u001b[0m",
      "\u001b[1;31mNameError\u001b[0m                                 Traceback (most recent call last)",
      "Cell \u001b[1;32mIn[54], line 6\u001b[0m\n\u001b[0;32m      4\u001b[0m mul\u001b[38;5;241m=\u001b[39mx\u001b[38;5;241m*\u001b[39my\n\u001b[0;32m      5\u001b[0m div\u001b[38;5;241m=\u001b[39mx\u001b[38;5;241m/\u001b[39my\n\u001b[1;32m----> 6\u001b[0m avg\u001b[38;5;241m=\u001b[39m(x,y,z)\u001b[38;5;241m/\u001b[39m\u001b[38;5;241m2\u001b[39m\n\u001b[0;32m      8\u001b[0m \u001b[38;5;28mprint\u001b[39m(\u001b[38;5;124m\"\u001b[39m\u001b[38;5;124mthe subraction of \u001b[39m\u001b[38;5;132;01m{}\u001b[39;00m\u001b[38;5;124m and \u001b[39m\u001b[38;5;132;01m{}\u001b[39;00m\u001b[38;5;124m is \u001b[39m\u001b[38;5;132;01m{}\u001b[39;00m\u001b[38;5;124m\"\u001b[39m\u001b[38;5;241m.\u001b[39mformat(x,y,sub))\n\u001b[0;32m      9\u001b[0m \u001b[38;5;66;03m#\u001b[39;00m\n",
      "\u001b[1;31mNameError\u001b[0m: name 'z' is not defined"
     ]
    }
   ],
   "source": [
    "x=45\n",
    "y=30\n",
    "sub=x-y\n",
    "mul=x*y\n",
    "div=x/y\n",
    "avg=(x,y,z)/2\n",
    "\n",
    "print(\"the subraction of {} and {} is {}\".format(x,y,sub))\n",
    "#\n",
    "print(\"the multipilcation of {} and {} is {}\".format(x,y,mul))\n",
    "#\n",
    "print(\"the division of {} and {} is {}\".format(x,y,div))\n",
    "#\n",
    "print(\"the average of {},{},{} is {}\".format(x,y,z,avg))"
   ]
  },
  {
   "cell_type": "markdown",
   "id": "f0e94462-8753-450b-a4c1-b3ab337a006a",
   "metadata": {},
   "source": [
    "**f srting method**"
   ]
  },
  {
   "cell_type": "code",
   "execution_count": 83,
   "id": "d1cca01e-8064-4f4e-93f2-0d510464a5f5",
   "metadata": {},
   "outputs": [
    {
     "name": "stdout",
     "output_type": "stream",
     "text": [
      "the addition of {num1} and {num2} is {add}\n",
      "the addition of 100 and 200 is 300\n"
     ]
    }
   ],
   "source": [
    "num1=100\n",
    "num2=200\n",
    "add=num1+num2\n",
    "print(\"the addition of {num1} and {num2} is {add}\")\n",
    "print(f\"the addition of {num1} and {num2} is {add}\")       #f string = formatting the stringg\n",
    "\n"
   ]
  },
  {
   "cell_type": "code",
   "execution_count": 101,
   "id": "3e5a68a0-6714-4df0-9c18-85d1d8687af8",
   "metadata": {},
   "outputs": [
    {
     "name": "stdout",
     "output_type": "stream",
     "text": [
      "the subraction of 45 and 30 is 15\n",
      "the multipilcation of 45 and 30 is 1350\n",
      "the division of 45 and 30 is 1.5\n",
      "the average of 45,30,20 is 31.666666666666668\n"
     ]
    }
   ],
   "source": [
    "x=45\n",
    "y=30\n",
    "sub=x-y\n",
    "mul=x*y\n",
    "div=x/y\n",
    "avg=(x+y+z)/3\n",
    "\n",
    "print(f\"the subraction of {x} and {y} is {sub}\")\n",
    "#\n",
    "print(f\"the multipilcation of {x} and {y} is {mul}\")\n",
    "#\n",
    "print(f\"the division of {x} and {y} is {div}\")\n",
    "#\n",
    "print(f\"the average of {x},{y},{z} is {avg}\")"
   ]
  },
  {
   "cell_type": "markdown",
   "id": "1878a7ae-997d-42ff-bbc2-19d503152070",
   "metadata": {},
   "source": [
    "**round**"
   ]
  },
  {
   "cell_type": "code",
   "execution_count": 97,
   "id": "06d4159d-cc49-467a-b783-769dd527f28b",
   "metadata": {},
   "outputs": [],
   "source": [
    "# print()\n",
    "# type()\n",
    "# int()\n",
    "# float()\n",
    "# bool()\n",
    "# round()\n",
    "\n",
    "# CTRL+ A\n",
    "# CTRL+/\n",
    "\n"
   ]
  },
  {
   "cell_type": "code",
   "execution_count": null,
   "id": "0f75c067-df9d-4d14-9b47-cd2713d2da8d",
   "metadata": {},
   "outputs": [],
   "source": []
  },
  {
   "cell_type": "code",
   "execution_count": 99,
   "id": "55d58438-c36e-49bd-bb0c-6804581ef1f3",
   "metadata": {},
   "outputs": [
    {
     "name": "stdout",
     "output_type": "stream",
     "text": [
      "11\n",
      "10.778\n",
      "10.8\n"
     ]
    }
   ],
   "source": [
    "print(round(10.777777))\n",
    "print(round(10.777777,3))\n",
    "print(round(10.777777,1))\n"
   ]
  },
  {
   "cell_type": "code",
   "execution_count": 103,
   "id": "f47e2422-986a-4abf-81e5-8cc81a2682fd",
   "metadata": {},
   "outputs": [
    {
     "name": "stdout",
     "output_type": "stream",
     "text": [
      "31.667\n"
     ]
    }
   ],
   "source": [
    "x=45\n",
    "y=30\n",
    "\n",
    "avg=(x+y+z)/3\n",
    "\n",
    "print(round(avg,3))"
   ]
  },
  {
   "cell_type": "code",
   "execution_count": null,
   "id": "512c9d25-5f49-46fe-a666-eeefbd039c67",
   "metadata": {},
   "outputs": [],
   "source": []
  },
  {
   "cell_type": "code",
   "execution_count": null,
   "id": "d7c2b175-14bf-4f29-ab17-627f19878efe",
   "metadata": {},
   "outputs": [],
   "source": [
    "*end*"
   ]
  },
  {
   "cell_type": "code",
   "execution_count": 2,
   "id": "a0c50ee1-2b60-4685-bbb4-bb4a253ae970",
   "metadata": {},
   "outputs": [
    {
     "name": "stdout",
     "output_type": "stream",
     "text": [
      "10++++>20\n"
     ]
    }
   ],
   "source": [
    "print(10,end=\"++++>\")\n",
    "print(20)"
   ]
  },
  {
   "cell_type": "code",
   "execution_count": 16,
   "id": "e6c62364-6bcf-4dbd-a9dc-2529aa86158a",
   "metadata": {},
   "outputs": [
    {
     "name": "stdout",
     "output_type": "stream",
     "text": [
      "hello\n",
      "how\n",
      "are\n",
      "uuuu\n",
      "hello how are uuuu\n"
     ]
    }
   ],
   "source": [
    "print('hello')\n",
    "print('how')\n",
    "print('are')\n",
    "print('uuuu')\n",
    "##  \n",
    "\n",
    "print('hello',end=\" \")\n",
    "print('how',end=\" \")\n",
    "print('are',end=\" \")\n",
    "print('uuuu')"
   ]
  },
  {
   "cell_type": "markdown",
   "id": "05ef97c2-53d8-4c35-8b1d-b6dc70eb80cc",
   "metadata": {},
   "source": [
    "**sep**"
   ]
  },
  {
   "cell_type": "code",
   "execution_count": 21,
   "id": "0f062f5c-65a6-4a92-aa5f-004166d523d8",
   "metadata": {},
   "outputs": [
    {
     "name": "stdout",
     "output_type": "stream",
     "text": [
      "10+++++20+++++30\n"
     ]
    }
   ],
   "source": [
    "print(10,20,30,sep=\"+++++\")"
   ]
  },
  {
   "cell_type": "code",
   "execution_count": 25,
   "id": "753b4209-f0d0-4c2e-aea4-6a451b641e31",
   "metadata": {},
   "outputs": [
    {
     "name": "stdout",
     "output_type": "stream",
     "text": [
      "The area of circle is 78.5\n"
     ]
    }
   ],
   "source": [
    "#take the radius of circle and cal area of circle\n",
    "\n",
    "r=5\n",
    "\n",
    "pi=3.14\n",
    "\n",
    "area=pi*r*r\n",
    "\n",
    "print(f\"The area of circle is {area}\")\n"
   ]
  },
  {
   "cell_type": "code",
   "execution_count": 5,
   "id": "39fe4e3f-bcc8-4c66-9302-efe2ecbf056b",
   "metadata": {},
   "outputs": [
    {
     "name": "stdout",
     "output_type": "stream",
     "text": [
      "The area of right angle traingle is :100.0\n"
     ]
    }
   ],
   "source": [
    "##Area of right angle triangle\n",
    "\n",
    "b=10\n",
    "h=20\n",
    "\n",
    "area=0.5*h*b\n",
    "\n",
    "print(f\"The area of right angle traingle is :{area}\")\n",
    "\n"
   ]
  },
  {
   "cell_type": "code",
   "execution_count": 13,
   "id": "e2e3afd7-2dfd-4b2d-9efa-0ce196d6e50c",
   "metadata": {},
   "outputs": [
    {
     "name": "stdout",
     "output_type": "stream",
     "text": [
      "the amount of total bill is: 2100\n"
     ]
    }
   ],
   "source": [
    "# bill amount and tip amount\n",
    "\n",
    "bill=2000\n",
    "\n",
    "tip=100\n",
    "\n",
    "total_bill= bill + tip\n",
    "\n",
    "print(f\"the amount of total bill is: {total_bill}\")\n"
   ]
  },
  {
   "cell_type": "code",
   "execution_count": 11,
   "id": "24b4160a-d33d-4ee6-baa6-cac556f06e8a",
   "metadata": {},
   "outputs": [
    {
     "name": "stdout",
     "output_type": "stream",
     "text": [
      "The area of rectangle is :400\n"
     ]
    }
   ],
   "source": [
    "##Area of Rectanle\n",
    "\n",
    "b=10\n",
    "l=40\n",
    "\n",
    "area=l*b\n",
    "\n",
    "print(\"The area of rectangle is :{}\".format(area))\n",
    "\n"
   ]
  },
  {
   "cell_type": "markdown",
   "id": "067ef1be-c6a5-43e5-816d-ab079ee27838",
   "metadata": {},
   "source": [
    "**input**"
   ]
  },
  {
   "cell_type": "markdown",
   "id": "8a9a0d02-35be-47ad-928c-36ac128e509d",
   "metadata": {},
   "source": [
    " -  in above we provided the value the input the inbuilt function\n",
    "\n",
    " -  using input the user can provide any value"
   ]
  },
  {
   "cell_type": "code",
   "execution_count": 17,
   "id": "0b052d3c-e443-4ab1-b1d8-3147aeab634c",
   "metadata": {},
   "outputs": [
    {
     "data": {
      "text/plain": [
       "<bound method Kernel.raw_input of <ipykernel.ipkernel.IPythonKernel object at 0x00000189716AF740>>"
      ]
     },
     "execution_count": 17,
     "metadata": {},
     "output_type": "execute_result"
    }
   ],
   "source": [
    "input"
   ]
  },
  {
   "cell_type": "markdown",
   "id": "1f7b8244-74f6-47b1-a823-52d4a33459e0",
   "metadata": {},
   "source": [
    " **note**\n",
    "\n",
    " -   whenever we see bound method or function we forgot the brackets  \n"
   ]
  },
  {
   "cell_type": "code",
   "execution_count": 22,
   "id": "c9f54ad7-a21b-4a61-9092-602e689a617c",
   "metadata": {},
   "outputs": [
    {
     "name": "stdin",
     "output_type": "stream",
     "text": [
      " python\n"
     ]
    },
    {
     "data": {
      "text/plain": [
       "'python'"
      ]
     },
     "execution_count": 22,
     "metadata": {},
     "output_type": "execute_result"
    }
   ],
   "source": [
    "input()"
   ]
  },
  {
   "cell_type": "code",
   "execution_count": 24,
   "id": "9afca3ad-595b-4f10-93b1-e90019150465",
   "metadata": {},
   "outputs": [
    {
     "name": "stdin",
     "output_type": "stream",
     "text": [
      " 10\n"
     ]
    },
    {
     "data": {
      "text/plain": [
       "'10'"
      ]
     },
     "execution_count": 24,
     "metadata": {},
     "output_type": "execute_result"
    }
   ],
   "source": [
    "input()"
   ]
  },
  {
   "cell_type": "code",
   "execution_count": 26,
   "id": "60a31b8c-e4f4-4cd6-96c4-6d7b5c065160",
   "metadata": {},
   "outputs": [
    {
     "name": "stdin",
     "output_type": "stream",
     "text": [
      " 456\n"
     ]
    }
   ],
   "source": [
    "c=input()"
   ]
  },
  {
   "cell_type": "code",
   "execution_count": 28,
   "id": "1e6fe394-5e32-4c47-a1e6-8f1759a8db6f",
   "metadata": {},
   "outputs": [
    {
     "data": {
      "text/plain": [
       "'456'"
      ]
     },
     "execution_count": 28,
     "metadata": {},
     "output_type": "execute_result"
    }
   ],
   "source": [
    "c"
   ]
  },
  {
   "cell_type": "code",
   "execution_count": 30,
   "id": "12e0f97c-65eb-45bb-92ff-a2725da3a030",
   "metadata": {},
   "outputs": [
    {
     "name": "stdin",
     "output_type": "stream",
     "text": [
      " nareshit\n"
     ]
    }
   ],
   "source": [
    "name=input()"
   ]
  },
  {
   "cell_type": "code",
   "execution_count": 32,
   "id": "09e07581-7215-407c-ab2f-ec8054a40eb7",
   "metadata": {},
   "outputs": [
    {
     "data": {
      "text/plain": [
       "'nareshit'"
      ]
     },
     "execution_count": 32,
     "metadata": {},
     "output_type": "execute_result"
    }
   ],
   "source": [
    "name"
   ]
  },
  {
   "cell_type": "code",
   "execution_count": 36,
   "id": "5efd56f6-4392-48f3-9a0f-386e0f002cb0",
   "metadata": {},
   "outputs": [
    {
     "data": {
      "text/plain": [
       "'456'"
      ]
     },
     "execution_count": 36,
     "metadata": {},
     "output_type": "execute_result"
    }
   ],
   "source": [
    "c"
   ]
  },
  {
   "cell_type": "code",
   "execution_count": 42,
   "id": "fe0c56a1-fa0c-493c-9396-0393c4d18747",
   "metadata": {},
   "outputs": [
    {
     "name": "stdin",
     "output_type": "stream",
     "text": [
      " 50\n"
     ]
    }
   ],
   "source": [
    "x=input()\n"
   ]
  },
  {
   "cell_type": "code",
   "execution_count": 44,
   "id": "01705a44-90c5-4691-836b-11afb857dacb",
   "metadata": {},
   "outputs": [
    {
     "data": {
      "text/plain": [
       "'50'"
      ]
     },
     "execution_count": 44,
     "metadata": {},
     "output_type": "execute_result"
    }
   ],
   "source": [
    "x"
   ]
  },
  {
   "cell_type": "code",
   "execution_count": 56,
   "id": "87d4354e-0079-421a-b3ea-81d9ab30953f",
   "metadata": {},
   "outputs": [
    {
     "name": "stdin",
     "output_type": "stream",
     "text": [
      " 100\n",
      " 200\n",
      " 300\n"
     ]
    }
   ],
   "source": [
    "n1=input()  #n1= '100'\n",
    "n2=input()  #n2= '200'\n",
    "n3=input()  #n3= '300'"
   ]
  },
  {
   "cell_type": "code",
   "execution_count": 58,
   "id": "43dbde17-b9ab-4f87-9d91-9480102a9e9e",
   "metadata": {},
   "outputs": [
    {
     "data": {
      "text/plain": [
       "('100', '200', '300')"
      ]
     },
     "execution_count": 58,
     "metadata": {},
     "output_type": "execute_result"
    }
   ],
   "source": [
    "n1,n2,n3"
   ]
  },
  {
   "cell_type": "code",
   "execution_count": 1,
   "id": "d327d54d-6684-4809-b6f3-7e4bfd2be5eb",
   "metadata": {},
   "outputs": [
    {
     "name": "stdin",
     "output_type": "stream",
     "text": [
      "enter valuee: 21\n"
     ]
    },
    {
     "data": {
      "text/plain": [
       "'21'"
      ]
     },
     "execution_count": 1,
     "metadata": {},
     "output_type": "execute_result"
    }
   ],
   "source": [
    "input(\"enter valuee:\")"
   ]
  },
  {
   "cell_type": "code",
   "execution_count": 7,
   "id": "2d70a371-7147-4a5a-90ba-6517ed2b6a66",
   "metadata": {},
   "outputs": [
    {
     "name": "stdin",
     "output_type": "stream",
     "text": [
      "enter var1 100\n",
      "enter var2 200\n"
     ]
    },
    {
     "data": {
      "text/plain": [
       "'100200'"
      ]
     },
     "execution_count": 7,
     "metadata": {},
     "output_type": "execute_result"
    }
   ],
   "source": [
    "n1=input(\"enter var1\")  #n1= '100'\n",
    "n2=input(\"enter var2\")  #n2= '200'\n",
    "n1+n2   # '100' + '200' = '100200'"
   ]
  },
  {
   "cell_type": "code",
   "execution_count": 4,
   "id": "c53dc209-976e-4636-996d-dd2c9dc86f21",
   "metadata": {},
   "outputs": [
    {
     "name": "stdin",
     "output_type": "stream",
     "text": [
      "enter fruit g\n",
      "is ug\n",
      "declare y\n"
     ]
    },
    {
     "data": {
      "text/plain": [
       "'gugy'"
      ]
     },
     "execution_count": 4,
     "metadata": {},
     "output_type": "execute_result"
    }
   ],
   "source": [
    "n1=input(\"enter fruit\")\n",
    "n2=input(\"is\")\n",
    "n3=input(\"declare\")\n",
    "n1+n2+n3"
   ]
  },
  {
   "cell_type": "code",
   "execution_count": null,
   "id": "7dd4db91-f3f3-4257-8846-6f3261123d4b",
   "metadata": {},
   "outputs": [],
   "source": [
    "n1=input(\"enter var1\")  #n1= '500'\n",
    "n2=input(\"enter var2\")  #n2= '600'\n",
    "n1+n2   # '500' + '600' = '500600'"
   ]
  },
  {
   "cell_type": "code",
   "execution_count": 1,
   "id": "464e8f2d-cbe7-441e-af4f-458edf85e1e7",
   "metadata": {},
   "outputs": [
    {
     "data": {
      "text/plain": [
       "1100"
      ]
     },
     "execution_count": 1,
     "metadata": {},
     "output_type": "execute_result"
    }
   ],
   "source": [
    "n1=int('500')\n",
    "n2=int('600')\n",
    "n1+n2"
   ]
  },
  {
   "cell_type": "code",
   "execution_count": 5,
   "id": "ee92c487-8746-48d7-ac2c-8dcacef6750e",
   "metadata": {},
   "outputs": [
    {
     "name": "stdin",
     "output_type": "stream",
     "text": [
      "enter var1 100\n",
      "enter var2 200\n"
     ]
    },
    {
     "data": {
      "text/plain": [
       "300"
      ]
     },
     "execution_count": 5,
     "metadata": {},
     "output_type": "execute_result"
    }
   ],
   "source": [
    "n1=int(input(\"enter var1\") ) #n1= '100'\n",
    "n2=int(input(\"enter var2\"))  #n2= '200'\n",
    "n1+n2   # '100' + '200' = '300'"
   ]
  },
  {
   "cell_type": "code",
   "execution_count": 9,
   "id": "1ff7e762-6653-4394-a52c-29abf6913464",
   "metadata": {},
   "outputs": [
    {
     "name": "stdin",
     "output_type": "stream",
     "text": [
      "enter var1 100\n",
      "enter var2 200\n"
     ]
    },
    {
     "data": {
      "text/plain": [
       "300"
      ]
     },
     "execution_count": 9,
     "metadata": {},
     "output_type": "execute_result"
    }
   ],
   "source": [
    "n1=input(\"enter var1\")  #n1= '100'\n",
    "n2=input(\"enter var2\")  #n2= '200'\n",
    "int(n1)+int(n2)   # ont('100') + int('200') = '100200'"
   ]
  },
  {
   "cell_type": "markdown",
   "id": "45984481-67f3-4cfc-b93e-9af991bd8096",
   "metadata": {},
   "source": [
    "**eval**\n",
    "\n",
    " -  eval means evaluate\n",
    "\n",
    " -  it is related to math family\n",
    "\n",
    " -  which means it works only on num representation as strings\n",
    "\n",
    " -  it not works on english letters\n",
    "\n",
    " -  evalue will convert the respective data type which is user enter\n",
    "\n",
    " -   if user enter 10 in quotes it will convert into 10\n",
    "\n",
    " -   if user enter 10.5 in quotes it will convert into 10.5"
   ]
  },
  {
   "cell_type": "code",
   "execution_count": null,
   "id": "bbae756b-9727-4e1f-8f0c-045c5b0dbf6b",
   "metadata": {},
   "outputs": [],
   "source": [
    "int('10')   #10\n",
    "int('10.5)  #f\n",
    "\n",
    "\n",
    "float('10')   #10\n",
    "float('10.5)  #10.5\n",
    "    "
   ]
  },
  {
   "cell_type": "code",
   "execution_count": 14,
   "id": "74692ad6-f8f4-416d-b3df-3ecefde361e3",
   "metadata": {},
   "outputs": [
    {
     "data": {
      "text/plain": [
       "(10, 10.7)"
      ]
     },
     "execution_count": 14,
     "metadata": {},
     "output_type": "execute_result"
    }
   ],
   "source": [
    "eval('10'),eval('10.7')"
   ]
  },
  {
   "cell_type": "code",
   "execution_count": null,
   "id": "b012305b-4aa3-4dfa-be3a-71f9ac1cd482",
   "metadata": {},
   "outputs": [],
   "source": [
    "int"
   ]
  },
  {
   "cell_type": "code",
   "execution_count": 18,
   "id": "947a80a5-fe23-412f-bf06-27db6ac28e16",
   "metadata": {},
   "outputs": [
    {
     "name": "stdin",
     "output_type": "stream",
     "text": [
      "enter var1 100.8\n",
      "enter var2 200\n"
     ]
    },
    {
     "data": {
      "text/plain": [
       "300.8"
      ]
     },
     "execution_count": 18,
     "metadata": {},
     "output_type": "execute_result"
    }
   ],
   "source": [
    "n1=eval(input(\"enter var1\") ) #n1= '100'\n",
    "n2=eval(input(\"enter var2\"))  #n2= '200'\n",
    "n1+n2   # '100' + '200' = '300'"
   ]
  },
  {
   "cell_type": "code",
   "execution_count": 30,
   "id": "b41b69e9-973c-4c6a-ad9a-16f25d24e3ab",
   "metadata": {},
   "outputs": [
    {
     "name": "stdin",
     "output_type": "stream",
     "text": [
      "len of rectangle: 12\n",
      "brd of rectangle: 12\n"
     ]
    },
    {
     "name": "stdout",
     "output_type": "stream",
     "text": [
      "144\n"
     ]
    }
   ],
   "source": [
    "L=eval(input(\"len of rectangle:\"))\n",
    "b=eval(input(\"brd of rectangle:\"))\n",
    "a=L*b\n",
    "print(a)\n",
    "\n",
    "\n",
    "\n"
   ]
  },
  {
   "cell_type": "code",
   "execution_count": 50,
   "id": "a45c43a6-1365-426b-b018-22f4d9464d9e",
   "metadata": {},
   "outputs": [
    {
     "name": "stdin",
     "output_type": "stream",
     "text": [
      "enter var1 12\n",
      "enter var2 23\n",
      "enter var3 34\n"
     ]
    },
    {
     "name": "stdout",
     "output_type": "stream",
     "text": [
      "average of numbers is: 23.0\n"
     ]
    }
   ],
   "source": [
    "n1=eval(input(\"enter var1\") ) #n1= '100'\n",
    "n2=eval(input(\"enter var2\"))  #n2= '200'\n",
    "n3=eval(input(\"enter var3\"))\n",
    "avg=(n1+n2+n3)/3\n",
    "print (f\"average of numbers is: {avg}\") \n"
   ]
  },
  {
   "cell_type": "code",
   "execution_count": 56,
   "id": "ee2b5424-1067-48f2-811e-318b61bb83a6",
   "metadata": {},
   "outputs": [
    {
     "name": "stdin",
     "output_type": "stream",
     "text": [
      "enter name:  sreya\n",
      "enter age:  23\n",
      "enter city: bollarum\n"
     ]
    },
    {
     "name": "stdout",
     "output_type": "stream",
     "text": [
      "my name is sreya iam 23 years old i came from bollarum\n"
     ]
    }
   ],
   "source": [
    "\n",
    "str1=input(\"enter name: \")\n",
    "str2=input(\"enter age: \")\n",
    "str3=input(\"enter city:\")\n",
    "\n",
    "print(f\"my name is {str1} iam {str2} years old i came from {str3}\")\n",
    "           "
   ]
  },
  {
   "cell_type": "code",
   "execution_count": 46,
   "id": "e0366d91-0817-45bf-9cdf-cf68dd765df3",
   "metadata": {},
   "outputs": [
    {
     "name": "stdin",
     "output_type": "stream",
     "text": [
      "radius: 7\n",
      "pi : 3.14\n"
     ]
    },
    {
     "name": "stdout",
     "output_type": "stream",
     "text": [
      "area of circle is:153.86\n"
     ]
    }
   ],
   "source": [
    "r=eval(input(\"radius:\"))\n",
    "pi=eval(input(\"pi :\"))\n",
    "a=pi*r*r\n",
    "print(f\"area of circle is:{a}\")\n",
    "\n"
   ]
  },
  {
   "cell_type": "code",
   "execution_count": 58,
   "id": "a18925e5-7868-480b-bd3e-8ee0bb94b628",
   "metadata": {},
   "outputs": [
    {
     "ename": "SyntaxError",
     "evalue": "invalid decimal literal (594198584.py, line 1)",
     "output_type": "error",
     "traceback": [
      "\u001b[1;36m  Cell \u001b[1;32mIn[58], line 1\u001b[1;36m\u001b[0m\n\u001b[1;33m    1$=85rs\u001b[0m\n\u001b[1;37m        ^\u001b[0m\n\u001b[1;31mSyntaxError\u001b[0m\u001b[1;31m:\u001b[0m invalid decimal literal\n"
     ]
    }
   ],
   "source": [
    "\n",
    "1$=85rs\n",
    "\n",
    "var1=eval(input(\"enter amount in dollar\"))\n"
   ]
  },
  {
   "cell_type": "code",
   "execution_count": null,
   "id": "ec865033-5dfc-4202-a5ec-7f59eb9a61f4",
   "metadata": {},
   "outputs": [],
   "source": []
  }
 ],
 "metadata": {
  "kernelspec": {
   "display_name": "Python [conda env:base] *",
   "language": "python",
   "name": "conda-base-py"
  },
  "language_info": {
   "codemirror_mode": {
    "name": "ipython",
    "version": 3
   },
   "file_extension": ".py",
   "mimetype": "text/x-python",
   "name": "python",
   "nbconvert_exporter": "python",
   "pygments_lexer": "ipython3",
   "version": "3.12.7"
  }
 },
 "nbformat": 4,
 "nbformat_minor": 5
}
