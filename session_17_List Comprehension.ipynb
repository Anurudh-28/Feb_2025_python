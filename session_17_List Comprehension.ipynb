{
 "cells": [
  {
   "cell_type": "markdown",
   "id": "c3648643-87d6-494d-9eb6-428e66c2e8a0",
   "metadata": {},
   "source": [
    "**list comprehension**\n",
    "\n",
    " -  list comprehension a way to write list operators in a single line\n",
    "\n",
    " -  when we apply for loop and if-else conditional statements then the code complication becomes slow\n",
    "\n",
    " -  which means it takes much time\n",
    "\n",
    " - in order to avoid the time complexity we will use list comprehension\n",
    "\n",
    " - list comprehension is a single line code"
   ]
  },
  {
   "cell_type": "markdown",
   "id": "df6c8e7d-2908-4115-8eaf-f51975b9f702",
   "metadata": {},
   "source": [
    "**case-1: only for loop**"
   ]
  },
  {
   "cell_type": "code",
   "execution_count": 7,
   "id": "4ae76a83-35ae-4b3d-a56c-ef90b0bef4f4",
   "metadata": {},
   "outputs": [
    {
     "data": {
      "text/plain": [
       "[0, 1, 2, 3, 4, 5, 6, 7, 8, 9]"
      ]
     },
     "execution_count": 7,
     "metadata": {},
     "output_type": "execute_result"
    }
   ],
   "source": [
    "list1=[]\n",
    "for i in range(10):\n",
    "    list1.append(i)\n",
    "\n",
    "list1"
   ]
  },
  {
   "cell_type": "code",
   "execution_count": null,
   "id": "eedca76c-4b8c-4480-b0e1-2a520ef64fe5",
   "metadata": {},
   "outputs": [],
   "source": [
    "##list1=[][code should write here]\n",
    "############################\n",
    "##list1=[<output varaibale> <for loop without semicolon>]"
   ]
  },
  {
   "cell_type": "code",
   "execution_count": 12,
   "id": "324c81a0-17fd-49af-ae2f-6f5ba51eca31",
   "metadata": {},
   "outputs": [
    {
     "data": {
      "text/plain": [
       "[0, 1, 2, 3, 4, 5, 6, 7, 8, 9]"
      ]
     },
     "execution_count": 12,
     "metadata": {},
     "output_type": "execute_result"
    }
   ],
   "source": [
    "list1=[i for i in range(10)]\n",
    "list1     "
   ]
  },
  {
   "cell_type": "code",
   "execution_count": 21,
   "id": "45fc4894-82e8-444c-953d-7aded801c435",
   "metadata": {},
   "outputs": [
    {
     "data": {
      "text/plain": [
       "['HYD', 'BENGALURU', 'PUNE', 'MUMBAI']"
      ]
     },
     "execution_count": 21,
     "metadata": {},
     "output_type": "execute_result"
    }
   ],
   "source": [
    "#Q3) input=['hyd','bengaluru','pune','mumbai']\n",
    "#     output=['HYD','Bengaluru','PUNE','Mumbai']\n",
    "\n",
    "input=['hyd','bengaluru','pune','mumbai']\n",
    "[i.upper() for i in input]\n"
   ]
  },
  {
   "cell_type": "code",
   "execution_count": 23,
   "id": "ed5271e3-1af0-4cda-a46e-cccfa0c65e81",
   "metadata": {},
   "outputs": [
    {
     "data": {
      "text/plain": [
       "['Hyd', 'Bengaluru', 'Pune', 'Mumbai']"
      ]
     },
     "execution_count": 23,
     "metadata": {},
     "output_type": "execute_result"
    }
   ],
   "source": [
    "#input=['hyd','bengaluru','pune','mumbai']\n",
    "#for i in input:\n",
    "[i.title() for i in input]"
   ]
  },
  {
   "cell_type": "code",
   "execution_count": null,
   "id": "40583d6e-75bd-4915-bb31-bc81d89db7bd",
   "metadata": {},
   "outputs": [],
   "source": [
    "input=['hyd','bengaluru','pune','mumbai']\n",
    "for i in input:\n",
    "    print(input.index(i)*10)"
   ]
  },
  {
   "cell_type": "code",
   "execution_count": 101,
   "id": "2f59eff9-8190-4432-8223-4d12483ea243",
   "metadata": {},
   "outputs": [
    {
     "name": "stdout",
     "output_type": "stream",
     "text": [
      "0\n",
      "10\n",
      "20\n",
      "30\n"
     ]
    }
   ],
   "source": [
    "input=['hyd','bengaluru','pune','mumbai']\n",
    "for i in input:\n",
    "    print(input.index(i)*10)"
   ]
  },
  {
   "cell_type": "code",
   "execution_count": 25,
   "id": "37f90a1a-c2e7-4b8f-8607-029bf0ff91e8",
   "metadata": {},
   "outputs": [
    {
     "data": {
      "text/plain": [
       "[0, 10, 20, 30]"
      ]
     },
     "execution_count": 25,
     "metadata": {},
     "output_type": "execute_result"
    }
   ],
   "source": [
    "input=['hyd','bengaluru','pune','mumbai']\n",
    "[input.index(i)*10 for i in input]\n"
   ]
  },
  {
   "cell_type": "code",
   "execution_count": 81,
   "id": "7d2ae89f-81a4-4742-8e7c-10fafdc28ee5",
   "metadata": {},
   "outputs": [
    {
     "data": {
      "text/plain": [
       "6"
      ]
     },
     "execution_count": 81,
     "metadata": {},
     "output_type": "execute_result"
    }
   ],
   "source": [
    "input=['hyd','bengaluru','pune','mumbai']\n",
    "summ=0\n",
    "for i in range(len(input)):\n",
    "    summ=summ+i\n",
    "\n",
    "summ"
   ]
  },
  {
   "cell_type": "code",
   "execution_count": 70,
   "id": "81fc0d3f-e0a9-4180-9eaa-cd2d2f7b58e1",
   "metadata": {},
   "outputs": [
    {
     "data": {
      "text/plain": [
       "60"
      ]
     },
     "execution_count": 70,
     "metadata": {},
     "output_type": "execute_result"
    }
   ],
   "source": [
    "input=['hyd','bengaluru','pune','mumbai']\n",
    "l=[input.index(i)*10 for i in input]\n",
    "sum(l)"
   ]
  },
  {
   "cell_type": "markdown",
   "id": "593f91a6-28f5-49ac-81f9-744b96e92dd6",
   "metadata": {},
   "source": [
    "**warlus operator**"
   ]
  },
  {
   "cell_type": "code",
   "execution_count": 91,
   "id": "f345011a-7b3e-4d35-a33a-cdf3cc6d0204",
   "metadata": {},
   "outputs": [
    {
     "data": {
      "text/plain": [
       "[1, 3, 6, 10, 15, 21, 28, 36, 45, 55]"
      ]
     },
     "execution_count": 91,
     "metadata": {},
     "output_type": "execute_result"
    }
   ],
   "source": [
    "summ=0\n",
    "[summ:=summ+i for i in range(1,11)]\n"
   ]
  },
  {
   "cell_type": "code",
   "execution_count": 93,
   "id": "17b819f7-7f61-4074-bebc-25226499c720",
   "metadata": {},
   "outputs": [
    {
     "data": {
      "text/plain": [
       "55"
      ]
     },
     "execution_count": 93,
     "metadata": {},
     "output_type": "execute_result"
    }
   ],
   "source": [
    "summ=0\n",
    "[summ:=summ+i for i in range(1,11)]\n",
    "summ"
   ]
  },
  {
   "cell_type": "markdown",
   "id": "2c6fe69d-c167-427b-9563-5ba3a9d39d81",
   "metadata": {},
   "source": [
    "**case-2 for loop if condition**\n"
   ]
  },
  {
   "cell_type": "code",
   "execution_count": 111,
   "id": "01ababac-1000-4832-b386-02f2dadbd5d1",
   "metadata": {},
   "outputs": [
    {
     "data": {
      "text/plain": [
       "['even:2', 'even:4', 'even:6', 'even:8']"
      ]
     },
     "execution_count": 111,
     "metadata": {},
     "output_type": "execute_result"
    }
   ],
   "source": [
    "#even number\n",
    "even_list=[]\n",
    "for i in range(1,10):\n",
    "    if i%2==0:\n",
    "        even_list.append(f'even:{i}')\n",
    "\n",
    "even_list"
   ]
  },
  {
   "cell_type": "code",
   "execution_count": null,
   "id": "9e9b7f48-ebe6-48f9-be29-17b1eabc4f40",
   "metadata": {},
   "outputs": [],
   "source": [
    "[<output> <if condn> <for loop>]\n",
    "[<output> <for condn> <if loop>]"
   ]
  },
  {
   "cell_type": "code",
   "execution_count": 15,
   "id": "33cf1c40-e8d0-47c4-a1a7-e62cb5b9b688",
   "metadata": {},
   "outputs": [
    {
     "ename": "SyntaxError",
     "evalue": "invalid syntax (3153473591.py, line 1)",
     "output_type": "error",
     "traceback": [
      "\u001b[1;36m  Cell \u001b[1;32mIn[15], line 1\u001b[1;36m\u001b[0m\n\u001b[1;33m    [even:{i} if i%2==0 for i in range(1,11)]\u001b[0m\n\u001b[1;37m         ^\u001b[0m\n\u001b[1;31mSyntaxError\u001b[0m\u001b[1;31m:\u001b[0m invalid syntax\n"
     ]
    }
   ],
   "source": [
    "[even:{i} if i%2==0 for i in range(1,11)]\n"
   ]
  },
  {
   "cell_type": "code",
   "execution_count": 13,
   "id": "4571a04e-5517-40c1-8776-2371642f718c",
   "metadata": {},
   "outputs": [
    {
     "data": {
      "text/plain": [
       "['even:2', 'even:4', 'even:6', 'even:8', 'even:10']"
      ]
     },
     "execution_count": 13,
     "metadata": {},
     "output_type": "execute_result"
    }
   ],
   "source": [
    "[f'even:{i}' for i in range(1,11) if i%2==0]"
   ]
  },
  {
   "cell_type": "code",
   "execution_count": 17,
   "id": "9fddd852-9d0c-480e-9942-1f84c11400dc",
   "metadata": {},
   "outputs": [
    {
     "data": {
      "text/plain": [
       "['hyd', 'pune']"
      ]
     },
     "execution_count": 17,
     "metadata": {},
     "output_type": "execute_result"
    }
   ],
   "source": [
    "# Q5) # Q5) input=['hyd','ben#galuru','pune','mu#mbai']\n",
    "#     output=[ben#galuru',mu#mbai']\n",
    "\n",
    "   #output=[ben#galuru',mu#mbai']\n",
    "\n",
    "\n",
    "input=['hyd','ben#galuru','pune','mu#mbai']\n",
    "[i for i in input if '#' not in i]\n",
    "\n"
   ]
  },
  {
   "cell_type": "code",
   "execution_count": 19,
   "id": "52d49318-a4c8-4faa-ad27-75ce58f0ea73",
   "metadata": {},
   "outputs": [
    {
     "data": {
      "text/plain": [
       "['ben#galuru', 'mu#mbai']"
      ]
     },
     "execution_count": 19,
     "metadata": {},
     "output_type": "execute_result"
    }
   ],
   "source": [
    "\n",
    "input=['hyd','ben#galuru','pune','mu#mbai']\n",
    "[i for i in input if '#' in i]"
   ]
  },
  {
   "cell_type": "markdown",
   "id": "fa2252b8-24b3-4b39-a27b-adce90ff5326",
   "metadata": {},
   "source": [
    "**case-3 for loop if else**"
   ]
  },
  {
   "cell_type": "code",
   "execution_count": null,
   "id": "57742ea9-3482-4d8f-8c89-f6b69a413a43",
   "metadata": {},
   "outputs": [],
   "source": [
    " -  case-1 only for loop: [<output> <for loop>\n",
    "\n",
    " -  case-2 only for - if : [<output> <for loop> <if condn>]\n",
    "\n",
    " -  case-3 only for-if-else : [< ifoutput> <if condn> else <else ouput><for loop>]\n"
   ]
  },
  {
   "cell_type": "code",
   "execution_count": 35,
   "id": "1ebfbd83-425b-40e7-85f9-d16467614591",
   "metadata": {},
   "outputs": [
    {
     "data": {
      "text/plain": [
       "['odd:1',\n",
       " 'even:2',\n",
       " 'odd:3',\n",
       " 'even:4',\n",
       " 'odd:5',\n",
       " 'even:6',\n",
       " 'odd:7',\n",
       " 'even:8',\n",
       " 'odd:9']"
      ]
     },
     "execution_count": 35,
     "metadata": {},
     "output_type": "execute_result"
    }
   ],
   "source": [
    "list=[]\n",
    "for i in range(1,10):\n",
    "    if i%2==0:\n",
    "        list.append(f'even:{i}')\n",
    "    else:\n",
    "        list.append(f'odd:{i}')\n",
    "    \n",
    "list"
   ]
  },
  {
   "cell_type": "code",
   "execution_count": 29,
   "id": "b75b10c0-f9d2-4b47-84fe-bf43e3b6896f",
   "metadata": {},
   "outputs": [
    {
     "data": {
      "text/plain": [
       "['odd:1',\n",
       " 'even:2',\n",
       " 'odd:3',\n",
       " 'even:4',\n",
       " 'odd:5',\n",
       " 'even:6',\n",
       " 'odd:7',\n",
       " 'even:8',\n",
       " 'odd:9',\n",
       " 'even:10']"
      ]
     },
     "execution_count": 29,
     "metadata": {},
     "output_type": "execute_result"
    }
   ],
   "source": [
    "[f'even:{i}' if i%2==0 else f'odd:{i}' for i in range(1,11)]"
   ]
  },
  {
   "cell_type": "markdown",
   "id": "5f6d0aa0-4b1f-4559-8ef1-d301a1dba916",
   "metadata": {},
   "source": [
    "**case-4: for-if-elif-else**\n",
    "\n",
    " -  in list comprehension we dont have **elif** represntation\n",
    "\n",
    " -  elif aslo represented as **else+if**\n",
    "\n",
    " -  in elif we have **elif condition**nand **elif ouput**\n",
    "\n",
    " -  else elif_ouput elif_condition"
   ]
  },
  {
   "cell_type": "code",
   "execution_count": null,
   "id": "d9e4ca20-a04c-4db4-9c93-cf75be6d9f38",
   "metadata": {},
   "outputs": [],
   "source": [
    "-  case-1 only for loop: [<output> <for loop>\n",
    "\n",
    " -  case-2 only for - if : [<output> <for loop> <if condn>]\n",
    "\n",
    " -  case-3 only for-if-else : [< ifoutput> <if condn> else <else ouput><for loop>]\n",
    "\n",
    " -  case-4 only for-if-elif-else : [< if output> <if condn>else<elif output>else<elif condn> else <else ouput><for loop>]\n",
    "\n",
    "\n",
    "** note:**: insted of elif term write if"
   ]
  },
  {
   "cell_type": "code",
   "execution_count": 54,
   "id": "4f0fe56d-95e7-49dd-b0c3-d93e35727131",
   "metadata": {},
   "outputs": [
    {
     "data": {
      "text/plain": [
       "['23:c', '56:c', '78:B', '99:A', '67:B', '45:c']"
      ]
     },
     "execution_count": 54,
     "metadata": {},
     "output_type": "execute_result"
    }
   ],
   "source": [
    "l=[23,56,78,99,67,45]\n",
    "[f'{i}:A' if i>95  else f'{i}:B' if i>60  else f'{i}:c'  for i in l]"
   ]
  },
  {
   "cell_type": "code",
   "execution_count": 56,
   "id": "97047542-554b-4ec5-9447-3f9d6f3fc2fd",
   "metadata": {},
   "outputs": [
    {
     "data": {
      "text/plain": [
       "['23:c', '56:c', '78:B', '99:A', '67:B', '45:c']"
      ]
     },
     "execution_count": 56,
     "metadata": {},
     "output_type": "execute_result"
    }
   ],
   "source": [
    "l=[23,56,78,99,67,45]\n",
    "[f'{i}:A' if i>95 \\\n",
    " else\n",
    " f'{i}:B' if i>60 \\\n",
    " else \n",
    " f'{i}:c'  for i in l]"
   ]
  },
  {
   "cell_type": "markdown",
   "id": "9292b153-ee2a-4f14-ba57-5a11cff893bc",
   "metadata": {},
   "source": [
    "**screening paper question**"
   ]
  },
  {
   "cell_type": "code",
   "execution_count": 5,
   "id": "aacfdcb0-a06c-4b18-b865-8d513d242db9",
   "metadata": {},
   "outputs": [],
   "source": [
    "marks=[45,76,89,53,67,90,82,49,33,99]\n"
   ]
  },
  {
   "cell_type": "code",
   "execution_count": 7,
   "id": "90698126-9061-4cea-832a-7565b698bc27",
   "metadata": {},
   "outputs": [
    {
     "data": {
      "text/plain": [
       "[76, 89, 53, 67, 90, 82, 99]"
      ]
     },
     "execution_count": 7,
     "metadata": {},
     "output_type": "execute_result"
    }
   ],
   "source": [
    "# Q1) Filter the students who passes marks>=50\n",
    "# for i in marks:\n",
    "#     if i>=50:\n",
    "#         print(marks.index(i))\n",
    "\n",
    "[i for i in marks if i>=50]"
   ]
  },
  {
   "cell_type": "code",
   "execution_count": 9,
   "id": "55bd31be-0cf4-4f38-9999-dbb4e3169d7f",
   "metadata": {},
   "outputs": [
    {
     "name": "stdout",
     "output_type": "stream",
     "text": [
      "45:F\n",
      "76:B\n",
      "89:A\n",
      "53:C\n",
      "67:C\n",
      "90:A\n",
      "82:B\n",
      "49:F\n",
      "33:F\n",
      "99:A\n"
     ]
    }
   ],
   "source": [
    "# Q2) calculate grades of all students\n",
    "# A: 85+   B: 70-84  C: 50-69 F< 50\n",
    "for i in marks:\n",
    "    if i>=85:\n",
    "        print(f'{i}:A')\n",
    "    elif i>=70:\n",
    "        print(f'{i}:B')\n",
    "    elif i>=50:\n",
    "        print(f'{i}:C')\n",
    "    else:\n",
    "        print(f'{i}:F')\n",
    "\n"
   ]
  },
  {
   "cell_type": "code",
   "execution_count": 11,
   "id": "62b12f34-544b-4097-8404-af95af72a8b6",
   "metadata": {},
   "outputs": [
    {
     "name": "stdout",
     "output_type": "stream",
     "text": [
      "['Marks = 45 : F grade.', 'Marks = 76 : B grade.', 'Marks = 89 : A grade.', 'Marks = 53 : C grade.', 'Marks = 67 : C grade.', 'Marks = 90 : A grade.', 'Marks = 82 : B grade.', 'Marks = 49 : F grade.', 'Marks = 33 : F grade.', 'Marks = 99 : A grade.']\n"
     ]
    }
   ],
   "source": [
    "marks = [45,76,89,53,67,90,82,49,33,99]\n",
    "grades_list = [f\"Marks = {i} : A grade.\" if i>=85 else f\"Marks = {i} : B grade.\" if i>=70 else f\"Marks = {i} : C grade.\" if i>=50 else f\"Marks = {i} : F grade.\" for i in marks]\n",
    "print(grades_list)"
   ]
  },
  {
   "cell_type": "code",
   "execution_count": 13,
   "id": "8acfee50-0b94-49a7-9c2d-d1f707c40d9c",
   "metadata": {},
   "outputs": [
    {
     "data": {
      "text/plain": [
       "['Marks = 45 : F grade.',\n",
       " 'Marks = 76 : B grade.',\n",
       " 'Marks = 89 : A grade.',\n",
       " 'Marks = 53 : C grade.',\n",
       " 'Marks = 67 : C grade.',\n",
       " 'Marks = 90 : A grade.',\n",
       " 'Marks = 82 : B grade.',\n",
       " 'Marks = 49 : F grade.',\n",
       " 'Marks = 33 : F grade.',\n",
       " 'Marks = 99 : A grade.']"
      ]
     },
     "execution_count": 13,
     "metadata": {},
     "output_type": "execute_result"
    }
   ],
   "source": [
    "[f\"Marks = {i} : A grade.\" if i>=85\n",
    "else f\"Marks = {i} : B grade.\" if i>=70\n",
    "else f\"Marks = {i} : C grade.\" if i>=50\n",
    "else f\"Marks = {i} : F grade.\"\n",
    "for i in marks]"
   ]
  },
  {
   "cell_type": "code",
   "execution_count": 15,
   "id": "024213ce-b88a-4fe0-9384-330e29330cd0",
   "metadata": {},
   "outputs": [
    {
     "data": {
      "text/plain": [
       "[50, 54, 38]"
      ]
     },
     "execution_count": 15,
     "metadata": {},
     "output_type": "execute_result"
    }
   ],
   "source": [
    "# Q3) Add 5 marks grace to failed\n",
    "\n",
    "# for i in marks:\n",
    "#     if i<50:\n",
    "#         print(i+5)\n",
    "[i+5 for i in marks if i<50]"
   ]
  },
  {
   "cell_type": "code",
   "execution_count": 17,
   "id": "6f79076f-9bf8-40d9-bfd8-fd4efa2d5db2",
   "metadata": {},
   "outputs": [
    {
     "data": {
      "text/plain": [
       "[45, 76, 89, 53, 67, 90, 82, 49, 33, 99]"
      ]
     },
     "execution_count": 17,
     "metadata": {},
     "output_type": "execute_result"
    }
   ],
   "source": [
    "# Q4) top 5\n",
    "marks\n",
    "# with out using sorted or sort method sort all the values\n"
   ]
  },
  {
   "cell_type": "code",
   "execution_count": 56,
   "id": "85d38e4f-7e2e-4ea7-93e2-500c924b2837",
   "metadata": {},
   "outputs": [
    {
     "name": "stdout",
     "output_type": "stream",
     "text": [
      "[99, 90, 89, 82]\n"
     ]
    }
   ],
   "source": [
    "marks = [45,76,89,53,67,90,82,49,33,99]\n",
    "top_3 = [(max_val:= max(marks), marks.remove(max_val))[0] for i in range(4)]\n",
    "print(top_3)"
   ]
  },
  {
   "cell_type": "code",
   "execution_count": 52,
   "id": "86ce5403-3202-41c7-a5ad-e18a985fb7f5",
   "metadata": {},
   "outputs": [
    {
     "name": "stdout",
     "output_type": "stream",
     "text": [
      "99\n",
      "90\n",
      "89\n"
     ]
    }
   ],
   "source": [
    "marks = [45,76,89,53,67,90,82,49,33,99]\n",
    "max_val=max(marks) # 99\n",
    "for i in range(3):\n",
    "    max_val=max(marks) # 99 90 89\n",
    "    print(max_val)     # 99 90 89\n",
    "    marks.remove(max_val) ## 99 gone 90 89"
   ]
  },
  {
   "cell_type": "code",
   "execution_count": 23,
   "id": "3f07c0a8-4aec-4f67-9d36-fbbbc1bd6505",
   "metadata": {},
   "outputs": [
    {
     "data": {
      "text/plain": [
       "68.3"
      ]
     },
     "execution_count": 23,
     "metadata": {},
     "output_type": "execute_result"
    }
   ],
   "source": [
    "# Find the avergae marks\n",
    "\n",
    "summ=0\n",
    "marks = [45,76,89,53,67,90,82,49,33,99]\n",
    "[summ:=summ+i for i in marks]\n",
    "summ/len(marks)"
   ]
  },
  {
   "cell_type": "code",
   "execution_count": null,
   "id": "569881ca-d9c8-4bce-9585-ff4e602efcf9",
   "metadata": {},
   "outputs": [],
   "source": []
  },
  {
   "cell_type": "markdown",
   "id": "b0c45f8e-642d-41ad-b7d0-b714d73fc316",
   "metadata": {},
   "source": [
    "**distance between two points**\n"
   ]
  },
  {
   "cell_type": "code",
   "execution_count": 26,
   "id": "6c2d6d61-a4de-4f88-9311-62e0aa5eed20",
   "metadata": {},
   "outputs": [],
   "source": [
    "l1=[[1,2],[4,5],[7,9]]\n",
    "l2=[10,20]\n",
    "# find the distance between l2 with all other points from l1\n",
    "# which is the maximum distance give me that"
   ]
  },
  {
   "cell_type": "code",
   "execution_count": 31,
   "id": "e666b240-ad40-4ee9-8d99-0af785a19f58",
   "metadata": {},
   "outputs": [
    {
     "data": {
      "text/plain": [
       "28.284271247461902"
      ]
     },
     "execution_count": 31,
     "metadata": {},
     "output_type": "execute_result"
    }
   ],
   "source": [
    "import math\n",
    "l1=[10,20]  # [x1,y1]\n",
    "l2=[30,40]  # [x2,y2]\n",
    "##########################################\n",
    "d1=l2[0]-l1[0] # (x2-x1)^2= 30-10=20\n",
    "d1_square=math.pow(d1,2)\n",
    "d1_square\n",
    "#######################################\n",
    "d2=l2[1]-l1[1] # (y2-y1)^2= 40-20=20\n",
    "d2_square=math.pow(d2,2)\n",
    "d2_square\n",
    "######################################\n",
    "summ=d1_square+d2_square\n",
    "##########################################\n",
    "math.sqrt(summ)"
   ]
  },
  {
   "cell_type": "code",
   "execution_count": 33,
   "id": "3be26f5e-a112-421e-ae18-ef2e5f29fb83",
   "metadata": {},
   "outputs": [
    {
     "data": {
      "text/plain": [
       "28.284271247461902"
      ]
     },
     "execution_count": 33,
     "metadata": {},
     "output_type": "execute_result"
    }
   ],
   "source": [
    "math.sqrt(math.pow(l2[0]-l1[0],2)+math.pow(l2[1]-l1[1],2))"
   ]
  },
  {
   "cell_type": "code",
   "execution_count": 37,
   "id": "da34959a-15d0-4393-83d3-1887f2d5b8d8",
   "metadata": {},
   "outputs": [
    {
     "name": "stdout",
     "output_type": "stream",
     "text": [
      "100\n",
      "100\n",
      "400\n",
      "500\n"
     ]
    },
    {
     "data": {
      "text/plain": [
       "22.360679774997898"
      ]
     },
     "execution_count": 37,
     "metadata": {},
     "output_type": "execute_result"
    }
   ],
   "source": [
    "import math\n",
    "l1 = [10, 20]\n",
    "l2 = [20, 40]\n",
    "co_diff = 0\n",
    "for j in range(len(l2)):\n",
    "    co_diff += pow(l2[j] - l1[j], 2)\n",
    "    print(pow(l2[j] - l1[j], 2))\n",
    "    print(co_diff)\n",
    "\n",
    "output = math.sqrt(co_diff)\n",
    "output"
   ]
  },
  {
   "cell_type": "code",
   "execution_count": null,
   "id": "221b656f-62c8-45bb-bf87-61995b253688",
   "metadata": {},
   "outputs": [],
   "source": [
    "# how to sort the list\n",
    "# how to find the maximum value of the list\n",
    "# how to find the minimum value of the list\n",
    "# how to find the second maximum value of the list\n",
    "# how to find the second minimum value of the list\n",
    "# how to find the longest word of a string\n",
    "# how to find the most repeated word of a string\n",
    "\n",
    "[10,20,30,35,120,500,490,320,240,120]"
   ]
  },
  {
   "cell_type": "code",
   "execution_count": null,
   "id": "f685d482-33fc-49ac-9802-f722bd3e5d7b",
   "metadata": {},
   "outputs": [],
   "source": []
  }
 ],
 "metadata": {
  "kernelspec": {
   "display_name": "Python [conda env:base] *",
   "language": "python",
   "name": "conda-base-py"
  },
  "language_info": {
   "codemirror_mode": {
    "name": "ipython",
    "version": 3
   },
   "file_extension": ".py",
   "mimetype": "text/x-python",
   "name": "python",
   "nbconvert_exporter": "python",
   "pygments_lexer": "ipython3",
   "version": "3.12.7"
  }
 },
 "nbformat": 4,
 "nbformat_minor": 5
}
