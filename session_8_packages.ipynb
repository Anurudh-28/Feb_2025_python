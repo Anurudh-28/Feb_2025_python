{
 "cells": [
  {
   "cell_type": "code",
   "execution_count": null,
   "id": "fde7ff7b-394a-43ee-bed7-063f32f52212",
   "metadata": {},
   "outputs": [],
   "source": [
    "# syntax:\n",
    "\n",
    "import <package name>"
   ]
  },
  {
   "cell_type": "code",
   "execution_count": null,
   "id": "788d9aed-4673-4a03-aed1-ce899605395a",
   "metadata": {},
   "outputs": [],
   "source": [
    "package name: random\n",
    "\n",
    "package name: math\n",
    "\n",
    "package name: time\n",
    "\n",
    "package name: keyword\n",
    "\n",
    "package name:pandas\n",
    "\n",
    "package name: numpy\n",
    "\n",
    "package name: cv2"
   ]
  },
  {
   "cell_type": "code",
   "execution_count": 4,
   "id": "3f055e1d-8440-47d1-9d53-e42747edab3e",
   "metadata": {},
   "outputs": [],
   "source": [
    "import random\n",
    "\n",
    "import math\n",
    "\n",
    "import numpy"
   ]
  },
  {
   "cell_type": "code",
   "execution_count": 6,
   "id": "12d73571-77aa-4d45-a97b-c14f6c726e42",
   "metadata": {},
   "outputs": [],
   "source": [
    "import keyword\n"
   ]
  },
  {
   "cell_type": "code",
   "execution_count": 8,
   "id": "4a9563c5-9358-49bf-83a0-16a6e590ab96",
   "metadata": {},
   "outputs": [],
   "source": [
    "import pandas"
   ]
  },
  {
   "cell_type": "code",
   "execution_count": 10,
   "id": "77f2959f-8259-43d7-a15b-b146bbf3df81",
   "metadata": {},
   "outputs": [],
   "source": [
    "import numpy"
   ]
  },
  {
   "cell_type": "code",
   "execution_count": 14,
   "id": "5f0febca-a24d-45bd-b451-1875ca6e8797",
   "metadata": {},
   "outputs": [
    {
     "ename": "ModuleNotFoundError",
     "evalue": "No module named 'cv2'",
     "output_type": "error",
     "traceback": [
      "\u001b[1;31m---------------------------------------------------------------------------\u001b[0m",
      "\u001b[1;31mModuleNotFoundError\u001b[0m                       Traceback (most recent call last)",
      "Cell \u001b[1;32mIn[14], line 1\u001b[0m\n\u001b[1;32m----> 1\u001b[0m \u001b[38;5;28;01mimport\u001b[39;00m \u001b[38;5;21;01mcv2\u001b[39;00m\n",
      "\u001b[1;31mModuleNotFoundError\u001b[0m: No module named 'cv2'"
     ]
    }
   ],
   "source": [
    "import cv2"
   ]
  },
  {
   "cell_type": "code",
   "execution_count": 16,
   "id": "60ab11c5-465d-41e9-90d1-6553df0100bc",
   "metadata": {},
   "outputs": [
    {
     "ename": "ModuleNotFoundError",
     "evalue": "No module named 'addition'",
     "output_type": "error",
     "traceback": [
      "\u001b[1;31m---------------------------------------------------------------------------\u001b[0m",
      "\u001b[1;31mModuleNotFoundError\u001b[0m                       Traceback (most recent call last)",
      "Cell \u001b[1;32mIn[16], line 1\u001b[0m\n\u001b[1;32m----> 1\u001b[0m \u001b[38;5;28;01mimport\u001b[39;00m \u001b[38;5;21;01maddition\u001b[39;00m\n",
      "\u001b[1;31mModuleNotFoundError\u001b[0m: No module named 'addition'"
     ]
    }
   ],
   "source": [
    "import addition"
   ]
  },
  {
   "cell_type": "markdown",
   "id": "8f3e64b4-0894-4104-af26-392e6cc09309",
   "metadata": {},
   "source": [
    " -  with this addition name no package available in your laptop\n",
    "\n",
    " - for you cv2 also not available in your laptop\n",
    "\n",
    " - whenever you got error always share two screenshots \n",
    "\n",
    "  -  the code line which you written \n",
    "\n",
    "  -  error screenshot till last line\n",
    "\n",
    "  -  eroor info always at last line only"
   ]
  },
  {
   "cell_type": "code",
   "execution_count": 19,
   "id": "6c467f21-36e3-4b03-bf12-4f6b07eba9ee",
   "metadata": {},
   "outputs": [],
   "source": [
    "import random"
   ]
  },
  {
   "cell_type": "code",
   "execution_count": 21,
   "id": "26cdcc51-2888-4cbd-8dc3-8b84a9790b58",
   "metadata": {},
   "outputs": [
    {
     "data": {
      "text/plain": [
       "<module 'random' from 'C:\\\\Users\\\\mukki\\\\anaconda3\\\\Lib\\\\random.py'>"
      ]
     },
     "execution_count": 21,
     "metadata": {},
     "output_type": "execute_result"
    }
   ],
   "source": [
    "random"
   ]
  },
  {
   "cell_type": "markdown",
   "id": "e8d4fb25-d704-420e-a2d7-0bbca01d6a40",
   "metadata": {},
   "source": [
    " -   package or module is a python code only\n",
    "\n",
    " -  many packages will automatically install while anaconda installation\n",
    "\n",
    " -  if any module not present\n",
    "\n",
    "    -  module not found error occurs\n",
    "\n",
    "     - how we call the package: **importpackagename**"
   ]
  },
  {
   "cell_type": "code",
   "execution_count": 25,
   "id": "aa9bdc7e-7f52-45a3-b791-51eee814cd92",
   "metadata": {},
   "outputs": [],
   "source": [
    "import random\n"
   ]
  },
  {
   "cell_type": "markdown",
   "id": "b52e6136-33d0-4c22-995a-839a62592f8c",
   "metadata": {},
   "source": [
    " -  random also have many sub functions\n",
    "\n",
    " -  these are called as methods\n",
    "\n",
    " -  in order to see the available methods\n",
    "\n",
    "      - dir(packagename)"
   ]
  },
  {
   "cell_type": "code",
   "execution_count": 31,
   "id": "45b97043-f02e-49c7-a568-db3531f60ff0",
   "metadata": {},
   "outputs": [
    {
     "data": {
      "text/plain": [
       "['BPF',\n",
       " 'LOG4',\n",
       " 'NV_MAGICCONST',\n",
       " 'RECIP_BPF',\n",
       " 'Random',\n",
       " 'SG_MAGICCONST',\n",
       " 'SystemRandom',\n",
       " 'TWOPI',\n",
       " '_ONE',\n",
       " '_Sequence',\n",
       " '__all__',\n",
       " '__builtins__',\n",
       " '__cached__',\n",
       " '__doc__',\n",
       " '__file__',\n",
       " '__loader__',\n",
       " '__name__',\n",
       " '__package__',\n",
       " '__spec__',\n",
       " '_accumulate',\n",
       " '_acos',\n",
       " '_bisect',\n",
       " '_ceil',\n",
       " '_cos',\n",
       " '_e',\n",
       " '_exp',\n",
       " '_fabs',\n",
       " '_floor',\n",
       " '_index',\n",
       " '_inst',\n",
       " '_isfinite',\n",
       " '_lgamma',\n",
       " '_log',\n",
       " '_log2',\n",
       " '_os',\n",
       " '_pi',\n",
       " '_random',\n",
       " '_repeat',\n",
       " '_sha512',\n",
       " '_sin',\n",
       " '_sqrt',\n",
       " '_test',\n",
       " '_test_generator',\n",
       " '_urandom',\n",
       " '_warn',\n",
       " 'betavariate',\n",
       " 'binomialvariate',\n",
       " 'choice',\n",
       " 'choices',\n",
       " 'expovariate',\n",
       " 'gammavariate',\n",
       " 'gauss',\n",
       " 'getrandbits',\n",
       " 'getstate',\n",
       " 'lognormvariate',\n",
       " 'normalvariate',\n",
       " 'paretovariate',\n",
       " 'randbytes',\n",
       " 'randint',\n",
       " 'random',\n",
       " 'randrange',\n",
       " 'sample',\n",
       " 'seed',\n",
       " 'setstate',\n",
       " 'shuffle',\n",
       " 'triangular',\n",
       " 'uniform',\n",
       " 'vonmisesvariate',\n",
       " 'weibullvariate']"
      ]
     },
     "execution_count": 31,
     "metadata": {},
     "output_type": "execute_result"
    }
   ],
   "source": [
    "#step-1: import packagename\n",
    "\n",
    "#step-2: dir(packagename)\n",
    "\n",
    "import random\n",
    "dir(random)"
   ]
  },
  {
   "cell_type": "code",
   "execution_count": null,
   "id": "12b08c68-0092-41da-bef0-2926deaa492a",
   "metadata": {},
   "outputs": [],
   "source": [
    "# method: randint\n",
    "\n",
    "# qn: what is randint\n",
    "\n",
    "\n",
    "# package name: random\n",
    "\n",
    "# method name: randint\n",
    "\n",
    "\n",
    "\n",
    "# module name: random\n",
    "\n",
    "#attribute name: randint\n",
    "\n"
   ]
  },
  {
   "cell_type": "code",
   "execution_count": 38,
   "id": "f3fb7656-adca-44dd-9669-fc68cf686309",
   "metadata": {},
   "outputs": [
    {
     "data": {
      "text/plain": [
       "<bound method Random.randint of <random.Random object at 0x0000028F2B3BB750>>"
      ]
     },
     "execution_count": 38,
     "metadata": {},
     "output_type": "execute_result"
    }
   ],
   "source": [
    "#step-1: import packagename\n",
    "\n",
    "#step-2: dir(packagename)\n",
    "\n",
    "#step-3: packagename.methodname\n",
    "\n",
    "\n",
    "\n",
    "\n",
    "import random\n",
    "\n",
    "dir(random)  # by dir(random) i want to call randint\n",
    "\n",
    "random.randint\n",
    "\n",
    "\n"
   ]
  },
  {
   "cell_type": "code",
   "execution_count": 40,
   "id": "e404086a-819d-4874-ad1f-820c62f639bc",
   "metadata": {},
   "outputs": [
    {
     "name": "stdout",
     "output_type": "stream",
     "text": [
      "Help on method randint in module random:\n",
      "\n",
      "randint(a, b) method of random.Random instance\n",
      "    Return random integer in range [a, b], including both end points.\n",
      "\n"
     ]
    }
   ],
   "source": [
    " help(random.randint)"
   ]
  },
  {
   "cell_type": "code",
   "execution_count": 88,
   "id": "4c220595-43b7-46ff-baad-8cfc28452674",
   "metadata": {},
   "outputs": [
    {
     "name": "stdout",
     "output_type": "stream",
     "text": [
      "Help on method randint in module random:\n",
      "\n",
      "randint(a, b) method of random.Random instance\n",
      "    Return random integer in range [a, b], including both end points.\n",
      "\n"
     ]
    },
    {
     "data": {
      "text/plain": [
       "10"
      ]
     },
     "execution_count": 88,
     "metadata": {},
     "output_type": "execute_result"
    }
   ],
   "source": [
    "import random\n",
    "dir(random)\n",
    "help(random.randint)\n",
    "random.randint(1,10)"
   ]
  },
  {
   "cell_type": "code",
   "execution_count": 108,
   "id": "ddac587a-02ed-4058-b558-ae749f044720",
   "metadata": {},
   "outputs": [
    {
     "name": "stdout",
     "output_type": "stream",
     "text": [
      "Help on built-in function random:\n",
      "\n",
      "random() method of random.Random instance\n",
      "    random() -> x in the interval [0, 1).\n",
      "\n"
     ]
    },
    {
     "data": {
      "text/plain": [
       "100"
      ]
     },
     "execution_count": 108,
     "metadata": {},
     "output_type": "execute_result"
    }
   ],
   "source": [
    "import random\n",
    "dir(random)\n",
    "help(random.randint)\n",
    "random.randint(20,100) "
   ]
  },
  {
   "cell_type": "code",
   "execution_count": 116,
   "id": "b21c7336-4a78-4238-a5ac-f39ef97de7c6",
   "metadata": {},
   "outputs": [
    {
     "ename": "TypeError",
     "evalue": "Random.randint() missing 2 required positional arguments: 'a' and 'b'",
     "output_type": "error",
     "traceback": [
      "\u001b[1;31m---------------------------------------------------------------------------\u001b[0m",
      "\u001b[1;31mTypeError\u001b[0m                                 Traceback (most recent call last)",
      "Cell \u001b[1;32mIn[116], line 2\u001b[0m\n\u001b[0;32m      1\u001b[0m \u001b[38;5;28;01mimport\u001b[39;00m \u001b[38;5;21;01mrandom\u001b[39;00m\n\u001b[1;32m----> 2\u001b[0m random\u001b[38;5;241m.\u001b[39mrandint()\n",
      "\u001b[1;31mTypeError\u001b[0m: Random.randint() missing 2 required positional arguments: 'a' and 'b'"
     ]
    }
   ],
   "source": [
    "import random\n",
    "random.randint()\n",
    "\n",
    "#take your cursor inside the bracket apply shit+tab\n",
    "# help function only return\n",
    "# the top name : Doc string"
   ]
  },
  {
   "cell_type": "code",
   "execution_count": 118,
   "id": "ebabca12-23ef-4704-a20b-a51f84553d9e",
   "metadata": {},
   "outputs": [
    {
     "data": {
      "text/plain": [
       "<bound method Random.randint of <random.Random object at 0x0000028F2B3BB750>>"
      ]
     },
     "execution_count": 118,
     "metadata": {},
     "output_type": "execute_result"
    }
   ],
   "source": [
    "import random\n",
    "random.randint"
   ]
  },
  {
   "cell_type": "code",
   "execution_count": 138,
   "id": "1b1a2a93-64d8-455e-8b19-8308288b77da",
   "metadata": {},
   "outputs": [
    {
     "data": {
      "text/plain": [
       "0.0293652394912276"
      ]
     },
     "execution_count": 138,
     "metadata": {},
     "output_type": "execute_result"
    }
   ],
   "source": [
    "#packagename is : random\n",
    "#method name is : random\n",
    "\n",
    "import random\n",
    "random.random()\n"
   ]
  },
  {
   "cell_type": "code",
   "execution_count": 140,
   "id": "021bf06b-fd0e-4c54-bdf1-dd219e43ef47",
   "metadata": {},
   "outputs": [
    {
     "data": {
      "text/plain": [
       "5.0"
      ]
     },
     "execution_count": 140,
     "metadata": {},
     "output_type": "execute_result"
    }
   ],
   "source": [
    "#packagename is : math\n",
    "#method name is : sqrt\n",
    "\n",
    "import math\n",
    "math.sqrt(25)"
   ]
  },
  {
   "cell_type": "code",
   "execution_count": 144,
   "id": "8e34f0b5-c870-4c5f-acba-1effc1a19b92",
   "metadata": {},
   "outputs": [
    {
     "data": {
      "text/plain": [
       "256.0"
      ]
     },
     "execution_count": 144,
     "metadata": {},
     "output_type": "execute_result"
    }
   ],
   "source": [
    "#packagename is : math\n",
    "#method name is : pow\n",
    "\n",
    "import math\n",
    "math.pow(4,4)\n"
   ]
  },
  {
   "cell_type": "code",
   "execution_count": 152,
   "id": "753225d5-5359-487d-8435-b796c1b6cc36",
   "metadata": {},
   "outputs": [
    {
     "data": {
      "text/plain": [
       "3.141592653589793"
      ]
     },
     "execution_count": 152,
     "metadata": {},
     "output_type": "execute_result"
    }
   ],
   "source": [
    "#packagename is : math\n",
    "#method name is : pi\n",
    "\n",
    "import math\n",
    "math.pi"
   ]
  },
  {
   "cell_type": "code",
   "execution_count": 154,
   "id": "f167b5bf-b3ca-4c1b-9db7-0d7906201e79",
   "metadata": {},
   "outputs": [
    {
     "data": {
      "text/plain": [
       "-0.27941549819892586"
      ]
     },
     "execution_count": 154,
     "metadata": {},
     "output_type": "execute_result"
    }
   ],
   "source": [
    "#packagename is : math\n",
    "#method name is :sin\n",
    "\n",
    "import math\n",
    "math.sin(6)"
   ]
  },
  {
   "cell_type": "code",
   "execution_count": 156,
   "id": "b7cd9310-4859-4b0b-892b-bec3e0268b9e",
   "metadata": {},
   "outputs": [
    {
     "data": {
      "text/plain": [
       "3.141592653589793"
      ]
     },
     "execution_count": 156,
     "metadata": {},
     "output_type": "execute_result"
    }
   ],
   "source": [
    "math.pi   # constant values dont need any brackets"
   ]
  },
  {
   "cell_type": "code",
   "execution_count": 158,
   "id": "203471e7-0857-46d5-841c-b1f4f9bfc202",
   "metadata": {},
   "outputs": [
    {
     "data": {
      "text/plain": [
       "<function math.pow(x, y, /)>"
      ]
     },
     "execution_count": 158,
     "metadata": {},
     "output_type": "execute_result"
    }
   ],
   "source": [
    "math.pow"
   ]
  },
  {
   "cell_type": "code",
   "execution_count": 160,
   "id": "4c7577de-6dc2-4b25-9948-be104156575a",
   "metadata": {},
   "outputs": [
    {
     "ename": "TypeError",
     "evalue": "pow expected 2 arguments, got 0",
     "output_type": "error",
     "traceback": [
      "\u001b[1;31m---------------------------------------------------------------------------\u001b[0m",
      "\u001b[1;31mTypeError\u001b[0m                                 Traceback (most recent call last)",
      "Cell \u001b[1;32mIn[160], line 1\u001b[0m\n\u001b[1;32m----> 1\u001b[0m math\u001b[38;5;241m.\u001b[39mpow()\n",
      "\u001b[1;31mTypeError\u001b[0m: pow expected 2 arguments, got 0"
     ]
    }
   ],
   "source": [
    "math.pow()"
   ]
  },
  {
   "cell_type": "code",
   "execution_count": 162,
   "id": "d06a5ff3-30ff-451e-b6c8-607457457140",
   "metadata": {},
   "outputs": [
    {
     "data": {
      "text/plain": [
       "2.718281828459045"
      ]
     },
     "execution_count": 162,
     "metadata": {},
     "output_type": "execute_result"
    }
   ],
   "source": [
    "math.e"
   ]
  },
  {
   "cell_type": "code",
   "execution_count": 164,
   "id": "af436b7e-4628-48dc-af23-91ea744636df",
   "metadata": {},
   "outputs": [
    {
     "data": {
      "text/plain": [
       "['__doc__',\n",
       " '__loader__',\n",
       " '__name__',\n",
       " '__package__',\n",
       " '__spec__',\n",
       " 'acos',\n",
       " 'acosh',\n",
       " 'asin',\n",
       " 'asinh',\n",
       " 'atan',\n",
       " 'atan2',\n",
       " 'atanh',\n",
       " 'cbrt',\n",
       " 'ceil',\n",
       " 'comb',\n",
       " 'copysign',\n",
       " 'cos',\n",
       " 'cosh',\n",
       " 'degrees',\n",
       " 'dist',\n",
       " 'e',\n",
       " 'erf',\n",
       " 'erfc',\n",
       " 'exp',\n",
       " 'exp2',\n",
       " 'expm1',\n",
       " 'fabs',\n",
       " 'factorial',\n",
       " 'floor',\n",
       " 'fmod',\n",
       " 'frexp',\n",
       " 'fsum',\n",
       " 'gamma',\n",
       " 'gcd',\n",
       " 'hypot',\n",
       " 'inf',\n",
       " 'isclose',\n",
       " 'isfinite',\n",
       " 'isinf',\n",
       " 'isnan',\n",
       " 'isqrt',\n",
       " 'lcm',\n",
       " 'ldexp',\n",
       " 'lgamma',\n",
       " 'log',\n",
       " 'log10',\n",
       " 'log1p',\n",
       " 'log2',\n",
       " 'modf',\n",
       " 'nan',\n",
       " 'nextafter',\n",
       " 'perm',\n",
       " 'pi',\n",
       " 'pow',\n",
       " 'prod',\n",
       " 'radians',\n",
       " 'remainder',\n",
       " 'sin',\n",
       " 'sinh',\n",
       " 'sqrt',\n",
       " 'sumprod',\n",
       " 'tan',\n",
       " 'tanh',\n",
       " 'tau',\n",
       " 'trunc',\n",
       " 'ulp']"
      ]
     },
     "execution_count": 164,
     "metadata": {},
     "output_type": "execute_result"
    }
   ],
   "source": [
    "dir(math)"
   ]
  },
  {
   "cell_type": "code",
   "execution_count": 166,
   "id": "dffb388b-6705-4013-b9de-0c53de8a4068",
   "metadata": {},
   "outputs": [
    {
     "data": {
      "text/plain": [
       "<function math.gamma(x, /)>"
      ]
     },
     "execution_count": 166,
     "metadata": {},
     "output_type": "execute_result"
    }
   ],
   "source": [
    "math.gamma"
   ]
  },
  {
   "cell_type": "code",
   "execution_count": 170,
   "id": "798d51dc-743a-4bd5-aafa-fd5df42e8fad",
   "metadata": {},
   "outputs": [
    {
     "data": {
      "text/plain": [
       "5040.0"
      ]
     },
     "execution_count": 170,
     "metadata": {},
     "output_type": "execute_result"
    }
   ],
   "source": [
    "math.gamma(8)"
   ]
  },
  {
   "cell_type": "code",
   "execution_count": 172,
   "id": "613dae91-5797-46f6-96d6-f4375ca3f3ce",
   "metadata": {},
   "outputs": [],
   "source": [
    "import time"
   ]
  },
  {
   "cell_type": "code",
   "execution_count": 174,
   "id": "aeaaab4a-0a1d-4688-8a2f-abd3cf113efc",
   "metadata": {},
   "outputs": [
    {
     "name": "stdout",
     "output_type": "stream",
     "text": [
      "hello\n",
      "bye\n"
     ]
    }
   ],
   "source": [
    "print('hello')\n",
    "print('bye')"
   ]
  },
  {
   "cell_type": "code",
   "execution_count": 180,
   "id": "7a9055bd-34d3-45f0-82bb-b81760abff01",
   "metadata": {},
   "outputs": [
    {
     "name": "stdout",
     "output_type": "stream",
     "text": [
      "hello\n",
      "bye\n"
     ]
    }
   ],
   "source": [
    "import time\n",
    "print('hello')\n",
    "time.sleep(3)\n",
    "print('bye')"
   ]
  },
  {
   "cell_type": "code",
   "execution_count": 184,
   "id": "c8b4cbb6-efb5-474b-8c74-dcc554f3c9fc",
   "metadata": {},
   "outputs": [
    {
     "data": {
      "text/plain": [
       "35"
      ]
     },
     "execution_count": 184,
     "metadata": {},
     "output_type": "execute_result"
    }
   ],
   "source": [
    "\n",
    "\n",
    "#package name: keyword\n",
    "#method name: kwlist\n",
    "\n",
    "import keyword\n",
    "len(keyword.kwlist)"
   ]
  },
  {
   "cell_type": "code",
   "execution_count": null,
   "id": "8748faed-1b78-4891-a8a6-d0f4ba88a66f",
   "metadata": {},
   "outputs": [],
   "source": [
    "True\n",
    "False\n",
    "if\n",
    "else\n",
    "for\n",
    "while\n",
    "None\n",
    "elif\n",
    "and\n",
    "def\n",
    "or\n",
    "return\n",
    "lamda\n",
    "    "
   ]
  }
 ],
 "metadata": {
  "kernelspec": {
   "display_name": "Python [conda env:base] *",
   "language": "python",
   "name": "conda-base-py"
  },
  "language_info": {
   "codemirror_mode": {
    "name": "ipython",
    "version": 3
   },
   "file_extension": ".py",
   "mimetype": "text/x-python",
   "name": "python",
   "nbconvert_exporter": "python",
   "pygments_lexer": "ipython3",
   "version": "3.12.7"
  }
 },
 "nbformat": 4,
 "nbformat_minor": 5
}
