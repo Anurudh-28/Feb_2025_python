{
 "cells": [
  {
   "cell_type": "markdown",
   "id": "2ab02238-42be-4f1e-bee9-fa27b4423b5f",
   "metadata": {},
   "source": [
    "# variables"
   ]
  },
  {
   "cell_type": "markdown",
   "id": "ebddafd8-3ce4-46dd-9f34-7fad73d6316a",
   "metadata": {},
   "source": [
    "-  Lets get focused\n",
    "\n",
    "- on the selff improvaisation"
   ]
  },
  {
   "cell_type": "markdown",
   "id": "975afebd-9ac9-4ff4-9807-39f747577bdd",
   "metadata": {},
   "source": [
    " - Variables are used to store the data\n",
    "\n",
    " - The data can be changed\n",
    "\n",
    " - These variables can be used to manipulate python code"
   ]
  },
  {
   "cell_type": "code",
   "execution_count": 6,
   "id": "5fd308da-4b62-4e85-8490-06654f861ac3",
   "metadata": {},
   "outputs": [
    {
     "data": {
      "text/plain": [
       "100"
      ]
     },
     "execution_count": 6,
     "metadata": {},
     "output_type": "execute_result"
    }
   ],
   "source": [
    " number=100\n",
    "\n",
    "# 100 is stored in a variable called as number\n",
    "\n",
    " number"
   ]
  },
  {
   "cell_type": "code",
   "execution_count": 8,
   "id": "afc5dfe5-d3da-4c27-96e4-54d611319108",
   "metadata": {},
   "outputs": [],
   "source": [
    "NUMBER=200"
   ]
  },
  {
   "cell_type": "code",
   "execution_count": 10,
   "id": "d441fbe9-a0fb-43c2-8ffa-9382e84c391b",
   "metadata": {},
   "outputs": [
    {
     "data": {
      "text/plain": [
       "200"
      ]
     },
     "execution_count": 10,
     "metadata": {},
     "output_type": "execute_result"
    }
   ],
   "source": [
    "NUMBER"
   ]
  },
  {
   "cell_type": "code",
   "execution_count": 12,
   "id": "b99b553c-7a16-4285-bfae-a38bdbead443",
   "metadata": {},
   "outputs": [
    {
     "data": {
      "text/plain": [
       "(100, 200)"
      ]
     },
     "execution_count": 12,
     "metadata": {},
     "output_type": "execute_result"
    }
   ],
   "source": [
    "number,NUMBER"
   ]
  },
  {
   "cell_type": "code",
   "execution_count": 16,
   "id": "e54ed927-7b54-442b-a7c6-f420b09cc437",
   "metadata": {},
   "outputs": [
    {
     "data": {
      "text/plain": [
       "300"
      ]
     },
     "execution_count": 16,
     "metadata": {},
     "output_type": "execute_result"
    }
   ],
   "source": [
    "NUMber=300\n",
    "NUMber"
   ]
  },
  {
   "cell_type": "code",
   "execution_count": 18,
   "id": "f9471a15-c4a5-4c18-b920-28c8195c14c1",
   "metadata": {},
   "outputs": [
    {
     "data": {
      "text/plain": [
       "(100, 200, 300)"
      ]
     },
     "execution_count": 18,
     "metadata": {},
     "output_type": "execute_result"
    }
   ],
   "source": [
    "number,NUMBER,NUMber"
   ]
  },
  {
   "cell_type": "code",
   "execution_count": 20,
   "id": "d4b0b1d3-0f9b-4d25-9008-2041cce80c4e",
   "metadata": {},
   "outputs": [
    {
     "data": {
      "text/plain": [
       "400"
      ]
     },
     "execution_count": 20,
     "metadata": {},
     "output_type": "execute_result"
    }
   ],
   "source": [
    "number123=400\n",
    "number123"
   ]
  },
  {
   "cell_type": "code",
   "execution_count": 22,
   "id": "8f0173fc-0409-42a0-abab-30bd470ad74c",
   "metadata": {},
   "outputs": [
    {
     "ename": "SyntaxError",
     "evalue": "invalid decimal literal (359278068.py, line 1)",
     "output_type": "error",
     "traceback": [
      "\u001b[1;36m  Cell \u001b[1;32mIn[22], line 1\u001b[1;36m\u001b[0m\n\u001b[1;33m    123number=400\u001b[0m\n\u001b[1;37m      ^\u001b[0m\n\u001b[1;31mSyntaxError\u001b[0m\u001b[1;31m:\u001b[0m invalid decimal literal\n"
     ]
    }
   ],
   "source": [
    "123number=400\n",
    "123number"
   ]
  },
  {
   "cell_type": "code",
   "execution_count": 3,
   "id": "0cd9c972-1c2c-4cb7-b53d-77d0446ad974",
   "metadata": {},
   "outputs": [
    {
     "data": {
      "text/plain": [
       "400"
      ]
     },
     "execution_count": 3,
     "metadata": {},
     "output_type": "execute_result"
    }
   ],
   "source": [
    " # type first two letters and enter tab\n",
    " number123=400\n",
    "\n",
    "number123\n"
   ]
  },
  {
   "cell_type": "markdown",
   "id": "a4833faf-7cb1-4480-a12f-b34d663ba90d",
   "metadata": {},
   "source": [
    " **Note**: \n",
    "\n",
    " - Variables generally in black colour\n",
    "\n",
    " - Green color should not be a variables\n",
    "\n",
    " - Numbers as suffix works\n",
    "\n",
    " - Numbers as prefix fails\n"
   ]
  },
  {
   "cell_type": "code",
   "execution_count": 27,
   "id": "da1c5e4c-c152-4573-b99d-1cafc92698aa",
   "metadata": {},
   "outputs": [
    {
     "ename": "SyntaxError",
     "evalue": "invalid syntax (988349833.py, line 1)",
     "output_type": "error",
     "traceback": [
      "\u001b[1;36m  Cell \u001b[1;32mIn[27], line 1\u001b[1;36m\u001b[0m\n\u001b[1;33m    number$=600\u001b[0m\n\u001b[1;37m          ^\u001b[0m\n\u001b[1;31mSyntaxError\u001b[0m\u001b[1;31m:\u001b[0m invalid syntax\n"
     ]
    }
   ],
   "source": [
    "number$=600\n",
    "number$"
   ]
  },
  {
   "cell_type": "markdown",
   "id": "6e9b3e42-390d-4770-8f95-78c9e6b69d2f",
   "metadata": {},
   "source": [
    " - Special characters are does not allowed , but only underscore are allowed used as variable"
   ]
  },
  {
   "cell_type": "code",
   "execution_count": 31,
   "id": "ca6564b7-0696-4a3d-93c5-04ac8cc5ced8",
   "metadata": {},
   "outputs": [
    {
     "ename": "SyntaxError",
     "evalue": "invalid syntax (1985163722.py, line 1)",
     "output_type": "error",
     "traceback": [
      "\u001b[1;36m  Cell \u001b[1;32mIn[31], line 1\u001b[1;36m\u001b[0m\n\u001b[1;33m    number one=200\u001b[0m\n\u001b[1;37m           ^\u001b[0m\n\u001b[1;31mSyntaxError\u001b[0m\u001b[1;31m:\u001b[0m invalid syntax\n"
     ]
    }
   ],
   "source": [
    " number one=200\n",
    "number one"
   ]
  },
  {
   "cell_type": "markdown",
   "id": "f6d7fad2-dd13-4942-aa84-5776fdadab85",
   "metadata": {},
   "source": [
    " - space is also a special character"
   ]
  },
  {
   "cell_type": "code",
   "execution_count": 34,
   "id": "a46f961b-cfe0-4328-98a3-dc8d7253f610",
   "metadata": {},
   "outputs": [
    {
     "data": {
      "text/plain": [
       "600"
      ]
     },
     "execution_count": 34,
     "metadata": {},
     "output_type": "execute_result"
    }
   ],
   "source": [
    " number_one=600\n",
    "number_one"
   ]
  },
  {
   "cell_type": "code",
   "execution_count": 37,
   "id": "baa82331-a3e2-4e08-815d-e2fbfd625f6b",
   "metadata": {},
   "outputs": [
    {
     "data": {
      "text/plain": [
       "1000"
      ]
     },
     "execution_count": 37,
     "metadata": {},
     "output_type": "execute_result"
    }
   ],
   "source": [
    "_=1000\n",
    "_"
   ]
  },
  {
   "cell_type": "markdown",
   "id": "942b2e1f-bbfb-4704-b5c6-9f39179949e1",
   "metadata": {},
   "source": [
    "underscore used as variable"
   ]
  },
  {
   "cell_type": "code",
   "execution_count": null,
   "id": "afb39c3e-bc18-4758-927a-68742b5e7035",
   "metadata": {},
   "outputs": [],
   "source": [
    "for\n",
    "while\n",
    "true\n",
    "false\n",
    "keywords can not use as variables"
   ]
  },
  {
   "cell_type": "code",
   "execution_count": null,
   "id": "ed86e11f-74f2-4004-8585-e3312a440093",
   "metadata": {},
   "outputs": [],
   "source": []
  }
 ],
 "metadata": {
  "kernelspec": {
   "display_name": "Python [conda env:base] *",
   "language": "python",
   "name": "conda-base-py"
  },
  "language_info": {
   "codemirror_mode": {
    "name": "ipython",
    "version": 3
   },
   "file_extension": ".py",
   "mimetype": "text/x-python",
   "name": "python",
   "nbconvert_exporter": "python",
   "pygments_lexer": "ipython3",
   "version": "3.12.7"
  }
 },
 "nbformat": 4,
 "nbformat_minor": 5
}
