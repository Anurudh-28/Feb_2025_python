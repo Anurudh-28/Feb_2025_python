{
 "cells": [
  {
   "cell_type": "markdown",
   "id": "a67323ac-2890-426f-9dfc-5847506138f1",
   "metadata": {},
   "source": [
    "**list comprehension 4 methods**"
   ]
  },
  {
   "cell_type": "code",
   "execution_count": null,
   "id": "4c604053-cbf3-498d-ae45-d6eeb148dc19",
   "metadata": {},
   "outputs": [],
   "source": [
    "#method 1:  [output for loop]\n",
    "#method 2:  [ output for loop if condn]\n",
    "#method 3:  [if output if condn else elseoutput for loop]\n",
    "#method 4:  [idf output if condn else elif output  elif condn else else out for loop]\n"
   ]
  },
  {
   "cell_type": "markdown",
   "id": "a2c0f161-cf2b-46e1-ad55-608a1daa224f",
   "metadata": {},
   "source": [
    "**Lambda Functions**\n",
    "\n",
    " -  lambda functions represents fnctions in a single line\n",
    "\n",
    " -  it is similar anology to list comprehension \n",
    "\n",
    " -  to reduce the time complexity will go for lambda functions\n"
   ]
  },
  {
   "cell_type": "markdown",
   "id": "b2d0133f-df91-46ed-89f9-1f721bb70d70",
   "metadata": {},
   "source": [
    "$pattern-1$: **function with one argument**"
   ]
  },
  {
   "cell_type": "code",
   "execution_count": 19,
   "id": "048d81ad-2078-4025-a658-c74fa5c4f913",
   "metadata": {},
   "outputs": [
    {
     "data": {
      "text/plain": [
       "1000"
      ]
     },
     "execution_count": 19,
     "metadata": {},
     "output_type": "execute_result"
    }
   ],
   "source": [
    "def mul(a):\n",
    "    return(a*a)\n",
    "\n",
    "ans=mul(10)\n",
    "ans"
   ]
  },
  {
   "cell_type": "code",
   "execution_count": null,
   "id": "2bcbcd7d-0f13-49c5-82d5-8b21ec732907",
   "metadata": {},
   "outputs": [],
   "source": [
    "#syntax\n",
    "#function_name= lambda <argument> :<return output>\n",
    "\n",
    "#in the above \n",
    "\n",
    "#function name=mul\n",
    "#argument name=a\n",
    "#return output=a*a"
   ]
  },
  {
   "cell_type": "code",
   "execution_count": 25,
   "id": "79ce41a1-eb64-4d73-a482-f813b6237ca5",
   "metadata": {},
   "outputs": [
    {
     "data": {
      "text/plain": [
       "<function __main__.<lambda>(a)>"
      ]
     },
     "execution_count": 25,
     "metadata": {},
     "output_type": "execute_result"
    }
   ],
   "source": [
    "mul=lambda a : a*a\n",
    "mul"
   ]
  },
  {
   "cell_type": "code",
   "execution_count": 27,
   "id": "5a2c72b6-0464-42bb-a533-1bc2ee156c03",
   "metadata": {},
   "outputs": [
    {
     "data": {
      "text/plain": [
       "400"
      ]
     },
     "execution_count": 27,
     "metadata": {},
     "output_type": "execute_result"
    }
   ],
   "source": [
    "mul=lambda a : a*a\n",
    "mul(20)"
   ]
  },
  {
   "cell_type": "code",
   "execution_count": 31,
   "id": "c95f943c-3c71-456a-b6dc-d5ac37a0d476",
   "metadata": {},
   "outputs": [
    {
     "data": {
      "text/plain": [
       "1000000"
      ]
     },
     "execution_count": 31,
     "metadata": {},
     "output_type": "execute_result"
    }
   ],
   "source": [
    "def cube(a):\n",
    "    return(a*a*a)\n",
    "\n",
    "cube(100)"
   ]
  },
  {
   "cell_type": "code",
   "execution_count": 29,
   "id": "1686bc1f-ea90-493d-b8ca-7c9e472af4ce",
   "metadata": {},
   "outputs": [
    {
     "data": {
      "text/plain": [
       "1000000"
      ]
     },
     "execution_count": 29,
     "metadata": {},
     "output_type": "execute_result"
    }
   ],
   "source": [
    "cube=lambda a : a*a*a\n",
    "\n",
    "cube(100)"
   ]
  },
  {
   "cell_type": "markdown",
   "id": "c5e20ddb-cbc1-4b06-b573-ad8c7ca24f94",
   "metadata": {},
   "source": [
    "$pattern-2$ : **function with two arguments**"
   ]
  },
  {
   "cell_type": "code",
   "execution_count": 36,
   "id": "652d9576-55d2-4328-b184-19f140d840a6",
   "metadata": {},
   "outputs": [
    {
     "data": {
      "text/plain": [
       "30"
      ]
     },
     "execution_count": 36,
     "metadata": {},
     "output_type": "execute_result"
    }
   ],
   "source": [
    "def add(a,b):\n",
    "    return(a+b)\n",
    "\n",
    "add(10,20)"
   ]
  },
  {
   "cell_type": "code",
   "execution_count": null,
   "id": "46b3249f-2249-4934-9dae-42ea6c265847",
   "metadata": {},
   "outputs": [],
   "source": [
    "#syntax\n",
    "#function_name= lambda <argument1>,<argument2> :<return output>"
   ]
  },
  {
   "cell_type": "code",
   "execution_count": 42,
   "id": "414bd407-95b6-47bf-9913-b93ef6aea9b3",
   "metadata": {},
   "outputs": [
    {
     "data": {
      "text/plain": [
       "4"
      ]
     },
     "execution_count": 42,
     "metadata": {},
     "output_type": "execute_result"
    }
   ],
   "source": [
    "add=lambda a,b : a+b\n",
    "add(1,3)"
   ]
  },
  {
   "cell_type": "markdown",
   "id": "888c0965-657b-4cad-ae84-aea8f6764341",
   "metadata": {},
   "source": [
    "$pattern-3$: **function with three arguments**"
   ]
  },
  {
   "cell_type": "code",
   "execution_count": 62,
   "id": "cbc017ab-39c0-4dbb-8faa-6d5b73f119a9",
   "metadata": {},
   "outputs": [
    {
     "data": {
      "text/plain": [
       "25.67"
      ]
     },
     "execution_count": 62,
     "metadata": {},
     "output_type": "execute_result"
    }
   ],
   "source": [
    "def avg(a,b,c):\n",
    "    return round((a+b+c)/3,2)\n",
    "\n",
    "avg(9,23,45)"
   ]
  },
  {
   "cell_type": "code",
   "execution_count": 60,
   "id": "8ffa4fed-956f-49e1-8018-24c0478e7f30",
   "metadata": {},
   "outputs": [
    {
     "data": {
      "text/plain": [
       "20.67"
      ]
     },
     "execution_count": 60,
     "metadata": {},
     "output_type": "execute_result"
    }
   ],
   "source": [
    "avg=lambda a,b,c: round((a+b+c)/3,2)\n",
    "avg(10,22,30)"
   ]
  },
  {
   "cell_type": "code",
   "execution_count": null,
   "id": "b5a3a3af-658b-4073-964e-4a582d79fcf6",
   "metadata": {},
   "outputs": [],
   "source": []
  },
  {
   "cell_type": "markdown",
   "id": "0fcb88cf-0b7f-474e-83d4-aa31ae5c0ce3",
   "metadata": {},
   "source": [
    "$pattern-4$: **default arguments**"
   ]
  },
  {
   "cell_type": "code",
   "execution_count": 65,
   "id": "fe36f95f-4025-40a7-8ea9-5b2c2c20fa69",
   "metadata": {},
   "outputs": [
    {
     "data": {
      "text/plain": [
       "29.67"
      ]
     },
     "execution_count": 65,
     "metadata": {},
     "output_type": "execute_result"
    }
   ],
   "source": [
    "avg= lambda a,b,c=21: round((a+b+c)/3,2)\n",
    "avg(23,45)"
   ]
  },
  {
   "cell_type": "code",
   "execution_count": 73,
   "id": "8f2736e0-eb16-4dd0-a904-d7891d41eabe",
   "metadata": {},
   "outputs": [],
   "source": [
    "mul=lambda a: a*a\n",
    "add= lambda a,b: a+b\n",
    "avg=lambda a,b,c: round((a+b+c)/3,2)\n",
    "avg= lambda a,b,c=21: round((a+b+c)/3,2)\n"
   ]
  },
  {
   "cell_type": "markdown",
   "id": "20a99be0-1c30-48b8-b508-9fd603b9c327",
   "metadata": {},
   "source": [
    "$pattern-5$ : \n",
    "\n",
    "\n",
    " -  list cases"
   ]
  },
  {
   "cell_type": "code",
   "execution_count": 128,
   "id": "f7cbdfa8-7cbc-42d6-aeee-7b026051a85e",
   "metadata": {},
   "outputs": [
    {
     "data": {
      "text/plain": [
       "['Hyd', 'Beneguluru', 'Mumbai', 'Pune']"
      ]
     },
     "execution_count": 128,
     "metadata": {},
     "output_type": "execute_result"
    }
   ],
   "source": [
    "input=['hyd','beneguluru','mumbai','pune']\n",
    "#output =['Hyd']\n",
    "output=[]\n",
    "for i in input:\n",
    "    output.append(i.title())\n",
    "\n",
    "output\n",
    "########################################\n",
    "#output=[i.title() for i in input]"
   ]
  },
  {
   "cell_type": "code",
   "execution_count": 102,
   "id": "dedb8472-3f19-4852-9375-0a3e82d8242b",
   "metadata": {},
   "outputs": [
    {
     "data": {
      "text/plain": [
       "<function __main__.<lambda>(i)>"
      ]
     },
     "execution_count": 102,
     "metadata": {},
     "output_type": "execute_result"
    }
   ],
   "source": [
    "#step-1: lambda <variable> : <output>\n",
    "lambda i : i.capitalize()\n"
   ]
  },
  {
   "cell_type": "code",
   "execution_count": 108,
   "id": "f19a18cb-b98a-42fc-ade3-36cfb6a05591",
   "metadata": {},
   "outputs": [
    {
     "data": {
      "text/plain": [
       "<function __main__.<lambda>(i)>"
      ]
     },
     "execution_count": 108,
     "metadata": {},
     "output_type": "execute_result"
    }
   ],
   "source": [
    "#qn-1:  from where you get i\n",
    "\n",
    "#from step 1 : lambda <variable>: <output>\n",
    "lambda i : i.capitalize()"
   ]
  },
  {
   "cell_type": "code",
   "execution_count": 110,
   "id": "0d1850a5-ff0c-4aad-94bd-d11126b91cc7",
   "metadata": {},
   "outputs": [
    {
     "data": {
      "text/plain": [
       "(<function __main__.<lambda>(i)>, ['hyd', 'beneguluru', 'mumbai', 'pune'])"
      ]
     },
     "execution_count": 110,
     "metadata": {},
     "output_type": "execute_result"
    }
   ],
   "source": [
    "#step-2: lambda <variable>: <output>,iterator>\n",
    "lambda i : i.capitalize(),input"
   ]
  },
  {
   "cell_type": "code",
   "execution_count": 112,
   "id": "d243c026-6c43-48f7-b57a-44cff257e274",
   "metadata": {},
   "outputs": [
    {
     "data": {
      "text/plain": [
       "<map at 0x20dcdeba920>"
      ]
     },
     "execution_count": 112,
     "metadata": {},
     "output_type": "execute_result"
    }
   ],
   "source": [
    "#step-3: map(lambda <variable>: <output>,iterator>)\n",
    "map(lambda i : i.capitalize(),input)"
   ]
  },
  {
   "cell_type": "code",
   "execution_count": 114,
   "id": "6ca5dd56-de73-403d-befc-acd7fe0b8524",
   "metadata": {},
   "outputs": [
    {
     "data": {
      "text/plain": [
       "['Hyd', 'Beneguluru', 'Mumbai', 'Pune']"
      ]
     },
     "execution_count": 114,
     "metadata": {},
     "output_type": "execute_result"
    }
   ],
   "source": [
    "#step-4: list(map(lambda <variable>: <output>,iterator>))\n",
    "list(map(lambda i : i.capitalize(),input))"
   ]
  },
  {
   "cell_type": "code",
   "execution_count": 116,
   "id": "12696782-bb11-41d0-b9d1-4fe8638b6076",
   "metadata": {},
   "outputs": [
    {
     "data": {
      "text/plain": [
       "['Hyd', 'Beneguluru', 'Mumbai', 'Pune']"
      ]
     },
     "execution_count": 116,
     "metadata": {},
     "output_type": "execute_result"
    }
   ],
   "source": [
    "lambda i : i.capitalize()\n",
    "lambda i : i.capitalize(),input\n",
    "map(lambda i : i.capitalize(),input)\n",
    "list(map(lambda i : i.capitalize(),input))"
   ]
  },
  {
   "cell_type": "code",
   "execution_count": 130,
   "id": "3e3835f6-4af0-4085-9789-5be0f3ff5f4c",
   "metadata": {},
   "outputs": [
    {
     "data": {
      "text/plain": [
       "['HYD', 'BENEGULURU', 'MUMBAI', 'PUNE']"
      ]
     },
     "execution_count": 130,
     "metadata": {},
     "output_type": "execute_result"
    }
   ],
   "source": [
    "input=['hyd','beneguluru','mumbai','pune']\n",
    "#output =['HYD']\n",
    "\n",
    "list(map(lambda i: i.upper(),input))"
   ]
  },
  {
   "cell_type": "code",
   "execution_count": 140,
   "id": "02f0b118-e36c-4cae-95a4-3ac5fd674ac1",
   "metadata": {},
   "outputs": [
    {
     "data": {
      "text/plain": [
       "[0, 1, 2, 3]"
      ]
     },
     "execution_count": 140,
     "metadata": {},
     "output_type": "execute_result"
    }
   ],
   "source": [
    "input=['hyd','beneguluru','mumbai','pune']\n",
    "#output =[O,1,2]\n",
    "\n",
    "list(map(lambda i : input.index(i),input))"
   ]
  },
  {
   "cell_type": "code",
   "execution_count": 174,
   "id": "903d44ac-acdb-40b4-84fd-c67c6bafccf6",
   "metadata": {},
   "outputs": [
    {
     "data": {
      "text/plain": [
       "['Hello', 'How', 'Are', 'You']"
      ]
     },
     "execution_count": 174,
     "metadata": {},
     "output_type": "execute_result"
    }
   ],
   "source": [
    "input='hello how are you'\n",
    "#output=['Hello', How]\n",
    "\n",
    "list(map(lambda i : i.capitalize(),input.split()))"
   ]
  },
  {
   "cell_type": "markdown",
   "id": "d871799b-5fca-49ed-b300-0e4a8a818285",
   "metadata": {},
   "source": [
    "**filter**\n",
    "\n",
    " -  filter is apply on lambda functions to retrive the true output\n",
    "\n",
    " -  map will just map the functions and iterator\n",
    "\n",
    " -  when we apply the condition map will give true or false\n",
    "\n",
    " -  filter willl use instead of map"
   ]
  },
  {
   "cell_type": "code",
   "execution_count": 190,
   "id": "e54d4da2-bf3c-4f00-bccb-dcd850731efb",
   "metadata": {},
   "outputs": [
    {
     "data": {
      "text/plain": [
       "[False, True, False, True]"
      ]
     },
     "execution_count": 190,
     "metadata": {},
     "output_type": "execute_result"
    }
   ],
   "source": [
    " input=['hyd','beneg#luru','mumbai','p#ne']\n",
    "#output =[ben,pun#ne]\n",
    "list(map(lambda i : '#' in i ,input))"
   ]
  },
  {
   "cell_type": "code",
   "execution_count": 192,
   "id": "23b643b9-06a1-460c-ad7a-2d97264c30ec",
   "metadata": {},
   "outputs": [
    {
     "data": {
      "text/plain": [
       "['beneg#luru', 'p#ne']"
      ]
     },
     "execution_count": 192,
     "metadata": {},
     "output_type": "execute_result"
    }
   ],
   "source": [
    "input=['hyd','beneg#luru','mumbai','p#ne']\n",
    "#output =[ben,pun#ne]\n",
    "list(filter(lambda i : '#' in i ,input))"
   ]
  },
  {
   "cell_type": "code",
   "execution_count": 195,
   "id": "a41e5429-9805-469b-920d-759a4ba7914c",
   "metadata": {},
   "outputs": [
    {
     "data": {
      "text/plain": [
       "['hyd', 'mumbai']"
      ]
     },
     "execution_count": 195,
     "metadata": {},
     "output_type": "execute_result"
    }
   ],
   "source": [
    "input=['hyd','beneg#luru','mumbai','p#ne']\n",
    "#output=[hyd,mumbai]\n",
    "\n",
    "list(filter(lambda i : '#'not in i ,input))"
   ]
  },
  {
   "cell_type": "markdown",
   "id": "51c5e84f-d361-4944-b6c5-bdbf318edc81",
   "metadata": {},
   "source": [
    "**reduce**\n",
    "\n",
    " -  reduce will helpful to perform math operations using lambda functions\n",
    "\n",
    " -  it is a method under a package called : **functools**"
   ]
  },
  {
   "cell_type": "code",
   "execution_count": 221,
   "id": "da19f29c-8d7f-4157-a31c-d581a15ddf5f",
   "metadata": {},
   "outputs": [
    {
     "data": {
      "text/plain": [
       "10"
      ]
     },
     "execution_count": 221,
     "metadata": {},
     "output_type": "execute_result"
    }
   ],
   "source": [
    "list1=[1,2,3,4]\n",
    "sum(list1)"
   ]
  },
  {
   "cell_type": "code",
   "execution_count": 223,
   "id": "39988671-5c87-41cf-adf6-154ae61ed0f0",
   "metadata": {},
   "outputs": [
    {
     "name": "stdout",
     "output_type": "stream",
     "text": [
      "10\n"
     ]
    }
   ],
   "source": [
    "list1=[1,2,3,4]\n",
    "summ=0\n",
    "for i in list1:\n",
    "    summ=summ+i\n",
    "\n",
    "print(summ)\n",
    "\n"
   ]
  },
  {
   "cell_type": "code",
   "execution_count": 225,
   "id": "3052ae1f-d79a-465e-a1f6-fb68ece9e14b",
   "metadata": {},
   "outputs": [
    {
     "data": {
      "text/plain": [
       "10"
      ]
     },
     "execution_count": 225,
     "metadata": {},
     "output_type": "execute_result"
    }
   ],
   "source": [
    "#warles operator\n",
    "summ=0\n",
    "[summ:=summ+i for i in list1]\n",
    "summ"
   ]
  },
  {
   "cell_type": "code",
   "execution_count": null,
   "id": "dd389b87-a5a2-455e-9b54-57727c94f031",
   "metadata": {},
   "outputs": [],
   "source": [
    "#reduce(lambda arg : output,iterator"
   ]
  },
  {
   "cell_type": "code",
   "execution_count": null,
   "id": "612de3ae-a86b-474e-8ea4-57ecc11c2b54",
   "metadata": {},
   "outputs": [],
   "source": [
    "import functools\n",
    "functools.reduce()\n",
    "####################\n",
    "from functools import reduce\n",
    "##########################\n",
    "import functools as ft\n",
    "ft.reduce()"
   ]
  },
  {
   "cell_type": "code",
   "execution_count": 259,
   "id": "f9b9e3da-7b83-4e5c-a2b8-79f66c5df88e",
   "metadata": {},
   "outputs": [
    {
     "data": {
      "text/plain": [
       "6"
      ]
     },
     "execution_count": 259,
     "metadata": {},
     "output_type": "execute_result"
    }
   ],
   "source": [
    "list1=[1,2,3]\n",
    "from functools import reduce\n",
    "lambda summ,i:summ+i\n",
    "lambda summ,i:summ+i,list1\n",
    "reduce(lambda summ,i:summ+i,list1)"
   ]
  },
  {
   "cell_type": "code",
   "execution_count": 241,
   "id": "7621794b-3fb8-4199-9129-46a644b153eb",
   "metadata": {},
   "outputs": [
    {
     "data": {
      "text/plain": [
       "2"
      ]
     },
     "execution_count": 241,
     "metadata": {},
     "output_type": "execute_result"
    }
   ],
   "source": [
    "from functools import reduce\n",
    "reduce(lambda summ,i:summ+1,list1)"
   ]
  },
  {
   "cell_type": "code",
   "execution_count": 263,
   "id": "b6f6f6df-e7ea-4cf4-84f5-ba4ac28bd00f",
   "metadata": {},
   "outputs": [
    {
     "name": "stdout",
     "output_type": "stream",
     "text": [
      "215\n"
     ]
    }
   ],
   "source": [
    "list1=[1,2,3,4,5]\n",
    "summ=200\n",
    "for i in list1:\n",
    "    summ=summ+i\n",
    "\n",
    "print(summ)\n",
    "\n"
   ]
  },
  {
   "cell_type": "code",
   "execution_count": 261,
   "id": "735ddb7d-5e40-4768-937e-616004edf133",
   "metadata": {},
   "outputs": [
    {
     "data": {
      "text/plain": [
       "215"
      ]
     },
     "execution_count": 261,
     "metadata": {},
     "output_type": "execute_result"
    }
   ],
   "source": [
    "list1=[1,2,3,4,5]\n",
    "from functools import reduce\n",
    "lambda summ,i: summ+i\n",
    "lambda summ,i:summ+i,list1 #by defalut 0\n",
    "lambda summ,i:summ+i,list1,200\n",
    "reduce(lambda summ,i:summ+i,list1,200)"
   ]
  },
  {
   "cell_type": "code",
   "execution_count": null,
   "id": "b0d3799f-9807-4b6c-b05c-50cba093e7cf",
   "metadata": {},
   "outputs": [],
   "source": []
  }
 ],
 "metadata": {
  "kernelspec": {
   "display_name": "Python [conda env:base] *",
   "language": "python",
   "name": "conda-base-py"
  },
  "language_info": {
   "codemirror_mode": {
    "name": "ipython",
    "version": 3
   },
   "file_extension": ".py",
   "mimetype": "text/x-python",
   "name": "python",
   "nbconvert_exporter": "python",
   "pygments_lexer": "ipython3",
   "version": "3.12.7"
  }
 },
 "nbformat": 4,
 "nbformat_minor": 5
}
