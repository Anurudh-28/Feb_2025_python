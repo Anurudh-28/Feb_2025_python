{
 "cells": [
  {
   "cell_type": "markdown",
   "id": "96b22908-7902-48b0-92e0-33a23db9e7d0",
   "metadata": {},
   "source": [
    "**BASIC REPRESENTATION**"
   ]
  },
  {
   "cell_type": "code",
   "execution_count": null,
   "id": "eeede103-a186-48b2-8e8f-4d5504ca84a4",
   "metadata": {},
   "outputs": [],
   "source": []
  },
  {
   "cell_type": "markdown",
   "id": "bf96a4e1-7c37-4a04-88d9-fd1614c5e582",
   "metadata": {},
   "source": [
    "\n",
    " -  Srings elements is in quotes\n",
    "\n",
    " -  list elements in square brackets"
   ]
  },
  {
   "cell_type": "code",
   "execution_count": 3,
   "id": "4c8dc16f-e84f-4e59-a6ff-53aba03841cc",
   "metadata": {},
   "outputs": [
    {
     "data": {
      "text/plain": [
       "[1, 2, 3, 4]"
      ]
     },
     "execution_count": 3,
     "metadata": {},
     "output_type": "execute_result"
    }
   ],
   "source": [
    "list1=[1,2,3,4]\n",
    "list1"
   ]
  },
  {
   "cell_type": "code",
   "execution_count": 5,
   "id": "eb74da14-04a5-473a-bf6e-93672c8ad766",
   "metadata": {},
   "outputs": [
    {
     "name": "stdout",
     "output_type": "stream",
     "text": [
      "[1, 2, 3, 4]\n"
     ]
    }
   ],
   "source": [
    "print(list1)"
   ]
  },
  {
   "cell_type": "code",
   "execution_count": 7,
   "id": "e15451e4-7971-4ff8-af34-2f82883acc08",
   "metadata": {},
   "outputs": [
    {
     "data": {
      "text/plain": [
       "list"
      ]
     },
     "execution_count": 7,
     "metadata": {},
     "output_type": "execute_result"
    }
   ],
   "source": [
    "type(list1)\n",
    "\n",
    "#for strings ==== str\n",
    "#we will say strings === but type is list"
   ]
  },
  {
   "cell_type": "code",
   "execution_count": 13,
   "id": "f7d7533b-f16e-4abb-9c72-616b0f137ff4",
   "metadata": {},
   "outputs": [
    {
     "data": {
      "text/plain": [
       "['A', 'B', 'C']"
      ]
     },
     "execution_count": 13,
     "metadata": {},
     "output_type": "execute_result"
    }
   ],
   "source": [
    "list2=['A','B','C']\n",
    "list2"
   ]
  },
  {
   "cell_type": "code",
   "execution_count": 19,
   "id": "ffd5da8c-f590-4619-8a9a-4c21bdb178d5",
   "metadata": {},
   "outputs": [
    {
     "data": {
      "text/plain": [
       "[1, 2, 3, 4, 'A', 'B', 'C']"
      ]
     },
     "execution_count": 19,
     "metadata": {},
     "output_type": "execute_result"
    }
   ],
   "source": [
    "list3=[1,2,3,4,'A','B','C']\n",
    "list3"
   ]
  },
  {
   "cell_type": "code",
   "execution_count": 25,
   "id": "1a45ae9b-ae24-4cc1-8be2-e832c764c37f",
   "metadata": {},
   "outputs": [
    {
     "data": {
      "text/plain": [
       "[1, 2, 3, 4, 'Apple', 'B', 'C', True, False, 10, 5, (20+30j)]"
      ]
     },
     "execution_count": 25,
     "metadata": {},
     "output_type": "execute_result"
    }
   ],
   "source": [
    "list1=[1,2,3,4]\n",
    "list2=['A','B','C']\n",
    "list3=[1,2,3,4,'A','B','C']\n",
    "list4=[1,2,3,4,'Apple','B','C',True,False,10,5,20+30j]\n",
    "list4"
   ]
  },
  {
   "cell_type": "code",
   "execution_count": 29,
   "id": "ea2588c5-42e4-472c-8b51-e564afb03df0",
   "metadata": {},
   "outputs": [
    {
     "data": {
      "text/plain": [
       "[10, 10]"
      ]
     },
     "execution_count": 29,
     "metadata": {},
     "output_type": "execute_result"
    }
   ],
   "source": [
    "list5=[10,10]\n",
    "list5"
   ]
  },
  {
   "cell_type": "code",
   "execution_count": 31,
   "id": "bb33edde-707e-4ca7-97db-8efab5d2185e",
   "metadata": {},
   "outputs": [
    {
     "data": {
      "text/plain": [
       "[[10]]"
      ]
     },
     "execution_count": 31,
     "metadata": {},
     "output_type": "execute_result"
    }
   ],
   "source": [
    "list6=[[10]]\n",
    "list6"
   ]
  },
  {
   "cell_type": "code",
   "execution_count": 33,
   "id": "c42c3a72-4ff7-4ade-8964-61e3f992c25c",
   "metadata": {},
   "outputs": [
    {
     "data": {
      "text/plain": [
       "[10, ['apple']]"
      ]
     },
     "execution_count": 33,
     "metadata": {},
     "output_type": "execute_result"
    }
   ],
   "source": [
    "list6=[10,['apple']]\n",
    "list6"
   ]
  },
  {
   "cell_type": "code",
   "execution_count": 43,
   "id": "9e494ac3-b1ea-4f7f-9991-573e7ebc6134",
   "metadata": {},
   "outputs": [
    {
     "data": {
      "text/plain": [
       "['python']"
      ]
     },
     "execution_count": 43,
     "metadata": {},
     "output_type": "execute_result"
    }
   ],
   "source": [
    "name='python'\n",
    "list8=[name]\n",
    "list8"
   ]
  },
  {
   "cell_type": "markdown",
   "id": "1d5e2b96-a103-46c8-b964-6f29db40f001",
   "metadata": {},
   "source": [
    "**inbulit functions drill**"
   ]
  },
  {
   "cell_type": "code",
   "execution_count": 46,
   "id": "034023b5-9378-4bd2-b553-e87123fdbd28",
   "metadata": {},
   "outputs": [
    {
     "data": {
      "text/plain": [
       "4"
      ]
     },
     "execution_count": 46,
     "metadata": {},
     "output_type": "execute_result"
    }
   ],
   "source": [
    "#max\n",
    "list1=[1,2,3,4]\n",
    "max(list1)"
   ]
  },
  {
   "cell_type": "code",
   "execution_count": 52,
   "id": "4a03e46d-ca0c-496a-9177-260278a6c5cd",
   "metadata": {},
   "outputs": [
    {
     "data": {
      "text/plain": [
       "1"
      ]
     },
     "execution_count": 52,
     "metadata": {},
     "output_type": "execute_result"
    }
   ],
   "source": [
    "min(list1)"
   ]
  },
  {
   "cell_type": "code",
   "execution_count": 50,
   "id": "33944585-0ace-401a-99db-f89a8c2738eb",
   "metadata": {},
   "outputs": [
    {
     "data": {
      "text/plain": [
       "5"
      ]
     },
     "execution_count": 50,
     "metadata": {},
     "output_type": "execute_result"
    }
   ],
   "source": [
    "#len\n",
    "list1=[1,2,3,4,6.5]\n",
    "len(list1)"
   ]
  },
  {
   "cell_type": "code",
   "execution_count": 54,
   "id": "ab6b9b28-737f-4aa0-9e29-405c27726d0b",
   "metadata": {},
   "outputs": [
    {
     "data": {
      "text/plain": [
       "16.5"
      ]
     },
     "execution_count": 54,
     "metadata": {},
     "output_type": "execute_result"
    }
   ],
   "source": [
    "sum(list1)"
   ]
  },
  {
   "cell_type": "code",
   "execution_count": 56,
   "id": "afaf4e9f-9d51-4579-bdac-5a0a8990165d",
   "metadata": {},
   "outputs": [
    {
     "data": {
      "text/plain": [
       "'Cat'"
      ]
     },
     "execution_count": 56,
     "metadata": {},
     "output_type": "execute_result"
    }
   ],
   "source": [
    "list2=['Apple','Banana','Cat']\n",
    "max(list2)"
   ]
  },
  {
   "cell_type": "code",
   "execution_count": 62,
   "id": "9640e6d7-0333-4209-bc90-ba1ccebcbc9c",
   "metadata": {},
   "outputs": [
    {
     "data": {
      "text/plain": [
       "['Apple', 'Banana', 'Cat', 'Day']"
      ]
     },
     "execution_count": 62,
     "metadata": {},
     "output_type": "execute_result"
    }
   ],
   "source": [
    "list2=['Apple','Day','Banana','Cat']\n",
    "sorted(list2)"
   ]
  },
  {
   "cell_type": "code",
   "execution_count": 78,
   "id": "e9dadf1f-029a-4bd3-b496-d93e7e5cef27",
   "metadata": {},
   "outputs": [
    {
     "data": {
      "text/plain": [
       "['e', 'l', 'p', 'p', 'A']"
      ]
     },
     "execution_count": 78,
     "metadata": {},
     "output_type": "execute_result"
    }
   ],
   "source": [
    "num=reversed('Apple')\n",
    "list(num)\n"
   ]
  },
  {
   "cell_type": "code",
   "execution_count": 80,
   "id": "781743a2-7837-4259-9ab5-357e89b8971c",
   "metadata": {},
   "outputs": [
    {
     "ename": "TypeError",
     "evalue": "'<' not supported between instances of 'str' and 'int'",
     "output_type": "error",
     "traceback": [
      "\u001b[1;31m---------------------------------------------------------------------------\u001b[0m",
      "\u001b[1;31mTypeError\u001b[0m                                 Traceback (most recent call last)",
      "Cell \u001b[1;32mIn[80], line 2\u001b[0m\n\u001b[0;32m      1\u001b[0m list2\u001b[38;5;241m=\u001b[39m[\u001b[38;5;241m1\u001b[39m,\u001b[38;5;241m2\u001b[39m,\u001b[38;5;241m5\u001b[39m,\u001b[38;5;124m'\u001b[39m\u001b[38;5;124mApple\u001b[39m\u001b[38;5;124m'\u001b[39m,\u001b[38;5;124m'\u001b[39m\u001b[38;5;124mDay\u001b[39m\u001b[38;5;124m'\u001b[39m,\u001b[38;5;124m'\u001b[39m\u001b[38;5;124mBanana\u001b[39m\u001b[38;5;124m'\u001b[39m,\u001b[38;5;124m'\u001b[39m\u001b[38;5;124mCat\u001b[39m\u001b[38;5;124m'\u001b[39m]\n\u001b[1;32m----> 2\u001b[0m \u001b[38;5;28mmin\u001b[39m(list2)\n",
      "\u001b[1;31mTypeError\u001b[0m: '<' not supported between instances of 'str' and 'int'"
     ]
    }
   ],
   "source": [
    "list2=[1,2,5,'Apple','Day','Banana','Cat']\n",
    "min(list2)"
   ]
  },
  {
   "cell_type": "code",
   "execution_count": 86,
   "id": "3db9c7fd-6bb9-4013-93f2-0b3d51568af6",
   "metadata": {},
   "outputs": [
    {
     "data": {
      "text/plain": [
       "['Cat', 'Banana', 'Day', 'Apple', 5, 2, 1]"
      ]
     },
     "execution_count": 86,
     "metadata": {},
     "output_type": "execute_result"
    }
   ],
   "source": [
    "list(reversed(list2))\n",
    "\n"
   ]
  },
  {
   "cell_type": "code",
   "execution_count": 92,
   "id": "d0c1e1a1-38d3-46d6-9e05-608d79abc3a7",
   "metadata": {},
   "outputs": [
    {
     "data": {
      "text/plain": [
       "[1, 2, 3, 4, 6.5]"
      ]
     },
     "execution_count": 92,
     "metadata": {},
     "output_type": "execute_result"
    }
   ],
   "source": [
    "sorted(list1)"
   ]
  },
  {
   "cell_type": "code",
   "execution_count": null,
   "id": "42ea5a0d-44f0-4809-98b7-6186d0e22565",
   "metadata": {},
   "outputs": [],
   "source": [
    "# in the interview simple quoestion will not asked\n",
    "\n",
    "# list1=[10,20,30]\n",
    "\n",
    "# q1: sort the list without sorted function\n",
    "\n",
    "# q2\" find max value without max function\n",
    "\n",
    "# q3: find min value without min function\n",
    "\n",
    "#q4: find reverse value without reverse function\n",
    "\n",
    "#q5 : find sum value without sum function\n",
    "\n",
    "#q6 : find 2nd min and 2nd max"
   ]
  },
  {
   "cell_type": "markdown",
   "id": "a018c7ad-3e48-4d89-8da4-2ac1b74a9282",
   "metadata": {},
   "source": [
    "**concatenation**\n",
    "\n"
   ]
  },
  {
   "cell_type": "code",
   "execution_count": 98,
   "id": "1de09db1-4d90-4b3d-8e41-b7040bdd4b21",
   "metadata": {},
   "outputs": [
    {
     "ename": "TypeError",
     "evalue": "can't multiply sequence by non-int of type 'list'",
     "output_type": "error",
     "traceback": [
      "\u001b[1;31m---------------------------------------------------------------------------\u001b[0m",
      "\u001b[1;31mTypeError\u001b[0m                                 Traceback (most recent call last)",
      "Cell \u001b[1;32mIn[98], line 4\u001b[0m\n\u001b[0;32m      1\u001b[0m list1\u001b[38;5;241m=\u001b[39m[\u001b[38;5;241m1\u001b[39m,\u001b[38;5;241m2\u001b[39m,\u001b[38;5;241m3\u001b[39m,\u001b[38;5;241m4\u001b[39m]\n\u001b[0;32m      2\u001b[0m list2\u001b[38;5;241m=\u001b[39m[\u001b[38;5;124m'\u001b[39m\u001b[38;5;124mA\u001b[39m\u001b[38;5;124m'\u001b[39m,\u001b[38;5;124m'\u001b[39m\u001b[38;5;124mB\u001b[39m\u001b[38;5;124m'\u001b[39m,\u001b[38;5;124m'\u001b[39m\u001b[38;5;124mC\u001b[39m\u001b[38;5;124m'\u001b[39m]\n\u001b[1;32m----> 4\u001b[0m list1\u001b[38;5;241m*\u001b[39mlist2\n",
      "\u001b[1;31mTypeError\u001b[0m: can't multiply sequence by non-int of type 'list'"
     ]
    }
   ],
   "source": [
    "list1=[1,2,3,4]\n",
    "list2=['A','B','C']\n",
    "\n",
    "list1*list2"
   ]
  },
  {
   "cell_type": "code",
   "execution_count": 100,
   "id": "85bf0851-0b11-44a0-985a-1ef0a0ea08a7",
   "metadata": {},
   "outputs": [
    {
     "data": {
      "text/plain": [
       "[1, 2, 3, 4, 'A', 'B', 'C']"
      ]
     },
     "execution_count": 100,
     "metadata": {},
     "output_type": "execute_result"
    }
   ],
   "source": [
    "list1+list2"
   ]
  },
  {
   "cell_type": "code",
   "execution_count": 102,
   "id": "274fd236-9d83-4820-9b30-2cb7dcaa67d7",
   "metadata": {},
   "outputs": [
    {
     "ename": "TypeError",
     "evalue": "unsupported operand type(s) for /: 'list' and 'list'",
     "output_type": "error",
     "traceback": [
      "\u001b[1;31m---------------------------------------------------------------------------\u001b[0m",
      "\u001b[1;31mTypeError\u001b[0m                                 Traceback (most recent call last)",
      "Cell \u001b[1;32mIn[102], line 1\u001b[0m\n\u001b[1;32m----> 1\u001b[0m list1\u001b[38;5;241m/\u001b[39mlist2\n",
      "\u001b[1;31mTypeError\u001b[0m: unsupported operand type(s) for /: 'list' and 'list'"
     ]
    }
   ],
   "source": [
    "list1/list2"
   ]
  },
  {
   "cell_type": "code",
   "execution_count": 110,
   "id": "85ab4409-04cc-46d9-9e43-4717d3306d1b",
   "metadata": {},
   "outputs": [
    {
     "ename": "TypeError",
     "evalue": "unsupported operand type(s) for -: 'list' and 'list'",
     "output_type": "error",
     "traceback": [
      "\u001b[1;31m---------------------------------------------------------------------------\u001b[0m",
      "\u001b[1;31mTypeError\u001b[0m                                 Traceback (most recent call last)",
      "Cell \u001b[1;32mIn[110], line 1\u001b[0m\n\u001b[1;32m----> 1\u001b[0m list1\u001b[38;5;241m-\u001b[39mlist2\n",
      "\u001b[1;31mTypeError\u001b[0m: unsupported operand type(s) for -: 'list' and 'list'"
     ]
    }
   ],
   "source": [
    "list1-list2"
   ]
  },
  {
   "cell_type": "code",
   "execution_count": 104,
   "id": "1e013eee-ef79-4e06-8ca8-23080ddc1c27",
   "metadata": {},
   "outputs": [
    {
     "data": {
      "text/plain": [
       "[1, 2, 3, 4, 1, 2, 3, 4]"
      ]
     },
     "execution_count": 104,
     "metadata": {},
     "output_type": "execute_result"
    }
   ],
   "source": [
    "list1*2"
   ]
  },
  {
   "cell_type": "code",
   "execution_count": 106,
   "id": "dbcede64-651f-4047-9e84-67bc2d60c0db",
   "metadata": {},
   "outputs": [
    {
     "data": {
      "text/plain": [
       "['A', 'B', 'C', 'A', 'B', 'C']"
      ]
     },
     "execution_count": 106,
     "metadata": {},
     "output_type": "execute_result"
    }
   ],
   "source": [
    "list2*2"
   ]
  },
  {
   "cell_type": "code",
   "execution_count": 108,
   "id": "9bc10702-b5d0-4680-9e4c-b732ea003817",
   "metadata": {},
   "outputs": [
    {
     "name": "stdout",
     "output_type": "stream",
     "text": [
      "[1, 2, 3, 4, 1, 2, 3, 4]\n",
      "[1, 2, 3, 4, 1, 2, 3, 4]\n"
     ]
    }
   ],
   "source": [
    "print(list1+list1)\n",
    "print(list1*2)"
   ]
  },
  {
   "cell_type": "markdown",
   "id": "7b1fcfb4-c6c8-44d1-a37e-a2df5b10da63",
   "metadata": {},
   "source": [
    "**index**"
   ]
  },
  {
   "cell_type": "code",
   "execution_count": 66,
   "id": "cf248302-de29-457f-a5d3-6e3befc580f9",
   "metadata": {},
   "outputs": [
    {
     "data": {
      "text/plain": [
       "(10, 10)"
      ]
     },
     "execution_count": 66,
     "metadata": {},
     "output_type": "execute_result"
    }
   ],
   "source": [
    "  \n",
    "   #  -6 -5 -4  -3  -2  -1\n",
    "   #  10 20 30 'A' 'B' 'C'\n",
    "   #  0   1 2   3   4   5\n",
    "list1=[10,20,30,'A','B','C']\n",
    "list1[0],list1[-6]"
   ]
  },
  {
   "cell_type": "code",
   "execution_count": 131,
   "id": "3a142e37-5038-408e-9a38-f2ef590a969b",
   "metadata": {},
   "outputs": [
    {
     "name": "stdout",
     "output_type": "stream",
     "text": [
      "0 -7\n",
      "the postive index is 0,neagtive index is -7 for : 10\n",
      "the postive index is 0 for: 10\n",
      "the negative index is -7 for: 10\n",
      "1 -6\n",
      "the postive index is 1,neagtive index is -6 for : 20\n",
      "the postive index is 1 for: 20\n",
      "the negative index is -6 for: 20\n",
      "2 -5\n",
      "the postive index is 2,neagtive index is -5 for : 30\n",
      "the postive index is 2 for: 30\n",
      "the negative index is -5 for: 30\n",
      "3 -4\n",
      "the postive index is 3,neagtive index is -4 for : A\n",
      "the postive index is 3 for: A\n",
      "the negative index is -4 for: A\n",
      "4 -3\n",
      "the postive index is 4,neagtive index is -3 for : B\n",
      "the postive index is 4 for: B\n",
      "the negative index is -3 for: B\n",
      "5 -2\n",
      "the postive index is 5,neagtive index is -2 for : C\n",
      "the postive index is 5 for: C\n",
      "the negative index is -2 for: C\n",
      "6 -1\n",
      "the postive index is 6,neagtive index is -1 for : D\n",
      "the postive index is 6 for: D\n",
      "the negative index is -1 for: D\n"
     ]
    }
   ],
   "source": [
    "list1=[10,20,30,'A','B','C','D']\n",
    "\n",
    "for i in range(0,7):\n",
    "    print(i,i-7)\n",
    "    print(f'the postive index is {i},neagtive index is {i-7} for : {list1[i]}')\n",
    "    print(f'the postive index is {i} for: {list1[i]}')\n",
    "    print(f'the negative index is {i-7} for: {list1[i]}')"
   ]
  },
  {
   "cell_type": "markdown",
   "id": "4d2cfbe4-8eac-485e-bfe4-ea6866db1482",
   "metadata": {},
   "source": [
    "#"
   ]
  },
  {
   "cell_type": "code",
   "execution_count": 134,
   "id": "ee82bc0b-30c1-4ef3-89c3-1708a2e96685",
   "metadata": {},
   "outputs": [
    {
     "data": {
      "text/plain": [
       "20"
      ]
     },
     "execution_count": 134,
     "metadata": {},
     "output_type": "execute_result"
    }
   ],
   "source": [
    "list1=[10,20]\n",
    "list1[1]  #2 elements"
   ]
  },
  {
   "cell_type": "code",
   "execution_count": 146,
   "id": "cf78164b-41dd-4880-bd90-edd226d63621",
   "metadata": {},
   "outputs": [
    {
     "data": {
      "text/plain": [
       "[10]"
      ]
     },
     "execution_count": 146,
     "metadata": {},
     "output_type": "execute_result"
    }
   ],
   "source": [
    "list1=[[10]]\n",
    "#[10]\n",
    "list1[0] "
   ]
  },
  {
   "cell_type": "code",
   "execution_count": 148,
   "id": "183caaf0-eb16-45eb-93af-3b54999c869a",
   "metadata": {},
   "outputs": [
    {
     "data": {
      "text/plain": [
       "10"
      ]
     },
     "execution_count": 148,
     "metadata": {},
     "output_type": "execute_result"
    }
   ],
   "source": [
    "list1=[[10]]\n",
    "#[10]\n",
    "list1[0][0]"
   ]
  },
  {
   "cell_type": "code",
   "execution_count": 152,
   "id": "75f08b1a-883c-499b-bff2-1c117e4575a9",
   "metadata": {},
   "outputs": [
    {
     "data": {
      "text/plain": [
       "1"
      ]
     },
     "execution_count": 152,
     "metadata": {},
     "output_type": "execute_result"
    }
   ],
   "source": [
    "list1=[[10]]\n",
    "len(list1)"
   ]
  },
  {
   "cell_type": "code",
   "execution_count": 157,
   "id": "dd2ca68f-90fe-41bc-87da-986e821ec3cc",
   "metadata": {},
   "outputs": [
    {
     "data": {
      "text/plain": [
       "1"
      ]
     },
     "execution_count": 157,
     "metadata": {},
     "output_type": "execute_result"
    }
   ],
   "source": [
    "list1=[[10,20]]   #package\n",
    "len(list1)"
   ]
  },
  {
   "cell_type": "code",
   "execution_count": 173,
   "id": "12f170e7-d858-4d88-9049-9c35bf9697c7",
   "metadata": {},
   "outputs": [
    {
     "data": {
      "text/plain": [
       "20"
      ]
     },
     "execution_count": 173,
     "metadata": {},
     "output_type": "execute_result"
    }
   ],
   "source": [
    "list1=[10,[20]]\n",
    "list1[1][0]"
   ]
  },
  {
   "cell_type": "code",
   "execution_count": 169,
   "id": "cedafdc8-68d2-4214-ad95-5457018ab59c",
   "metadata": {},
   "outputs": [
    {
     "data": {
      "text/plain": [
       "30"
      ]
     },
     "execution_count": 169,
     "metadata": {},
     "output_type": "execute_result"
    }
   ],
   "source": [
    "list1=[10,[20,30]]\n",
    "list1[1][1]"
   ]
  },
  {
   "cell_type": "code",
   "execution_count": 177,
   "id": "5e768ff9-580d-4c2f-a446-840b2ef68080",
   "metadata": {},
   "outputs": [
    {
     "data": {
      "text/plain": [
       "'Cherry'"
      ]
     },
     "execution_count": 177,
     "metadata": {},
     "output_type": "execute_result"
    }
   ],
   "source": [
    "list1=[10,20,30,'A',['Banana','Cherry']]\n",
    "list1[4][1]       "
   ]
  },
  {
   "cell_type": "code",
   "execution_count": 179,
   "id": "4d2366bb-2e1b-4948-b343-34f75b1d7281",
   "metadata": {},
   "outputs": [
    {
     "data": {
      "text/plain": [
       "'CHEERY'"
      ]
     },
     "execution_count": 179,
     "metadata": {},
     "output_type": "execute_result"
    }
   ],
   "source": [
    "list1=['A',['Apple','B',['Banana'],'C',['CHEERY']]]\n",
    "list1[1][4][0]"
   ]
  },
  {
   "cell_type": "code",
   "execution_count": 193,
   "id": "9872bf72-a8b5-4b84-9881-9148859d7092",
   "metadata": {},
   "outputs": [
    {
     "data": {
      "text/plain": [
       "'DRAGON'"
      ]
     },
     "execution_count": 193,
     "metadata": {},
     "output_type": "execute_result"
    }
   ],
   "source": [
    "list1=['A',['Apple','B',['Banana'],'C',['CHEERY','d',['DRAGON']]]]\n",
    "list1[1][4][2] [0]                                     "
   ]
  },
  {
   "cell_type": "code",
   "execution_count": 199,
   "id": "a2a8501f-33f7-4aee-af6e-f452519cfad1",
   "metadata": {},
   "outputs": [
    {
     "data": {
      "text/plain": [
       "'bat'"
      ]
     },
     "execution_count": 199,
     "metadata": {},
     "output_type": "execute_result"
    }
   ],
   "source": [
    "list1=['apple',['kash',['india',['cricket',['bat']]]]]\n",
    "list1[1][1][1][1][0]"
   ]
  },
  {
   "cell_type": "code",
   "execution_count": 205,
   "id": "3dab8032-c13c-45ee-924e-298968d3d4e9",
   "metadata": {},
   "outputs": [
    {
     "data": {
      "text/plain": [
       "'viky'"
      ]
     },
     "execution_count": 205,
     "metadata": {},
     "output_type": "execute_result"
    }
   ],
   "source": [
    "list1=['orange',['nagpur',['mah',['shivaji',['shamba',['viky']]]]]]\n",
    "list1[1][1][1][1][1][0]"
   ]
  },
  {
   "cell_type": "code",
   "execution_count": 209,
   "id": "3e70c67b-ab6b-4e75-a2c0-cbd3f7e8cbcd",
   "metadata": {},
   "outputs": [
    {
     "data": {
      "text/plain": [
       "'apple'"
      ]
     },
     "execution_count": 209,
     "metadata": {},
     "output_type": "execute_result"
    }
   ],
   "source": [
    "list1=[[[[[['apple']]]]]]\n",
    "list1[0][0][0][0][0][0]"
   ]
  },
  {
   "cell_type": "code",
   "execution_count": null,
   "id": "ca006b46-02c1-4740-9abf-f7a9a3e8e261",
   "metadata": {},
   "outputs": [],
   "source": [
    "str1='pyt'\n",
    "list1=['p','y','t']\n",
    "\n",
    "len\n",
    "max\n",
    "min\n",
    "sor\n",
    "rev\n"
   ]
  },
  {
   "cell_type": "markdown",
   "id": "ca9de6f4-d611-4ad0-9a08-35b58b147400",
   "metadata": {},
   "source": [
    "**in**"
   ]
  },
  {
   "cell_type": "code",
   "execution_count": 5,
   "id": "07c6964e-bba0-4a38-9d60-bf2121a27640",
   "metadata": {},
   "outputs": [
    {
     "data": {
      "text/plain": [
       "True"
      ]
     },
     "execution_count": 5,
     "metadata": {},
     "output_type": "execute_result"
    }
   ],
   "source": [
    "str1='pyt'\n",
    "'p' in str1"
   ]
  },
  {
   "cell_type": "code",
   "execution_count": 23,
   "id": "ce360499-dd2b-4f37-b525-ea749f66414b",
   "metadata": {},
   "outputs": [
    {
     "name": "stdout",
     "output_type": "stream",
     "text": [
      "p\n",
      "y\n",
      "t\n"
     ]
    }
   ],
   "source": [
    "list1=['p','y','t']\n",
    "for i in list1:\n",
    "        print(i)"
   ]
  },
  {
   "cell_type": "markdown",
   "id": "9c8e144d-286f-4420-a6c0-0e0d6dac32b9",
   "metadata": {},
   "source": [
    "**range vs in**\n",
    "\n",
    " -  when we have use with index then go for range\n",
    "\n",
    " -  when we use with only element go for range"
   ]
  },
  {
   "cell_type": "markdown",
   "id": "2dd7f019-016d-4b12-b7a9-de837b1f0248",
   "metadata": {},
   "source": [
    "**mutable vs immutable**"
   ]
  },
  {
   "cell_type": "code",
   "execution_count": 37,
   "id": "1176e271-5e87-4939-8e14-98738ffaf319",
   "metadata": {},
   "outputs": [
    {
     "data": {
      "text/plain": [
       "[[40], 2, 3]"
      ]
     },
     "execution_count": 37,
     "metadata": {},
     "output_type": "execute_result"
    }
   ],
   "source": [
    "list1=[1,2,3]\n",
    "list1[0]=[40]\n",
    "list1\n"
   ]
  },
  {
   "cell_type": "code",
   "execution_count": 39,
   "id": "cbd249d6-0ac3-4d31-903b-089e67352d0b",
   "metadata": {},
   "outputs": [
    {
     "data": {
      "text/plain": [
       "[40, 2, 3]"
      ]
     },
     "execution_count": 39,
     "metadata": {},
     "output_type": "execute_result"
    }
   ],
   "source": [
    "list1=[1,2,3]\n",
    "list1[0]=40\n",
    "list1\n",
    "l1=[10,20,30,40,50,'A,'B','C','D','E','apple','banana']"
   ]
  },
  {
   "cell_type": "markdown",
   "id": "703bf7e5-93bd-44e7-a404-e59e6cf61a63",
   "metadata": {},
   "source": [
    "**list are mutable**"
   ]
  },
  {
   "cell_type": "markdown",
   "id": "0c64c9fb-98ad-4d4c-ad0c-3019753ab7a5",
   "metadata": {},
   "source": [
    "**slic**"
   ]
  },
  {
   "cell_type": "code",
   "execution_count": 7,
   "id": "90862ab5-af3e-4084-a332-08cd2a0cffc4",
   "metadata": {},
   "outputs": [
    {
     "data": {
      "text/plain": [
       "[10, 20, 30, 40, 50, 'A', 'B', 'C', 'D', 'E', 'apple', 'banana']"
      ]
     },
     "execution_count": 7,
     "metadata": {},
     "output_type": "execute_result"
    }
   ],
   "source": [
    "l1=[10,20,30,40,50, 'A', 'B', 'C','D', 'E', 'apple','banana']\n",
    "l1[:]"
   ]
  },
  {
   "cell_type": "code",
   "execution_count": 17,
   "id": "4b1f0ce1-15b6-4e22-be4f-7f8deacf9884",
   "metadata": {},
   "outputs": [
    {
     "data": {
      "text/plain": [
       "[]"
      ]
     },
     "execution_count": 17,
     "metadata": {},
     "output_type": "execute_result"
    }
   ],
   "source": [
    "l1=[10,20,30,40,50, 'A', 'B', 'C','D', 'E', 'apple','banana']\n",
    "l1[2:10:-2]"
   ]
  },
  {
   "cell_type": "code",
   "execution_count": 13,
   "id": "b3c7432e-c621-4f69-8205-d54d6415b00c",
   "metadata": {},
   "outputs": [
    {
     "data": {
      "text/plain": [
       "[]"
      ]
     },
     "execution_count": 13,
     "metadata": {},
     "output_type": "execute_result"
    }
   ],
   "source": [
    "l1[2:-10:-2]"
   ]
  },
  {
   "cell_type": "code",
   "execution_count": 15,
   "id": "5adf8d6d-5390-4f08-abab-4699c90338df",
   "metadata": {},
   "outputs": [
    {
     "data": {
      "text/plain": [
       "['apple', 'D', 'B', 50]"
      ]
     },
     "execution_count": 15,
     "metadata": {},
     "output_type": "execute_result"
    }
   ],
   "source": [
    "l1[-2:-10:-2]"
   ]
  },
  {
   "cell_type": "code",
   "execution_count": 75,
   "id": "82d9eb20-c8de-4225-8ccb-6c3aca6887e3",
   "metadata": {},
   "outputs": [
    {
     "data": {
      "text/plain": [
       "[]"
      ]
     },
     "execution_count": 75,
     "metadata": {},
     "output_type": "execute_result"
    }
   ],
   "source": [
    "l1[-10:2:2]"
   ]
  },
  {
   "cell_type": "code",
   "execution_count": 89,
   "id": "a8747046-88ab-4cc4-881e-d99f0dc36319",
   "metadata": {},
   "outputs": [
    {
     "data": {
      "text/plain": [
       "['apple', 'D', 'B', 50]"
      ]
     },
     "execution_count": 89,
     "metadata": {},
     "output_type": "execute_result"
    }
   ],
   "source": [
    "l1=[10,20,30,40,50, 'A', 'B', 'C','D', 'E', 'apple','banana']\n",
    "l1[10:2:-2]"
   ]
  },
  {
   "cell_type": "code",
   "execution_count": 23,
   "id": "cf981a90-3707-478f-b82a-94d5f3cdcc82",
   "metadata": {},
   "outputs": [
    {
     "data": {
      "text/plain": [
       "[]"
      ]
     },
     "execution_count": 23,
     "metadata": {},
     "output_type": "execute_result"
    }
   ],
   "source": [
    "l1[-10:2:-2]"
   ]
  },
  {
   "cell_type": "code",
   "execution_count": 25,
   "id": "bd0c34b2-7543-46aa-b1b7-1d4615321d81",
   "metadata": {},
   "outputs": [
    {
     "data": {
      "text/plain": [
       "[]"
      ]
     },
     "execution_count": 25,
     "metadata": {},
     "output_type": "execute_result"
    }
   ],
   "source": [
    "l1[-10:-2:-2]"
   ]
  },
  {
   "cell_type": "markdown",
   "id": "605fc64b-1eab-4cf5-88b9-91c58cf27cc7",
   "metadata": {},
   "source": [
    "*methods*"
   ]
  },
  {
   "cell_type": "code",
   "execution_count": 70,
   "id": "edf142f3-fceb-449c-b15a-f9702f04bf13",
   "metadata": {},
   "outputs": [
    {
     "data": {
      "text/plain": [
       "['__add__',\n",
       " '__class__',\n",
       " '__contains__',\n",
       " '__delattr__',\n",
       " '__dir__',\n",
       " '__doc__',\n",
       " '__eq__',\n",
       " '__format__',\n",
       " '__ge__',\n",
       " '__getattribute__',\n",
       " '__getitem__',\n",
       " '__getnewargs__',\n",
       " '__getstate__',\n",
       " '__gt__',\n",
       " '__hash__',\n",
       " '__init__',\n",
       " '__init_subclass__',\n",
       " '__iter__',\n",
       " '__le__',\n",
       " '__len__',\n",
       " '__lt__',\n",
       " '__mod__',\n",
       " '__mul__',\n",
       " '__ne__',\n",
       " '__new__',\n",
       " '__reduce__',\n",
       " '__reduce_ex__',\n",
       " '__repr__',\n",
       " '__rmod__',\n",
       " '__rmul__',\n",
       " '__setattr__',\n",
       " '__sizeof__',\n",
       " '__str__',\n",
       " '__subclasshook__',\n",
       " 'capitalize',\n",
       " 'casefold',\n",
       " 'center',\n",
       " 'count',\n",
       " 'encode',\n",
       " 'endswith',\n",
       " 'expandtabs',\n",
       " 'find',\n",
       " 'format',\n",
       " 'format_map',\n",
       " 'index',\n",
       " 'isalnum',\n",
       " 'isalpha',\n",
       " 'isascii',\n",
       " 'isdecimal',\n",
       " 'isdigit',\n",
       " 'isidentifier',\n",
       " 'islower',\n",
       " 'isnumeric',\n",
       " 'isprintable',\n",
       " 'isspace',\n",
       " 'istitle',\n",
       " 'isupper',\n",
       " 'join',\n",
       " 'ljust',\n",
       " 'lower',\n",
       " 'lstrip',\n",
       " 'maketrans',\n",
       " 'partition',\n",
       " 'removeprefix',\n",
       " 'removesuffix',\n",
       " 'replace',\n",
       " 'rfind',\n",
       " 'rindex',\n",
       " 'rjust',\n",
       " 'rpartition',\n",
       " 'rsplit',\n",
       " 'rstrip',\n",
       " 'split',\n",
       " 'splitlines',\n",
       " 'startswith',\n",
       " 'strip',\n",
       " 'swapcase',\n",
       " 'title',\n",
       " 'translate',\n",
       " 'upper',\n",
       " 'zfill']"
      ]
     },
     "execution_count": 70,
     "metadata": {},
     "output_type": "execute_result"
    }
   ],
   "source": [
    "# - if we want to know the strings methods\n",
    "\n",
    "dir('')"
   ]
  },
  {
   "cell_type": "markdown",
   "id": "70b13cb5-8d0f-4eb0-9e78-e21e9bef351c",
   "metadata": {},
   "source": [
    "  - clear\n",
    "\n",
    "  -  copy\n",
    "\n",
    "  -  count"
   ]
  },
  {
   "cell_type": "code",
   "execution_count": 59,
   "id": "e8037fa0-68a1-444c-b585-84b867d10a03",
   "metadata": {},
   "outputs": [
    {
     "name": "stdout",
     "output_type": "stream",
     "text": [
      "list1 before class i should see list1 output [10, 20, 30, 'A', 'B', 'C']\n",
      "l1 after apply clear method list []\n"
     ]
    }
   ],
   "source": [
    "list1=[10,20,30,'A','B','C']\n",
    "print('list1 before class i should see list1 output',list1)\n",
    "list1.clear()\n",
    "print('l1 after apply clear method list',list1)\n"
   ]
  },
  {
   "cell_type": "code",
   "execution_count": 63,
   "id": "5105fa93-22ca-4e99-a833-44816eaab1c8",
   "metadata": {},
   "outputs": [
    {
     "name": "stdout",
     "output_type": "stream",
     "text": [
      "[]\n",
      "[10, 20, 30, 'A', 'B', 'C']\n"
     ]
    }
   ],
   "source": [
    "list1=[10,20,30,'A','B','C']\n",
    "l2=list1.copy()\n",
    "list1.clear()\n",
    "print(list1)\n",
    "print(l2)"
   ]
  },
  {
   "cell_type": "code",
   "execution_count": 69,
   "id": "b0dcdabe-59dd-43f5-93fe-076d78f57455",
   "metadata": {},
   "outputs": [
    {
     "data": {
      "text/plain": [
       "[10, 20, 30, 'A', 'B', 'C']"
      ]
     },
     "execution_count": 69,
     "metadata": {},
     "output_type": "execute_result"
    }
   ],
   "source": [
    "list1=l2\n",
    "l2"
   ]
  },
  {
   "cell_type": "code",
   "execution_count": 87,
   "id": "b1a5e362-0a2c-4c67-9f56-ece93595c6c1",
   "metadata": {},
   "outputs": [
    {
     "data": {
      "text/plain": [
       "2"
      ]
     },
     "execution_count": 87,
     "metadata": {},
     "output_type": "execute_result"
    }
   ],
   "source": [
    "list1=[10,20,30,'A','B','C',10]\n",
    "list1.count(10)"
   ]
  },
  {
   "cell_type": "markdown",
   "id": "13ad9e4c-a6fe-4293-9ea8-31b36f26b999",
   "metadata": {},
   "source": [
    "**append**\n",
    "\n",
    " - append is very very imp method in entire list\n",
    "\n",
    " -  in our life we will use this method very very frequemtly\n",
    "\n",
    " -  append means adding a element at last"
   ]
  },
  {
   "cell_type": "code",
   "execution_count": 94,
   "id": "477a184c-8c29-4d90-9234-f4b3cc1d7942",
   "metadata": {},
   "outputs": [
    {
     "data": {
      "text/plain": [
       "[10, 20, 30, 60]"
      ]
     },
     "execution_count": 94,
     "metadata": {},
     "output_type": "execute_result"
    }
   ],
   "source": [
    "li=[10,20,30]\n",
    "li.append(60)\n",
    "li"
   ]
  },
  {
   "cell_type": "code",
   "execution_count": 98,
   "id": "5c993fde-ed20-40c5-abf4-9f43299c4c10",
   "metadata": {},
   "outputs": [
    {
     "data": {
      "text/plain": [
       "[10, 20, 30, 'ap']"
      ]
     },
     "execution_count": 98,
     "metadata": {},
     "output_type": "execute_result"
    }
   ],
   "source": [
    "li=[10,20,30]\n",
    "li.append('ap')\n",
    "li"
   ]
  },
  {
   "cell_type": "code",
   "execution_count": 102,
   "id": "e3edd58c-023a-4446-b2b7-9d361079fdbe",
   "metadata": {},
   "outputs": [
    {
     "data": {
      "text/plain": [
       "[10, 20, 30, 'ap', 'banana']"
      ]
     },
     "execution_count": 102,
     "metadata": {},
     "output_type": "execute_result"
    }
   ],
   "source": [
    "li=[10,20,30]\n",
    "li.append('ap')\n",
    "li.append('banana')\n",
    "li"
   ]
  },
  {
   "cell_type": "code",
   "execution_count": 104,
   "id": "cdb44be0-37f6-48d1-ac0b-225205e8e0c1",
   "metadata": {},
   "outputs": [
    {
     "ename": "TypeError",
     "evalue": "list.append() takes exactly one argument (2 given)",
     "output_type": "error",
     "traceback": [
      "\u001b[1;31m---------------------------------------------------------------------------\u001b[0m",
      "\u001b[1;31mTypeError\u001b[0m                                 Traceback (most recent call last)",
      "Cell \u001b[1;32mIn[104], line 2\u001b[0m\n\u001b[0;32m      1\u001b[0m li\u001b[38;5;241m=\u001b[39m[\u001b[38;5;241m10\u001b[39m,\u001b[38;5;241m20\u001b[39m,\u001b[38;5;241m30\u001b[39m]\n\u001b[1;32m----> 2\u001b[0m li\u001b[38;5;241m.\u001b[39mappend(\u001b[38;5;124m'\u001b[39m\u001b[38;5;124map\u001b[39m\u001b[38;5;124m'\u001b[39m,\u001b[38;5;124m'\u001b[39m\u001b[38;5;124mbanana\u001b[39m\u001b[38;5;124m'\u001b[39m)\n\u001b[0;32m      3\u001b[0m li\u001b[38;5;241m.\u001b[39mappend(\u001b[38;5;124m'\u001b[39m\u001b[38;5;124mbanana\u001b[39m\u001b[38;5;124m'\u001b[39m)\n\u001b[0;32m      4\u001b[0m li\n",
      "\u001b[1;31mTypeError\u001b[0m: list.append() takes exactly one argument (2 given)"
     ]
    }
   ],
   "source": [
    "li=[10,20,30]\n",
    "li.append('ap','banana')\n",
    "li.append('banana')\n",
    "li"
   ]
  },
  {
   "cell_type": "code",
   "execution_count": 106,
   "id": "41703821-a2e0-43a3-a56a-445e7dea2e24",
   "metadata": {},
   "outputs": [
    {
     "data": {
      "text/plain": [
       "[10, 20, 30, ['ap', 'banana'], 'banana']"
      ]
     },
     "execution_count": 106,
     "metadata": {},
     "output_type": "execute_result"
    }
   ],
   "source": [
    "li=[10,20,30]\n",
    "li.append(['ap','banana'])\n",
    "li.append('banana')\n",
    "li"
   ]
  },
  {
   "cell_type": "markdown",
   "id": "9f13ed37-c24e-4752-bb64-27094e1e25a1",
   "metadata": {},
   "source": [
    "**always recall if you see anywhere multiple means most of the time we will keep those value in list**"
   ]
  },
  {
   "cell_type": "code",
   "execution_count": 110,
   "id": "98696aec-51e3-4dd6-b711-aa4a17f856e5",
   "metadata": {},
   "outputs": [
    {
     "data": {
      "text/plain": [
       "[10, 20, 30, 'ap', 'ap', 'banana']"
      ]
     },
     "execution_count": 110,
     "metadata": {},
     "output_type": "execute_result"
    }
   ],
   "source": [
    "li=[10,20,30]\n",
    "li.append('ap')\n",
    "li.append('ap')\n",
    "li.append('banana')\n",
    "li"
   ]
  },
  {
   "cell_type": "code",
   "execution_count": 112,
   "id": "c7d7a575-4450-4e8c-9e7a-8adbf61c5026",
   "metadata": {},
   "outputs": [
    {
     "ename": "TypeError",
     "evalue": "list.append() takes exactly one argument (2 given)",
     "output_type": "error",
     "traceback": [
      "\u001b[1;31m---------------------------------------------------------------------------\u001b[0m",
      "\u001b[1;31mTypeError\u001b[0m                                 Traceback (most recent call last)",
      "Cell \u001b[1;32mIn[112], line 3\u001b[0m\n\u001b[0;32m      1\u001b[0m li\u001b[38;5;241m=\u001b[39m[\u001b[38;5;241m10\u001b[39m,\u001b[38;5;241m20\u001b[39m,\u001b[38;5;241m30\u001b[39m]\n\u001b[0;32m      2\u001b[0m li\u001b[38;5;241m.\u001b[39mappend(\u001b[38;5;124m'\u001b[39m\u001b[38;5;124map\u001b[39m\u001b[38;5;124m'\u001b[39m)\n\u001b[1;32m----> 3\u001b[0m li\u001b[38;5;241m.\u001b[39mappend(\u001b[38;5;124m'\u001b[39m\u001b[38;5;124map\u001b[39m\u001b[38;5;124m'\u001b[39m,\u001b[38;5;124m'\u001b[39m\u001b[38;5;124mc\u001b[39m\u001b[38;5;124m'\u001b[39m)\n\u001b[0;32m      4\u001b[0m li\u001b[38;5;241m.\u001b[39mappend(\u001b[38;5;124m'\u001b[39m\u001b[38;5;124mbanana\u001b[39m\u001b[38;5;124m'\u001b[39m)\n\u001b[0;32m      5\u001b[0m li\n",
      "\u001b[1;31mTypeError\u001b[0m: list.append() takes exactly one argument (2 given)"
     ]
    }
   ],
   "source": [
    "li=[10,20,30]\n",
    "li.append('ap')\n",
    "li.append('ap','c')\n",
    "li.append('banana')\n",
    "li"
   ]
  },
  {
   "cell_type": "code",
   "execution_count": 114,
   "id": "66c8e884-e368-4ea3-9c59-b759efd3bd1f",
   "metadata": {},
   "outputs": [
    {
     "data": {
      "text/plain": [
       "[10, 20, 30, 'ap', ['ap', 'c'], 'banana']"
      ]
     },
     "execution_count": 114,
     "metadata": {},
     "output_type": "execute_result"
    }
   ],
   "source": [
    "li=[10,20,30]\n",
    "li.append('ap')\n",
    "li.append(['ap','c'])\n",
    "li.append('banana')\n",
    "li"
   ]
  },
  {
   "cell_type": "markdown",
   "id": "d266f7e7-34ee-41e5-b99d-658ae03e5b5e",
   "metadata": {},
   "source": [
    "**append method is used to store the output**"
   ]
  },
  {
   "cell_type": "code",
   "execution_count": 125,
   "id": "1c523ec6-c868-4af2-91bb-5739bd3f91fc",
   "metadata": {},
   "outputs": [
    {
     "data": {
      "text/plain": [
       "[1, 2, 3, 4, 5]"
      ]
     },
     "execution_count": 125,
     "metadata": {},
     "output_type": "execute_result"
    }
   ],
   "source": [
    "# for example i wan to append  anumbers from 1 to 5\n",
    "#l=[1,2,3,4,5]\n",
    "\n",
    "l1=[]\n",
    "####################################################\n",
    "for i in range(1,6):\n",
    "    l1.append(i)\n",
    "l1"
   ]
  },
  {
   "cell_type": "code",
   "execution_count": 133,
   "id": "86480be0-60d2-4a63-8310-d22625984c24",
   "metadata": {},
   "outputs": [
    {
     "name": "stdout",
     "output_type": "stream",
     "text": [
      "[1, 2, 3, 4, 5, 6, 7]\n",
      "[1, 2, 3, 4, 5, 6, 7]\n"
     ]
    }
   ],
   "source": [
    "l1=[1,2,3,4,5,6,7]\n",
    "for i in range(1,3):\n",
    "    print(l1)"
   ]
  },
  {
   "cell_type": "code",
   "execution_count": 139,
   "id": "9e08386c-7a07-44bd-a335-ab952a12d0b3",
   "metadata": {},
   "outputs": [
    {
     "name": "stdout",
     "output_type": "stream",
     "text": [
      "2\n",
      "3\n",
      "4\n"
     ]
    }
   ],
   "source": [
    "#write a progrma ask the user enter 3 random numbers\n",
    "# and perform the square of the numbers, save those squares in a list\n",
    "\n",
    "import random\n",
    "for i in range(3):\n",
    "    num=random.randint(1,10)\n",
    "    print(num)\n"
   ]
  },
  {
   "cell_type": "code",
   "execution_count": 143,
   "id": "f3242a6c-9178-407e-97ec-c19e906b1232",
   "metadata": {},
   "outputs": [
    {
     "name": "stdout",
     "output_type": "stream",
     "text": [
      "5\n",
      "10\n",
      "2\n"
     ]
    },
    {
     "data": {
      "text/plain": [
       "[5, 10, 2]"
      ]
     },
     "execution_count": 143,
     "metadata": {},
     "output_type": "execute_result"
    }
   ],
   "source": [
    "import random\n",
    "li=[]\n",
    "for i in range(3):\n",
    "    num=random.randint(1,10)\n",
    "    print(num)\n",
    "    li.append(num)\n",
    "\n",
    "li"
   ]
  },
  {
   "cell_type": "code",
   "execution_count": 147,
   "id": "8f7444e2-ed89-4fc1-86f5-2fb5dc5060ae",
   "metadata": {},
   "outputs": [
    {
     "name": "stdout",
     "output_type": "stream",
     "text": [
      "6:36\n",
      "4:16\n",
      "10:100\n"
     ]
    }
   ],
   "source": [
    "import random\n",
    "for i in range(3):\n",
    "    num=random.randint(1,10)\n",
    "    print(f'{num}:{num*num}')\n"
   ]
  },
  {
   "cell_type": "code",
   "execution_count": 157,
   "id": "b2b97c97-3807-4824-9bdb-027b143d8ae7",
   "metadata": {},
   "outputs": [
    {
     "data": {
      "text/plain": [
       "['3:9', '9:81', '8:64']"
      ]
     },
     "execution_count": 157,
     "metadata": {},
     "output_type": "execute_result"
    }
   ],
   "source": [
    "import random\n",
    "li=[]\n",
    "for i in range(3):\n",
    "    num=random.randint(1,10)\n",
    "    li.append(f'{num}:{num*num}')\n",
    "li"
   ]
  },
  {
   "cell_type": "code",
   "execution_count": 31,
   "id": "66bc4f33-620f-4d41-adfe-25b8d0e07c37",
   "metadata": {},
   "outputs": [],
   "source": [
    "#q)2)  i already have a list of numbers\n",
    "\n",
    "# l=[10,47,53,12,27]\n",
    "\n",
    "# i want to prepare even_list and odd_list\n",
    "\n",
    "#even_list=[10,12]\n",
    "#odd_list=[47,53,27]\n",
    "\n"
   ]
  },
  {
   "cell_type": "code",
   "execution_count": 29,
   "id": "29867a40-4d95-4bdd-b2a4-bca1cc9353ec",
   "metadata": {},
   "outputs": [
    {
     "name": "stdout",
     "output_type": "stream",
     "text": [
      "[10, 12]\n",
      "[47, 53, 27]\n"
     ]
    }
   ],
   "source": [
    "l=[10,47,53,12,27]\n",
    "even_list=[]\n",
    "odd_list=[]\n",
    "for i in range(len(l)):\n",
    " if l[i]%2==0:\n",
    "        even_list.append(l[i])\n",
    " else:\n",
    "        odd_list.append(l[i])\n",
    "\n",
    "print(even_list)\n",
    "print(odd_list)\n"
   ]
  },
  {
   "cell_type": "code",
   "execution_count": null,
   "id": "8c69cffa-7f6e-430e-8101-8a010825998d",
   "metadata": {},
   "outputs": [],
   "source": [
    " Q3) input=['hyd','bengaluru','pune','mumbai']\n",
    "#     output=['Hyd','Bengaluru','Pune','Mumbai']\n",
    "\n",
    "# Q4) input=['hyd','bengaluru','pune','mumbai']\n",
    "#     output=['HYD','BENGALURU','PUNE','MUMBAI']\n",
    "\n",
    "# Q5) input=['hyd','ben#galuru','pune','mu#mbai']\n",
    "#     output=[ben#galuru',mu#mbai']\n",
    "\n",
    "# Q6) input=['hyd','ben#galuru','pune','mu#mbai']\n",
    "#     output=[hyd,pune]\n",
    "\n",
    "# Q7) input = 'hai how are you'\n",
    "#     output=['HAI','HOW','ARE','YOU']\n",
    "\n",
    "# Q8) input='virat.kohli@rcb.com;rohit.sharma@mi.com;ms.dhoni@csk.com'\n",
    "#     fname=['virat','rohit'.'ms']\n",
    "#     sname=['kohli','sharma','dhoni']\n",
    "#     cname=['rcb','mi','csk']\n",
    "\n",
    "# Q9) input='can canner can you can not canner with you but you can the canner'\n",
    "#     output=['can'-4,'canner'-3,'you'-3,'not'-1,'with'-1,'but'-1,'the'-1]\n",
    "\n",
    "# Q10) input = 'can canner can you can not canner with you but you can the canner'\n",
    "#      stopwords=['not','you','but','with']\n",
    "#      using stopwords remove those words from input\n",
    "#     output='can canner can can canner can canner'\n",
    "\n",
    "# Q11) take a string find the most repeated word from string\n",
    "\n",
    "# Q12) take a string find the longest length of the word from string\n",
    "\n",
    "# Q13) take a string find the lowest length of the word from string\n",
    "\n",
    "# Q14) you have some qns list is there\n",
    "#      also you have answers list also there\n",
    "#     qns=['who is PM of india',\n",
    "#       'what is the capital of india', who is ICT MENS captain]\n",
    "#    ans=['Modi','Delhi','Rohit']\n",
    "#    whenerver correct answer marks +10\n",
    "#    print you got total"
   ]
  },
  {
   "cell_type": "code",
   "execution_count": 47,
   "id": "58778c2c-bdd3-40b0-8e66-f14f64a89b4b",
   "metadata": {},
   "outputs": [
    {
     "data": {
      "text/plain": [
       "['HYD', 'PUNE']"
      ]
     },
     "execution_count": 47,
     "metadata": {},
     "output_type": "execute_result"
    }
   ],
   "source": [
    "#Q3) input=['hyd','bengaluru','pune','mumbai']\n",
    "#     output=['HYD','Bengaluru','PUNE','Mumbai']\n",
    "\n",
    "l=['hyd','pune']\n",
    "output=[]\n",
    "\n",
    "for i in l:\n",
    "    output.append(i.upper())\n",
    "\n",
    "output\n"
   ]
  },
  {
   "cell_type": "code",
   "execution_count": 49,
   "id": "43e40e48-598d-43d3-ba13-6e0e97284b9a",
   "metadata": {},
   "outputs": [
    {
     "data": {
      "text/plain": [
       "['Hyd', 'Pune']"
      ]
     },
     "execution_count": 49,
     "metadata": {},
     "output_type": "execute_result"
    }
   ],
   "source": [
    "# Q3) input=['hyd','bengaluru','pune','mumbai']\n",
    "#     output=['Hyd','Bengaluru','Pune','Mumbai']#\n",
    "\n",
    "l=['hyd','pune']\n",
    "output=[]\n",
    "\n",
    "for i in l:\n",
    "    output.append(i.title())\n",
    "\n",
    "output\n"
   ]
  },
  {
   "cell_type": "code",
   "execution_count": 102,
   "id": "8397cea0-1307-4ee1-b10b-34d5e7f3ceb7",
   "metadata": {},
   "outputs": [
    {
     "data": {
      "text/plain": [
       "['ben#galuru', 'mu#mbai']"
      ]
     },
     "execution_count": 102,
     "metadata": {},
     "output_type": "execute_result"
    }
   ],
   "source": [
    "# Q5) input=['hyd','ben#galuru','pune','mu#mbai']\n",
    "#     output=[ben#galuru',mu#mbai']\n",
    "\n",
    "l=['hyd','ben#galuru','pune','mu#mbai']\n",
    "output=[]\n",
    "\n",
    "for i in l:\n",
    "    if '#' in i :\n",
    "        output.append(i)\n",
    "\n",
    "output\n"
   ]
  },
  {
   "cell_type": "code",
   "execution_count": 104,
   "id": "0cd5d956-1412-4855-8c52-858244e2fecb",
   "metadata": {},
   "outputs": [
    {
     "data": {
      "text/plain": [
       "['hyd', 'pune']"
      ]
     },
     "execution_count": 104,
     "metadata": {},
     "output_type": "execute_result"
    }
   ],
   "source": [
    "# Q6) input=['hyd','ben#galuru','pune','mu#mbai']\n",
    "           # output=[hyd,pune]\n",
    "l=['hyd','ben#galuru','pune','mu#mbai']\n",
    "output=[]\n",
    "\n",
    "for i in l:\n",
    "    if '#'not in i :\n",
    "        \n",
    "        output.append(i)\n",
    "\n",
    "output\n"
   ]
  },
  {
   "cell_type": "code",
   "execution_count": 7,
   "id": "06893043-c042-4b10-915c-2af69f239bc8",
   "metadata": {},
   "outputs": [
    {
     "data": {
      "text/plain": [
       "['HAI', 'HOW', 'ARE', 'YOU']"
      ]
     },
     "execution_count": 7,
     "metadata": {},
     "output_type": "execute_result"
    }
   ],
   "source": [
    "# Q7) input = 'hai how are you'\n",
    "#     output=['HAI','HOW','ARE','YOU']\n",
    "\n",
    "input = 'hai how are you'\n",
    "input=input.split()\n",
    "output=[]\n",
    "for i in input:\n",
    "    output.append(i.upper())\n",
    "\n",
    "output\n",
    "    "
   ]
  },
  {
   "cell_type": "code",
   "execution_count": 86,
   "id": "3445c9c0-cf1b-4117-9e38-5eb3688877ca",
   "metadata": {},
   "outputs": [
    {
     "data": {
      "text/plain": [
       "[['virat', 'rohit']]"
      ]
     },
     "execution_count": 86,
     "metadata": {},
     "output_type": "execute_result"
    }
   ],
   "source": [
    "# Q8) input='virat.kohli@rcb.com;rohit.sharma@mi.com;ms.dhoni@csk.com'\n",
    "#     fname=['virat','rohit'.'ms']\n",
    "#     sname=['kohli','sharma','dhoni']\n",
    "#     cname=['rcb','mi','csk']\n",
    "\n",
    "\n",
    "input='virat.kohli@rcb.com;rohit.sharma@mi.com;ms.dhoni@csk.com'\n",
    "fname=[]\n",
    "id1=input.index('.')\n",
    "ush=input[0:id1]\n",
    "id2=input.index('@')\n",
    "input[id1+1:id2]\n",
    "id3=input.index('.',id1+1)\n",
    "input[id2+1:id3]\n",
    "id4=input.index(';')\n",
    "input[id3+1:id4]\n",
    "id5=input.index('.',id3+1)\n",
    "ush1=input[id4+1:id5]\n",
    "fname.append([ush,ush1])\n",
    "fname"
   ]
  },
  {
   "cell_type": "code",
   "execution_count": 29,
   "id": "71e42834-ea62-4d19-b6db-2d76d23f7039",
   "metadata": {},
   "outputs": [
    {
     "name": "stdout",
     "output_type": "stream",
     "text": [
      "virat.kohli@rcb.com\n",
      "rohit.sharma@mi.com\n",
      "ms.dhoni@csk.com\n"
     ]
    },
    {
     "data": {
      "text/plain": [
       "['rcb', 'mi', 'csk']"
      ]
     },
     "execution_count": 29,
     "metadata": {},
     "output_type": "execute_result"
    }
   ],
   "source": [
    "input='virat.kohli@rcb.com;rohit.sharma@mi.com;ms.dhoni@csk.com'\n",
    "l=input.split(';')\n",
    "fname=[]\n",
    "sname=[]\n",
    "cname=[]\n",
    "for i in l:\n",
    "    print(i)\n",
    "    id1=i.find('.')\n",
    "    id2=i.find('@')\n",
    "    id3=i.find('.',id1+1)\n",
    "    fname.append(i[:id1])\n",
    "    sname.append(i[id1+1:id2])\n",
    "    cname.append(i[id2+1:id3])\n",
    "\n",
    "fname\n",
    "sname\n",
    "cname"
   ]
  },
  {
   "cell_type": "markdown",
   "id": "03c5d27b-5edf-43f5-a6fd-80be1038ec20",
   "metadata": {},
   "source": [
    "**word freuency problem**"
   ]
  },
  {
   "cell_type": "code",
   "execution_count": 20,
   "id": "02456db2-8aa3-43c7-992b-3e3732c046e9",
   "metadata": {},
   "outputs": [
    {
     "data": {
      "text/plain": [
       "['can:4', 'canner:3', 'you:3', 'not:1', 'with:1', 'but:1', 'the:1']"
      ]
     },
     "execution_count": 20,
     "metadata": {},
     "output_type": "execute_result"
    }
   ],
   "source": [
    " # Q9) input='can canner can you can not canner with you but you can the canner'\n",
    " #  output=['can'-4,'canner'-3,'you'-3,'not'-1,'with'-1,'but'-1,'the'-1]\n",
    "\n",
    "\n",
    "input='can canner can you can not canner with you but you can the canner'\n",
    "l=input.split()\n",
    "l1=[]\n",
    "counter=[]\n",
    "for i in l:\n",
    "    if i not in l1:\n",
    "        counter.append(f\"{i}:{l.count(i)}\")\n",
    "        l1.append(i)#s=s+i\n",
    "\n",
    "counter"
   ]
  },
  {
   "cell_type": "code",
   "execution_count": 14,
   "id": "d310a275-47e2-4372-81d5-fef2903d795c",
   "metadata": {},
   "outputs": [
    {
     "data": {
      "text/plain": [
       "['can', 'canner', 'can', 'can', 'canner', 'can', 'the', 'canner']"
      ]
     },
     "execution_count": 14,
     "metadata": {},
     "output_type": "execute_result"
    }
   ],
   "source": [
    "# Q10) input = 'can canner can you can not canner with you but you can the canner'\n",
    "#      stopwords=['not','you','but','with']\n",
    "#      using stopwords remove those words from input\n",
    "#     output='can canner can can canner can canner'\n",
    "\n",
    "\n",
    "input = 'can canner can you can not canner with you but you can the canner'\n",
    "l=input.split()\n",
    "counter=[]\n",
    "stopwords=['not','you','but','with']\n",
    "for i in l:\n",
    "    if i not in stopwords :\n",
    "        counter.append(i)\n",
    "        \n",
    "\n",
    "counter"
   ]
  },
  {
   "cell_type": "code",
   "execution_count": 66,
   "id": "13f97357-e1d9-4117-8c16-60763113b751",
   "metadata": {},
   "outputs": [
    {
     "data": {
      "text/plain": [
       "'can canner can can canner can the canner'"
      ]
     },
     "execution_count": 66,
     "metadata": {},
     "output_type": "execute_result"
    }
   ],
   "source": [
    "' '.join(counter)"
   ]
  },
  {
   "cell_type": "code",
   "execution_count": 30,
   "id": "f3f32f9a-934e-4b7c-9b78-ba6d177f0f00",
   "metadata": {},
   "outputs": [
    {
     "ename": "ImportError",
     "evalue": "cannot import name 'counter' from 'collections' (C:\\Users\\mukki\\anaconda3\\Lib\\collections\\__init__.py)",
     "output_type": "error",
     "traceback": [
      "\u001b[1;31m---------------------------------------------------------------------------\u001b[0m",
      "\u001b[1;31mImportError\u001b[0m                               Traceback (most recent call last)",
      "Cell \u001b[1;32mIn[30], line 5\u001b[0m\n\u001b[0;32m      1\u001b[0m \u001b[38;5;66;03m# Q11) take a string find the most repeated word from string\u001b[39;00m\n\u001b[0;32m      2\u001b[0m \n\u001b[0;32m      3\u001b[0m \u001b[38;5;66;03m####input = 'can canner can you can not canner with you but you can the canner'\u001b[39;00m\n\u001b[1;32m----> 5\u001b[0m \u001b[38;5;28;01mfrom\u001b[39;00m \u001b[38;5;21;01mcollections\u001b[39;00m \u001b[38;5;28;01mimport\u001b[39;00m counter\n\u001b[0;32m      6\u001b[0m words \u001b[38;5;241m=\u001b[39m \u001b[38;5;124m'\u001b[39m\u001b[38;5;124mcan canner can you can not canner with you but you can the canner\u001b[39m\u001b[38;5;124m'\u001b[39m\n\u001b[0;32m      7\u001b[0m l\u001b[38;5;241m=\u001b[39m\u001b[38;5;28minput\u001b[39m\u001b[38;5;241m.\u001b[39msplit()\n",
      "\u001b[1;31mImportError\u001b[0m: cannot import name 'counter' from 'collections' (C:\\Users\\mukki\\anaconda3\\Lib\\collections\\__init__.py)"
     ]
    }
   ],
   "source": [
    "# Q11) take a string find the most repeated word from string\n",
    "\n",
    "####input = 'can canner can you can not canner with you but you can the canner'\n",
    "\n",
    "from collections import counter\n",
    "words = 'can canner can you can not canner with you but you can the canner'\n",
    "l=input.split()\n",
    "l_counts=counter(words)\n",
    "max_count=max(l_counts.values())\n",
    "most_common_words=[word for word, count in l_counts.items() if count==max_count]\n",
    "\n",
    "max_count\n"
   ]
  },
  {
   "cell_type": "code",
   "execution_count": null,
   "id": "851ae0e5-ad30-4b88-9264-7f15665ff165",
   "metadata": {},
   "outputs": [],
   "source": [
    "\n",
    "\n",
    "# Q12) take a string find the longest length of the word from string\n",
    "\n",
    "# Q13) take a string find the lowest length of the word from string\n",
    "\n",
    "# Q14) you have some qns list is there\n",
    "#      also you have answers list also there\n",
    "#     qns=['who is PM of india',\n",
    "#       'what is the capital of india', who is ICT MENS captain]\n",
    "#    ans=['Modi','Delhi','Rohit']\n",
    "#    whenerver correct answer marks +10\n",
    "#    print you got total"
   ]
  },
  {
   "cell_type": "markdown",
   "id": "52ac4195-4f1d-4f87-96da-0f0c5e008db5",
   "metadata": {},
   "source": [
    "**extend**"
   ]
  },
  {
   "cell_type": "code",
   "execution_count": 19,
   "id": "4a0e987f-9c2c-4433-84be-6d423c6ec682",
   "metadata": {},
   "outputs": [
    {
     "name": "stdout",
     "output_type": "stream",
     "text": [
      "[1, 2, 3, 4, 5, 'A', 'B', 'C', 'D']\n"
     ]
    }
   ],
   "source": [
    "l1=[1,2,3,4,5]\n",
    "l2=['A','B','C','D']\n",
    "\n",
    "l1.extend(l2)\n",
    "print(l1)"
   ]
  },
  {
   "cell_type": "code",
   "execution_count": 3,
   "id": "3064818c-dcf4-4953-8ec6-639e53472f32",
   "metadata": {},
   "outputs": [
    {
     "data": {
      "text/plain": [
       "['A', 'B', 'C', 'D', 1, 2, 3, 4, 5]"
      ]
     },
     "execution_count": 3,
     "metadata": {},
     "output_type": "execute_result"
    }
   ],
   "source": [
    "l1=[1,2,3,4,5]\n",
    "l2=['A','B','C','D']\n",
    "l2.extend(l1)\n",
    "l2"
   ]
  },
  {
   "cell_type": "code",
   "execution_count": 16,
   "id": "074432bf-649f-4b06-a16e-db67a622e310",
   "metadata": {},
   "outputs": [
    {
     "data": {
      "text/plain": [
       "[1, 2, 3, 4, 5, ['A', 'B', 'C', 'D']]"
      ]
     },
     "execution_count": 16,
     "metadata": {},
     "output_type": "execute_result"
    }
   ],
   "source": [
    "l1=[1,2,3,4,5]\n",
    "l2=['A','B','C','D']\n",
    "l1.append(l2)\n",
    "l1"
   ]
  },
  {
   "cell_type": "code",
   "execution_count": 18,
   "id": "84f27918-1c17-468c-951d-14a7b03ca13d",
   "metadata": {},
   "outputs": [
    {
     "name": "stdout",
     "output_type": "stream",
     "text": [
      "[1, 2, 3, 4, 5, 'A', 'B', 'C', 'D']\n",
      "[1, 2, 3, 4, 5]\n",
      "['A', 'B', 'C', 'D']\n",
      "l1 will be overwrite if we use extend\n",
      "[1, 2, 3, 4, 5, 'A', 'B', 'C', 'D']\n"
     ]
    }
   ],
   "source": [
    "l1=[1,2,3,4,5]\n",
    "l2=['A','B','C','D']\n",
    "print(l1+l2)\n",
    "print(l1)\n",
    "print(l2)\n",
    "print('l1 will be overwrite if we use extend')\n",
    "l1.extend(l2)\n",
    "print(l1)"
   ]
  },
  {
   "cell_type": "markdown",
   "id": "6a48da0b-073b-43f9-bcda-5ef292f9bbb7",
   "metadata": {},
   "source": [
    "**index**"
   ]
  },
  {
   "cell_type": "markdown",
   "id": "ed7e81df-eb4f-4187-882c-4c3398d8c280",
   "metadata": {},
   "source": [
    "- strings we have index and find\n",
    "\n",
    "- but in list we have only index\n",
    "\n",
    "- same as strings concept"
   ]
  },
  {
   "cell_type": "code",
   "execution_count": 22,
   "id": "2e8f14db-3b82-42da-b2e0-e0989117be41",
   "metadata": {},
   "outputs": [
    {
     "name": "stdout",
     "output_type": "stream",
     "text": [
      "8\n"
     ]
    }
   ],
   "source": [
    "l1=[10,20,30,40,50,'Apple','Banana','Cherry',40,50]\n",
    "i1=l1.index(40)\n",
    "print(l1.index(40,i1+1))"
   ]
  },
  {
   "cell_type": "markdown",
   "id": "4af025ee-9313-4283-b95e-dcc8d4305e09",
   "metadata": {},
   "source": [
    "**insert**\n",
    "\n",
    "- difference between append and insert"
   ]
  },
  {
   "cell_type": "code",
   "execution_count": 25,
   "id": "04565ef4-ec79-4c5a-8a65-117e8ea0b5a2",
   "metadata": {},
   "outputs": [
    {
     "data": {
      "text/plain": [
       "[10, 20, 30, 40, 50, 'Apple', 100, 'Banana', 'Cherry', 40, 50]"
      ]
     },
     "execution_count": 25,
     "metadata": {},
     "output_type": "execute_result"
    }
   ],
   "source": [
    "l1=[10,20,30,40,50,'Apple','Banana','Cherry',40,50]\n",
    "# i want insert 100 aftaer apple\n",
    "id=l1.index('Apple')\n",
    "l1.insert(id+1,100)\n",
    "l1"
   ]
  },
  {
   "cell_type": "code",
   "execution_count": 27,
   "id": "0bc128a7-4ffa-4c49-902a-de81916ac2c4",
   "metadata": {},
   "outputs": [
    {
     "data": {
      "text/plain": [
       "[10, 20, 30, 40, 50, 'Apple', 'Banana', 'Cherry', 40, 50, 100]"
      ]
     },
     "execution_count": 27,
     "metadata": {},
     "output_type": "execute_result"
    }
   ],
   "source": [
    "l1=[10,20,30,40,50,'Apple','Banana','Cherry',40,50]\n",
    "l1.append(100)\n",
    "l1"
   ]
  },
  {
   "cell_type": "markdown",
   "id": "b5b1a3b3-b89f-47ac-b50d-2175ace59907",
   "metadata": {},
   "source": [
    "**pop vs remove**"
   ]
  },
  {
   "cell_type": "code",
   "execution_count": 30,
   "id": "ae1a82fb-1d78-439d-af18-26af7d3c8c1b",
   "metadata": {},
   "outputs": [
    {
     "data": {
      "text/plain": [
       "50"
      ]
     },
     "execution_count": 30,
     "metadata": {},
     "output_type": "execute_result"
    }
   ],
   "source": [
    "l1=[10,20,30,40,50,'Apple','Banana','Cherry',40,50]\n",
    "l1.pop()"
   ]
  },
  {
   "cell_type": "code",
   "execution_count": 32,
   "id": "a1f67dc1-fb85-4d39-a98e-f5df821cf372",
   "metadata": {},
   "outputs": [
    {
     "data": {
      "text/plain": [
       "[10, 20, 30, 40, 50, 'Banana', 'Cherry', 40, 50]"
      ]
     },
     "execution_count": 32,
     "metadata": {},
     "output_type": "execute_result"
    }
   ],
   "source": [
    "l1=[10,20,30,40,50,'Apple','Banana','Cherry',40,50]\n",
    "l1.pop(5)\n",
    "l1"
   ]
  },
  {
   "cell_type": "code",
   "execution_count": 34,
   "id": "b55f73ca-c248-4f1a-a05e-21bfb7f684c9",
   "metadata": {},
   "outputs": [
    {
     "data": {
      "text/plain": [
       "[10, 20, 30, 50, 'Apple', 'Banana', 'Cherry', 40, 50]"
      ]
     },
     "execution_count": 34,
     "metadata": {},
     "output_type": "execute_result"
    }
   ],
   "source": [
    "l1=[10,20,30,40,50,'Apple','Banana','Cherry',40,50]\n",
    "l1.remove(40)\n",
    "l1"
   ]
  },
  {
   "cell_type": "code",
   "execution_count": 36,
   "id": "cd6ffef9-46e6-49be-8bbb-c3a993d4271f",
   "metadata": {},
   "outputs": [
    {
     "data": {
      "text/plain": [
       "[10, 20, 30, 40, 50, 'Banana', 'Cherry', 40, 50]"
      ]
     },
     "execution_count": 36,
     "metadata": {},
     "output_type": "execute_result"
    }
   ],
   "source": [
    "l1=[10,20,30,40,50,'Apple','Banana','Cherry',40,50]\n",
    "del(l1[5])\n",
    "l1"
   ]
  },
  {
   "cell_type": "markdown",
   "id": "8e606384-9c1f-444f-81cb-c68fdee49503",
   "metadata": {},
   "source": [
    "- if we want delete any element\n",
    "\n",
    "- pop : based on index\n",
    "\n",
    "- remove : based on value\n",
    "\n",
    "- del is an inbuilt function"
   ]
  },
  {
   "cell_type": "code",
   "execution_count": 39,
   "id": "f984ef97-5c3c-44a5-9e9e-aef7d71a04bf",
   "metadata": {},
   "outputs": [
    {
     "name": "stdout",
     "output_type": "stream",
     "text": [
      "[10, 20, 30, 40, 50, 'Apple', 'Banana', 'Cherry', 40, 50]\n"
     ]
    },
    {
     "ename": "NameError",
     "evalue": "name 'l1' is not defined",
     "output_type": "error",
     "traceback": [
      "\u001b[1;31m---------------------------------------------------------------------------\u001b[0m",
      "\u001b[1;31mNameError\u001b[0m                                 Traceback (most recent call last)",
      "Cell \u001b[1;32mIn[39], line 4\u001b[0m\n\u001b[0;32m      2\u001b[0m \u001b[38;5;28mprint\u001b[39m(l1)\n\u001b[0;32m      3\u001b[0m \u001b[38;5;28;01mdel\u001b[39;00m(l1)\n\u001b[1;32m----> 4\u001b[0m l1\n",
      "\u001b[1;31mNameError\u001b[0m: name 'l1' is not defined"
     ]
    }
   ],
   "source": [
    "l1=[10,20,30,40,50,'Apple','Banana','Cherry',40,50]\n",
    "print(l1)\n",
    "del(l1)\n",
    "l1"
   ]
  },
  {
   "cell_type": "code",
   "execution_count": 41,
   "id": "74b85508-4450-4ebf-b72b-c9e3463a05c5",
   "metadata": {},
   "outputs": [
    {
     "data": {
      "text/plain": [
       "[10, 20, 30, 40, 50, 'Banana', 'Cherry', 40, 50]"
      ]
     },
     "execution_count": 41,
     "metadata": {},
     "output_type": "execute_result"
    }
   ],
   "source": [
    "l1=[10,20,30,40,50,'Apple','Banana','Cherry',40,50]\n",
    "del l1[5]  # del(l1[5])\n",
    "l1"
   ]
  },
  {
   "cell_type": "markdown",
   "id": "f443659d-71fe-4ae4-88d1-45ddec62f5a3",
   "metadata": {},
   "source": [
    "**reverse-reversed**\n",
    "\n",
    "- reverse is a method\n",
    "\n",
    "- reveresd is an inbuilt function"
   ]
  },
  {
   "cell_type": "code",
   "execution_count": 44,
   "id": "ed86a35f-4195-417c-b41d-e93f92dafba8",
   "metadata": {},
   "outputs": [
    {
     "data": {
      "text/plain": [
       "[50, 40, 30, 20, 10]"
      ]
     },
     "execution_count": 44,
     "metadata": {},
     "output_type": "execute_result"
    }
   ],
   "source": [
    "l1=[10,20,30,40,50]\n",
    "l1.reverse()\n",
    "l1"
   ]
  },
  {
   "cell_type": "markdown",
   "id": "d0af0c8e-df0a-4ac0-9456-123a65f7db7b",
   "metadata": {},
   "source": [
    "**in place**\n",
    "\n",
    "- when we perform the operations some times the values will not overrite\n",
    "\n",
    "- if we see **inplace** word or **inplace=True**\n",
    "\n",
    "- this indicates the output will be overwrite in correponding variable"
   ]
  },
  {
   "cell_type": "code",
   "execution_count": 48,
   "id": "270324be-b5e1-435f-9ba0-26985e674773",
   "metadata": {},
   "outputs": [
    {
     "name": "stdout",
     "output_type": "stream",
     "text": [
      "[10, 20, 30, 40, 50]\n"
     ]
    }
   ],
   "source": [
    "l1=[10,20,30,40,50]\n",
    "reversed(l1)\n",
    "print(l1)"
   ]
  },
  {
   "cell_type": "markdown",
   "id": "80f76c1a-9bb4-4f68-9c55-8a1c0feb7266",
   "metadata": {},
   "source": [
    "**sort-sorted**"
   ]
  },
  {
   "cell_type": "code",
   "execution_count": 51,
   "id": "1394f025-ab9d-4be6-91dd-190c82b861f1",
   "metadata": {},
   "outputs": [
    {
     "data": {
      "text/plain": [
       "[10, 20, 30, 40, 50]"
      ]
     },
     "execution_count": 51,
     "metadata": {},
     "output_type": "execute_result"
    }
   ],
   "source": [
    "l1=[20,10,40,30,50]\n",
    "l1.sort()\n",
    "l1"
   ]
  },
  {
   "cell_type": "code",
   "execution_count": 53,
   "id": "6c4fe2cd-b710-46f7-90f6-3562287b181e",
   "metadata": {},
   "outputs": [
    {
     "data": {
      "text/plain": [
       "[10, 20, 30, 40, 50]"
      ]
     },
     "execution_count": 53,
     "metadata": {},
     "output_type": "execute_result"
    }
   ],
   "source": [
    "l1=[20,10,40,30,50]\n",
    "sorted(l1)"
   ]
  },
  {
   "cell_type": "code",
   "execution_count": 55,
   "id": "0a19b682-5eab-48c0-9677-b96a7dc36d76",
   "metadata": {},
   "outputs": [
    {
     "data": {
      "text/plain": [
       "['h', 'n', 'o', 'p', 't', 'y']"
      ]
     },
     "execution_count": 55,
     "metadata": {},
     "output_type": "execute_result"
    }
   ],
   "source": [
    "str1='python'\n",
    "sorted(str1)  # strings lists"
   ]
  },
  {
   "cell_type": "code",
   "execution_count": null,
   "id": "f47f7765-825e-422f-ba06-fc560bfcdec1",
   "metadata": {},
   "outputs": [],
   "source": [
    "str1.sort()  # it is not avialble"
   ]
  },
  {
   "cell_type": "markdown",
   "id": "4f7920f8-f919-4040-908b-011508510a7f",
   "metadata": {},
   "source": [
    "- inbuilt functions applicable for any datatype\n",
    "\n",
    "- but methods works wrt data types"
   ]
  },
  {
   "cell_type": "markdown",
   "id": "f96097c4-fbea-45cc-8327-f4c73b7bcd80",
   "metadata": {},
   "source": [
    "- clear\n",
    "\n",
    "- count\n",
    "\n",
    "- append/extend/insert\n",
    "\n",
    "- pop/remove/del\n",
    "\n",
    "- index\n",
    "\n",
    "- reverse/reversed\n",
    "\n",
    "- sort/sorted"
   ]
  },
  {
   "cell_type": "code",
   "execution_count": 62,
   "id": "625202cb-90b2-45c2-8aad-d807d3e3b89e",
   "metadata": {},
   "outputs": [
    {
     "name": "stdout",
     "output_type": "stream",
     "text": [
      "True\n",
      "True\n",
      "True\n"
     ]
    }
   ],
   "source": [
    "#case1\n",
    "s1='2'\n",
    "print(s1.isdecimal())\n",
    "print(s1.isdigit())\n",
    "print(s1.isnumeric())"
   ]
  },
  {
   "cell_type": "code",
   "execution_count": null,
   "id": "4b2772b1-ca91-4625-b36a-88f341ff96e7",
   "metadata": {},
   "outputs": [],
   "source": []
  }
 ],
 "metadata": {
  "kernelspec": {
   "display_name": "Python [conda env:base] *",
   "language": "python",
   "name": "conda-base-py"
  },
  "language_info": {
   "codemirror_mode": {
    "name": "ipython",
    "version": 3
   },
   "file_extension": ".py",
   "mimetype": "text/x-python",
   "name": "python",
   "nbconvert_exporter": "python",
   "pygments_lexer": "ipython3",
   "version": "3.12.7"
  }
 },
 "nbformat": 4,
 "nbformat_minor": 5
}
