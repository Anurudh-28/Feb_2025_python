{
 "cells": [
  {
   "cell_type": "markdown",
   "id": "4e7a6f59-e5b4-48e1-8fbb-e09f95e67779",
   "metadata": {},
   "source": [
    "**try & except**"
   ]
  },
  {
   "cell_type": "markdown",
   "id": "4ad6bc2e-ae9c-4043-8ab4-64e8006767fa",
   "metadata": {},
   "source": [
    " -  try and except is a concept of exception handling\n",
    "\n",
    " -  there are two blockes \n",
    "\n",
    "    -  1.try block\n",
    "\n",
    "    -  2.except block\n",
    "\n",
    " -  original code will run under try block\n",
    "\n",
    " -  if any error occurs in try block, the error will catch by except block\n",
    "\n",
    " -  usecase-1: the code should catch the errors automatically\n",
    "\n",
    " -  usecase-2: the code should continue eventhough we got the error\n",
    " "
   ]
  },
  {
   "cell_type": "code",
   "execution_count": 17,
   "id": "d2be2b28-95cb-4628-8537-531be4f7b9cc",
   "metadata": {},
   "outputs": [
    {
     "name": "stdout",
     "output_type": "stream",
     "text": [
      "5.0\n"
     ]
    }
   ],
   "source": [
    "try:\n",
    "    a=10\n",
    "    b=2\n",
    "    c=a/b   # we will get error\n",
    "    print(c)\n",
    "except:\n",
    "    print('error coming in try block')\n",
    "    print('zero division error')\n",
    "    "
   ]
  },
  {
   "cell_type": "code",
   "execution_count": 20,
   "id": "d0e1057f-7e16-4a94-8c46-69626ec9f8d5",
   "metadata": {},
   "outputs": [
    {
     "name": "stdout",
     "output_type": "stream",
     "text": [
      "error coming in try block\n",
      "zero division error\n"
     ]
    }
   ],
   "source": [
    "try:\n",
    "    a=10\n",
    "    b=0\n",
    "    c=a/b   # we will get error\n",
    "    print(c)\n",
    "except:\n",
    "    print('error coming in try block')\n",
    "    print('zero division error')\n",
    "    "
   ]
  },
  {
   "cell_type": "markdown",
   "id": "1b4ba303-8b77-4942-9288-751a71d77064",
   "metadata": {},
   "source": [
    "**Note:**\n",
    "\n",
    " -  except block will run when we got the error in try block\n",
    "\n",
    " -  if code is crct only try bock is executed"
   ]
  },
  {
   "cell_type": "code",
   "execution_count": 32,
   "id": "b2301aa0-7e5a-4545-b408-886003e99fec",
   "metadata": {},
   "outputs": [
    {
     "ename": "SyntaxError",
     "evalue": "incomplete input (2580203495.py, line 6)",
     "output_type": "error",
     "traceback": [
      "\u001b[1;36m  Cell \u001b[1;32mIn[32], line 6\u001b[1;36m\u001b[0m\n\u001b[1;33m    print(c\u001b[0m\n\u001b[1;37m           ^\u001b[0m\n\u001b[1;31mSyntaxError\u001b[0m\u001b[1;31m:\u001b[0m incomplete input\n"
     ]
    }
   ],
   "source": [
    "## syntax error\n",
    "\n",
    "a=10\n",
    "b=20\n",
    "c=a+b\n",
    "print(c"
   ]
  },
  {
   "cell_type": "markdown",
   "id": "d9d1e827-5685-4879-bca7-9d619fe6636f",
   "metadata": {},
   "source": [
    "- syntax error will not catch\n",
    "\n",
    "- a minimum expectation everyone should write a code with out syntax eroor"
   ]
  },
  {
   "cell_type": "code",
   "execution_count": 37,
   "id": "31b6c8a0-5ad8-44e4-a019-eced4b28e75b",
   "metadata": {},
   "outputs": [
    {
     "ename": "ModuleNotFoundError",
     "evalue": "No module named 'anurudh'",
     "output_type": "error",
     "traceback": [
      "\u001b[1;31m---------------------------------------------------------------------------\u001b[0m",
      "\u001b[1;31mModuleNotFoundError\u001b[0m                       Traceback (most recent call last)",
      "Cell \u001b[1;32mIn[37], line 2\u001b[0m\n\u001b[0;32m      1\u001b[0m \u001b[38;5;66;03m##module error\u001b[39;00m\n\u001b[1;32m----> 2\u001b[0m \u001b[38;5;28;01mimport\u001b[39;00m \u001b[38;5;21;01manurudh\u001b[39;00m\n",
      "\u001b[1;31mModuleNotFoundError\u001b[0m: No module named 'anurudh'"
     ]
    }
   ],
   "source": [
    "## module error\n",
    "import anurudh"
   ]
  },
  {
   "cell_type": "code",
   "execution_count": 41,
   "id": "536549df-f150-4a53-90bc-1226926d51f4",
   "metadata": {},
   "outputs": [
    {
     "ename": "AttributeError",
     "evalue": "module 'random' has no attribute 'naresh'",
     "output_type": "error",
     "traceback": [
      "\u001b[1;31m---------------------------------------------------------------------------\u001b[0m",
      "\u001b[1;31mAttributeError\u001b[0m                            Traceback (most recent call last)",
      "Cell \u001b[1;32mIn[41], line 4\u001b[0m\n\u001b[0;32m      1\u001b[0m \u001b[38;5;66;03m## attribute error\u001b[39;00m\n\u001b[0;32m      3\u001b[0m \u001b[38;5;28;01mimport\u001b[39;00m \u001b[38;5;21;01mrandom\u001b[39;00m \n\u001b[1;32m----> 4\u001b[0m random\u001b[38;5;241m.\u001b[39mnaresh\n",
      "\u001b[1;31mAttributeError\u001b[0m: module 'random' has no attribute 'naresh'"
     ]
    }
   ],
   "source": [
    "## attribute error\n",
    "\n",
    "import random \n",
    "random.naresh"
   ]
  },
  {
   "cell_type": "code",
   "execution_count": 51,
   "id": "a1869fc1-52f4-4f98-9aab-ecf31fc4fc00",
   "metadata": {},
   "outputs": [
    {
     "ename": "NameError",
     "evalue": "name 'num1' is not defined",
     "output_type": "error",
     "traceback": [
      "\u001b[1;31m---------------------------------------------------------------------------\u001b[0m",
      "\u001b[1;31mNameError\u001b[0m                                 Traceback (most recent call last)",
      "Cell \u001b[1;32mIn[51], line 4\u001b[0m\n\u001b[0;32m      1\u001b[0m \u001b[38;5;66;03m# name error\u001b[39;00m\n\u001b[0;32m      2\u001b[0m num2\u001b[38;5;241m=\u001b[39m\u001b[38;5;241m20\u001b[39m\n\u001b[1;32m----> 4\u001b[0m \u001b[38;5;28mprint\u001b[39m(num1\u001b[38;5;241m+\u001b[39mnum2)\n",
      "\u001b[1;31mNameError\u001b[0m: name 'num1' is not defined"
     ]
    }
   ],
   "source": [
    "# name error\n",
    "num2=20\n",
    "\n",
    "print(num1+num2)\n"
   ]
  },
  {
   "cell_type": "code",
   "execution_count": 43,
   "id": "f4683ae3-57a5-41a4-b4ed-9d61c7659a1d",
   "metadata": {},
   "outputs": [
    {
     "ename": "TypeError",
     "evalue": "can't multiply sequence by non-int of type 'str'",
     "output_type": "error",
     "traceback": [
      "\u001b[1;31m---------------------------------------------------------------------------\u001b[0m",
      "\u001b[1;31mTypeError\u001b[0m                                 Traceback (most recent call last)",
      "Cell \u001b[1;32mIn[43], line 1\u001b[0m\n\u001b[1;32m----> 1\u001b[0m \u001b[38;5;124m'\u001b[39m\u001b[38;5;124m10\u001b[39m\u001b[38;5;124m'\u001b[39m\u001b[38;5;241m*\u001b[39m\u001b[38;5;124m'\u001b[39m\u001b[38;5;124m10\u001b[39m\u001b[38;5;124m'\u001b[39m\n",
      "\u001b[1;31mTypeError\u001b[0m: can't multiply sequence by non-int of type 'str'"
     ]
    }
   ],
   "source": [
    "# type error\n",
    "\n",
    "'10'*'10'"
   ]
  },
  {
   "cell_type": "code",
   "execution_count": 47,
   "id": "04243e7e-e875-46a8-827c-fb0afed72b08",
   "metadata": {},
   "outputs": [
    {
     "ename": "IndentationError",
     "evalue": "expected an indented block after 'if' statement on line 1 (1723563148.py, line 2)",
     "output_type": "error",
     "traceback": [
      "\u001b[1;36m  Cell \u001b[1;32mIn[47], line 2\u001b[1;36m\u001b[0m\n\u001b[1;33m    a=10\u001b[0m\n\u001b[1;37m    ^\u001b[0m\n\u001b[1;31mIndentationError\u001b[0m\u001b[1;31m:\u001b[0m expected an indented block after 'if' statement on line 1\n"
     ]
    }
   ],
   "source": [
    "if ture:\n",
    "a=10"
   ]
  },
  {
   "cell_type": "code",
   "execution_count": 49,
   "id": "0211b03f-1f6f-4453-84bd-388e5c9996c7",
   "metadata": {},
   "outputs": [
    {
     "ename": "TypeError",
     "evalue": "'module' object is not callable. Did you mean: 'random.random(...)'?",
     "output_type": "error",
     "traceback": [
      "\u001b[1;31m---------------------------------------------------------------------------\u001b[0m",
      "\u001b[1;31mTypeError\u001b[0m                                 Traceback (most recent call last)",
      "Cell \u001b[1;32mIn[49], line 1\u001b[0m\n\u001b[1;32m----> 1\u001b[0m random()\n",
      "\u001b[1;31mTypeError\u001b[0m: 'module' object is not callable. Did you mean: 'random.random(...)'?"
     ]
    }
   ],
   "source": [
    "random()"
   ]
  },
  {
   "cell_type": "code",
   "execution_count": 53,
   "id": "23d9a84c-e089-4f03-b0fc-958c42489d6f",
   "metadata": {},
   "outputs": [
    {
     "name": "stdin",
     "output_type": "stream",
     "text": [
      "enter n1: 4\n",
      "enter n2: 2\n"
     ]
    },
    {
     "name": "stdout",
     "output_type": "stream",
     "text": [
      "the div is 2.0\n"
     ]
    }
   ],
   "source": [
    "n1=eval(input('enter n1:'))\n",
    "n2=eval(input('enter n2:'))\n",
    "div=n1/n2\n",
    "\n",
    "print(f\"the div is {div}\")\n"
   ]
  },
  {
   "cell_type": "code",
   "execution_count": 63,
   "id": "5cb27023-a189-4ac6-a9ae-3386e16b8bec",
   "metadata": {},
   "outputs": [
    {
     "name": "stdin",
     "output_type": "stream",
     "text": [
      "enter n1: 2\n",
      "enter n2: 0\n"
     ]
    },
    {
     "name": "stdout",
     "output_type": "stream",
     "text": [
      "division by zero\n"
     ]
    }
   ],
   "source": [
    "try:\n",
    "    n1=eval(input('enter n1:'))\n",
    "    n2=eval(input('enter n2:'))\n",
    "    div=n1/n2\n",
    "    print(f\"the div is {div}\")\n",
    "\n",
    "except Exception as e:\n",
    "    print(e)"
   ]
  },
  {
   "cell_type": "code",
   "execution_count": 67,
   "id": "9c0fa525-1922-4bd7-9076-c3ebaefba48a",
   "metadata": {},
   "outputs": [
    {
     "name": "stdout",
     "output_type": "stream",
     "text": [
      "No module named 'nareshit'\n"
     ]
    }
   ],
   "source": [
    "try:\n",
    "    import nareshit\n",
    "\n",
    "except Exception as e:\n",
    "    print(e)"
   ]
  },
  {
   "cell_type": "code",
   "execution_count": 85,
   "id": "84e3aec2-35d4-4e03-9556-5c253219b529",
   "metadata": {},
   "outputs": [
    {
     "ename": "IndentationError",
     "evalue": "expected an indented block after 'if' statement on line 2 (3378592909.py, line 3)",
     "output_type": "error",
     "traceback": [
      "\u001b[1;36m  Cell \u001b[1;32mIn[85], line 3\u001b[1;36m\u001b[0m\n\u001b[1;33m    a=10\u001b[0m\n\u001b[1;37m    ^\u001b[0m\n\u001b[1;31mIndentationError\u001b[0m\u001b[1;31m:\u001b[0m expected an indented block after 'if' statement on line 2\n"
     ]
    }
   ],
   "source": [
    "try:\n",
    "    if true:\n",
    "    a=10\n",
    "\n",
    "except Exception as e:\n",
    "    print(e)"
   ]
  },
  {
   "cell_type": "code",
   "execution_count": 75,
   "id": "cf4d7556-4f63-47f2-b1ff-6eb37df621cd",
   "metadata": {},
   "outputs": [
    {
     "name": "stdout",
     "output_type": "stream",
     "text": [
      "module 'random' has no attribute 'hjdc'\n"
     ]
    }
   ],
   "source": [
    "try:\n",
    "    import random\n",
    "    random.hjdc\n",
    "\n",
    "except Exception as e:\n",
    "    print(e)"
   ]
  },
  {
   "cell_type": "code",
   "execution_count": 77,
   "id": "a482daa4-1194-4b07-a516-1ef282f10666",
   "metadata": {},
   "outputs": [
    {
     "name": "stdout",
     "output_type": "stream",
     "text": [
      "name 'num1' is not defined\n"
     ]
    }
   ],
   "source": [
    "try:\n",
    "    num2=20\n",
    "\n",
    "    print(num1+num2)\n",
    "\n",
    "except Exception as e:\n",
    "    print(e)"
   ]
  },
  {
   "cell_type": "code",
   "execution_count": 79,
   "id": "76cbaf85-ffce-403c-a964-fe907fc2981b",
   "metadata": {},
   "outputs": [
    {
     "name": "stdout",
     "output_type": "stream",
     "text": [
      "can't multiply sequence by non-int of type 'str'\n"
     ]
    }
   ],
   "source": [
    "try:\n",
    "    '10'*'10'\n",
    "except Exception as e:\n",
    "    print(e)"
   ]
  },
  {
   "cell_type": "code",
   "execution_count": 87,
   "id": "7a0fc0ba-4874-4097-9eeb-18d3dba51304",
   "metadata": {},
   "outputs": [
    {
     "ename": "SyntaxError",
     "evalue": "'(' was never closed (551010737.py, line 3)",
     "output_type": "error",
     "traceback": [
      "\u001b[1;36m  Cell \u001b[1;32mIn[87], line 3\u001b[1;36m\u001b[0m\n\u001b[1;33m    print(c\u001b[0m\n\u001b[1;37m         ^\u001b[0m\n\u001b[1;31mSyntaxError\u001b[0m\u001b[1;31m:\u001b[0m '(' was never closed\n"
     ]
    }
   ],
   "source": [
    "try:\n",
    "    c=10\n",
    "    print(c\n",
    "except Exception as e:\n",
    "    print(e)"
   ]
  },
  {
   "cell_type": "markdown",
   "id": "b2925db5-7010-4426-a70b-dbbc4bfed0b3",
   "metadata": {},
   "source": [
    "- write code without silly mistakes\n",
    "\n",
    "- understand the logic\n",
    "\n",
    "- implement the loic"
   ]
  },
  {
   "cell_type": "code",
   "execution_count": 92,
   "id": "045ad530-abbb-4178-b7d5-0695f2a27b0f",
   "metadata": {},
   "outputs": [
    {
     "name": "stdin",
     "output_type": "stream",
     "text": [
      "enter the num: 3\n"
     ]
    },
    {
     "name": "stdout",
     "output_type": "stream",
     "text": [
      "3 is odd\n"
     ]
    }
   ],
   "source": [
    "n1=eval(input('enter the num:'))\n",
    "if n1%2==0:\n",
    "    print(f\"{n1} is even\")\n",
    "              \n",
    "else:\n",
    "    print(f\"{n1} is odd\")\n",
    "              "
   ]
  },
  {
   "cell_type": "code",
   "execution_count": 118,
   "id": "ff6a9fc4-fc72-40b8-9f5c-5f9b31fc7ac8",
   "metadata": {},
   "outputs": [
    {
     "name": "stdin",
     "output_type": "stream",
     "text": [
      "enter the num: f\n"
     ]
    },
    {
     "name": "stdout",
     "output_type": "stream",
     "text": [
      "name 'f' is not defined\n"
     ]
    }
   ],
   "source": [
    "try:\n",
    "        n1=eval(input('enter the num:'))\n",
    "        if n1%2==0:\n",
    "            print(f\"{n1} is even\")\n",
    "                      \n",
    "        else:\n",
    "            print(f\"{n1} is odd\")\n",
    "                          \n",
    "          \n",
    "except Exception as e:\n",
    "    print(e)\n",
    "    "
   ]
  },
  {
   "cell_type": "code",
   "execution_count": 113,
   "id": "4bf24489-ee93-41dc-8efd-41f1edff8497",
   "metadata": {},
   "outputs": [
    {
     "name": "stdin",
     "output_type": "stream",
     "text": [
      "enter the num: 2\n"
     ]
    },
    {
     "name": "stdout",
     "output_type": "stream",
     "text": [
      "name 'n21' is not defined\n",
      "a+b: 20\n"
     ]
    }
   ],
   "source": [
    "try:\n",
    "    n1=eval(input('enter the num:'))\n",
    "    if n1%2==0:\n",
    "        print(f\"{n21} is even\")\n",
    "                  \n",
    "    else:\n",
    "        print(f\"{n21} is odd\")\n",
    "                  \n",
    "          \n",
    "except Exception as e:\n",
    "    print(e)\n",
    "\n",
    "a=10\n",
    "b=10\n",
    "\n",
    "print(\"a+b:\",a+b)"
   ]
  },
  {
   "cell_type": "code",
   "execution_count": null,
   "id": "3a6f5849-e07b-41e1-9b1b-a5e26edc572c",
   "metadata": {},
   "outputs": [],
   "source": []
  }
 ],
 "metadata": {
  "kernelspec": {
   "display_name": "Python [conda env:base] *",
   "language": "python",
   "name": "conda-base-py"
  },
  "language_info": {
   "codemirror_mode": {
    "name": "ipython",
    "version": 3
   },
   "file_extension": ".py",
   "mimetype": "text/x-python",
   "name": "python",
   "nbconvert_exporter": "python",
   "pygments_lexer": "ipython3",
   "version": "3.12.7"
  }
 },
 "nbformat": 4,
 "nbformat_minor": 5
}
