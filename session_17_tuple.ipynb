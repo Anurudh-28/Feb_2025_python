{
 "cells": [
  {
   "cell_type": "code",
   "execution_count": 1,
   "id": "4f0ef8a5-27b0-475f-9357-e5acdb9f571d",
   "metadata": {},
   "outputs": [
    {
     "data": {
      "text/plain": [
       "['__add__',\n",
       " '__class__',\n",
       " '__class_getitem__',\n",
       " '__contains__',\n",
       " '__delattr__',\n",
       " '__dir__',\n",
       " '__doc__',\n",
       " '__eq__',\n",
       " '__format__',\n",
       " '__ge__',\n",
       " '__getattribute__',\n",
       " '__getitem__',\n",
       " '__getnewargs__',\n",
       " '__getstate__',\n",
       " '__gt__',\n",
       " '__hash__',\n",
       " '__init__',\n",
       " '__init_subclass__',\n",
       " '__iter__',\n",
       " '__le__',\n",
       " '__len__',\n",
       " '__lt__',\n",
       " '__mul__',\n",
       " '__ne__',\n",
       " '__new__',\n",
       " '__reduce__',\n",
       " '__reduce_ex__',\n",
       " '__repr__',\n",
       " '__rmul__',\n",
       " '__setattr__',\n",
       " '__sizeof__',\n",
       " '__str__',\n",
       " '__subclasshook__',\n",
       " 'count',\n",
       " 'index']"
      ]
     },
     "execution_count": 1,
     "metadata": {},
     "output_type": "execute_result"
    }
   ],
   "source": [
    "dir(())"
   ]
  },
  {
   "cell_type": "code",
   "execution_count": 5,
   "id": "1f700def-007d-4ba0-8433-a8fd0e915880",
   "metadata": {},
   "outputs": [
    {
     "data": {
      "text/plain": [
       "(1, 2, 3, 4)"
      ]
     },
     "execution_count": 5,
     "metadata": {},
     "output_type": "execute_result"
    }
   ],
   "source": [
    "tuple1=(1,2,3,4)\n",
    "tuple1"
   ]
  },
  {
   "cell_type": "code",
   "execution_count": 7,
   "id": "169f4599-986e-4649-854b-b06fd431871b",
   "metadata": {},
   "outputs": [
    {
     "data": {
      "text/plain": [
       "tuple"
      ]
     },
     "execution_count": 7,
     "metadata": {},
     "output_type": "execute_result"
    }
   ],
   "source": [
    "type(tuple1)"
   ]
  },
  {
   "cell_type": "code",
   "execution_count": 17,
   "id": "f872facd-b8c6-48e3-b4bc-f7374641d149",
   "metadata": {},
   "outputs": [
    {
     "data": {
      "text/plain": [
       "(1, 2, 3, 4, 'Apple', 'B', 'C', True, False, 10, 5, (20+30j))"
      ]
     },
     "execution_count": 17,
     "metadata": {},
     "output_type": "execute_result"
    }
   ],
   "source": [
    "\n",
    "list2=('A','B','C')\n",
    "list4=(1,2,3,4,'Apple','B','C',True,False,10,5,20+30j)\n",
    "list4"
   ]
  },
  {
   "cell_type": "code",
   "execution_count": 19,
   "id": "a8d576e5-2782-47da-9573-96b66e3ce3f3",
   "metadata": {},
   "outputs": [
    {
     "data": {
      "text/plain": [
       "4"
      ]
     },
     "execution_count": 19,
     "metadata": {},
     "output_type": "execute_result"
    }
   ],
   "source": [
    "#max\n",
    "list1=(1,2,3,4)\n",
    "max(list1)"
   ]
  },
  {
   "cell_type": "code",
   "execution_count": 21,
   "id": "fd23df71-682a-469e-97d1-361ac2b1352b",
   "metadata": {},
   "outputs": [
    {
     "data": {
      "text/plain": [
       "5"
      ]
     },
     "execution_count": 21,
     "metadata": {},
     "output_type": "execute_result"
    }
   ],
   "source": [
    "#len\n",
    "list1=(1,2,3,4,6.5)\n",
    "len(list1)"
   ]
  },
  {
   "cell_type": "code",
   "execution_count": 35,
   "id": "fc3a5d13-5d5d-414d-b288-4fcd44a53b02",
   "metadata": {},
   "outputs": [
    {
     "data": {
      "text/plain": [
       "['Apple', 'Banana', 'Cat', 'Day']"
      ]
     },
     "execution_count": 35,
     "metadata": {},
     "output_type": "execute_result"
    }
   ],
   "source": [
    "tuple2=('Apple','Day','Banana','Cat')\n",
    "sorted(tuple2)\n"
   ]
  },
  {
   "cell_type": "code",
   "execution_count": 29,
   "id": "e0c7e949-c111-4f2c-b09b-0481bf99cf5f",
   "metadata": {},
   "outputs": [
    {
     "data": {
      "text/plain": [
       "('e', 'l', 'p', 'p', 'A')"
      ]
     },
     "execution_count": 29,
     "metadata": {},
     "output_type": "execute_result"
    }
   ],
   "source": [
    "num=reversed('Apple')\n",
    "tuple(num)\n"
   ]
  },
  {
   "cell_type": "code",
   "execution_count": 37,
   "id": "fc3a9c21-9d3f-477c-b68d-03fc829f6bc2",
   "metadata": {},
   "outputs": [
    {
     "data": {
      "text/plain": [
       "('Cat', 'Banana', 'Day', 'Apple')"
      ]
     },
     "execution_count": 37,
     "metadata": {},
     "output_type": "execute_result"
    }
   ],
   "source": [
    "tuple(reversed(tuple2))\n"
   ]
  },
  {
   "cell_type": "code",
   "execution_count": 33,
   "id": "d0313874-f883-4dbd-b3d8-a3fb99abaf51",
   "metadata": {},
   "outputs": [
    {
     "data": {
      "text/plain": [
       "[1, 2, 3, 4, 6.5]"
      ]
     },
     "execution_count": 33,
     "metadata": {},
     "output_type": "execute_result"
    }
   ],
   "source": [
    "sorted(list1)"
   ]
  },
  {
   "cell_type": "code",
   "execution_count": 39,
   "id": "8573a7a0-ad2e-4b4f-8b3d-6decab6a602b",
   "metadata": {},
   "outputs": [
    {
     "ename": "TypeError",
     "evalue": "can't multiply sequence by non-int of type 'tuple'",
     "output_type": "error",
     "traceback": [
      "\u001b[1;31m---------------------------------------------------------------------------\u001b[0m",
      "\u001b[1;31mTypeError\u001b[0m                                 Traceback (most recent call last)",
      "Cell \u001b[1;32mIn[39], line 4\u001b[0m\n\u001b[0;32m      1\u001b[0m list1\u001b[38;5;241m=\u001b[39m(\u001b[38;5;241m1\u001b[39m,\u001b[38;5;241m2\u001b[39m,\u001b[38;5;241m3\u001b[39m,\u001b[38;5;241m4\u001b[39m)\n\u001b[0;32m      2\u001b[0m list2\u001b[38;5;241m=\u001b[39m(\u001b[38;5;124m'\u001b[39m\u001b[38;5;124mA\u001b[39m\u001b[38;5;124m'\u001b[39m,\u001b[38;5;124m'\u001b[39m\u001b[38;5;124mB\u001b[39m\u001b[38;5;124m'\u001b[39m,\u001b[38;5;124m'\u001b[39m\u001b[38;5;124mC\u001b[39m\u001b[38;5;124m'\u001b[39m)\n\u001b[1;32m----> 4\u001b[0m list1\u001b[38;5;241m*\u001b[39mlist2\n",
      "\u001b[1;31mTypeError\u001b[0m: can't multiply sequence by non-int of type 'tuple'"
     ]
    }
   ],
   "source": [
    "list1=(1,2,3,4)\n",
    "list2=('A','B','C')\n",
    "\n",
    "list1*list2"
   ]
  },
  {
   "cell_type": "code",
   "execution_count": 41,
   "id": "02cdcdee-605c-444c-b947-ce3991df23e9",
   "metadata": {},
   "outputs": [
    {
     "data": {
      "text/plain": [
       "(1, 2, 3, 4, 'A', 'B', 'C')"
      ]
     },
     "execution_count": 41,
     "metadata": {},
     "output_type": "execute_result"
    }
   ],
   "source": [
    "list1=(1,2,3,4)\n",
    "list2=('A','B','C')\n",
    "\n",
    "list1+list2"
   ]
  },
  {
   "cell_type": "markdown",
   "id": "6cd484ee-8fb4-42b2-ac73-0bf1db3c37ba",
   "metadata": {},
   "source": [
    "**index**"
   ]
  },
  {
   "cell_type": "code",
   "execution_count": 31,
   "id": "7dcb0748-09c6-45b6-91c9-bd8dc9eea6c9",
   "metadata": {},
   "outputs": [
    {
     "data": {
      "text/plain": [
       "(10, 10)"
      ]
     },
     "execution_count": 31,
     "metadata": {},
     "output_type": "execute_result"
    }
   ],
   "source": [
    "  \n",
    "   #  -6 -5 -4  -3  -2  -1\n",
    "   #  10 20 30 'A' 'B' 'C'\n",
    "   #  0   1 2   3   4   5\n",
    "tupl1=(10,20,30,'A','B','C')\n",
    "tupl1[0],tupl1[-6]"
   ]
  },
  {
   "cell_type": "code",
   "execution_count": 25,
   "id": "49f5bd2e-ab74-4375-b485-f692a29d5207",
   "metadata": {},
   "outputs": [
    {
     "name": "stdout",
     "output_type": "stream",
     "text": [
      "0 -7\n",
      "the postive index is 0,neagtive index is -7 for : 10\n",
      "the postive index is 0 for: 10\n",
      "the negative index is -7 for: 10\n",
      "1 -6\n",
      "the postive index is 1,neagtive index is -6 for : 20\n",
      "the postive index is 1 for: 20\n",
      "the negative index is -6 for: 20\n",
      "2 -5\n",
      "the postive index is 2,neagtive index is -5 for : 30\n",
      "the postive index is 2 for: 30\n",
      "the negative index is -5 for: 30\n",
      "3 -4\n",
      "the postive index is 3,neagtive index is -4 for : A\n",
      "the postive index is 3 for: A\n",
      "the negative index is -4 for: A\n",
      "4 -3\n",
      "the postive index is 4,neagtive index is -3 for : B\n",
      "the postive index is 4 for: B\n",
      "the negative index is -3 for: B\n",
      "5 -2\n",
      "the postive index is 5,neagtive index is -2 for : C\n",
      "the postive index is 5 for: C\n",
      "the negative index is -2 for: C\n",
      "6 -1\n",
      "the postive index is 6,neagtive index is -1 for : D\n",
      "the postive index is 6 for: D\n",
      "the negative index is -1 for: D\n"
     ]
    }
   ],
   "source": [
    "tuple1=(10,20,30,'A','B','C','D')\n",
    "\n",
    "for i in range(0,7):\n",
    "    print(i,i-7)\n",
    "    print(f'the postive index is {i},neagtive index is {i-7} for : {tuple1[i]}')\n",
    "    print(f'the postive index is {i} for: {tuple1[i]}')\n",
    "    print(f'the negative index is {i-7} for: {tuple1[i]}')"
   ]
  },
  {
   "cell_type": "code",
   "execution_count": 29,
   "id": "32a060eb-6f2b-4132-a498-5c892b405864",
   "metadata": {},
   "outputs": [
    {
     "data": {
      "text/plain": [
       "20"
      ]
     },
     "execution_count": 29,
     "metadata": {},
     "output_type": "execute_result"
    }
   ],
   "source": [
    "tuple1=(10,20)\n",
    "tuple1[1]"
   ]
  },
  {
   "cell_type": "code",
   "execution_count": 11,
   "id": "1f948044-334c-48bb-8fa0-7bcbf7962635",
   "metadata": {},
   "outputs": [
    {
     "ename": "TypeError",
     "evalue": "'tuple' object does not support item assignment",
     "output_type": "error",
     "traceback": [
      "\u001b[1;31m---------------------------------------------------------------------------\u001b[0m",
      "\u001b[1;31mTypeError\u001b[0m                                 Traceback (most recent call last)",
      "Cell \u001b[1;32mIn[11], line 2\u001b[0m\n\u001b[0;32m      1\u001b[0m list1\u001b[38;5;241m=\u001b[39m(\u001b[38;5;241m1\u001b[39m,\u001b[38;5;241m2\u001b[39m,\u001b[38;5;241m3\u001b[39m)\n\u001b[1;32m----> 2\u001b[0m list1[\u001b[38;5;241m0\u001b[39m]\u001b[38;5;241m=\u001b[39m[\u001b[38;5;241m40\u001b[39m]\n\u001b[0;32m      3\u001b[0m list1\n",
      "\u001b[1;31mTypeError\u001b[0m: 'tuple' object does not support item assignment"
     ]
    }
   ],
   "source": [
    "list1=(1,2,3)\n",
    "list1[0]=[40]\n",
    "list1"
   ]
  },
  {
   "cell_type": "code",
   "execution_count": 23,
   "id": "9481ff7b-9fa5-447c-a5be-519bad93c45e",
   "metadata": {},
   "outputs": [
    {
     "data": {
      "text/plain": [
       "(10, 20, 30, 40, 50, 'A', 'B', 'C', 'D', 'E')"
      ]
     },
     "execution_count": 23,
     "metadata": {},
     "output_type": "execute_result"
    }
   ],
   "source": [
    "l1=(10,20,30,40,50, 'A', 'B', 'C','D', 'E', 'apple','banana')\n",
    "l1[:1]"
   ]
  },
  {
   "cell_type": "code",
   "execution_count": 33,
   "id": "e3e81853-8cde-4f36-a956-0b38b8b83dd5",
   "metadata": {},
   "outputs": [
    {
     "name": "stdout",
     "output_type": "stream",
     "text": [
      "list1 before class i should see list1 output (10, 20, 30, 'A', 'B', 'C')\n"
     ]
    },
    {
     "ename": "AttributeError",
     "evalue": "'tuple' object has no attribute 'clear'",
     "output_type": "error",
     "traceback": [
      "\u001b[1;31m---------------------------------------------------------------------------\u001b[0m",
      "\u001b[1;31mAttributeError\u001b[0m                            Traceback (most recent call last)",
      "Cell \u001b[1;32mIn[33], line 3\u001b[0m\n\u001b[0;32m      1\u001b[0m list1\u001b[38;5;241m=\u001b[39m(\u001b[38;5;241m10\u001b[39m,\u001b[38;5;241m20\u001b[39m,\u001b[38;5;241m30\u001b[39m,\u001b[38;5;124m'\u001b[39m\u001b[38;5;124mA\u001b[39m\u001b[38;5;124m'\u001b[39m,\u001b[38;5;124m'\u001b[39m\u001b[38;5;124mB\u001b[39m\u001b[38;5;124m'\u001b[39m,\u001b[38;5;124m'\u001b[39m\u001b[38;5;124mC\u001b[39m\u001b[38;5;124m'\u001b[39m)\n\u001b[0;32m      2\u001b[0m \u001b[38;5;28mprint\u001b[39m(\u001b[38;5;124m'\u001b[39m\u001b[38;5;124mlist1 before class i should see list1 output\u001b[39m\u001b[38;5;124m'\u001b[39m,list1)\n\u001b[1;32m----> 3\u001b[0m list1\u001b[38;5;241m.\u001b[39mclear()\n\u001b[0;32m      4\u001b[0m \u001b[38;5;28mprint\u001b[39m(\u001b[38;5;124m'\u001b[39m\u001b[38;5;124ml1 after apply clear method list\u001b[39m\u001b[38;5;124m'\u001b[39m,list1)\n",
      "\u001b[1;31mAttributeError\u001b[0m: 'tuple' object has no attribute 'clear'"
     ]
    }
   ],
   "source": [
    "list1=(10,20,30,'A','B','C')\n",
    "print('list1 before class i should see list1 output',list1)\n",
    "list1.clear()\n",
    "print('l1 after apply clear method list',list1)\n"
   ]
  },
  {
   "cell_type": "code",
   "execution_count": 35,
   "id": "5f225dce-4d53-46e5-a109-76cf912ddbb5",
   "metadata": {},
   "outputs": [
    {
     "ename": "AttributeError",
     "evalue": "'tuple' object has no attribute 'copy'",
     "output_type": "error",
     "traceback": [
      "\u001b[1;31m---------------------------------------------------------------------------\u001b[0m",
      "\u001b[1;31mAttributeError\u001b[0m                            Traceback (most recent call last)",
      "Cell \u001b[1;32mIn[35], line 2\u001b[0m\n\u001b[0;32m      1\u001b[0m list1\u001b[38;5;241m=\u001b[39m(\u001b[38;5;241m10\u001b[39m,\u001b[38;5;241m20\u001b[39m,\u001b[38;5;241m30\u001b[39m,\u001b[38;5;124m'\u001b[39m\u001b[38;5;124mA\u001b[39m\u001b[38;5;124m'\u001b[39m,\u001b[38;5;124m'\u001b[39m\u001b[38;5;124mB\u001b[39m\u001b[38;5;124m'\u001b[39m,\u001b[38;5;124m'\u001b[39m\u001b[38;5;124mC\u001b[39m\u001b[38;5;124m'\u001b[39m)\n\u001b[1;32m----> 2\u001b[0m l2\u001b[38;5;241m=\u001b[39mlist1\u001b[38;5;241m.\u001b[39mcopy()\n\u001b[0;32m      3\u001b[0m list1\u001b[38;5;241m.\u001b[39mclear()\n\u001b[0;32m      4\u001b[0m \u001b[38;5;28mprint\u001b[39m(list1)\n",
      "\u001b[1;31mAttributeError\u001b[0m: 'tuple' object has no attribute 'copy'"
     ]
    }
   ],
   "source": [
    "list1=(10,20,30,'A','B','C')\n",
    "l2=list1.copy()\n",
    "list1.clear()\n",
    "print(list1)\n",
    "print(l2)"
   ]
  },
  {
   "cell_type": "code",
   "execution_count": 49,
   "id": "bdf39eb3-e1ba-421c-bcd2-57fc6ff41911",
   "metadata": {},
   "outputs": [
    {
     "data": {
      "text/plain": [
       "2"
      ]
     },
     "execution_count": 49,
     "metadata": {},
     "output_type": "execute_result"
    }
   ],
   "source": [
    "list1=(10,20,30,'A','B','C','D',10)\n",
    "list1.count(10)"
   ]
  },
  {
   "cell_type": "code",
   "execution_count": 55,
   "id": "6cc921e7-f46a-4dc6-97fc-2a3a16d5c6d2",
   "metadata": {},
   "outputs": [
    {
     "data": {
      "text/plain": [
       "3"
      ]
     },
     "execution_count": 55,
     "metadata": {},
     "output_type": "execute_result"
    }
   ],
   "source": [
    "list1=(10,20,30,'A','B','C','D',10)\n",
    "list1.index('A')"
   ]
  },
  {
   "cell_type": "code",
   "execution_count": null,
   "id": "9ea3ab19-aca8-43b2-b412-d585f4b435ff",
   "metadata": {},
   "outputs": [],
   "source": []
  }
 ],
 "metadata": {
  "kernelspec": {
   "display_name": "Python [conda env:base] *",
   "language": "python",
   "name": "conda-base-py"
  },
  "language_info": {
   "codemirror_mode": {
    "name": "ipython",
    "version": 3
   },
   "file_extension": ".py",
   "mimetype": "text/x-python",
   "name": "python",
   "nbconvert_exporter": "python",
   "pygments_lexer": "ipython3",
   "version": "3.12.7"
  }
 },
 "nbformat": 4,
 "nbformat_minor": 5
}
