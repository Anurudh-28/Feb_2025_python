{
 "cells": [
  {
   "cell_type": "markdown",
   "id": "659383b0-1c08-4162-bd4b-fdccec4a2534",
   "metadata": {},
   "source": [
    "**eval**\n",
    "\n",
    " -  eval means evaluate\n",
    "\n",
    " -  it is related to math family\n",
    "\n",
    " -  which means it works only on num representation as strings\n",
    "\n",
    " -  it not works on english letters\n",
    "\n",
    " -  evalue will convert the respective data type which is user enter\n",
    "\n",
    " -   if user enter 10 in quotes it will convert into 10\n",
    "\n",
    " -   if user enter 10.5 in quotes it will convert into 10.5"
   ]
  },
  {
   "cell_type": "code",
   "execution_count": null,
   "id": "994d8f9c-d7bd-4927-8638-ab6f8b7a492a",
   "metadata": {},
   "outputs": [],
   "source": [
    "int('10')   #10\n",
    "int('10.5)  #f\n",
    "\n",
    "\n",
    "float('10')   #10\n",
    "float('10.5)  #10.5\n",
    "\n",
    "      "
   ]
  },
  {
   "cell_type": "code",
   "execution_count": 5,
   "id": "52b2ec2c-a1c6-499c-b684-2af224a39d8d",
   "metadata": {},
   "outputs": [
    {
     "data": {
      "text/plain": [
       "(10, 10.7)"
      ]
     },
     "execution_count": 5,
     "metadata": {},
     "output_type": "execute_result"
    }
   ],
   "source": [
    "eval('10'),eval('10.7')"
   ]
  },
  {
   "cell_type": "code",
   "execution_count": 7,
   "id": "4ca13cc4-78dd-4484-9362-9fe97d1db01a",
   "metadata": {},
   "outputs": [
    {
     "name": "stdin",
     "output_type": "stream",
     "text": [
      "enter var1 100\n",
      "enter var2 200\n"
     ]
    },
    {
     "data": {
      "text/plain": [
       "300"
      ]
     },
     "execution_count": 7,
     "metadata": {},
     "output_type": "execute_result"
    }
   ],
   "source": [
    "n1=eval(input(\"enter var1\") ) #n1= '100'\n",
    "n2=eval(input(\"enter var2\"))  #n2= '200'\n",
    "n1+n2   # '100' + '200' = '300'"
   ]
  },
  {
   "cell_type": "code",
   "execution_count": 9,
   "id": "c8be8b47-5061-4643-8f06-cc790cdaa418",
   "metadata": {},
   "outputs": [
    {
     "name": "stdin",
     "output_type": "stream",
     "text": [
      "len of rectangle: 10\n",
      "brd of rectangle: 20\n"
     ]
    },
    {
     "name": "stdout",
     "output_type": "stream",
     "text": [
      "200\n"
     ]
    }
   ],
   "source": [
    "L=eval(input(\"len of rectangle:\"))\n",
    "b=eval(input(\"brd of rectangle:\"))\n",
    "a=L*b\n",
    "print(a)\n",
    "\n",
    "\n"
   ]
  },
  {
   "cell_type": "code",
   "execution_count": 11,
   "id": "8a95546d-493c-453c-baa5-6a1b07600669",
   "metadata": {},
   "outputs": [
    {
     "name": "stdin",
     "output_type": "stream",
     "text": [
      "enter var1 10\n",
      "enter var2 20\n",
      "enter var3 30\n"
     ]
    },
    {
     "name": "stdout",
     "output_type": "stream",
     "text": [
      "average of numbers is: 20.0\n"
     ]
    }
   ],
   "source": [
    "n1=eval(input(\"enter var1\") ) #n1= '100'\n",
    "n2=eval(input(\"enter var2\"))  #n2= '200'\n",
    "n3=eval(input(\"enter var3\"))\n",
    "avg=(n1+n2+n3)/3\n",
    "print (f\"average of numbers is: {avg}\") \n"
   ]
  },
  {
   "cell_type": "code",
   "execution_count": 13,
   "id": "f6586fbb-d26c-48f9-8e75-26db3fb2f565",
   "metadata": {},
   "outputs": [
    {
     "name": "stdin",
     "output_type": "stream",
     "text": [
      "enter name:  sreya\n",
      "enter age:  20\n",
      "enter city: alwal\n"
     ]
    },
    {
     "name": "stdout",
     "output_type": "stream",
     "text": [
      "my name is sreya iam 20 years old i came from alwal\n"
     ]
    }
   ],
   "source": [
    "str1=input(\"enter name: \")\n",
    "str2=input(\"enter age: \")\n",
    "str3=input(\"enter city:\")\n",
    "\n",
    "print(f\"my name is {str1} iam {str2} years old i came from {str3}\")\n",
    "           "
   ]
  },
  {
   "cell_type": "code",
   "execution_count": 15,
   "id": "0f69ffa1-1819-4c49-97fe-1eef2c6eb5de",
   "metadata": {},
   "outputs": [
    {
     "name": "stdin",
     "output_type": "stream",
     "text": [
      "radius: 10\n",
      "pi : 3.14\n"
     ]
    },
    {
     "name": "stdout",
     "output_type": "stream",
     "text": [
      "area of circle is:314.0\n"
     ]
    }
   ],
   "source": [
    "r=eval(input(\"radius:\"))\n",
    "pi=eval(input(\"pi :\"))\n",
    "a=pi*r*r\n",
    "print(f\"area of circle is:{a}\")\n",
    "\n"
   ]
  },
  {
   "cell_type": "code",
   "execution_count": null,
   "id": "c31ea6b3-831b-43a8-9df0-8a523a73bd77",
   "metadata": {},
   "outputs": [],
   "source": []
  }
 ],
 "metadata": {
  "kernelspec": {
   "display_name": "Python [conda env:base] *",
   "language": "python",
   "name": "conda-base-py"
  },
  "language_info": {
   "codemirror_mode": {
    "name": "ipython",
    "version": 3
   },
   "file_extension": ".py",
   "mimetype": "text/x-python",
   "name": "python",
   "nbconvert_exporter": "python",
   "pygments_lexer": "ipython3",
   "version": "3.12.7"
  }
 },
 "nbformat": 4,
 "nbformat_minor": 5
}
