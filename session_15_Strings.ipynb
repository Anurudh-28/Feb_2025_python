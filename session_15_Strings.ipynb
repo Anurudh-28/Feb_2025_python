{
 "cells": [
  {
   "cell_type": "code",
   "execution_count": null,
   "id": "6261240b-5989-4672-91fb-e2809e056191",
   "metadata": {},
   "outputs": [],
   "source": [
    "================== Basic Python ==============================\n",
    "- Variables\n",
    "\n",
    "- Data types\n",
    "\n",
    "- Type conversion\n",
    "\n",
    "- Print\n",
    "\n",
    "- eval and input\n",
    "\n",
    "- Basic codes\n",
    "\n",
    "- Packages\n",
    "\n",
    "- conditional statements\n",
    "\n",
    "- try and except\n",
    "\n",
    "- functions\n",
    "\n",
    "- for loop\n",
    "\n",
    "- while loop\n",
    "\n",
    "=================== Intermediate python =======================\n",
    "- Strings\n",
    "\n",
    "- Lists\n",
    "\n",
    "- List Comprhension\n",
    "\n",
    "- Tuple** ====== > You should\n",
    "\n",
    "- Sets  ====== > You should\n",
    "\n",
    "- Dictionary\n",
    "\n",
    "- Lambda functions\n",
    "\n",
    "- File handling\n",
    "\n",
    "============ OOPS Concepts ================= (ML)"
   ]
  },
  {
   "cell_type": "markdown",
   "id": "640e9d0e-2e36-43e9-8fce-3fb28ab00040",
   "metadata": {},
   "source": [
    "- Basic representations\n",
    "\n",
    "- Inbuilt functions\n",
    "\n",
    "    - print\n",
    "\n",
    "    - type\n",
    "\n",
    "    - len\n",
    "\n",
    "    - sum\n",
    "\n",
    "    - max\n",
    "\n",
    "    - min\n",
    "\n",
    "    - sorted\n",
    "\n",
    "    - reveresed\n",
    "\n",
    "- concatenation\n",
    "\n",
    "- indexing\n",
    "\n",
    "- mutable or immutable concept\n",
    "\n",
    "- slice\n",
    "\n",
    "- methods"
   ]
  },
  {
   "cell_type": "markdown",
   "id": "c0690d83-669a-4bed-bf89-04955820b449",
   "metadata": {},
   "source": [
    "**Basic Representations**\n"
   ]
  },
  {
   "cell_type": "code",
   "execution_count": 4,
   "id": "43b93073-653b-49d0-84ae-409967beac0e",
   "metadata": {},
   "outputs": [
    {
     "data": {
      "text/plain": [
       "'python'"
      ]
     },
     "execution_count": 4,
     "metadata": {},
     "output_type": "execute_result"
    }
   ],
   "source": [
    "name='python'\n",
    "name"
   ]
  },
  {
   "cell_type": "code",
   "execution_count": 6,
   "id": "d22e2770-2f63-4dc5-b705-49f99cffee4e",
   "metadata": {},
   "outputs": [
    {
     "name": "stdout",
     "output_type": "stream",
     "text": [
      "python\n"
     ]
    }
   ],
   "source": [
    "print(name)"
   ]
  },
  {
   "cell_type": "code",
   "execution_count": 8,
   "id": "943bb7a2-4e50-46c0-bfcc-afe0a49da210",
   "metadata": {},
   "outputs": [
    {
     "data": {
      "text/plain": [
       "'python'"
      ]
     },
     "execution_count": 8,
     "metadata": {},
     "output_type": "execute_result"
    }
   ],
   "source": [
    "name=\"python\"\n",
    "name"
   ]
  },
  {
   "cell_type": "markdown",
   "id": "588c6055-0486-4477-b93d-9103f15f93a4",
   "metadata": {},
   "source": [
    "- python by defualt gives output in **single quotes**\n",
    "\n",
    "- when we print the string the output display **without quotes**"
   ]
  },
  {
   "cell_type": "code",
   "execution_count": 11,
   "id": "e8ca156a-0190-4a12-ac4a-6652122613dd",
   "metadata": {},
   "outputs": [
    {
     "name": "stdout",
     "output_type": "stream",
     "text": [
      "I love 'Python'\n"
     ]
    }
   ],
   "source": [
    "str1=\"I love 'Python'\"\n",
    "print(str1)"
   ]
  },
  {
   "cell_type": "code",
   "execution_count": 13,
   "id": "0f1a785b-6087-4216-aca5-56d69f9116f2",
   "metadata": {},
   "outputs": [
    {
     "name": "stdout",
     "output_type": "stream",
     "text": [
      "I love \"Python\"\n"
     ]
    }
   ],
   "source": [
    "str2='I love \"Python\"'\n",
    "print(str2)"
   ]
  },
  {
   "cell_type": "markdown",
   "id": "c25f17c8-6a28-4594-9bc3-8584219bd435",
   "metadata": {},
   "source": [
    "**Doc string**\n",
    "\n",
    "- triple quotes also called as doc string\n",
    "\n",
    "- triple quotes means the user try to convey some information"
   ]
  },
  {
   "cell_type": "code",
   "execution_count": 16,
   "id": "5f810560-965b-4ce1-bfaa-854029dc05a4",
   "metadata": {},
   "outputs": [
    {
     "data": {
      "text/plain": [
       "str"
      ]
     },
     "execution_count": 16,
     "metadata": {},
     "output_type": "execute_result"
    }
   ],
   "source": [
    "name='python'\n",
    "type(name)"
   ]
  },
  {
   "cell_type": "code",
   "execution_count": 18,
   "id": "39feaf8e-d053-4e4a-a947-bfe7dc96c4fa",
   "metadata": {},
   "outputs": [
    {
     "ename": "SyntaxError",
     "evalue": "invalid syntax (910313109.py, line 1)",
     "output_type": "error",
     "traceback": [
      "\u001b[1;36m  Cell \u001b[1;32mIn[18], line 1\u001b[1;36m\u001b[0m\n\u001b[1;33m    print(<>)\u001b[0m\n\u001b[1;37m          ^\u001b[0m\n\u001b[1;31mSyntaxError\u001b[0m\u001b[1;31m:\u001b[0m invalid syntax\n"
     ]
    }
   ],
   "source": [
    "print(<>)\n",
    "type(<>)\n",
    "eval(<>)\n",
    "input()\n",
    "len()\n",
    "sum()\n",
    "max()"
   ]
  },
  {
   "cell_type": "markdown",
   "id": "e925e96c-99c9-4231-a73b-ff75e6b157ae",
   "metadata": {},
   "source": [
    "**len**"
   ]
  },
  {
   "cell_type": "code",
   "execution_count": 21,
   "id": "95c1d873-846b-428f-8a43-2294dc38fe9a",
   "metadata": {},
   "outputs": [
    {
     "data": {
      "text/plain": [
       "6"
      ]
     },
     "execution_count": 21,
     "metadata": {},
     "output_type": "execute_result"
    }
   ],
   "source": [
    "name='python'\n",
    "len(name)"
   ]
  },
  {
   "cell_type": "code",
   "execution_count": 23,
   "id": "de51dcb9-7b26-4be1-8ba3-962930ac45ef",
   "metadata": {},
   "outputs": [
    {
     "data": {
      "text/plain": [
       "15"
      ]
     },
     "execution_count": 23,
     "metadata": {},
     "output_type": "execute_result"
    }
   ],
   "source": [
    "len('hai how are you')"
   ]
  },
  {
   "cell_type": "markdown",
   "id": "b9b24cb6-be25-4080-9745-e162a10936a8",
   "metadata": {},
   "source": [
    "**max**"
   ]
  },
  {
   "cell_type": "code",
   "execution_count": 26,
   "id": "42e42ae0-17cf-48c7-9c82-216b57f54d2c",
   "metadata": {},
   "outputs": [
    {
     "data": {
      "text/plain": [
       "'y'"
      ]
     },
     "execution_count": 26,
     "metadata": {},
     "output_type": "execute_result"
    }
   ],
   "source": [
    "max('python')"
   ]
  },
  {
   "cell_type": "code",
   "execution_count": 28,
   "id": "edffa23e-aea3-41c0-95b8-399810b68d6d",
   "metadata": {},
   "outputs": [
    {
     "name": "stdout",
     "output_type": "stream",
     "text": [
      "112 p\n",
      "121 y\n",
      "116 t\n",
      "104 h\n",
      "111 o\n",
      "110 n\n"
     ]
    }
   ],
   "source": [
    "for i in 'python':\n",
    "    print(ord(i),i)"
   ]
  },
  {
   "cell_type": "markdown",
   "id": "67621524-9ca2-4714-bf7b-7d4aa5e5e241",
   "metadata": {},
   "source": [
    "**min**"
   ]
  },
  {
   "cell_type": "code",
   "execution_count": 31,
   "id": "65aace58-d51f-4a56-9df6-fee7a825e2ba",
   "metadata": {},
   "outputs": [
    {
     "ename": "TypeError",
     "evalue": "unsupported operand type(s) for +: 'int' and 'str'",
     "output_type": "error",
     "traceback": [
      "\u001b[1;31m---------------------------------------------------------------------------\u001b[0m",
      "\u001b[1;31mTypeError\u001b[0m                                 Traceback (most recent call last)",
      "Cell \u001b[1;32mIn[31], line 1\u001b[0m\n\u001b[1;32m----> 1\u001b[0m \u001b[38;5;28msum\u001b[39m(\u001b[38;5;124m'\u001b[39m\u001b[38;5;124mpython\u001b[39m\u001b[38;5;124m'\u001b[39m)\n",
      "\u001b[1;31mTypeError\u001b[0m: unsupported operand type(s) for +: 'int' and 'str'"
     ]
    }
   ],
   "source": [
    "sum('python')"
   ]
  },
  {
   "cell_type": "markdown",
   "id": "7d820f8a-99a2-49fd-b125-1e93596f2c32",
   "metadata": {},
   "source": [
    "**sorted**"
   ]
  },
  {
   "cell_type": "markdown",
   "id": "c7dd44f3-efd2-4542-8b40-6829cc016f14",
   "metadata": {},
   "source": [
    "- sorted means either ascending or descending order\n",
    "\n",
    "- ascending order : Small to Big\n",
    "\n",
    "- descending : Big to Small"
   ]
  },
  {
   "cell_type": "code",
   "execution_count": 35,
   "id": "18d88ca9-ec26-45f3-8ba8-2de20927b62f",
   "metadata": {},
   "outputs": [
    {
     "data": {
      "text/plain": [
       "['h', 'n', 'o', 'p', 't', 'y']"
      ]
     },
     "execution_count": 35,
     "metadata": {},
     "output_type": "execute_result"
    }
   ],
   "source": [
    "\n",
    "sorted('python')\n",
    "# By default ascending\n",
    "# can i change the order?"
   ]
  },
  {
   "cell_type": "markdown",
   "id": "f64448fb-9986-4803-81ff-f3451571dd39",
   "metadata": {},
   "source": [
    "**iterable**: Anything that can be print using loop\n",
    "\n",
    "/ "
   ]
  },
  {
   "cell_type": "code",
   "execution_count": 39,
   "id": "477898e4-901f-4394-8987-d024d07ad5fc",
   "metadata": {},
   "outputs": [
    {
     "name": "stdout",
     "output_type": "stream",
     "text": [
      "30\n"
     ]
    }
   ],
   "source": [
    "def add(a,b):\n",
    "    print(a+b)\n",
    "add(10,20)  ############# Works"
   ]
  },
  {
   "cell_type": "code",
   "execution_count": 41,
   "id": "038532ba-5c07-43aa-86cb-87ae21b7bac2",
   "metadata": {},
   "outputs": [
    {
     "name": "stdout",
     "output_type": "stream",
     "text": [
      "30\n"
     ]
    }
   ],
   "source": [
    "def add(a,b):\n",
    "    print(a+b)\n",
    "add(a=10,b=20) ########## Works"
   ]
  },
  {
   "cell_type": "code",
   "execution_count": 1,
   "id": "00f96ec8-a703-4799-abd1-43ea9ea3adc5",
   "metadata": {},
   "outputs": [
    {
     "ename": "TypeError",
     "evalue": "add() got some positional-only arguments passed as keyword arguments: 'a'",
     "output_type": "error",
     "traceback": [
      "\u001b[1;31m---------------------------------------------------------------------------\u001b[0m",
      "\u001b[1;31mTypeError\u001b[0m                                 Traceback (most recent call last)",
      "Cell \u001b[1;32mIn[1], line 3\u001b[0m\n\u001b[0;32m      1\u001b[0m \u001b[38;5;28;01mdef\u001b[39;00m \u001b[38;5;21madd\u001b[39m(a,\u001b[38;5;241m/\u001b[39m,b):\n\u001b[0;32m      2\u001b[0m     \u001b[38;5;28mprint\u001b[39m(a\u001b[38;5;241m+\u001b[39mb)\n\u001b[1;32m----> 3\u001b[0m add(a\u001b[38;5;241m=\u001b[39m\u001b[38;5;241m10\u001b[39m,b\u001b[38;5;241m=\u001b[39m\u001b[38;5;241m20\u001b[39m)\n",
      "\u001b[1;31mTypeError\u001b[0m: add() got some positional-only arguments passed as keyword arguments: 'a'"
     ]
    }
   ],
   "source": [
    "def add(a,/,b):\n",
    "    print(a+b)\n",
    "add(a=10,b=20)   "
   ]
  },
  {
   "cell_type": "code",
   "execution_count": 1,
   "id": "1c989752-f6fe-43f6-8f6d-b7bb71ce7050",
   "metadata": {},
   "outputs": [
    {
     "name": "stdout",
     "output_type": "stream",
     "text": [
      "30\n"
     ]
    }
   ],
   "source": [
    "def add(a,/,b):\n",
    "    print(a+b)\n",
    "add(10,b=20)"
   ]
  },
  {
   "cell_type": "code",
   "execution_count": 47,
   "id": "aab779a9-0471-41a6-82e5-5f1b4cf27c95",
   "metadata": {},
   "outputs": [
    {
     "ename": "SyntaxError",
     "evalue": "positional argument follows keyword argument (3787002837.py, line 3)",
     "output_type": "error",
     "traceback": [
      "\u001b[1;36m  Cell \u001b[1;32mIn[47], line 3\u001b[1;36m\u001b[0m\n\u001b[1;33m    add(a=10,20)\u001b[0m\n\u001b[1;37m               ^\u001b[0m\n\u001b[1;31mSyntaxError\u001b[0m\u001b[1;31m:\u001b[0m positional argument follows keyword argument\n"
     ]
    }
   ],
   "source": [
    "def add(a,/,b):\n",
    "    print(a+b)\n",
    "add(a=10,20)"
   ]
  },
  {
   "cell_type": "code",
   "execution_count": 51,
   "id": "add220c0-e2fd-4193-aca3-35db3a9dbab2",
   "metadata": {},
   "outputs": [
    {
     "ename": "SyntaxError",
     "evalue": "invalid syntax (1943380135.py, line 1)",
     "output_type": "error",
     "traceback": [
      "\u001b[1;36m  Cell \u001b[1;32mIn[51], line 1\u001b[1;36m\u001b[0m\n\u001b[1;33m    a,/,b\u001b[0m\n\u001b[1;37m      ^\u001b[0m\n\u001b[1;31mSyntaxError\u001b[0m\u001b[1;31m:\u001b[0m invalid syntax\n"
     ]
    }
   ],
   "source": [
    "a,/,b\n",
    "a=10 b=10  ==== fail\n",
    "a=10 30   ==== fail\n",
    "10  b=30     === pass"
   ]
  },
  {
   "cell_type": "code",
   "execution_count": 53,
   "id": "3630d1fd-be81-4893-8392-3966621a32ea",
   "metadata": {},
   "outputs": [
    {
     "ename": "SyntaxError",
     "evalue": "positional argument follows keyword argument (2717681794.py, line 19)",
     "output_type": "error",
     "traceback": [
      "\u001b[1;36m  Cell \u001b[1;32mIn[53], line 19\u001b[1;36m\u001b[0m\n\u001b[1;33m    add(a=10,20) ====== slash before not working\u001b[0m\n\u001b[1;37m               ^\u001b[0m\n\u001b[1;31mSyntaxError\u001b[0m\u001b[1;31m:\u001b[0m positional argument follows keyword argument\n"
     ]
    }
   ],
   "source": [
    "def add(a,b):\n",
    "    print(a+b)\n",
    "add(10,20)  ############### Works\n",
    "\n",
    "def add(a,b):\n",
    "    print(a+b)\n",
    "add(a=10,b=20) ########## Works\n",
    "\n",
    "def add(a,/,b):\n",
    "    print(a+b)\n",
    "add(a=10,b=20)   ########### F F  / a=10  b=20\n",
    "\n",
    "def add(a,/,b):\n",
    "    print(a+b)\n",
    "add(10,b=20)  ##########  Pass    b=20\n",
    "\n",
    "def add(a,/,b):\n",
    "    print(a+b)\n",
    "add(a=10,20) ====== slash before not working"
   ]
  },
  {
   "cell_type": "code",
   "execution_count": 55,
   "id": "89b4feef-8ce7-4bc8-a2c7-8242d1ee666a",
   "metadata": {},
   "outputs": [
    {
     "ename": "SyntaxError",
     "evalue": "invalid syntax (1018621010.py, line 1)",
     "output_type": "error",
     "traceback": [
      "\u001b[1;36m  Cell \u001b[1;32mIn[55], line 1\u001b[1;36m\u001b[0m\n\u001b[1;33m    (a,/,b)\u001b[0m\n\u001b[1;37m       ^\u001b[0m\n\u001b[1;31mSyntaxError\u001b[0m\u001b[1;31m:\u001b[0m invalid syntax\n"
     ]
    }
   ],
   "source": [
    "(a,/,b)\n",
    "a=10  b=20  ===== > F\n",
    "a=10  20    ===== > F\n",
    "10    20   ===== > W\n",
    "10   b=20  ===== > W"
   ]
  },
  {
   "cell_type": "code",
   "execution_count": 57,
   "id": "ac39c464-6c32-4235-86b0-7518c7fd3023",
   "metadata": {},
   "outputs": [
    {
     "ename": "TypeError",
     "evalue": "sorted expected 1 argument, got 0",
     "output_type": "error",
     "traceback": [
      "\u001b[1;31m---------------------------------------------------------------------------\u001b[0m",
      "\u001b[1;31mTypeError\u001b[0m                                 Traceback (most recent call last)",
      "Cell \u001b[1;32mIn[57], line 1\u001b[0m\n\u001b[1;32m----> 1\u001b[0m \u001b[38;5;28msorted\u001b[39m(iterable\u001b[38;5;241m=\u001b[39m\u001b[38;5;124m'\u001b[39m\u001b[38;5;124mpython\u001b[39m\u001b[38;5;124m'\u001b[39m)\n",
      "\u001b[1;31mTypeError\u001b[0m: sorted expected 1 argument, got 0"
     ]
    }
   ],
   "source": [
    "sorted(iterable='python')"
   ]
  },
  {
   "cell_type": "markdown",
   "id": "3103e05a-b38c-4927-bcd9-9846258be146",
   "metadata": {},
   "source": [
    "**Note:** \n",
    "\n",
    "- / before dont use argument name\n",
    "\n",
    "- / after you can use argument name, that is our wish\n",
    "\n",
    "- (*) indicates no need maintain the order of the arguments  "
   ]
  },
  {
   "cell_type": "code",
   "execution_count": 60,
   "id": "2bc07bd6-a0a0-4644-b2de-26da048c9773",
   "metadata": {},
   "outputs": [
    {
     "ename": "TypeError",
     "evalue": "add() got an unexpected keyword argument 'c'",
     "output_type": "error",
     "traceback": [
      "\u001b[1;31m---------------------------------------------------------------------------\u001b[0m",
      "\u001b[1;31mTypeError\u001b[0m                                 Traceback (most recent call last)",
      "Cell \u001b[1;32mIn[60], line 1\u001b[0m\n\u001b[1;32m----> 1\u001b[0m add(\u001b[38;5;241m10\u001b[39m,c\u001b[38;5;241m=\u001b[39m\u001b[38;5;241m20\u001b[39m)\n",
      "\u001b[1;31mTypeError\u001b[0m: add() got an unexpected keyword argument 'c'"
     ]
    }
   ],
   "source": [
    "add(10,c=20)"
   ]
  },
  {
   "cell_type": "code",
   "execution_count": 62,
   "id": "a073917b-be16-4425-94f6-7817380e0c77",
   "metadata": {},
   "outputs": [
    {
     "name": "stdout",
     "output_type": "stream",
     "text": [
      "30\n"
     ]
    }
   ],
   "source": [
    "add(10,20)"
   ]
  },
  {
   "cell_type": "code",
   "execution_count": 64,
   "id": "79f5f56d-c3c9-4aa3-b517-b80a6aae2397",
   "metadata": {},
   "outputs": [
    {
     "ename": "TypeError",
     "evalue": "add() takes 1 positional argument but 3 were given",
     "output_type": "error",
     "traceback": [
      "\u001b[1;31m---------------------------------------------------------------------------\u001b[0m",
      "\u001b[1;31mTypeError\u001b[0m                                 Traceback (most recent call last)",
      "Cell \u001b[1;32mIn[64], line 4\u001b[0m\n\u001b[0;32m      1\u001b[0m \u001b[38;5;28;01mdef\u001b[39;00m \u001b[38;5;21madd\u001b[39m(a,\u001b[38;5;241m/\u001b[39m,\u001b[38;5;241m*\u001b[39m,b,c):\n\u001b[0;32m      2\u001b[0m     \u001b[38;5;28mprint\u001b[39m(a\u001b[38;5;241m+\u001b[39mb\u001b[38;5;241m+\u001b[39mc)\n\u001b[1;32m----> 4\u001b[0m add(\u001b[38;5;241m10\u001b[39m,\u001b[38;5;241m20\u001b[39m,\u001b[38;5;241m30\u001b[39m)\n",
      "\u001b[1;31mTypeError\u001b[0m: add() takes 1 positional argument but 3 were given"
     ]
    }
   ],
   "source": [
    "def add(a,/,*,b,c):\n",
    "    print(a+b+c)\n",
    "\n",
    "add(10,20,30)"
   ]
  },
  {
   "cell_type": "markdown",
   "id": "f0cf9b46-87d1-4c76-a548-ad65deb5b912",
   "metadata": {},
   "source": [
    "**Note**\n",
    "\n",
    "(*) indicates provide the argument name"
   ]
  },
  {
   "cell_type": "code",
   "execution_count": 3,
   "id": "d254a3e4-b910-43f0-a9f8-e7de3c3c818d",
   "metadata": {},
   "outputs": [
    {
     "ename": "TypeError",
     "evalue": "sorted expected 1 argument, got 2",
     "output_type": "error",
     "traceback": [
      "\u001b[1;31m---------------------------------------------------------------------------\u001b[0m",
      "\u001b[1;31mTypeError\u001b[0m                                 Traceback (most recent call last)",
      "Cell \u001b[1;32mIn[3], line 1\u001b[0m\n\u001b[1;32m----> 1\u001b[0m \u001b[38;5;28msorted\u001b[39m(\u001b[38;5;124m'\u001b[39m\u001b[38;5;124mpython\u001b[39m\u001b[38;5;124m'\u001b[39m,\u001b[38;5;28;01mTrue\u001b[39;00m)\n",
      "\u001b[1;31mTypeError\u001b[0m: sorted expected 1 argument, got 2"
     ]
    }
   ],
   "source": [
    "sorted('python',True)\n",
    "\n",
    "# / before dont use ==== correct\n",
    "# * after you should use === wrong"
   ]
  },
  {
   "cell_type": "code",
   "execution_count": 5,
   "id": "81fd9954-0e5e-4f6d-a85e-b6a7307dd09a",
   "metadata": {},
   "outputs": [
    {
     "data": {
      "text/plain": [
       "['y', 't', 'p', 'o', 'n', 'h']"
      ]
     },
     "execution_count": 5,
     "metadata": {},
     "output_type": "execute_result"
    }
   ],
   "source": [
    "sorted('python',reverse=True)\n"
   ]
  },
  {
   "cell_type": "code",
   "execution_count": null,
   "id": "3c955ddf-4656-4ece-a005-a21d97e75b2d",
   "metadata": {},
   "outputs": [],
   "source": [
    "sorted('python')  # w  by default reverse=False\n",
    "sorted(iterable='python') # F\n",
    "sorted('python',reverse=True) # W\n",
    "sorted(iterable='python',reverse=True) # F\n",
    "sorted('python',True) # F\n"
   ]
  },
  {
   "cell_type": "markdown",
   "id": "db7bd50a-0cde-466c-9a04-b2e5b3f2dc69",
   "metadata": {},
   "source": [
    "**reveresd**"
   ]
  },
  {
   "cell_type": "code",
   "execution_count": 1,
   "id": "0c2f44f1-2361-4386-887f-bf24ff47d7e5",
   "metadata": {},
   "outputs": [
    {
     "ename": "TypeError",
     "evalue": "reversed() takes no keyword arguments",
     "output_type": "error",
     "traceback": [
      "\u001b[1;31m---------------------------------------------------------------------------\u001b[0m",
      "\u001b[1;31mTypeError\u001b[0m                                 Traceback (most recent call last)",
      "Cell \u001b[1;32mIn[1], line 1\u001b[0m\n\u001b[1;32m----> 1\u001b[0m \u001b[38;5;28mreversed\u001b[39m(sequence\u001b[38;5;241m=\u001b[39m\u001b[38;5;124m'\u001b[39m\u001b[38;5;124mprashanth\u001b[39m\u001b[38;5;124m'\u001b[39m)\n",
      "\u001b[1;31mTypeError\u001b[0m: reversed() takes no keyword arguments"
     ]
    }
   ],
   "source": [
    "reversed(sequence='prashanth')"
   ]
  },
  {
   "cell_type": "code",
   "execution_count": 3,
   "id": "141b63d6-7b91-416e-8593-4605d2bb15a3",
   "metadata": {},
   "outputs": [
    {
     "data": {
      "text/plain": [
       "<reversed at 0x1aee9420fd0>"
      ]
     },
     "execution_count": 3,
     "metadata": {},
     "output_type": "execute_result"
    }
   ],
   "source": [
    "ans=reversed('prashanth')\n",
    "ans"
   ]
  },
  {
   "cell_type": "markdown",
   "id": "d1edb5dd-94d2-49a1-b045-0a2d4d38f802",
   "metadata": {},
   "source": [
    "- Answer saved at address memory location\n",
    "\n",
    "- we can see the answer by using for loop or list\n",
    "\n",
    "- whenever we see less than greater than symbol answer\n",
    "\n",
    "- try to apply for loop or list"
   ]
  },
  {
   "cell_type": "code",
   "execution_count": 8,
   "id": "482f21c3-11db-447b-932b-10022f15c498",
   "metadata": {},
   "outputs": [
    {
     "name": "stdout",
     "output_type": "stream",
     "text": [
      "h\n",
      "t\n",
      "n\n",
      "a\n",
      "h\n",
      "s\n",
      "a\n",
      "r\n",
      "p\n"
     ]
    }
   ],
   "source": [
    "for i in ans:\n",
    "    print(i)"
   ]
  },
  {
   "cell_type": "code",
   "execution_count": 10,
   "id": "5551af63-9b39-4888-85d8-d022a3f54de7",
   "metadata": {},
   "outputs": [
    {
     "data": {
      "text/plain": [
       "['h', 't', 'n', 'a', 'h', 's', 'a', 'r', 'p']"
      ]
     },
     "execution_count": 10,
     "metadata": {},
     "output_type": "execute_result"
    }
   ],
   "source": [
    "ans=reversed('prashanth')\n",
    "list(ans)"
   ]
  },
  {
   "cell_type": "markdown",
   "id": "f4d85d95-6c7f-4c73-9a19-a7597d8952f2",
   "metadata": {},
   "source": [
    "**Concatenation**"
   ]
  },
  {
   "cell_type": "code",
   "execution_count": 13,
   "id": "9d500ee9-a25d-4b7a-b49d-94bba861c0d2",
   "metadata": {},
   "outputs": [
    {
     "data": {
      "text/plain": [
       "'hellopython'"
      ]
     },
     "execution_count": 13,
     "metadata": {},
     "output_type": "execute_result"
    }
   ],
   "source": [
    "str1='hello'\n",
    "str2='python'\n",
    "str1+str2"
   ]
  },
  {
   "cell_type": "code",
   "execution_count": null,
   "id": "bb4e2038-17d8-4788-9104-9ce51b9d2ea4",
   "metadata": {},
   "outputs": [],
   "source": [
    "str1-str2  # see the error\n",
    "str1*str2  # see the error\n",
    "str1/str2  # see the error"
   ]
  },
  {
   "cell_type": "code",
   "execution_count": 17,
   "id": "dfd3f619-13c7-4405-8494-0fb8b710e4cc",
   "metadata": {},
   "outputs": [
    {
     "ename": "TypeError",
     "evalue": "unsupported operand type(s) for -: 'str' and 'str'",
     "output_type": "error",
     "traceback": [
      "\u001b[1;31m---------------------------------------------------------------------------\u001b[0m",
      "\u001b[1;31mTypeError\u001b[0m                                 Traceback (most recent call last)",
      "Cell \u001b[1;32mIn[17], line 1\u001b[0m\n\u001b[1;32m----> 1\u001b[0m str1\u001b[38;5;241m-\u001b[39mstr2\n",
      "\u001b[1;31mTypeError\u001b[0m: unsupported operand type(s) for -: 'str' and 'str'"
     ]
    }
   ],
   "source": [
    "str1-str2"
   ]
  },
  {
   "cell_type": "code",
   "execution_count": 19,
   "id": "428425f3-95d4-4f97-b76b-a126b675054b",
   "metadata": {},
   "outputs": [
    {
     "ename": "TypeError",
     "evalue": "can't multiply sequence by non-int of type 'str'",
     "output_type": "error",
     "traceback": [
      "\u001b[1;31m---------------------------------------------------------------------------\u001b[0m",
      "\u001b[1;31mTypeError\u001b[0m                                 Traceback (most recent call last)",
      "Cell \u001b[1;32mIn[19], line 1\u001b[0m\n\u001b[1;32m----> 1\u001b[0m str1\u001b[38;5;241m*\u001b[39mstr2\n",
      "\u001b[1;31mTypeError\u001b[0m: can't multiply sequence by non-int of type 'str'"
     ]
    }
   ],
   "source": [
    "str1*str2"
   ]
  },
  {
   "cell_type": "code",
   "execution_count": 21,
   "id": "92b12142-a12e-453f-9a9d-40b4e3472ef2",
   "metadata": {},
   "outputs": [
    {
     "ename": "TypeError",
     "evalue": "can't multiply sequence by non-int of type 'str'",
     "output_type": "error",
     "traceback": [
      "\u001b[1;31m---------------------------------------------------------------------------\u001b[0m",
      "\u001b[1;31mTypeError\u001b[0m                                 Traceback (most recent call last)",
      "Cell \u001b[1;32mIn[21], line 1\u001b[0m\n\u001b[1;32m----> 1\u001b[0m str1\u001b[38;5;241m*\u001b[39mstr2\n",
      "\u001b[1;31mTypeError\u001b[0m: can't multiply sequence by non-int of type 'str'"
     ]
    }
   ],
   "source": [
    "str1*str2\n"
   ]
  },
  {
   "cell_type": "code",
   "execution_count": null,
   "id": "62b91569-0b93-43f9-9a24-46768d2d57f5",
   "metadata": {},
   "outputs": [],
   "source": [
    "str1-str2:\n",
    "TypeError: unsupported operand type(s) for -: 'str' and 'str'\n",
    "\n",
    "str1/str2:\n",
    "TypeError: unsupported operand type(s) for /: 'str' and 'str'\n",
    "\n",
    "str1(sequence)*3:\n",
    "TypeError: can't multiply sequence by non-int of type 'str'"
   ]
  },
  {
   "cell_type": "code",
   "execution_count": 23,
   "id": "4d99d370-c0e4-44aa-99da-fa96b5071acd",
   "metadata": {},
   "outputs": [
    {
     "data": {
      "text/plain": [
       "'pythonpythonpython'"
      ]
     },
     "execution_count": 23,
     "metadata": {},
     "output_type": "execute_result"
    }
   ],
   "source": [
    "'python'*3"
   ]
  },
  {
   "cell_type": "code",
   "execution_count": 25,
   "id": "54151f34-8166-4d18-9fd0-4cfd05db1935",
   "metadata": {},
   "outputs": [
    {
     "data": {
      "text/plain": [
       "'hello python'"
      ]
     },
     "execution_count": 25,
     "metadata": {},
     "output_type": "execute_result"
    }
   ],
   "source": [
    "str1='hello '\n",
    "str2='python'\n",
    "str1+str2"
   ]
  },
  {
   "cell_type": "code",
   "execution_count": 27,
   "id": "91055003-4774-40af-af15-870f8fa17ab4",
   "metadata": {},
   "outputs": [
    {
     "data": {
      "text/plain": [
       "'hello python'"
      ]
     },
     "execution_count": 27,
     "metadata": {},
     "output_type": "execute_result"
    }
   ],
   "source": [
    "str1='hello'\n",
    "str2=' python'\n",
    "str1+str2"
   ]
  },
  {
   "cell_type": "code",
   "execution_count": 29,
   "id": "2988c472-afdf-4757-97a7-b9d8280666b7",
   "metadata": {},
   "outputs": [
    {
     "data": {
      "text/plain": [
       "'hello python'"
      ]
     },
     "execution_count": 29,
     "metadata": {},
     "output_type": "execute_result"
    }
   ],
   "source": [
    "str1='hello'\n",
    "str2='python'\n",
    "str1+' '+str2"
   ]
  },
  {
   "cell_type": "markdown",
   "id": "97ad0ccb-1277-43f4-a636-72729a67063e",
   "metadata": {},
   "source": [
    "- Basic represenations\n",
    "\n",
    "- min max len\n",
    "\n",
    "- sorted  \n",
    "\n",
    "- reveresd\n",
    "\n",
    "- concatenation"
   ]
  },
  {
   "cell_type": "code",
   "execution_count": null,
   "id": "419fd464-91de-4d1a-894d-ce748e360179",
   "metadata": {},
   "outputs": [],
   "source": [
    "# every day after the class till 12 you need to be in Lab\n",
    "# 140Python book also\n",
    "# 5qns you need \n",
    "# whatsapp group online and offline "
   ]
  },
  {
   "cell_type": "markdown",
   "id": "580de0cf-578d-47ba-a619-be80627e6c66",
   "metadata": {},
   "source": [
    "**index**"
   ]
  },
  {
   "cell_type": "code",
   "execution_count": 33,
   "id": "7d6fc27d-7434-48a1-a4db-89499fbcd43c",
   "metadata": {},
   "outputs": [
    {
     "data": {
      "text/plain": [
       "'python'"
      ]
     },
     "execution_count": 33,
     "metadata": {},
     "output_type": "execute_result"
    }
   ],
   "source": [
    "str1='python'\n",
    "str1"
   ]
  },
  {
   "cell_type": "code",
   "execution_count": null,
   "id": "8e59674c-79a7-49ff-808e-efec05eacc88",
   "metadata": {},
   "outputs": [],
   "source": [
    "-6 -5 -4 -3 -2 -1\n",
    "p  y  t  h  o  n\n",
    "0  1  2  3  4  5"
   ]
  },
  {
   "cell_type": "markdown",
   "id": "8a8778cc-07ef-47a7-9973-7b7cc79e5f29",
   "metadata": {},
   "source": [
    "- access the charcters or elements use square bracket"
   ]
  },
  {
   "cell_type": "code",
   "execution_count": 36,
   "id": "d5bee67f-546e-492d-94b3-bcf883c56fd4",
   "metadata": {},
   "outputs": [
    {
     "data": {
      "text/plain": [
       "('n', 'n')"
      ]
     },
     "execution_count": 36,
     "metadata": {},
     "output_type": "execute_result"
    }
   ],
   "source": [
    "str1[0],str1[-6]\n",
    "str1[1],str1[-5]\n",
    "str1[2],str1[-4]\n",
    "str1[3],str1[-3]\n",
    "str1[4],str1[-2]\n",
    "str1[5],str1[-1]"
   ]
  },
  {
   "cell_type": "code",
   "execution_count": null,
   "id": "f2ab043b-e1df-42d1-bbf6-95a8b1a0ec54",
   "metadata": {},
   "outputs": [],
   "source": [
    "str1[0]\n",
    "str1[1]\n",
    "str1[2]\n",
    "str1[3]\n",
    "str1[4]\n",
    "str1[5]\n",
    "\n",
    "str1[i]"
   ]
  },
  {
   "cell_type": "code",
   "execution_count": 38,
   "id": "51ad3341-e4c6-46ac-982b-5e0df8785dca",
   "metadata": {},
   "outputs": [
    {
     "name": "stdout",
     "output_type": "stream",
     "text": [
      "p\n",
      "y\n",
      "t\n",
      "h\n",
      "o\n",
      "n\n"
     ]
    }
   ],
   "source": [
    "str1='python'\n",
    "n=len(str1)\n",
    "for i in range(0,n):\n",
    "    print(str1[i])"
   ]
  },
  {
   "cell_type": "code",
   "execution_count": 40,
   "id": "2a266dd1-4cde-4e7c-ae8e-eb9a5bbcb0ca",
   "metadata": {},
   "outputs": [
    {
     "name": "stdout",
     "output_type": "stream",
     "text": [
      "h\n",
      "e\n",
      "l\n",
      "l\n",
      "o\n",
      " \n",
      "h\n",
      "o\n",
      "w\n",
      " \n",
      "a\n",
      "r\n",
      "e\n",
      " \n",
      "y\n",
      "o\n",
      "u\n"
     ]
    }
   ],
   "source": [
    "str1='hello how are you'\n",
    "n=len(str1)\n",
    "for i in range(0,n):\n",
    "    print(str1[i])"
   ]
  },
  {
   "cell_type": "code",
   "execution_count": 42,
   "id": "7d37040d-d393-436d-8b47-3bf6da055cce",
   "metadata": {},
   "outputs": [
    {
     "name": "stdout",
     "output_type": "stream",
     "text": [
      "p\n",
      "y\n",
      "t\n",
      "h\n",
      "o\n",
      "n\n"
     ]
    }
   ],
   "source": [
    "str1='python'\n",
    "n=len(str1)\n",
    "for i in range(0,n):\n",
    "    print(str1[i])"
   ]
  },
  {
   "cell_type": "code",
   "execution_count": null,
   "id": "dd421439-ecce-4e55-bec8-2cdd2ce7e5d5",
   "metadata": {},
   "outputs": [],
   "source": [
    "# Q1)\n",
    "# the postive index of p is 0\n",
    "# the postive index of y is 1\n",
    "# the postive index of n is 2\n",
    "\n",
    "# Q2)\n",
    "# the negative index of p is -6\n",
    "# the negative index of y is -5\n",
    "# the negative index of n is -4 and so on\n",
    "\n",
    "# Q3)\n",
    "# The postvive index is 0 and negtaive index is -6 for p"
   ]
  },
  {
   "cell_type": "code",
   "execution_count": 44,
   "id": "f251a4f0-2ec7-446b-9b21-80308de73dcf",
   "metadata": {},
   "outputs": [
    {
     "name": "stdout",
     "output_type": "stream",
     "text": [
      "0 1 2 3 4 5 -6 -5 -4 -3 -2 -1 "
     ]
    }
   ],
   "source": [
    "# Q1) first you need to print the numbers\n",
    "\n",
    "#-6 -5 -4 -3 -2 -1\n",
    "#p  y  t  h  o  n\n",
    "#0  1  2  3  4  5\n",
    "for i in range(0,6):print(i,end=' ')\n",
    "for i in range(-6,0):print(i,end=' ')"
   ]
  },
  {
   "cell_type": "code",
   "execution_count": 46,
   "id": "2386dfcb-58c4-48c4-aa4a-10d99b4242ee",
   "metadata": {},
   "outputs": [
    {
     "name": "stdout",
     "output_type": "stream",
     "text": [
      "the postive index of p is 0\n",
      "the postive index of y is 1\n",
      "the postive index of t is 2\n",
      "the postive index of h is 3\n",
      "the postive index of o is 4\n",
      "the postive index of n is 5\n"
     ]
    }
   ],
   "source": [
    "str1='python'\n",
    "n=len(str1)\n",
    "for i in range(0,n):\n",
    "    print(f'the postive index of {str1[i]} is {i}')"
   ]
  },
  {
   "cell_type": "code",
   "execution_count": 84,
   "id": "c49cdc1a-d6b9-409f-a822-600e2a277ce6",
   "metadata": {},
   "outputs": [
    {
     "name": "stdout",
     "output_type": "stream",
     "text": [
      "-6\n",
      "-5\n",
      "-4\n",
      "-3\n",
      "-2\n",
      "-1\n"
     ]
    }
   ],
   "source": [
    "str1='python'\n",
    "n=len(str1)\n",
    "for s in range(-6,0):\n",
    "    print(s)"
   ]
  },
  {
   "cell_type": "code",
   "execution_count": 96,
   "id": "b71972ab-a78b-46c9-ac84-afa24f066fb8",
   "metadata": {},
   "outputs": [
    {
     "name": "stdout",
     "output_type": "stream",
     "text": [
      "0 -6\n",
      "the postive index is 0,neagtive index is -6 for : y\n",
      "the postive index is 0 for: p\n",
      "the negative index is -6 for: p\n",
      "1 -5\n",
      "the postive index is 1,neagtive index is -5 for : y\n",
      "the postive index is 1 for: y\n",
      "the negative index is -5 for: y\n",
      "2 -4\n",
      "the postive index is 2,neagtive index is -4 for : y\n",
      "the postive index is 2 for: t\n",
      "the negative index is -4 for: t\n",
      "3 -3\n",
      "the postive index is 3,neagtive index is -3 for : y\n",
      "the postive index is 3 for: h\n",
      "the negative index is -3 for: h\n",
      "4 -2\n",
      "the postive index is 4,neagtive index is -2 for : y\n",
      "the postive index is 4 for: o\n",
      "the negative index is -2 for: o\n",
      "5 -1\n",
      "the postive index is 5,neagtive index is -1 for : y\n",
      "the postive index is 5 for: n\n",
      "the negative index is -1 for: n\n"
     ]
    }
   ],
   "source": [
    "for i in range(0,6):\n",
    "    print(i,i-6)\n",
    "    print(f'the postive index is {i},neagtive index is {i-6} for : {str2[1]}')\n",
    "    print(f'the postive index is {i} for: {str2[i]}')\n",
    "    print(f'the negative index is {i-6} for: {str2[i]}')"
   ]
  },
  {
   "cell_type": "markdown",
   "id": "13cd92ca-41ef-41dd-bbf5-76959cd83495",
   "metadata": {},
   "source": [
    "- **in** operator directly access the elements\n",
    "\n",
    "- **range** opeartor access the elements using index or numbers\n",
    "\n",
    "- any problem statement if you need numbers then go for range\n",
    "\n",
    "- otherwise go for in opeartor directly"
   ]
  },
  {
   "cell_type": "code",
   "execution_count": 99,
   "id": "4ad51020-8bf0-400c-aeb9-df4b4ab2f6b6",
   "metadata": {},
   "outputs": [
    {
     "name": "stdout",
     "output_type": "stream",
     "text": [
      "p\n",
      "y\n",
      "t\n",
      "h\n",
      "o\n",
      "n\n",
      "0 p\n",
      "1 y\n",
      "2 t\n",
      "3 h\n",
      "4 o\n",
      "5 n\n"
     ]
    }
   ],
   "source": [
    "str1='python'\n",
    "for i in str1:\n",
    "    print(i)\n",
    "\n",
    "for i in range(0,6):\n",
    "    print(i,str1[i])"
   ]
  },
  {
   "cell_type": "code",
   "execution_count": null,
   "id": "ad146932-b031-48ae-8faa-53fe86fe4ae1",
   "metadata": {},
   "outputs": [],
   "source": [
    "# Q4) write a progarm to find the indexes of 'a' in a given string\n",
    "#     str1='ola ola ola'\n",
    "\n",
    "# Q5) write a program to find the sum of all indexes of 'a' in a given string\n",
    "#    str1='ola ola ola'\n",
    "\n",
    "# Q6) write a progarm to find the number of 'a' in a given string\n",
    "#    str1='ola ola ola'\n",
    "\n",
    "# Q7) write a progarm to find the vowels and its count in a given string\n",
    "#    str1='hai how are you'\n",
    "\n",
    "# Q8) write a progarm to find the vowels which are repaeting then print only \n",
    "#     one time \n",
    "#     example: helleo  \n",
    "#      e is coming two times but we want to print only one time"
   ]
  },
  {
   "cell_type": "code",
   "execution_count": 40,
   "id": "e4f99946-94c7-4fb3-a608-a517a7a6ab7e",
   "metadata": {},
   "outputs": [
    {
     "name": "stdout",
     "output_type": "stream",
     "text": [
      "2\n",
      "6\n",
      "10\n"
     ]
    }
   ],
   "source": [
    "# Q4) write a progarm to find the indexes of 'a' in a given string\n",
    "#     str1='ola ola ola'\n",
    "str1='ola ola ola'\n",
    "for i in range(len(str1)):\n",
    "    if str1[i]=='a':\n",
    "        print(i)\n",
    "       \n"
   ]
  },
  {
   "cell_type": "code",
   "execution_count": 107,
   "id": "fe20e13e-d372-4d6a-8806-07feb8102c1e",
   "metadata": {},
   "outputs": [
    {
     "name": "stdout",
     "output_type": "stream",
     "text": [
      "2\n",
      "6\n",
      "10\n",
      "the number of a are: 3\n",
      "the sum of indexes are: 18\n"
     ]
    }
   ],
   "source": [
    "# Q5) write a progarm to find the indexes of 'a' in a given string\n",
    "#     str1='ola ola ola'\n",
    "str1='ola ola ola'\n",
    "summ=0\n",
    "count=0\n",
    "for i in range(len(str1)):\n",
    "    if str1[i]=='a':\n",
    "        print(i)\n",
    "        summ=summ+i\n",
    "        count=count+1\n",
    "\n",
    "print('the number of a are:',count)\n",
    "print('the sum of indexes are:',summ)"
   ]
  },
  {
   "cell_type": "code",
   "execution_count": 10,
   "id": "a9ad792c-75c7-4300-a05d-887253838502",
   "metadata": {},
   "outputs": [
    {
     "name": "stdout",
     "output_type": "stream",
     "text": [
      "1\n",
      "2\n"
     ]
    }
   ],
   "source": [
    "# Q6) write a progarm to find the number of 'a' in a given string\n",
    "#    str1='ola ola ola'\n",
    "# in this problem we are counting number of 'a'\n",
    "# we are not using index\n",
    "count=0\n",
    "str1='ola ola ol'\n",
    "for i in str1:\n",
    "    if i=='a':\n",
    "        count=count+1\n",
    "        print(count)"
   ]
  },
  {
   "cell_type": "code",
   "execution_count": 113,
   "id": "1127e8cc-775f-44e1-9577-c8d0739f8f53",
   "metadata": {},
   "outputs": [
    {
     "name": "stdout",
     "output_type": "stream",
     "text": [
      "a\n",
      "i\n",
      "o\n",
      "a\n",
      "e\n",
      "o\n",
      "u\n",
      "7\n"
     ]
    }
   ],
   "source": [
    "# Q7) write a progarm to find the vowels and its count in a given string\n",
    "#    str1='hai how are you'\n",
    "str1='hai how are you'\n",
    "s1='aeiou'\n",
    "count=0\n",
    "for i in str1:\n",
    "    if i in s1:\n",
    "        print(i)\n",
    "        count=count+1\n",
    "print(count)"
   ]
  },
  {
   "cell_type": "code",
   "execution_count": 24,
   "id": "66d5b51d-d5cb-4b45-84be-d6fc40b8fe79",
   "metadata": {},
   "outputs": [
    {
     "name": "stdout",
     "output_type": "stream",
     "text": [
      "a\n",
      "e\n"
     ]
    }
   ],
   "source": [
    "#q)a\n",
    "str1='aaaeb' #  'ae'\n",
    "s2=''\n",
    "for i in str1:\n",
    "    if i in 'aeiou' and i not in s2:\n",
    "        print(i)\n",
    "        s2=s2+i"
   ]
  },
  {
   "cell_type": "code",
   "execution_count": 117,
   "id": "8006d9e0-ea8a-4497-8078-4324cb476864",
   "metadata": {},
   "outputs": [
    {
     "data": {
      "text/plain": [
       "'nidinidi'"
      ]
     },
     "execution_count": 117,
     "metadata": {},
     "output_type": "execute_result"
    }
   ],
   "source": [
    "'nidi'+'nidi'"
   ]
  },
  {
   "cell_type": "code",
   "execution_count": 119,
   "id": "54df9ce3-da28-4e06-80df-1a1452d82587",
   "metadata": {},
   "outputs": [
    {
     "ename": "TypeError",
     "evalue": "'str' object does not support item assignment",
     "output_type": "error",
     "traceback": [
      "\u001b[1;31m---------------------------------------------------------------------------\u001b[0m",
      "\u001b[1;31mTypeError\u001b[0m                                 Traceback (most recent call last)",
      "Cell \u001b[1;32mIn[119], line 2\u001b[0m\n\u001b[0;32m      1\u001b[0m str1\u001b[38;5;241m=\u001b[39m\u001b[38;5;124m'\u001b[39m\u001b[38;5;124mhello\u001b[39m\u001b[38;5;124m'\u001b[39m\n\u001b[1;32m----> 2\u001b[0m str1[\u001b[38;5;241m2\u001b[39m]\u001b[38;5;241m=\u001b[39m\u001b[38;5;124m'\u001b[39m\u001b[38;5;124mL\u001b[39m\u001b[38;5;124m'\u001b[39m\n",
      "\u001b[1;31mTypeError\u001b[0m: 'str' object does not support item assignment"
     ]
    }
   ],
   "source": [
    "str1='hello'\n",
    "str1[2]='L'"
   ]
  },
  {
   "cell_type": "code",
   "execution_count": 121,
   "id": "6d749875-af01-4949-a9eb-311e45213c18",
   "metadata": {},
   "outputs": [
    {
     "data": {
      "text/plain": [
       "[10, 200, 30]"
      ]
     },
     "execution_count": 121,
     "metadata": {},
     "output_type": "execute_result"
    }
   ],
   "source": [
    "l=[10,20,30]\n",
    "l[1]=200\n",
    "l"
   ]
  },
  {
   "cell_type": "code",
   "execution_count": 123,
   "id": "e342961e-7e88-467b-9adb-e11c92f6b282",
   "metadata": {},
   "outputs": [
    {
     "data": {
      "text/plain": [
       "[200, 20, 30]"
      ]
     },
     "execution_count": 123,
     "metadata": {},
     "output_type": "execute_result"
    }
   ],
   "source": [
    "l=[10,20,30]\n",
    "l[0]=200\n",
    "l"
   ]
  },
  {
   "cell_type": "markdown",
   "id": "1a48d944-ff3f-4f7e-a13e-8e2420fe2205",
   "metadata": {},
   "source": [
    "**slice**\n",
    "\n",
    " -  slice means cut into pieces\n",
    "\n",
    " -  it has similar anology with for loop rnage\n",
    "\n",
    " -  in the for loop range we have start,stop,step\n",
    "\n",
    " -  range(start,stop,step)  str[start:stop:step]"
   ]
  },
  {
   "cell_type": "code",
   "execution_count": null,
   "id": "effb8e4e-83e7-4943-9776-dbda7586b560",
   "metadata": {},
   "outputs": [],
   "source": [
    "-17 -16 -15 -14 -13 -12 -11 -10 -9 -8 -7 -6 -5 -4 -3 -2 -1\n",
    " h   e   l   l   o       h   o  w      a  r  e      y  o  u\n",
    " 0   1   2   3   4   5   6   7  8   9 10  11 12 13 14 15 16"
   ]
  },
  {
   "cell_type": "markdown",
   "id": "baf90284-f52c-44e4-8fce-38dbd3c46765",
   "metadata": {},
   "source": [
    "**case-1**\n",
    "\n",
    "**str[:stop]**\n",
    "\n",
    "  -  by default start=0\n",
    "\n",
    "  -  by default step=positive direction 1\n",
    "\n",
    "  -  last=stop -1"
   ]
  },
  {
   "cell_type": "code",
   "execution_count": 50,
   "id": "08d7e40b-5dd6-4457-9749-d895f78e3d61",
   "metadata": {},
   "outputs": [
    {
     "data": {
      "text/plain": [
       "'hello'"
      ]
     },
     "execution_count": 50,
     "metadata": {},
     "output_type": "execute_result"
    }
   ],
   "source": [
    "str1='hello how are you'\n",
    "str1[:5]\n",
    "\n",
    "#start=0 step=1 stop=6-1=4"
   ]
  },
  {
   "cell_type": "markdown",
   "id": "52990a73-0fb3-4107-88c4-2b4979a6d2be",
   "metadata": {},
   "source": [
    "**case-2**\n",
    "\n",
    "**str[start:]**\n",
    "\n",
    "  -  by default start=start value\n",
    "\n",
    "  -  by default step=positive direction 1\n",
    "\n",
    "  -  last=last index"
   ]
  },
  {
   "cell_type": "code",
   "execution_count": 96,
   "id": "72b64d52-54ba-4ea5-902f-20b92dfe25a9",
   "metadata": {},
   "outputs": [
    {
     "data": {
      "text/plain": [
       "' ola ola'"
      ]
     },
     "execution_count": 96,
     "metadata": {},
     "output_type": "execute_result"
    }
   ],
   "source": [
    "str1[3:]"
   ]
  },
  {
   "cell_type": "markdown",
   "id": "d7529785-88b1-48c1-aa96-c38f2b808b5e",
   "metadata": {},
   "source": [
    "**case-3**\n",
    "\n",
    "**str[start:stop]**\n",
    "\n",
    "  -  by default start=start value\n",
    "\n",
    "  -  by default step=positive direction 1\n",
    "\n",
    "  -  last=stop-1"
   ]
  },
  {
   "cell_type": "code",
   "execution_count": 84,
   "id": "b6d08089-59b0-403b-9432-43ddd3ecd41f",
   "metadata": {},
   "outputs": [
    {
     "data": {
      "text/plain": [
       "'lo how are '"
      ]
     },
     "execution_count": 84,
     "metadata": {},
     "output_type": "execute_result"
    }
   ],
   "source": [
    "str1[3:-3]"
   ]
  },
  {
   "cell_type": "code",
   "execution_count": 88,
   "id": "71898bbb-911e-42e8-bbb8-c2f41b2146a2",
   "metadata": {},
   "outputs": [
    {
     "data": {
      "text/plain": [
       "''"
      ]
     },
     "execution_count": 88,
     "metadata": {},
     "output_type": "execute_result"
    }
   ],
   "source": [
    "str1[-15:1]"
   ]
  },
  {
   "cell_type": "markdown",
   "id": "6df3955c-7627-4529-9198-f99328197b31",
   "metadata": {},
   "source": [
    "**case-4**\n",
    "\n",
    "**str[start:stop:step]**\n",
    "\n",
    "  -  by default start=start value\n",
    "\n",
    "  -  if step is positive value\n",
    "\n",
    "            -  last=stop-1\n",
    "\n",
    "  -  else\n",
    "\n",
    "        - last =step+1"
   ]
  },
  {
   "cell_type": "code",
   "execution_count": 94,
   "id": "4d3da9f6-86a8-4d0e-911d-188af6e7423d",
   "metadata": {},
   "outputs": [
    {
     "data": {
      "text/plain": [
       "'eooa '"
      ]
     },
     "execution_count": 94,
     "metadata": {},
     "output_type": "execute_result"
    }
   ],
   "source": [
    "# -17 -16 -15 -14 -13 -12 -11 -10 -9 -8 -7 -6 -5 -4 -3 -2 -1\n",
    "#  h   e   l   l   o       h   o  w      a  r  e      y  o  u\n",
    "#  0   1   2   3   4   5   6   7  8   9 10  11 12 13 14 15 16\n",
    "str1[1:15:3]"
   ]
  },
  {
   "cell_type": "code",
   "execution_count": 98,
   "id": "0d12bb92-2cd7-4f67-b395-f24769612ebf",
   "metadata": {},
   "outputs": [
    {
     "data": {
      "text/plain": [
       "'el o r'"
      ]
     },
     "execution_count": 98,
     "metadata": {},
     "output_type": "execute_result"
    }
   ],
   "source": [
    "str1[-16:13:2]"
   ]
  },
  {
   "cell_type": "code",
   "execution_count": 108,
   "id": "334bf20d-8ef0-4462-ba8c-d43dc5e6ab77",
   "metadata": {},
   "outputs": [
    {
     "data": {
      "text/plain": [
       "'hlh'"
      ]
     },
     "execution_count": 108,
     "metadata": {},
     "output_type": "execute_result"
    }
   ],
   "source": [
    "str1[0:8:3]"
   ]
  },
  {
   "cell_type": "code",
   "execution_count": 100,
   "id": "41a4c487-ffa4-482b-8229-4c38501a76e6",
   "metadata": {},
   "outputs": [
    {
     "data": {
      "text/plain": [
       "'uoy era woh olleh'"
      ]
     },
     "execution_count": 100,
     "metadata": {},
     "output_type": "execute_result"
    }
   ],
   "source": [
    "str1[::-1]"
   ]
  },
  {
   "cell_type": "code",
   "execution_count": 102,
   "id": "dddba57e-cac8-4387-b4be-e9d6f1d9f4c1",
   "metadata": {},
   "outputs": [
    {
     "data": {
      "text/plain": [
       "54321"
      ]
     },
     "execution_count": 102,
     "metadata": {},
     "output_type": "execute_result"
    }
   ],
   "source": [
    "num=12345\n",
    "int(str(num)[::-1])"
   ]
  },
  {
   "cell_type": "code",
   "execution_count": 110,
   "id": "61ebf88d-af99-4975-b9dd-ff48d07a28a2",
   "metadata": {},
   "outputs": [
    {
     "data": {
      "text/plain": [
       "'llo how are you'"
      ]
     },
     "execution_count": 110,
     "metadata": {},
     "output_type": "execute_result"
    }
   ],
   "source": [
    "str1[2:150]"
   ]
  },
  {
   "cell_type": "code",
   "execution_count": 112,
   "id": "56c9d396-7a4b-4f22-884d-8d907f923f94",
   "metadata": {},
   "outputs": [
    {
     "data": {
      "text/plain": [
       "'hello how are you'"
      ]
     },
     "execution_count": 112,
     "metadata": {},
     "output_type": "execute_result"
    }
   ],
   "source": [
    "str1[:]"
   ]
  },
  {
   "cell_type": "code",
   "execution_count": 116,
   "id": "bf7468ed-fbe0-4a33-849a-25c953005fd5",
   "metadata": {},
   "outputs": [
    {
     "data": {
      "text/plain": [
       "'lohwaey'"
      ]
     },
     "execution_count": 116,
     "metadata": {},
     "output_type": "execute_result"
    }
   ],
   "source": [
    "str1[2:15:2]"
   ]
  },
  {
   "cell_type": "markdown",
   "id": "67e8c076-7e95-49b6-84ec-f6f651ae06b0",
   "metadata": {},
   "source": [
    " -  basic representations\n",
    "\n",
    " - inbuilt functions\n",
    "\n",
    "     - min max len type sum reversed sorted\n",
    "\n",
    " - concatenation\n",
    "\n",
    " - index\n",
    "\n",
    " -  in vs range\n",
    "\n",
    " - mutable vs imutable\n",
    "\n",
    " - slice"
   ]
  },
  {
   "cell_type": "markdown",
   "id": "8dcd3371-12eb-4e9c-a5e1-31bb1e89db91",
   "metadata": {},
   "source": [
    "## Methods"
   ]
  },
  {
   "cell_type": "code",
   "execution_count": 126,
   "id": "fa97503a-0372-4fc1-a03d-d26b2fad606e",
   "metadata": {},
   "outputs": [
    {
     "data": {
      "text/plain": [
       "['__add__',\n",
       " '__class__',\n",
       " '__contains__',\n",
       " '__delattr__',\n",
       " '__dir__',\n",
       " '__doc__',\n",
       " '__eq__',\n",
       " '__format__',\n",
       " '__ge__',\n",
       " '__getattribute__',\n",
       " '__getitem__',\n",
       " '__getnewargs__',\n",
       " '__getstate__',\n",
       " '__gt__',\n",
       " '__hash__',\n",
       " '__init__',\n",
       " '__init_subclass__',\n",
       " '__iter__',\n",
       " '__le__',\n",
       " '__len__',\n",
       " '__lt__',\n",
       " '__mod__',\n",
       " '__mul__',\n",
       " '__ne__',\n",
       " '__new__',\n",
       " '__reduce__',\n",
       " '__reduce_ex__',\n",
       " '__repr__',\n",
       " '__rmod__',\n",
       " '__rmul__',\n",
       " '__setattr__',\n",
       " '__sizeof__',\n",
       " '__str__',\n",
       " '__subclasshook__',\n",
       " 'capitalize',\n",
       " 'casefold',\n",
       " 'center',\n",
       " 'count',\n",
       " 'encode',\n",
       " 'endswith',\n",
       " 'expandtabs',\n",
       " 'find',\n",
       " 'format',\n",
       " 'format_map',\n",
       " 'index',\n",
       " 'isalnum',\n",
       " 'isalpha',\n",
       " 'isascii',\n",
       " 'isdecimal',\n",
       " 'isdigit',\n",
       " 'isidentifier',\n",
       " 'islower',\n",
       " 'isnumeric',\n",
       " 'isprintable',\n",
       " 'isspace',\n",
       " 'istitle',\n",
       " 'isupper',\n",
       " 'join',\n",
       " 'ljust',\n",
       " 'lower',\n",
       " 'lstrip',\n",
       " 'maketrans',\n",
       " 'partition',\n",
       " 'removeprefix',\n",
       " 'removesuffix',\n",
       " 'replace',\n",
       " 'rfind',\n",
       " 'rindex',\n",
       " 'rjust',\n",
       " 'rpartition',\n",
       " 'rsplit',\n",
       " 'rstrip',\n",
       " 'split',\n",
       " 'splitlines',\n",
       " 'startswith',\n",
       " 'strip',\n",
       " 'swapcase',\n",
       " 'title',\n",
       " 'translate',\n",
       " 'upper',\n",
       " 'zfill']"
      ]
     },
     "execution_count": 126,
     "metadata": {},
     "output_type": "execute_result"
    }
   ],
   "source": [
    "name='python'\n",
    "dir(name)   #"
   ]
  },
  {
   "cell_type": "markdown",
   "id": "2e562484-7fc2-4acc-a9b9-b4c3b7730a69",
   "metadata": {},
   "source": [
    "**upper**"
   ]
  },
  {
   "cell_type": "code",
   "execution_count": 131,
   "id": "d077aae5-de06-458a-8910-aaf1877cf62b",
   "metadata": {},
   "outputs": [
    {
     "data": {
      "text/plain": [
       "'WELCOME'"
      ]
     },
     "execution_count": 131,
     "metadata": {},
     "output_type": "execute_result"
    }
   ],
   "source": [
    "str1='welcome'\n",
    "str1.upper()"
   ]
  },
  {
   "cell_type": "markdown",
   "id": "12c8a3dd-ddff-458a-a82e-fb6ce57c4cef",
   "metadata": {},
   "source": [
    " - upper\n",
    "\n",
    " - lower\n",
    "\n",
    " - title\n",
    "\n",
    " - capitalize\n",
    "\n",
    " -  casefold"
   ]
  },
  {
   "cell_type": "code",
   "execution_count": 133,
   "id": "0bb63424-de7f-4955-a7e7-764d02f8f1d9",
   "metadata": {},
   "outputs": [
    {
     "data": {
      "text/plain": [
       "'welcome'"
      ]
     },
     "execution_count": 133,
     "metadata": {},
     "output_type": "execute_result"
    }
   ],
   "source": [
    "str1='welComE'\n",
    "str1.lower()"
   ]
  },
  {
   "cell_type": "code",
   "execution_count": 146,
   "id": "98432a53-b4c5-4a5e-a15e-08dbdc43fc35",
   "metadata": {},
   "outputs": [
    {
     "data": {
      "text/plain": [
       "'Welcome to naresh it'"
      ]
     },
     "execution_count": 146,
     "metadata": {},
     "output_type": "execute_result"
    }
   ],
   "source": [
    "str1='welcome to naresh it'\n",
    "str1.capitalize()"
   ]
  },
  {
   "cell_type": "code",
   "execution_count": 29,
   "id": "a7cb3d3d-5c81-4e7e-ba24-d749133b4bb5",
   "metadata": {},
   "outputs": [
    {
     "data": {
      "text/plain": [
       "'welcome to naresh it'"
      ]
     },
     "execution_count": 29,
     "metadata": {},
     "output_type": "execute_result"
    }
   ],
   "source": [
    "str1='wElCome to naresh it'\n",
    "str1.casefold()"
   ]
  },
  {
   "cell_type": "code",
   "execution_count": 150,
   "id": "40701e25-54f2-4e5c-8f09-6e425ef82c09",
   "metadata": {},
   "outputs": [
    {
     "data": {
      "text/plain": [
       "'Welcome To Naresh It'"
      ]
     },
     "execution_count": 150,
     "metadata": {},
     "output_type": "execute_result"
    }
   ],
   "source": [
    "str1='welcome to naresh it'\n",
    "str1.title()"
   ]
  },
  {
   "cell_type": "markdown",
   "id": "97d3e99e-a7db-49be-af16-9172620a3eca",
   "metadata": {},
   "source": [
    "**diff b/w methods andddd inbuilt functions**"
   ]
  },
  {
   "cell_type": "code",
   "execution_count": null,
   "id": "621603d5-03f4-48ee-b330-09784beb3310",
   "metadata": {},
   "outputs": [],
   "source": [
    "len('python') ======= 'python'.upper()\n",
    "min('value')  ======= 'value'.upper()\n",
    "max()\n",
    "type()\n",
    "print()\n",
    "sum()\n",
    "\n",
    "#########################################\n",
    "\n",
    "str1.lower()\n",
    "str1.capitalize()\n",
    "str1.title()\n",
    "str1.casefold()"
   ]
  },
  {
   "cell_type": "markdown",
   "id": "2b8abfff-6fc9-446a-b1ed-480b8504344c",
   "metadata": {},
   "source": [
    "**center**"
   ]
  },
  {
   "cell_type": "code",
   "execution_count": 3,
   "id": "ca6b294f-b7d4-43ae-865b-2fb657d09514",
   "metadata": {},
   "outputs": [
    {
     "data": {
      "text/plain": [
       "'/pythonn//'"
      ]
     },
     "execution_count": 3,
     "metadata": {},
     "output_type": "execute_result"
    }
   ],
   "source": [
    "  str1='pythonn'\n",
    "  str1.center(10,'/')\n",
    "\n",
    "#first here 12 means the length of string becoms 12 characters\n",
    "# already python string has 6 characters\n",
    "#remaining 6 charatecrs pad has slash '/'"
   ]
  },
  {
   "cell_type": "code",
   "execution_count": null,
   "id": "aa01c0d2-6c6a-4c3d-976d-9678edac0f0c",
   "metadata": {},
   "outputs": [],
   "source": [
    "# assume that i already have \n",
    "#string='***python  '"
   ]
  },
  {
   "cell_type": "markdown",
   "id": "89c8af7b-8d22-4c76-b115-8f98e01c462e",
   "metadata": {},
   "source": [
    "**strip-lstrip-rstrip**\n",
    "\n",
    " -  strip will remove the characters both left and right side\n",
    "\n",
    " -  lstrip will remove the characters on left side\n",
    "\n",
    " -  rstrip will remove the characters on right side"
   ]
  },
  {
   "cell_type": "code",
   "execution_count": 194,
   "id": "e6508788-fbdf-4e65-bf1f-32cfa98ec258",
   "metadata": {},
   "outputs": [
    {
     "data": {
      "text/plain": [
       "'anu'"
      ]
     },
     "execution_count": 194,
     "metadata": {},
     "output_type": "execute_result"
    }
   ],
   "source": [
    "str1='***anu****'\n",
    "str1.strip('*')"
   ]
  },
  {
   "cell_type": "code",
   "execution_count": 236,
   "id": "a72fcf94-d5ee-4f11-b497-10e1c571dd79",
   "metadata": {},
   "outputs": [
    {
     "data": {
      "text/plain": [
       "('   python****', 'python****', '   python', '   python', '   python****')"
      ]
     },
     "execution_count": 236,
     "metadata": {},
     "output_type": "execute_result"
    }
   ],
   "source": [
    "str1='   python****'\n",
    "str1,str1.strip(),str1.strip('*'),str1.rstrip('*'),str1.lstrip('*')\n"
   ]
  },
  {
   "cell_type": "code",
   "execution_count": 240,
   "id": "492dfb22-1977-4592-89c5-30191a2d33dc",
   "metadata": {},
   "outputs": [
    {
     "data": {
      "text/plain": [
       "'pyhton'"
      ]
     },
     "execution_count": 240,
     "metadata": {},
     "output_type": "execute_result"
    }
   ],
   "source": [
    "str3='    pyhton*****'\n",
    "str4=str3.strip()\n",
    "str4.rstrip('*')"
   ]
  },
  {
   "cell_type": "code",
   "execution_count": 244,
   "id": "ebfd09e6-e167-443a-be0b-2d9c60f6a294",
   "metadata": {},
   "outputs": [
    {
     "data": {
      "text/plain": [
       "'pyhton'"
      ]
     },
     "execution_count": 244,
     "metadata": {},
     "output_type": "execute_result"
    }
   ],
   "source": [
    "str3='    pyhton*****'\n",
    "str3.strip().rstrip('*')\n"
   ]
  },
  {
   "cell_type": "markdown",
   "id": "83ad29e6-571a-4c87-82ae-037416f08fd9",
   "metadata": {},
   "source": [
    "**startswith**\n"
   ]
  },
  {
   "cell_type": "code",
   "execution_count": 2,
   "id": "efc4a11d-881c-4acc-a1b4-c04aa1d4e67c",
   "metadata": {},
   "outputs": [
    {
     "data": {
      "text/plain": [
       "True"
      ]
     },
     "execution_count": 2,
     "metadata": {},
     "output_type": "execute_result"
    }
   ],
   "source": [
    "str1='hello how are you'\n",
    "str1.startswith('h')"
   ]
  },
  {
   "cell_type": "code",
   "execution_count": 4,
   "id": "f37ca2cc-71e9-49ec-97e6-1ad339f73f08",
   "metadata": {},
   "outputs": [
    {
     "data": {
      "text/plain": [
       "False"
      ]
     },
     "execution_count": 4,
     "metadata": {},
     "output_type": "execute_result"
    }
   ],
   "source": [
    "str1='hello how are you'\n",
    "str1.startswith('H')"
   ]
  },
  {
   "cell_type": "code",
   "execution_count": 6,
   "id": "7b362847-cb58-4bb2-9be5-6655ae87544b",
   "metadata": {},
   "outputs": [
    {
     "data": {
      "text/plain": [
       "True"
      ]
     },
     "execution_count": 6,
     "metadata": {},
     "output_type": "execute_result"
    }
   ],
   "source": [
    "str1='hello how are you'\n",
    "str1.startswith('hello')"
   ]
  },
  {
   "cell_type": "code",
   "execution_count": 13,
   "id": "097a5cb0-d067-4f24-a30b-2d08572b5d09",
   "metadata": {},
   "outputs": [
    {
     "data": {
      "text/plain": [
       "False"
      ]
     },
     "execution_count": 13,
     "metadata": {},
     "output_type": "execute_result"
    }
   ],
   "source": [
    "str1='hello how are you'\n",
    "str1.startswith('str1')"
   ]
  },
  {
   "cell_type": "markdown",
   "id": "f90ba183-d981-4c7c-aa1b-c76c01efeee9",
   "metadata": {},
   "source": [
    "**endswith**"
   ]
  },
  {
   "cell_type": "code",
   "execution_count": 9,
   "id": "ea525d4b-9ca8-4a49-9c8d-8ff29ebe617e",
   "metadata": {},
   "outputs": [
    {
     "data": {
      "text/plain": [
       "False"
      ]
     },
     "execution_count": 9,
     "metadata": {},
     "output_type": "execute_result"
    }
   ],
   "source": [
    "str1='hello how are you'\n",
    "str1.endswith('hello')"
   ]
  },
  {
   "cell_type": "code",
   "execution_count": 11,
   "id": "8d4fec82-3e19-4691-84d8-d6c340f89391",
   "metadata": {},
   "outputs": [
    {
     "data": {
      "text/plain": [
       "False"
      ]
     },
     "execution_count": 11,
     "metadata": {},
     "output_type": "execute_result"
    }
   ],
   "source": [
    "str1='hello how are you'\n",
    "str1.endswith('str1')"
   ]
  },
  {
   "cell_type": "code",
   "execution_count": 15,
   "id": "d4ac9d0f-59f4-4b76-a05f-bc7b180b6e83",
   "metadata": {},
   "outputs": [
    {
     "data": {
      "text/plain": [
       "True"
      ]
     },
     "execution_count": 15,
     "metadata": {},
     "output_type": "execute_result"
    }
   ],
   "source": [
    "str1='hello how are you'\n",
    "str1.endswith('you')"
   ]
  },
  {
   "cell_type": "markdown",
   "id": "f47aa590-abbf-44cf-b223-d949966a5570",
   "metadata": {},
   "source": [
    "**count**\n",
    "\n",
    "$case-1$"
   ]
  },
  {
   "cell_type": "code",
   "execution_count": 40,
   "id": "307a9d49-f982-4b00-922a-d87b09fc2fdc",
   "metadata": {},
   "outputs": [
    {
     "name": "stdout",
     "output_type": "stream",
     "text": [
      "3\n"
     ]
    }
   ],
   "source": [
    "str1='ola ola ola'\n",
    "\n",
    "#in the above string how many 'a' are available\n",
    "\n",
    "\n",
    "\n",
    "str1='ola ola ola'\n",
    "count=0\n",
    "for i in str1:\n",
    "     if i=='a':\n",
    "         count=count+1\n",
    "\n",
    "print(count)"
   ]
  },
  {
   "cell_type": "code",
   "execution_count": 89,
   "id": "18b55149-a222-49b4-aab6-130ffdac2354",
   "metadata": {},
   "outputs": [
    {
     "name": "stdout",
     "output_type": "stream",
     "text": [
      "o\n",
      "l\n",
      "a\n",
      " \n",
      "o\n",
      "l\n",
      "a\n",
      " \n",
      "o\n",
      "l\n",
      "a\n"
     ]
    }
   ],
   "source": [
    "str1='ola ola ola'\n",
    "count=0\n",
    "n=len(str1)\n",
    "for i in range (0,n):\n",
    "     \n",
    "         print(str1[i])\n",
    "         count=count+1\n",
    "\n",
    "\n",
    "\n"
   ]
  },
  {
   "cell_type": "code",
   "execution_count": 50,
   "id": "2d1e9c87-498f-476a-be81-6a9bb1d5e2ec",
   "metadata": {},
   "outputs": [
    {
     "data": {
      "text/plain": [
       "3"
      ]
     },
     "execution_count": 50,
     "metadata": {},
     "output_type": "execute_result"
    }
   ],
   "source": [
    "str1='ola ola ola'\n",
    "str1.count('a')"
   ]
  },
  {
   "cell_type": "code",
   "execution_count": 52,
   "id": "e1b3dc07-bc22-4e1f-bb6a-4bd13240b53b",
   "metadata": {},
   "outputs": [
    {
     "data": {
      "text/plain": [
       "2"
      ]
     },
     "execution_count": 52,
     "metadata": {},
     "output_type": "execute_result"
    }
   ],
   "source": [
    "str1='ola ola ola'\n",
    "str1.count('ola ')\n"
   ]
  },
  {
   "cell_type": "markdown",
   "id": "d1732729-88aa-442c-9327-12d2cf21c7a3",
   "metadata": {},
   "source": [
    "$case-2$"
   ]
  },
  {
   "cell_type": "code",
   "execution_count": 58,
   "id": "84527dbc-1659-4042-96ac-6d9a7a518309",
   "metadata": {},
   "outputs": [
    {
     "data": {
      "text/plain": [
       "2"
      ]
     },
     "execution_count": 58,
     "metadata": {},
     "output_type": "execute_result"
    }
   ],
   "source": [
    "# o  l  a    o  l  a    o  l  a\n",
    "# 0  1  2 3  4  5  6  7 8  9  10\n",
    "\n",
    "str1.count('a',4)\n",
    "\n",
    "#'a' after 4 how many a are present"
   ]
  },
  {
   "cell_type": "code",
   "execution_count": 74,
   "id": "80c1a2a3-eaa6-42aa-a1ec-88ac1c5746f1",
   "metadata": {},
   "outputs": [
    {
     "data": {
      "text/plain": [
       "0"
      ]
     },
     "execution_count": 74,
     "metadata": {},
     "output_type": "execute_result"
    }
   ],
   "source": [
    "str1.count('a',4,6)\n",
    "\n",
    "#'a' b/w 4  and 6 how many a are present"
   ]
  },
  {
   "cell_type": "code",
   "execution_count": 62,
   "id": "87382efc-2fb3-4892-ba26-44f8a6486f04",
   "metadata": {},
   "outputs": [
    {
     "data": {
      "text/plain": [
       "1"
      ]
     },
     "execution_count": 62,
     "metadata": {},
     "output_type": "execute_result"
    }
   ],
   "source": [
    "str1.count('a',4,7)"
   ]
  },
  {
   "cell_type": "code",
   "execution_count": 66,
   "id": "f0036cf8-85b8-4bf1-99a6-90d4949b492c",
   "metadata": {},
   "outputs": [
    {
     "data": {
      "text/plain": [
       "1"
      ]
     },
     "execution_count": 66,
     "metadata": {},
     "output_type": "execute_result"
    }
   ],
   "source": [
    "str1.count('ola',5)"
   ]
  },
  {
   "cell_type": "code",
   "execution_count": 72,
   "id": "6e64d341-5366-4520-92f8-73e839dab7bc",
   "metadata": {},
   "outputs": [
    {
     "data": {
      "text/plain": [
       "2"
      ]
     },
     "execution_count": 72,
     "metadata": {},
     "output_type": "execute_result"
    }
   ],
   "source": [
    "str1.count('a',-9,7)"
   ]
  },
  {
   "cell_type": "code",
   "execution_count": 91,
   "id": "978bbd55-4e58-41cc-b787-cca18d8c5cd4",
   "metadata": {},
   "outputs": [
    {
     "data": {
      "text/plain": [
       "0"
      ]
     },
     "execution_count": 91,
     "metadata": {},
     "output_type": "execute_result"
    }
   ],
   "source": [
    "str1.count('z')"
   ]
  },
  {
   "cell_type": "markdown",
   "id": "c6fa5cc5-5a66-492e-91e8-670b5701f51e",
   "metadata": {},
   "source": [
    "#str1='ola ola ola'\n",
    "#count the number of substring:'ola'\n",
    "#with out using count method\n",
    "\n",
    "\n",
    "**sliding window approach**\n",
    "\n",
    " -  fix the slice value first :  **str1[i:i+3]**\n",
    "\n",
    " -  then increase the slice by 1 : **for i in range(len(str1))**\n",
    "\n",
    " -  whenever it is equal to substring :**str1[i:i+3]=='ola'**\n",
    "\n",
    " -  update the count :  **count=count+1\n",
    "\n",
    "#aplly the slice operator   str1[i : i+3]=='ola'  logic\n",
    "                          i =0  0 : 0+3 0:3"
   ]
  },
  {
   "cell_type": "code",
   "execution_count": 126,
   "id": "afa18d02-3c3a-4ef1-bcf0-b4dd3016d2b5",
   "metadata": {},
   "outputs": [
    {
     "name": "stdout",
     "output_type": "stream",
     "text": [
      "3\n"
     ]
    }
   ],
   "source": [
    "str1='ola ola ola'\n",
    "count=0\n",
    "for i in range(len(str1)):\n",
    "     if str1[i:i+3]=='ola':\n",
    "               count=count+1\n",
    "\n",
    "print(count)"
   ]
  },
  {
   "cell_type": "markdown",
   "id": "c4c3d721-eb0b-4f0b-b164-de17589a2ee6",
   "metadata": {},
   "source": [
    "**replace**"
   ]
  },
  {
   "cell_type": "code",
   "execution_count": 130,
   "id": "da64c214-3c13-439a-b9c7-461d08de4f22",
   "metadata": {},
   "outputs": [
    {
     "data": {
      "text/plain": [
       "False"
      ]
     },
     "execution_count": 130,
     "metadata": {},
     "output_type": "execute_result"
    }
   ],
   "source": [
    "str1='welcome'  # 'welcome'\n",
    "str1[2]=='L'"
   ]
  },
  {
   "cell_type": "code",
   "execution_count": 150,
   "id": "b5d77cf9-90c5-4c2c-b732-7c2e94265a50",
   "metadata": {},
   "outputs": [
    {
     "data": {
      "text/plain": [
       "'weLcome'"
      ]
     },
     "execution_count": 150,
     "metadata": {},
     "output_type": "execute_result"
    }
   ],
   "source": [
    "str1='welcome' \n",
    "str1.replace('l','L')     "
   ]
  },
  {
   "cell_type": "code",
   "execution_count": 152,
   "id": "81ce23bf-2515-4177-8283-9864182251b7",
   "metadata": {},
   "outputs": [
    {
     "data": {
      "text/plain": [
       "'weLLLLcome'"
      ]
     },
     "execution_count": 152,
     "metadata": {},
     "output_type": "execute_result"
    }
   ],
   "source": [
    "str1='wellllcome' \n",
    "str1.replace('l','L')          #by default alll occurancesss"
   ]
  },
  {
   "cell_type": "code",
   "execution_count": 148,
   "id": "5474adb4-2a61-45a3-a18c-b481ef16a825",
   "metadata": {},
   "outputs": [
    {
     "data": {
      "text/plain": [
       "'weLLllcome'"
      ]
     },
     "execution_count": 148,
     "metadata": {},
     "output_type": "execute_result"
    }
   ],
   "source": [
    "str1='wellllcome' \n",
    "str1.replace('l','L',2)          #2 is the limit"
   ]
  },
  {
   "cell_type": "code",
   "execution_count": 158,
   "id": "aa62cc90-0470-4e93-a6c3-d8624aa13c10",
   "metadata": {},
   "outputs": [
    {
     "data": {
      "text/plain": [
       "'weLLLLcome'"
      ]
     },
     "execution_count": 158,
     "metadata": {},
     "output_type": "execute_result"
    }
   ],
   "source": [
    "str1='wellllcome' \n",
    "str1.replace('l','L',-2) "
   ]
  },
  {
   "cell_type": "code",
   "execution_count": 156,
   "id": "16fa2bf0-c2b9-4e02-8f65-996ebe6f3c26",
   "metadata": {},
   "outputs": [
    {
     "data": {
      "text/plain": [
       "'wellllcome'"
      ]
     },
     "execution_count": 156,
     "metadata": {},
     "output_type": "execute_result"
    }
   ],
   "source": [
    "str1.replace('z','Z')"
   ]
  },
  {
   "cell_type": "markdown",
   "id": "36adc25e-5a20-4f21-aa38-17e18d9e916b",
   "metadata": {},
   "source": [
    "- by default it will replace all the oocurances\n",
    "\n",
    " - the users can provide count which indictaes how many letters can replace\n",
    "\n",
    " -  if the sub string not found it will return the original string itself"
   ]
  },
  {
   "cell_type": "code",
   "execution_count": 164,
   "id": "983b8418-6afe-4ce9-89f0-47935a71d772",
   "metadata": {},
   "outputs": [
    {
     "data": {
      "text/plain": [
       "'$esta$t'"
      ]
     },
     "execution_count": 164,
     "metadata": {},
     "output_type": "execute_result"
    }
   ],
   "source": [
    "str1='restart'\n",
    "\n",
    "#replace 'r' with $\n",
    "\n",
    "str1.replace('r','$',-1)"
   ]
  },
  {
   "cell_type": "code",
   "execution_count": 168,
   "id": "869fdf28-eca5-41d6-871a-bcac19bc0e41",
   "metadata": {
    "scrolled": true
   },
   "outputs": [
    {
     "data": {
      "text/plain": [
       "'$t'"
      ]
     },
     "execution_count": 168,
     "metadata": {},
     "output_type": "execute_result"
    }
   ],
   "source": [
    "str2='resta'\n",
    "str3='rt'\n",
    "str3.replace('r','$')"
   ]
  },
  {
   "cell_type": "code",
   "execution_count": 174,
   "id": "3f1e44fa-54e0-4028-a412-d06c1e57ba68",
   "metadata": {
    "scrolled": true
   },
   "outputs": [
    {
     "ename": "TypeError",
     "evalue": "can't multiply sequence by non-int of type 'str'",
     "output_type": "error",
     "traceback": [
      "\u001b[1;31m---------------------------------------------------------------------------\u001b[0m",
      "\u001b[1;31mTypeError\u001b[0m                                 Traceback (most recent call last)",
      "Cell \u001b[1;32mIn[174], line 1\u001b[0m\n\u001b[1;32m----> 1\u001b[0m (\u001b[38;5;124m'\u001b[39m\u001b[38;5;124mresta\u001b[39m\u001b[38;5;124m'\u001b[39m)\u001b[38;5;241m*\u001b[39m(\u001b[38;5;124m'\u001b[39m\u001b[38;5;124m$t\u001b[39m\u001b[38;5;124m'\u001b[39m)\n",
      "\u001b[1;31mTypeError\u001b[0m: can't multiply sequence by non-int of type 'str'"
     ]
    }
   ],
   "source": [
    "('resta')*('$t')"
   ]
  },
  {
   "cell_type": "code",
   "execution_count": 178,
   "id": "d7434e77-8488-41f1-b407-fdb6c5fcdc97",
   "metadata": {},
   "outputs": [
    {
     "data": {
      "text/plain": [
       "'resta$t'"
      ]
     },
     "execution_count": 178,
     "metadata": {},
     "output_type": "execute_result"
    }
   ],
   "source": [
    "*idea-1:*\n",
    "\n",
    "str1='restart'\n",
    "s1=str1[0:5]\n",
    "s2=str1[5:]\n",
    "s3=s2.replace('r','$')\n",
    "s1+s3"
   ]
  },
  {
   "cell_type": "code",
   "execution_count": 194,
   "id": "1c0c4f63-c1bb-4c12-bf36-cc889d90ad7b",
   "metadata": {},
   "outputs": [
    {
     "data": {
      "text/plain": [
       "'resta$t'"
      ]
     },
     "execution_count": 194,
     "metadata": {},
     "output_type": "execute_result"
    }
   ],
   "source": [
    "##**idea-2**\n",
    "\n",
    "str1='restart'\n",
    "str1[::-1].replace('r','$',1)[::-1]"
   ]
  },
  {
   "cell_type": "code",
   "execution_count": 198,
   "id": "a6898e70-aa69-470c-9a3d-03cc5e4758ff",
   "metadata": {},
   "outputs": [
    {
     "data": {
      "text/plain": [
       "'restart $estart'"
      ]
     },
     "execution_count": 198,
     "metadata": {},
     "output_type": "execute_result"
    }
   ],
   "source": [
    "str1='restart restart'\n",
    "s1=str1[0:8]\n",
    "s2=str1[8:]\n",
    "s3=s2.replace('r','$',1)\n",
    "s1+s3"
   ]
  },
  {
   "cell_type": "markdown",
   "id": "2d57e0d7-bf58-486d-91f7-f88885b05876",
   "metadata": {},
   "source": [
    "**index**"
   ]
  },
  {
   "cell_type": "code",
   "execution_count": 207,
   "id": "51c5f85e-5b99-4ab2-8fab-093ec1b5dea7",
   "metadata": {},
   "outputs": [
    {
     "data": {
      "text/plain": [
       "(4, 0)"
      ]
     },
     "execution_count": 207,
     "metadata": {},
     "output_type": "execute_result"
    }
   ],
   "source": [
    "str1='restartrestart'\n",
    "str1.index('a'),str1.index('r')\n",
    "\n",
    "#by default first string index wll come"
   ]
  },
  {
   "cell_type": "code",
   "execution_count": 209,
   "id": "72070912-597c-452d-85a6-a38d8e160096",
   "metadata": {},
   "outputs": [
    {
     "ename": "ValueError",
     "evalue": "substring not found",
     "output_type": "error",
     "traceback": [
      "\u001b[1;31m---------------------------------------------------------------------------\u001b[0m",
      "\u001b[1;31mValueError\u001b[0m                                Traceback (most recent call last)",
      "Cell \u001b[1;32mIn[209], line 2\u001b[0m\n\u001b[0;32m      1\u001b[0m str1\u001b[38;5;241m=\u001b[39m\u001b[38;5;124m'\u001b[39m\u001b[38;5;124mrestart\u001b[39m\u001b[38;5;124m'\u001b[39m\n\u001b[1;32m----> 2\u001b[0m str1\u001b[38;5;241m.\u001b[39mindex(\u001b[38;5;124m'\u001b[39m\u001b[38;5;124mz\u001b[39m\u001b[38;5;124m'\u001b[39m)\n",
      "\u001b[1;31mValueError\u001b[0m: substring not found"
     ]
    }
   ],
   "source": [
    "str1='restart'\n",
    "str1.index('z')"
   ]
  },
  {
   "cell_type": "code",
   "execution_count": 211,
   "id": "ff9c2a8c-fd5a-4c92-85c0-4628a302e8fe",
   "metadata": {},
   "outputs": [
    {
     "data": {
      "text/plain": [
       "0"
      ]
     },
     "execution_count": 211,
     "metadata": {},
     "output_type": "execute_result"
    }
   ],
   "source": [
    "str1='restart'\n",
    "str1.index('r')"
   ]
  },
  {
   "cell_type": "code",
   "execution_count": 215,
   "id": "e72a9359-0cc9-42ae-b162-38c856c6a124",
   "metadata": {},
   "outputs": [
    {
     "data": {
      "text/plain": [
       "5"
      ]
     },
     "execution_count": 215,
     "metadata": {},
     "output_type": "execute_result"
    }
   ],
   "source": [
    "str1='restart'\n",
    "str1.index('r',2)"
   ]
  },
  {
   "cell_type": "code",
   "execution_count": 223,
   "id": "581225ed-99b3-433f-ba6f-12d36c68c2a8",
   "metadata": {},
   "outputs": [
    {
     "data": {
      "text/plain": [
       "5"
      ]
     },
     "execution_count": 223,
     "metadata": {},
     "output_type": "execute_result"
    }
   ],
   "source": [
    "str1='restart restart'\n",
    "str1.index('r',5)"
   ]
  },
  {
   "cell_type": "code",
   "execution_count": 248,
   "id": "c094613a-7412-4bdd-b380-1833d3d172ba",
   "metadata": {},
   "outputs": [
    {
     "data": {
      "text/plain": [
       "8"
      ]
     },
     "execution_count": 248,
     "metadata": {},
     "output_type": "execute_result"
    }
   ],
   "source": [
    "str1='restart restart'\n",
    "str1.index('r',6)"
   ]
  },
  {
   "cell_type": "code",
   "execution_count": 229,
   "id": "c582b39c-e3d3-46b4-a28c-712e0e74dc96",
   "metadata": {},
   "outputs": [
    {
     "data": {
      "text/plain": [
       "13"
      ]
     },
     "execution_count": 229,
     "metadata": {},
     "output_type": "execute_result"
    }
   ],
   "source": [
    "str1='restart restart'\n",
    "str1.index('r',0)   #0\n",
    "str1.index('r',1)   # 1= 0+1\n",
    "str1.index('r',6)   #6=5+1\n",
    "str1.index('r',9)   #9=8+1"
   ]
  },
  {
   "cell_type": "code",
   "execution_count": 233,
   "id": "ccb8f83b-d3de-4c4a-900a-aa78ede5efad",
   "metadata": {},
   "outputs": [
    {
     "name": "stdout",
     "output_type": "stream",
     "text": [
      "0 5 8 13\n"
     ]
    }
   ],
   "source": [
    "str1='restart restart'\n",
    "i1=str1.index('r',0)   #0\n",
    "i2=str1.index('r',i1+1)   # 1= 0+1\n",
    "i3=str1.index('r',i2+1)   #6=5+1\n",
    "i4=str1.index('r',i3+1)   #9=8+1\n",
    "\n",
    "print(i1,i2,i3,i4)"
   ]
  },
  {
   "cell_type": "markdown",
   "id": "02183721-cb22-41d1-ba9f-2a9f106b3a5b",
   "metadata": {},
   "source": [
    "**find**\n",
    "\n",
    " -  tell me the diff b/w index and find"
   ]
  },
  {
   "cell_type": "code",
   "execution_count": 242,
   "id": "976d6df6-7121-41f6-80cd-72df5e7f609b",
   "metadata": {},
   "outputs": [
    {
     "data": {
      "text/plain": [
       "8"
      ]
     },
     "execution_count": 242,
     "metadata": {},
     "output_type": "execute_result"
    }
   ],
   "source": [
    "str1='restart restart'\n",
    "str1.find('r',7)"
   ]
  },
  {
   "cell_type": "code",
   "execution_count": 244,
   "id": "9a2c2ea4-d62e-45b7-8efd-5d845dea61e4",
   "metadata": {},
   "outputs": [
    {
     "data": {
      "text/plain": [
       "-1"
      ]
     },
     "execution_count": 244,
     "metadata": {},
     "output_type": "execute_result"
    }
   ],
   "source": [
    "str1='restart restart'\n",
    "str1.find('r',14)"
   ]
  },
  {
   "cell_type": "code",
   "execution_count": null,
   "id": "302ad5b9-ded9-4778-83b8-56f7146fe675",
   "metadata": {},
   "outputs": [],
   "source": [
    "str1='virat.kohli@rcb.com'\n",
    "str2='rohit.sharma@mi.com'\n",
    "str3='ms.dhoni@csk.com'\n",
    "\n",
    "# extract the firstname from str1: virat\n",
    "# extract second name from str1: kohli\n",
    "# extract company name from str1: rcb\n",
    "\n",
    "str4='a.b@c.com'\n",
    "\n",
    "# idea: try to get the trigger points\n",
    "\n",
    "str1='hello how'\n",
    "\n",
    "str1[0:5]"
   ]
  },
  {
   "cell_type": "code",
   "execution_count": 5,
   "id": "a3a418c6-e0e9-4890-ac4b-5cebd3985877",
   "metadata": {},
   "outputs": [
    {
     "data": {
      "text/plain": [
       "'hello'"
      ]
     },
     "execution_count": 5,
     "metadata": {},
     "output_type": "execute_result"
    }
   ],
   "source": [
    "str1='hello how'\n",
    "id=str1.index('o')\n",
    "str1[0:id+1]"
   ]
  },
  {
   "cell_type": "code",
   "execution_count": 7,
   "id": "79ce127e-b96d-46ff-855e-3d935ae31b3a",
   "metadata": {},
   "outputs": [
    {
     "data": {
      "text/plain": [
       "'virat'"
      ]
     },
     "execution_count": 7,
     "metadata": {},
     "output_type": "execute_result"
    }
   ],
   "source": [
    "str1='virat.kohli@rcb.com'\n",
    "id1=str1.index('.')\n",
    "str1[0:id]"
   ]
  },
  {
   "cell_type": "code",
   "execution_count": 61,
   "id": "cd1a83ab-c513-4e66-8a8c-ec4ac177f7fc",
   "metadata": {},
   "outputs": [
    {
     "data": {
      "text/plain": [
       "'kohli'"
      ]
     },
     "execution_count": 61,
     "metadata": {},
     "output_type": "execute_result"
    }
   ],
   "source": [
    "str1='virat.kohli@rcb.com'\n",
    "id=str1.index('@')\n",
    "str1[6:id]"
   ]
  },
  {
   "cell_type": "code",
   "execution_count": 15,
   "id": "80c3cbe2-73ca-4a27-9c27-e9b743a65aa0",
   "metadata": {},
   "outputs": [
    {
     "data": {
      "text/plain": [
       "'kohli@rcb'"
      ]
     },
     "execution_count": 15,
     "metadata": {},
     "output_type": "execute_result"
    }
   ],
   "source": [
    "str1='virat.kohli@rcb.com'\n",
    "id1=str1.index('.')\n",
    "\n",
    "id2=str1.index('.',id1+1)\n",
    "str1[id1+1:id2]"
   ]
  },
  {
   "cell_type": "code",
   "execution_count": 43,
   "id": "6c73d9e1-acf7-4d78-a4c5-5996159a2536",
   "metadata": {},
   "outputs": [
    {
     "data": {
      "text/plain": [
       "'rohit'"
      ]
     },
     "execution_count": 43,
     "metadata": {},
     "output_type": "execute_result"
    }
   ],
   "source": [
    "str2='rohit.sharma@mi&com'\n",
    "id=str2.index('.')\n",
    "str2[0:id]\n",
    "\n"
   ]
  },
  {
   "cell_type": "code",
   "execution_count": 41,
   "id": "018aa855-12d9-4b67-9564-d28d8ccb71b1",
   "metadata": {},
   "outputs": [
    {
     "data": {
      "text/plain": [
       "'sharma'"
      ]
     },
     "execution_count": 41,
     "metadata": {},
     "output_type": "execute_result"
    }
   ],
   "source": [
    "id=str2.index('@')\n",
    "str2[6:id]"
   ]
  },
  {
   "cell_type": "code",
   "execution_count": 57,
   "id": "e3aa4a9c-20b4-4c5d-8ce4-4ad76a12d180",
   "metadata": {},
   "outputs": [
    {
     "data": {
      "text/plain": [
       "'mi'"
      ]
     },
     "execution_count": 57,
     "metadata": {},
     "output_type": "execute_result"
    }
   ],
   "source": [
    "str2='rohit.sharma@mi&com'\n",
    "id=str2.index('&')\n",
    "str2[13:id]"
   ]
  },
  {
   "cell_type": "code",
   "execution_count": null,
   "id": "12e5f1f4-7a60-4ccd-93e7-51e5b18e9d08",
   "metadata": {},
   "outputs": [],
   "source": [
    "#count find index replac"
   ]
  },
  {
   "cell_type": "code",
   "execution_count": null,
   "id": "5521a976-2ec8-4cac-b0d8-2e58f436b4df",
   "metadata": {},
   "outputs": [],
   "source": [
    "str1='virat.kohli@rcb.com'\n",
    "str2='rohit.sharma@mi.com'\n",
    "str3='ms.dhoni@csk.com'\n",
    "#first name from str1:virat\n",
    "#second name from str1:kohli\n",
    "#company name from str1:rcb\n",
    "str4='a.b@c.com'\n",
    "step1: extract dot index\n",
    "step2:index of @\n",
    "step3 : index of second dot"
   ]
  },
  {
   "cell_type": "code",
   "execution_count": 1,
   "id": "d370e326-6f47-4f7b-ad79-4a99ebb07888",
   "metadata": {
    "scrolled": true
   },
   "outputs": [
    {
     "name": "stdout",
     "output_type": "stream",
     "text": [
      "virat\n",
      "kohli\n",
      "rcb\n"
     ]
    }
   ],
   "source": [
    "str1='virat.kohli@rcb.com'\n",
    "id=str1.index('.')\n",
    "firstName=str1[0:id]\n",
    "print(firstName)\n",
    "id1=str1.index('@')\n",
    "secondName=str1[id+1:id1]\n",
    "print(secondName)\n",
    "id2=str1.index('.',id+1)\n",
    "companyName=str1[id1+1:id2]\n",
    "print(companyName)"
   ]
  },
  {
   "cell_type": "code",
   "execution_count": 13,
   "id": "b4c88b82-3bff-4bb1-9996-e0bc49c15a3b",
   "metadata": {},
   "outputs": [
    {
     "name": "stdout",
     "output_type": "stream",
     "text": [
      "virat\n",
      "kohli\n",
      "rcb\n"
     ]
    }
   ],
   "source": [
    "def extract(str1):\n",
    " str1='virat.kohli@rcb.com'\n",
    " id=str1.index('.')\n",
    " firstName=str1[0:id]\n",
    " print(firstName)\n",
    " id1=str1.index('@')\n",
    " secondName=str1[id+1:id1]\n",
    " print(secondName)\n",
    " id2=str1.index('.',id+1)\n",
    " companyName=str1[id1+1:id2]\n",
    " print(companyName)\n",
    "extract ('virat.kohli@rcb.com')"
   ]
  },
  {
   "cell_type": "markdown",
   "id": "41ea2082-5eed-4559-bbae-16920340a815",
   "metadata": {},
   "source": [
    "**split**\n",
    "  \n",
    " -  split is used to convert a string to list of elements\n",
    "\n",
    "-  by default it will split based on space\n"
   ]
  },
  {
   "cell_type": "code",
   "execution_count": 6,
   "id": "8266ddb5-0f37-468d-bc83-3b9c19263dd1",
   "metadata": {},
   "outputs": [
    {
     "data": {
      "text/plain": [
       "['hi', 'how', 'are', 'you']"
      ]
     },
     "execution_count": 6,
     "metadata": {},
     "output_type": "execute_result"
    }
   ],
   "source": [
    "str1='hi how are you'\n",
    "str1.split()"
   ]
  },
  {
   "cell_type": "code",
   "execution_count": 8,
   "id": "17c6d8ad-2b86-4eb0-91c7-04feb3d0c2be",
   "metadata": {},
   "outputs": [
    {
     "data": {
      "text/plain": [
       "['hi how ', 'are you']"
      ]
     },
     "execution_count": 8,
     "metadata": {},
     "output_type": "execute_result"
    }
   ],
   "source": [
    "str1='hi how ,are you'\n",
    "str1.split(',')"
   ]
  },
  {
   "cell_type": "code",
   "execution_count": 10,
   "id": "f7eeed76-d354-4ac7-bcf2-1418385aedf4",
   "metadata": {},
   "outputs": [
    {
     "data": {
      "text/plain": [
       "['hi', 'how', ',', 'are', 'you']"
      ]
     },
     "execution_count": 10,
     "metadata": {},
     "output_type": "execute_result"
    }
   ],
   "source": [
    "str1='hi how , are you'\n",
    "str1.split()"
   ]
  },
  {
   "cell_type": "code",
   "execution_count": 12,
   "id": "62cad10b-4ccd-4cb8-8e8c-d521138311b7",
   "metadata": {},
   "outputs": [
    {
     "data": {
      "text/plain": [
       "['hi h', 'w ,are y', 'u']"
      ]
     },
     "execution_count": 12,
     "metadata": {},
     "output_type": "execute_result"
    }
   ],
   "source": [
    "str1='hi how ,are you'\n",
    "str1.split('o')\n"
   ]
  },
  {
   "cell_type": "markdown",
   "id": "af407a17-4563-4a2a-99e3-a21fe7c78a54",
   "metadata": {},
   "source": [
    "**join**"
   ]
  },
  {
   "cell_type": "code",
   "execution_count": 15,
   "id": "53fd6382-7b9f-49a6-a01f-4b053aaf6b71",
   "metadata": {},
   "outputs": [
    {
     "data": {
      "text/plain": [
       "'hi how are you'"
      ]
     },
     "execution_count": 15,
     "metadata": {},
     "output_type": "execute_result"
    }
   ],
   "source": [
    "str1='hi how are you'\n",
    "l=str1.split() #splitted using space so use space to join\n",
    "l\n",
    "' '.join(l)"
   ]
  },
  {
   "cell_type": "code",
   "execution_count": 17,
   "id": "114b50de-1a85-4403-a0d1-deb74010c54d",
   "metadata": {},
   "outputs": [
    {
     "data": {
      "text/plain": [
       "'hi,how,,,are,you'"
      ]
     },
     "execution_count": 17,
     "metadata": {},
     "output_type": "execute_result"
    }
   ],
   "source": [
    "str1='hi how , are you'\n",
    "l=str1.split()\n",
    "l\n",
    "','.join(l)"
   ]
  },
  {
   "cell_type": "code",
   "execution_count": 19,
   "id": "8b0bee90-e1d3-4912-b2af-f47d80b10ba1",
   "metadata": {},
   "outputs": [
    {
     "data": {
      "text/plain": [
       "'hi*how*,*are*you'"
      ]
     },
     "execution_count": 19,
     "metadata": {},
     "output_type": "execute_result"
    }
   ],
   "source": [
    "str1='hi how , are you'\n",
    "l=str1.split()\n",
    "'*'.join(l)\n"
   ]
  },
  {
   "cell_type": "code",
   "execution_count": null,
   "id": "971a8a90-5da1-4d0a-b305-11d50b398d01",
   "metadata": {},
   "outputs": [],
   "source": [
    "- upper/lower/casefold\n",
    "- title/captalize\n",
    "- centre\n",
    "- lstrip/strip/strip\n",
    "- count\n",
    "- replace\n",
    "- index/find\n",
    "- split/join"
   ]
  },
  {
   "cell_type": "code",
   "execution_count": 21,
   "id": "50cded95-6419-4f8c-aa9d-cd62e7b0b5a1",
   "metadata": {},
   "outputs": [
    {
     "data": {
      "text/plain": [
       "['__add__',\n",
       " '__class__',\n",
       " '__contains__',\n",
       " '__delattr__',\n",
       " '__dir__',\n",
       " '__doc__',\n",
       " '__eq__',\n",
       " '__format__',\n",
       " '__ge__',\n",
       " '__getattribute__',\n",
       " '__getitem__',\n",
       " '__getnewargs__',\n",
       " '__getstate__',\n",
       " '__gt__',\n",
       " '__hash__',\n",
       " '__init__',\n",
       " '__init_subclass__',\n",
       " '__iter__',\n",
       " '__le__',\n",
       " '__len__',\n",
       " '__lt__',\n",
       " '__mod__',\n",
       " '__mul__',\n",
       " '__ne__',\n",
       " '__new__',\n",
       " '__reduce__',\n",
       " '__reduce_ex__',\n",
       " '__repr__',\n",
       " '__rmod__',\n",
       " '__rmul__',\n",
       " '__setattr__',\n",
       " '__sizeof__',\n",
       " '__str__',\n",
       " '__subclasshook__',\n",
       " 'capitalize',\n",
       " 'casefold',\n",
       " 'center',\n",
       " 'count',\n",
       " 'encode',\n",
       " 'endswith',\n",
       " 'expandtabs',\n",
       " 'find',\n",
       " 'format',\n",
       " 'format_map',\n",
       " 'index',\n",
       " 'isalnum',\n",
       " 'isalpha',\n",
       " 'isascii',\n",
       " 'isdecimal',\n",
       " 'isdigit',\n",
       " 'isidentifier',\n",
       " 'islower',\n",
       " 'isnumeric',\n",
       " 'isprintable',\n",
       " 'isspace',\n",
       " 'istitle',\n",
       " 'isupper',\n",
       " 'join',\n",
       " 'ljust',\n",
       " 'lower',\n",
       " 'lstrip',\n",
       " 'maketrans',\n",
       " 'partition',\n",
       " 'removeprefix',\n",
       " 'removesuffix',\n",
       " 'replace',\n",
       " 'rfind',\n",
       " 'rindex',\n",
       " 'rjust',\n",
       " 'rpartition',\n",
       " 'rsplit',\n",
       " 'rstrip',\n",
       " 'split',\n",
       " 'splitlines',\n",
       " 'startswith',\n",
       " 'strip',\n",
       " 'swapcase',\n",
       " 'title',\n",
       " 'translate',\n",
       " 'upper',\n",
       " 'zfill']"
      ]
     },
     "execution_count": 21,
     "metadata": {},
     "output_type": "execute_result"
    }
   ],
   "source": [
    "dir('python')"
   ]
  },
  {
   "cell_type": "code",
   "execution_count": null,
   "id": "3346f164-bcb5-474b-be7b-7877317e7ee0",
   "metadata": {},
   "outputs": [],
   "source": [
    "isalnum',\n",
    "isalpha',\n",
    "isascii',\n",
    "'isdecimal',\n",
    "'isdigit',\n",
    "'isidentifier',\n",
    "'islower',\n",
    "'isnumeric',\n",
    "'isprintable',\n",
    "'isspace',\n",
    "'istitle',\n",
    "'isupper',\n"
   ]
  },
  {
   "cell_type": "code",
   "execution_count": 32,
   "id": "46ddaca1-46b3-4ec8-843c-c6ad32e608cf",
   "metadata": {},
   "outputs": [
    {
     "name": "stdout",
     "output_type": "stream",
     "text": [
      "123456 "
     ]
    }
   ],
   "source": [
    "str1='the telephone number is 123456'\n",
    "for i in str1.split():\n",
    "    if i.isdigit():\n",
    "    \n",
    "        print(i,end=' ')"
   ]
  },
  {
   "cell_type": "code",
   "execution_count": 47,
   "id": "23d9ded9-980c-42e8-9dd8-df0e1a635b12",
   "metadata": {},
   "outputs": [
    {
     "data": {
      "text/plain": [
       "['the', 'telephone', 'number', 'is', '123456']"
      ]
     },
     "execution_count": 47,
     "metadata": {},
     "output_type": "execute_result"
    }
   ],
   "source": [
    "str1='the telephone number is 123456'\n",
    "str1.split()\n",
    " "
   ]
  },
  {
   "cell_type": "code",
   "execution_count": null,
   "id": "821f7f16-ae71-440a-8e4e-362c73b62e96",
   "metadata": {},
   "outputs": [],
   "source": []
  }
 ],
 "metadata": {
  "kernelspec": {
   "display_name": "Python [conda env:base] *",
   "language": "python",
   "name": "conda-base-py"
  },
  "language_info": {
   "codemirror_mode": {
    "name": "ipython",
    "version": 3
   },
   "file_extension": ".py",
   "mimetype": "text/x-python",
   "name": "python",
   "nbconvert_exporter": "python",
   "pygments_lexer": "ipython3",
   "version": "3.12.7"
  }
 },
 "nbformat": 4,
 "nbformat_minor": 5
}
