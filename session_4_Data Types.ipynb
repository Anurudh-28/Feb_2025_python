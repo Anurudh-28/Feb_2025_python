{
 "cells": [
  {
   "cell_type": "markdown",
   "id": "cb8c2b57-1cbc-4886-a53d-f4dad0332e12",
   "metadata": {},
   "source": [
    "## Data Types"
   ]
  },
  {
   "cell_type": "markdown",
   "id": "e41afbce-8e8c-437f-8ddf-c44fad2f5236",
   "metadata": {},
   "source": [
    " - integer : int\n",
    "\n",
    " - float\n",
    "\n",
    " - string\n",
    "\n",
    " - list\n",
    "\n",
    " - tuple\n",
    "\n",
    " - set\n",
    "\n",
    "    - frozen set\n",
    "\n",
    "\n",
    " - dictionary\n",
    "\n",
    " - boolean\n",
    "\n",
    " - complex\n",
    "\n",
    " - range\n",
    "\n",
    " - byte\n",
    "\n",
    " - byte array\n",
    "\n",
    " - memory view\n",
    "\n",
    " - None type"
   ]
  },
  {
   "cell_type": "markdown",
   "id": "208968f9-a60f-488f-a009-43010a8d22a8",
   "metadata": {},
   "source": [
    " - myth\n",
    "\n",
    "    - only 14-15 data types are available xxx"
   ]
  },
  {
   "cell_type": "markdown",
   "id": "201089bd-a673-4242-9bee-64c8337913ae",
   "metadata": {},
   "source": [
    "$integer$       *use dollar first and last to change font*"
   ]
  },
  {
   "cell_type": "code",
   "execution_count": 8,
   "id": "8847ff20-016b-4d34-bf17-d98dcb1dec66",
   "metadata": {},
   "outputs": [
    {
     "data": {
      "text/plain": [
       "100"
      ]
     },
     "execution_count": 8,
     "metadata": {},
     "output_type": "execute_result"
    }
   ],
   "source": [
    "number=100\n",
    "number"
   ]
  },
  {
   "cell_type": "code",
   "execution_count": 10,
   "id": "144f9f7e-0cde-46db-bb2b-5ec69f112b3b",
   "metadata": {},
   "outputs": [
    {
     "data": {
      "text/plain": [
       "type"
      ]
     },
     "execution_count": 10,
     "metadata": {},
     "output_type": "execute_result"
    }
   ],
   "source": [
    "type"
   ]
  },
  {
   "cell_type": "code",
   "execution_count": 12,
   "id": "8bc19544-9640-4e89-b2f9-b36b654b51ba",
   "metadata": {},
   "outputs": [
    {
     "data": {
      "text/plain": [
       "int"
      ]
     },
     "execution_count": 12,
     "metadata": {},
     "output_type": "execute_result"
    }
   ],
   "source": [
    "type(number)"
   ]
  },
  {
   "cell_type": "markdown",
   "id": "b5e17367-bd23-4e3f-86fb-f809386a0372",
   "metadata": {},
   "source": [
    " **number system**"
   ]
  },
  {
   "cell_type": "markdown",
   "id": "4362e308-f470-43e2-bc90-0abdd98050c6",
   "metadata": {},
   "source": [
    " - binary number system\n",
    "\n",
    " - decimal number system\n",
    "\n",
    " - octa number system\n",
    "\n",
    " - hexa number system"
   ]
  },
  {
   "cell_type": "markdown",
   "id": "fa907181-5026-4f17-850f-ea58b98681b5",
   "metadata": {},
   "source": [
    " **Binary Number System**\n",
    "\n",
    " - it is denoted with **0b** or **0B**\n",
    "\n",
    " - binary means two\n",
    "\n",
    " - we have generally 0-9 digits available\n",
    "\n",
    " - binary means only two digits allowed : 0 and 1\n",
    "\n",
    " - for example: 0b101 0b111 0b000 0B001\n",
    "\n",
    " - not valid : 0b123 0B10012"
   ]
  },
  {
   "cell_type": "code",
   "execution_count": 22,
   "id": "2662417d-0a4a-41a7-89f8-26afd82b3416",
   "metadata": {},
   "outputs": [
    {
     "data": {
      "text/plain": [
       "7"
      ]
     },
     "execution_count": 22,
     "metadata": {},
     "output_type": "execute_result"
    }
   ],
   "source": [
    "0b111"
   ]
  },
  {
   "cell_type": "code",
   "execution_count": null,
   "id": "0ac706bf-40e5-4748-b5b2-c0fd78954a23",
   "metadata": {},
   "outputs": [],
   "source": [
    "0b101    2^4  2^3  2^2  2^1  2^0\n",
    "\n",
    "          0    0    1  +  0 +  1 = 5\n"
   ]
  },
  {
   "cell_type": "code",
   "execution_count": 28,
   "id": "9cdeaedb-030d-4671-8efe-9d24edac08b3",
   "metadata": {},
   "outputs": [
    {
     "data": {
      "text/plain": [
       "5"
      ]
     },
     "execution_count": 28,
     "metadata": {},
     "output_type": "execute_result"
    }
   ],
   "source": [
    "0b101"
   ]
  },
  {
   "cell_type": "code",
   "execution_count": 32,
   "id": "34460d27-ef7f-4233-a9dc-35d1127e0ccc",
   "metadata": {},
   "outputs": [
    {
     "data": {
      "text/plain": [
       "(4, 253)"
      ]
     },
     "execution_count": 32,
     "metadata": {},
     "output_type": "execute_result"
    }
   ],
   "source": [
    "0B100, 0b11111101"
   ]
  },
  {
   "cell_type": "code",
   "execution_count": null,
   "id": "98ad529b-9aee-4a2d-ab55-30f15a149458",
   "metadata": {},
   "outputs": [],
   "source": [
    " 2^2 2^1 2^0\n",
    "\n",
    "8  4   2   1\n",
    "#####################\n",
    "0  0   0   0       0\n",
    "\n",
    "0  0   0   1       1\n",
    "\n",
    "0  0   1   0       2\n",
    "\n",
    "0  0   1   1       3      \n",
    "\n",
    "0  1   0   0       4\n",
    "\n",
    "0  1   0   1       5\n",
    "\n",
    "0  1   1   0       6\n",
    "\n",
    "0  1   1   1       7\n",
    "\n",
    "1  0   0   0       8\n",
    "\n",
    "1  0   0   1       9\n",
    "\n",
    "1  0   1   0       10\n",
    "\n",
    "1  0   1   1       11\n",
    "\n",
    "1  1   0   0       12\n",
    "\n",
    "1  1   0   1       13\n",
    "\n",
    "1  1   1   0       14\n",
    "\n",
    "1  1   1   1       15"
   ]
  },
  {
   "cell_type": "markdown",
   "id": "9308c741-da58-414c-9a17-02216f949bfe",
   "metadata": {},
   "source": [
    " **Octa Number System**\n",
    "\n",
    " - it is denoted with **0o** or **0O**\n",
    "\n",
    " - octa means eight\n",
    "\n",
    " - we have generally 0-9 digits available\n",
    "\n",
    " - octa means only eight digits allowed : 0 1 2 3 4 5 6 7\n",
    "\n",
    " - for example: 0o101 0o456 0O123 0o567\n",
    "\n",
    " - not valid : 0o768 0o897\n",
    "\n",
    " "
   ]
  },
  {
   "cell_type": "code",
   "execution_count": null,
   "id": "6b505b44-de6c-40e3-9c4a-3185279e6568",
   "metadata": {},
   "outputs": [],
   "source": [
    "0o123    8^4  8^3  8^2  8^1  8^0\n",
    "\n",
    "          0    0    1  +  2 +  3 = 64+ 8*2+ 1*3 = 83\n"
   ]
  },
  {
   "cell_type": "code",
   "execution_count": 36,
   "id": "2e28955a-d526-4edd-a82b-95df3c38a63a",
   "metadata": {},
   "outputs": [
    {
     "data": {
      "text/plain": [
       "83"
      ]
     },
     "execution_count": 36,
     "metadata": {},
     "output_type": "execute_result"
    }
   ],
   "source": [
    "0o123"
   ]
  },
  {
   "cell_type": "markdown",
   "id": "093744fc-5ee0-4b97-b6cb-5caea7fd975f",
   "metadata": {},
   "source": [
    "**Hexa Number System**\n",
    "\n",
    " - it is denoted with **0x** or **0X**\n",
    "\n",
    " - hexa means eight\n",
    "\n",
    " - we have generally 0-9 digits available\n",
    "\n",
    " - octa means only eight digits allowed : 0 1 2 3 4 5 6 7 8 9 A to F\n",
    "\n",
    " - A: 10 B: 11 C: 12 D: 13 E:14 F: 15\n",
    "\n",
    " - for example: 0xabc\n",
    "\n",
    " - not valid : 0xefg\n",
    "\n",
    "\n",
    "\n",
    "\n",
    "\n",
    "\n",
    "\n"
   ]
  },
  {
   "cell_type": "code",
   "execution_count": 41,
   "id": "d165446c-3180-4adc-bda7-3b6f89f7803d",
   "metadata": {},
   "outputs": [
    {
     "data": {
      "text/plain": [
       "2748"
      ]
     },
     "execution_count": 41,
     "metadata": {},
     "output_type": "execute_result"
    }
   ],
   "source": [
    "0xabc"
   ]
  },
  {
   "cell_type": "code",
   "execution_count": 43,
   "id": "5b8ccb18-ad96-464e-8122-8d2a94185845",
   "metadata": {},
   "outputs": [
    {
     "data": {
      "text/plain": [
       "2765"
      ]
     },
     "execution_count": 43,
     "metadata": {},
     "output_type": "execute_result"
    }
   ],
   "source": [
    "0xacd"
   ]
  },
  {
   "cell_type": "code",
   "execution_count": 45,
   "id": "46493f4e-2e8f-4da1-8ad4-8de80e9e6e6e",
   "metadata": {},
   "outputs": [
    {
     "data": {
      "text/plain": [
       "2749"
      ]
     },
     "execution_count": 45,
     "metadata": {},
     "output_type": "execute_result"
    }
   ],
   "source": [
    "0xabd"
   ]
  },
  {
   "cell_type": "code",
   "execution_count": 47,
   "id": "634b52dd-8abd-493c-bf64-a3aaa1c6eeac",
   "metadata": {},
   "outputs": [
    {
     "data": {
      "text/plain": [
       "2476"
      ]
     },
     "execution_count": 47,
     "metadata": {},
     "output_type": "execute_result"
    }
   ],
   "source": [
    "0x9ac"
   ]
  },
  {
   "cell_type": "code",
   "execution_count": 49,
   "id": "70727201-d374-498e-9e1b-34599e5e47d5",
   "metadata": {},
   "outputs": [
    {
     "data": {
      "text/plain": [
       "2208"
      ]
     },
     "execution_count": 49,
     "metadata": {},
     "output_type": "execute_result"
    }
   ],
   "source": [
    "0x8a0"
   ]
  },
  {
   "cell_type": "code",
   "execution_count": 51,
   "id": "587d3f84-4db7-4083-b51f-fb16df729702",
   "metadata": {},
   "outputs": [
    {
     "data": {
      "text/plain": [
       "2048"
      ]
     },
     "execution_count": 51,
     "metadata": {},
     "output_type": "execute_result"
    }
   ],
   "source": [
    "0x800"
   ]
  },
  {
   "cell_type": "code",
   "execution_count": 53,
   "id": "27472e96-787c-4d6b-b764-baf10b15180a",
   "metadata": {},
   "outputs": [
    {
     "data": {
      "text/plain": [
       "1964"
      ]
     },
     "execution_count": 53,
     "metadata": {},
     "output_type": "execute_result"
    }
   ],
   "source": [
    "0x7ac"
   ]
  },
  {
   "cell_type": "code",
   "execution_count": 55,
   "id": "ce9485d3-2b66-4e8e-8771-ef2e9b168ad5",
   "metadata": {},
   "outputs": [
    {
     "data": {
      "text/plain": [
       "1965"
      ]
     },
     "execution_count": 55,
     "metadata": {},
     "output_type": "execute_result"
    }
   ],
   "source": [
    "0x7ad"
   ]
  },
  {
   "cell_type": "code",
   "execution_count": 57,
   "id": "ef861a51-f8d6-4006-840c-1a83fc1f318e",
   "metadata": {},
   "outputs": [
    {
     "data": {
      "text/plain": [
       "1967"
      ]
     },
     "execution_count": 57,
     "metadata": {},
     "output_type": "execute_result"
    }
   ],
   "source": [
    "0x7aF"
   ]
  },
  {
   "cell_type": "code",
   "execution_count": 59,
   "id": "b972e770-1763-42e8-9229-2f1f577f70b9",
   "metadata": {},
   "outputs": [
    {
     "data": {
      "text/plain": [
       "2223"
      ]
     },
     "execution_count": 59,
     "metadata": {},
     "output_type": "execute_result"
    }
   ],
   "source": [
    "0x8af"
   ]
  },
  {
   "cell_type": "code",
   "execution_count": 61,
   "id": "2e4db559-5d91-4ac2-89cb-0d783d8341a3",
   "metadata": {},
   "outputs": [
    {
     "data": {
      "text/plain": [
       "2058"
      ]
     },
     "execution_count": 61,
     "metadata": {},
     "output_type": "execute_result"
    }
   ],
   "source": [
    "0x80a"
   ]
  },
  {
   "cell_type": "markdown",
   "id": "3f12ad5e-c337-445d-9473-f65b4591811c",
   "metadata": {},
   "source": [
    " **float**\n"
   ]
  },
  {
   "cell_type": "code",
   "execution_count": 64,
   "id": "98d4871a-ffa7-4629-b730-de362f4653f6",
   "metadata": {},
   "outputs": [
    {
     "data": {
      "text/plain": [
       "float"
      ]
     },
     "execution_count": 64,
     "metadata": {},
     "output_type": "execute_result"
    }
   ],
   "source": [
    " number=10.5\n",
    "type(number)"
   ]
  },
  {
   "cell_type": "markdown",
   "id": "10e5c8bb-e8e9-4e37-be5d-2a2a4a3ce4ea",
   "metadata": {},
   "source": [
    "**e representation**"
   ]
  },
  {
   "cell_type": "code",
   "execution_count": 83,
   "id": "3e6c3532-eb83-4d11-b1e0-9818597da5ce",
   "metadata": {},
   "outputs": [
    {
     "name": "stdout",
     "output_type": "stream",
     "text": [
      "10.0\n"
     ]
    }
   ],
   "source": [
    "print(1e+1)   #1*10"
   ]
  },
  {
   "cell_type": "code",
   "execution_count": 79,
   "id": "44d9be20-db80-4708-8086-551c43367901",
   "metadata": {},
   "outputs": [
    {
     "name": "stdout",
     "output_type": "stream",
     "text": [
      "100.0\n"
     ]
    }
   ],
   "source": [
    "print(1e+2)   # 1*100"
   ]
  },
  {
   "cell_type": "code",
   "execution_count": 71,
   "id": "393ddb42-6cc5-4c6a-ad92-5b8ab82d82b1",
   "metadata": {},
   "outputs": [
    {
     "data": {
      "text/plain": [
       "1000.0"
      ]
     },
     "execution_count": 71,
     "metadata": {},
     "output_type": "execute_result"
    }
   ],
   "source": [
    "1e3    #1*1000      #e4=e+4"
   ]
  },
  {
   "cell_type": "code",
   "execution_count": 73,
   "id": "c2feda9d-acc2-4ed7-a895-c01f25cf6e5c",
   "metadata": {},
   "outputs": [
    {
     "data": {
      "text/plain": [
       "200000.0"
      ]
     },
     "execution_count": 73,
     "metadata": {},
     "output_type": "execute_result"
    }
   ],
   "source": [
    "2e5       # 2* 100000"
   ]
  },
  {
   "cell_type": "code",
   "execution_count": 85,
   "id": "e28c51cb-392c-4ec6-8b44-747212a887ea",
   "metadata": {},
   "outputs": [
    {
     "name": "stdout",
     "output_type": "stream",
     "text": [
      "0.1\n"
     ]
    }
   ],
   "source": [
    "print(1e-1)      #+=*  -=/"
   ]
  },
  {
   "cell_type": "code",
   "execution_count": 101,
   "id": "5b2bf730-97d0-4267-825f-4e2af2b3c8e2",
   "metadata": {},
   "outputs": [
    {
     "name": "stdout",
     "output_type": "stream",
     "text": [
      "0.0004\n"
     ]
    }
   ],
   "source": [
    "print(4e-4)"
   ]
  },
  {
   "cell_type": "code",
   "execution_count": null,
   "id": "e0a4ba5f-554b-4019-90a0-9d1ee564b3cc",
   "metadata": {},
   "outputs": [],
   "source": [
    "# integer data type\n",
    "# float data type"
   ]
  },
  {
   "cell_type": "markdown",
   "id": "ad2a2414-2091-44a8-9f9a-5f814aeabeb9",
   "metadata": {},
   "source": [
    "**boolean**"
   ]
  },
  {
   "cell_type": "code",
   "execution_count": 2,
   "id": "6c447869-a072-47d0-a440-1d259e619afe",
   "metadata": {},
   "outputs": [
    {
     "data": {
      "text/plain": [
       "True"
      ]
     },
     "execution_count": 2,
     "metadata": {},
     "output_type": "execute_result"
    }
   ],
   "source": [
    "val=True\n",
    "val"
   ]
  },
  {
   "cell_type": "code",
   "execution_count": 6,
   "id": "46ca5692-cc04-4284-968b-c26bd5980151",
   "metadata": {},
   "outputs": [
    {
     "data": {
      "text/plain": [
       "bool"
      ]
     },
     "execution_count": 6,
     "metadata": {},
     "output_type": "execute_result"
    }
   ],
   "source": [
    "type(val)"
   ]
  },
  {
   "cell_type": "code",
   "execution_count": 8,
   "id": "3a37957d-8b78-4e15-9e78-ff26104b0610",
   "metadata": {},
   "outputs": [
    {
     "data": {
      "text/plain": [
       "bool"
      ]
     },
     "execution_count": 8,
     "metadata": {},
     "output_type": "execute_result"
    }
   ],
   "source": [
    "val1=False\n",
    "type(val1)"
   ]
  },
  {
   "cell_type": "markdown",
   "id": "615e328f-1adb-43bc-b08e-c6513b844b50",
   "metadata": {},
   "source": [
    "**strings**"
   ]
  },
  {
   "cell_type": "markdown",
   "id": "9aaa7278-58ac-43b0-9d1d-80e0883ea0f2",
   "metadata": {},
   "source": [
    "  -  english format representation\n",
    "\n",
    "  -  strings represent with quotes\n",
    "\n",
    "  -  we can use single,double,triple quotes"
   ]
  },
  {
   "cell_type": "code",
   "execution_count": 12,
   "id": "ccb11970-f5ca-4a0e-a65f-789e4841c6e0",
   "metadata": {},
   "outputs": [
    {
     "data": {
      "text/plain": [
       "'python'"
      ]
     },
     "execution_count": 12,
     "metadata": {},
     "output_type": "execute_result"
    }
   ],
   "source": [
    "name='python'\n",
    "name"
   ]
  },
  {
   "cell_type": "code",
   "execution_count": 14,
   "id": "e848145d-9092-4536-b2b4-83649f106973",
   "metadata": {},
   "outputs": [
    {
     "data": {
      "text/plain": [
       "str"
      ]
     },
     "execution_count": 14,
     "metadata": {},
     "output_type": "execute_result"
    }
   ],
   "source": [
    "type(name)"
   ]
  },
  {
   "cell_type": "code",
   "execution_count": 16,
   "id": "3f70f63e-7f48-4a49-b5fc-eefd2bdf7221",
   "metadata": {},
   "outputs": [
    {
     "name": "stdout",
     "output_type": "stream",
     "text": [
      "python\n"
     ]
    }
   ],
   "source": [
    "print(name)\n",
    "\n",
    "#when we print we will not able to see thequotes"
   ]
  },
  {
   "cell_type": "code",
   "execution_count": 18,
   "id": "efc2e079-8549-407e-bad0-150d8fd9cb92",
   "metadata": {},
   "outputs": [
    {
     "data": {
      "text/plain": [
       "str"
      ]
     },
     "execution_count": 18,
     "metadata": {},
     "output_type": "execute_result"
    }
   ],
   "source": [
    "val='10'\n",
    "type(val)"
   ]
  },
  {
   "cell_type": "code",
   "execution_count": 20,
   "id": "cbc980a3-edd9-4136-9754-a889945e6190",
   "metadata": {},
   "outputs": [
    {
     "data": {
      "text/plain": [
       "str"
      ]
     },
     "execution_count": 20,
     "metadata": {},
     "output_type": "execute_result"
    }
   ],
   "source": [
    "val1=10\n",
    "type(val)"
   ]
  },
  {
   "cell_type": "code",
   "execution_count": 30,
   "id": "cd0df0c8-cf54-4434-b11b-4d81ab35f6f7",
   "metadata": {},
   "outputs": [
    {
     "data": {
      "text/plain": [
       "'naresh it'"
      ]
     },
     "execution_count": 30,
     "metadata": {},
     "output_type": "execute_result"
    }
   ],
   "source": [
    "name=\"naresh it\"\n",
    "name\n",
    "\n",
    "#but the output displayed as sinle quotes"
   ]
  },
  {
   "cell_type": "code",
   "execution_count": 32,
   "id": "8c7f962a-80ee-4e1f-9e4d-495eab174552",
   "metadata": {},
   "outputs": [
    {
     "data": {
      "text/plain": [
       "str"
      ]
     },
     "execution_count": 32,
     "metadata": {},
     "output_type": "execute_result"
    }
   ],
   "source": [
    "type(name)\n"
   ]
  },
  {
   "cell_type": "code",
   "execution_count": 34,
   "id": "b08f13d0-c65e-4608-bbd9-b29691d7de42",
   "metadata": {},
   "outputs": [
    {
     "name": "stdout",
     "output_type": "stream",
     "text": [
      "naresh it\n"
     ]
    }
   ],
   "source": [
    "print(name)"
   ]
  },
  {
   "cell_type": "code",
   "execution_count": 40,
   "id": "b9df14a2-d9bb-419e-9e9d-8c1d58a840e1",
   "metadata": {},
   "outputs": [
    {
     "name": "stdout",
     "output_type": "stream",
     "text": [
      "i love 'python'\n"
     ]
    }
   ],
   "source": [
    "str1=\"i love 'python'\"\n",
    "print(str1)"
   ]
  },
  {
   "cell_type": "code",
   "execution_count": 42,
   "id": "b387f82c-8811-40a1-90c6-00f57a82fa27",
   "metadata": {},
   "outputs": [
    {
     "name": "stdout",
     "output_type": "stream",
     "text": [
      "i love \"python\"\n"
     ]
    }
   ],
   "source": [
    "str1='i love \"python\"'\n",
    "print(str1)"
   ]
  },
  {
   "cell_type": "markdown",
   "id": "8aa20a9c-c839-45f7-b793-da1848583e78",
   "metadata": {},
   "source": [
    "  - keep entire string in double quotes then highlight the word with sinle quote vie versa"
   ]
  },
  {
   "cell_type": "markdown",
   "id": "c785aa59-df7f-42ee-8667-7fddeee52c39",
   "metadata": {},
   "source": [
    "**triple quotes**"
   ]
  },
  {
   "cell_type": "markdown",
   "id": "28eb3a95-92ce-4f52-8a64-fabd9f2af2fa",
   "metadata": {},
   "source": [
    " -  triple quotes can not use in coding part\n",
    "\n",
    " -  triple quotes means conveying the info\n",
    "\n",
    " -  this  process is called as **Doc string**\n",
    "\n",
    " -  in jupyter notebook we have markdown option\n",
    "\n",
    " -  but in vscode or pycharm there is no markdown option\n",
    "\n",
    " -  so user will convey the info by providing triple quotes"
   ]
  },
  {
   "cell_type": "code",
   "execution_count": 51,
   "id": "f2d52c38-6453-4525-87af-b7e01a046e7f",
   "metadata": {},
   "outputs": [
    {
     "data": {
      "text/plain": [
       "'hai\\ntoday im learning python\\nits easy'"
      ]
     },
     "execution_count": 51,
     "metadata": {},
     "output_type": "execute_result"
    }
   ],
   "source": [
    "\"\"\"hai\n",
    "today im learning python\n",
    "its easy\"\"\""
   ]
  },
  {
   "cell_type": "code",
   "execution_count": null,
   "id": "bb3a5f44-aa74-44f2-9f77-da18c50e7063",
   "metadata": {},
   "outputs": [],
   "source": [
    "true=True  #works\n",
    "true='True' #w\n",
    "true=10.5  #w\n",
    "True=10  #f\n",
    "True=True  #f\n"
   ]
  },
  {
   "cell_type": "code",
   "execution_count": 59,
   "id": "4246d699-49f1-42a7-bf8e-27caa566890f",
   "metadata": {},
   "outputs": [
    {
     "ename": "SyntaxError",
     "evalue": "cannot assign to True (2941772833.py, line 1)",
     "output_type": "error",
     "traceback": [
      "\u001b[1;36m  Cell \u001b[1;32mIn[59], line 1\u001b[1;36m\u001b[0m\n\u001b[1;33m    True=10\u001b[0m\n\u001b[1;37m    ^\u001b[0m\n\u001b[1;31mSyntaxError\u001b[0m\u001b[1;31m:\u001b[0m cannot assign to True\n"
     ]
    }
   ],
   "source": [
    "True=10"
   ]
  },
  {
   "cell_type": "code",
   "execution_count": 63,
   "id": "e49e1a61-465a-4f58-a8fb-e4d846a074b9",
   "metadata": {},
   "outputs": [
    {
     "ename": "SyntaxError",
     "evalue": "cannot assign to True (2826156406.py, line 1)",
     "output_type": "error",
     "traceback": [
      "\u001b[1;36m  Cell \u001b[1;32mIn[63], line 1\u001b[1;36m\u001b[0m\n\u001b[1;33m    True=True\u001b[0m\n\u001b[1;37m    ^\u001b[0m\n\u001b[1;31mSyntaxError\u001b[0m\u001b[1;31m:\u001b[0m cannot assign to True\n"
     ]
    }
   ],
   "source": [
    "True=True"
   ]
  },
  {
   "cell_type": "code",
   "execution_count": 65,
   "id": "fafed3dc-13d7-4def-8fb2-0437b00787c6",
   "metadata": {},
   "outputs": [],
   "source": [
    "true=True"
   ]
  },
  {
   "cell_type": "code",
   "execution_count": 69,
   "id": "6099610e-f1c9-4a03-b3fb-8640df54246b",
   "metadata": {},
   "outputs": [],
   "source": [
    "true=10.5"
   ]
  },
  {
   "cell_type": "code",
   "execution_count": null,
   "id": "8dc482b4-e077-44e8-8b90-c29a7076bf72",
   "metadata": {},
   "outputs": [],
   "source": []
  }
 ],
 "metadata": {
  "kernelspec": {
   "display_name": "Python [conda env:base] *",
   "language": "python",
   "name": "conda-base-py"
  },
  "language_info": {
   "codemirror_mode": {
    "name": "ipython",
    "version": 3
   },
   "file_extension": ".py",
   "mimetype": "text/x-python",
   "name": "python",
   "nbconvert_exporter": "python",
   "pygments_lexer": "ipython3",
   "version": "3.12.7"
  }
 },
 "nbformat": 4,
 "nbformat_minor": 5
}
